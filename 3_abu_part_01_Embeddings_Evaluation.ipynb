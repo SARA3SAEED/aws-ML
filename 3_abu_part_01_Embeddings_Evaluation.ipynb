{
  "nbformat": 4,
  "nbformat_minor": 0,
  "metadata": {
    "colab": {
      "provenance": [],
      "include_colab_link": true
    },
    "kernelspec": {
      "name": "python3",
      "display_name": "Python 3"
    },
    "language_info": {
      "name": "python"
    },
    "widgets": {
      "application/vnd.jupyter.widget-state+json": {
        "37174810e38b4d189b9c5551e728336a": {
          "model_module": "@jupyter-widgets/controls",
          "model_name": "HBoxModel",
          "model_module_version": "1.5.0",
          "state": {
            "_dom_classes": [],
            "_model_module": "@jupyter-widgets/controls",
            "_model_module_version": "1.5.0",
            "_model_name": "HBoxModel",
            "_view_count": null,
            "_view_module": "@jupyter-widgets/controls",
            "_view_module_version": "1.5.0",
            "_view_name": "HBoxView",
            "box_style": "",
            "children": [
              "IPY_MODEL_c82423f558ed40b2a6b1152c2c078dd3",
              "IPY_MODEL_44c69f28c41e4776b7d901722914a8fb",
              "IPY_MODEL_5994c08d7de04d1e84495110d71f0a56"
            ],
            "layout": "IPY_MODEL_94595f83d58643899dd57996660a4d46"
          }
        },
        "c82423f558ed40b2a6b1152c2c078dd3": {
          "model_module": "@jupyter-widgets/controls",
          "model_name": "HTMLModel",
          "model_module_version": "1.5.0",
          "state": {
            "_dom_classes": [],
            "_model_module": "@jupyter-widgets/controls",
            "_model_module_version": "1.5.0",
            "_model_name": "HTMLModel",
            "_view_count": null,
            "_view_module": "@jupyter-widgets/controls",
            "_view_module_version": "1.5.0",
            "_view_name": "HTMLView",
            "description": "",
            "description_tooltip": null,
            "layout": "IPY_MODEL_e3b7c28dca3b492daf82646fe7291261",
            "placeholder": "​",
            "style": "IPY_MODEL_9357611f71084b9996fcd7fe54c0c5b1",
            "value": "100%"
          }
        },
        "44c69f28c41e4776b7d901722914a8fb": {
          "model_module": "@jupyter-widgets/controls",
          "model_name": "FloatProgressModel",
          "model_module_version": "1.5.0",
          "state": {
            "_dom_classes": [],
            "_model_module": "@jupyter-widgets/controls",
            "_model_module_version": "1.5.0",
            "_model_name": "FloatProgressModel",
            "_view_count": null,
            "_view_module": "@jupyter-widgets/controls",
            "_view_module_version": "1.5.0",
            "_view_name": "ProgressView",
            "bar_style": "success",
            "description": "",
            "description_tooltip": null,
            "layout": "IPY_MODEL_8cb7a88b6aca4a1696bb294981decb7b",
            "max": 50,
            "min": 0,
            "orientation": "horizontal",
            "style": "IPY_MODEL_baa0bcbdfbca4fed924befbbc929486e",
            "value": 50
          }
        },
        "5994c08d7de04d1e84495110d71f0a56": {
          "model_module": "@jupyter-widgets/controls",
          "model_name": "HTMLModel",
          "model_module_version": "1.5.0",
          "state": {
            "_dom_classes": [],
            "_model_module": "@jupyter-widgets/controls",
            "_model_module_version": "1.5.0",
            "_model_name": "HTMLModel",
            "_view_count": null,
            "_view_module": "@jupyter-widgets/controls",
            "_view_module_version": "1.5.0",
            "_view_name": "HTMLView",
            "description": "",
            "description_tooltip": null,
            "layout": "IPY_MODEL_ebf4ee5227e742bdb186c1a27eb46d18",
            "placeholder": "​",
            "style": "IPY_MODEL_affc09ce02634be89e82eb7eb9b55a5e",
            "value": " 50/50 [01:06&lt;00:00,  1.41s/it]"
          }
        },
        "94595f83d58643899dd57996660a4d46": {
          "model_module": "@jupyter-widgets/base",
          "model_name": "LayoutModel",
          "model_module_version": "1.2.0",
          "state": {
            "_model_module": "@jupyter-widgets/base",
            "_model_module_version": "1.2.0",
            "_model_name": "LayoutModel",
            "_view_count": null,
            "_view_module": "@jupyter-widgets/base",
            "_view_module_version": "1.2.0",
            "_view_name": "LayoutView",
            "align_content": null,
            "align_items": null,
            "align_self": null,
            "border": null,
            "bottom": null,
            "display": null,
            "flex": null,
            "flex_flow": null,
            "grid_area": null,
            "grid_auto_columns": null,
            "grid_auto_flow": null,
            "grid_auto_rows": null,
            "grid_column": null,
            "grid_gap": null,
            "grid_row": null,
            "grid_template_areas": null,
            "grid_template_columns": null,
            "grid_template_rows": null,
            "height": null,
            "justify_content": null,
            "justify_items": null,
            "left": null,
            "margin": null,
            "max_height": null,
            "max_width": null,
            "min_height": null,
            "min_width": null,
            "object_fit": null,
            "object_position": null,
            "order": null,
            "overflow": null,
            "overflow_x": null,
            "overflow_y": null,
            "padding": null,
            "right": null,
            "top": null,
            "visibility": null,
            "width": null
          }
        },
        "e3b7c28dca3b492daf82646fe7291261": {
          "model_module": "@jupyter-widgets/base",
          "model_name": "LayoutModel",
          "model_module_version": "1.2.0",
          "state": {
            "_model_module": "@jupyter-widgets/base",
            "_model_module_version": "1.2.0",
            "_model_name": "LayoutModel",
            "_view_count": null,
            "_view_module": "@jupyter-widgets/base",
            "_view_module_version": "1.2.0",
            "_view_name": "LayoutView",
            "align_content": null,
            "align_items": null,
            "align_self": null,
            "border": null,
            "bottom": null,
            "display": null,
            "flex": null,
            "flex_flow": null,
            "grid_area": null,
            "grid_auto_columns": null,
            "grid_auto_flow": null,
            "grid_auto_rows": null,
            "grid_column": null,
            "grid_gap": null,
            "grid_row": null,
            "grid_template_areas": null,
            "grid_template_columns": null,
            "grid_template_rows": null,
            "height": null,
            "justify_content": null,
            "justify_items": null,
            "left": null,
            "margin": null,
            "max_height": null,
            "max_width": null,
            "min_height": null,
            "min_width": null,
            "object_fit": null,
            "object_position": null,
            "order": null,
            "overflow": null,
            "overflow_x": null,
            "overflow_y": null,
            "padding": null,
            "right": null,
            "top": null,
            "visibility": null,
            "width": null
          }
        },
        "9357611f71084b9996fcd7fe54c0c5b1": {
          "model_module": "@jupyter-widgets/controls",
          "model_name": "DescriptionStyleModel",
          "model_module_version": "1.5.0",
          "state": {
            "_model_module": "@jupyter-widgets/controls",
            "_model_module_version": "1.5.0",
            "_model_name": "DescriptionStyleModel",
            "_view_count": null,
            "_view_module": "@jupyter-widgets/base",
            "_view_module_version": "1.2.0",
            "_view_name": "StyleView",
            "description_width": ""
          }
        },
        "8cb7a88b6aca4a1696bb294981decb7b": {
          "model_module": "@jupyter-widgets/base",
          "model_name": "LayoutModel",
          "model_module_version": "1.2.0",
          "state": {
            "_model_module": "@jupyter-widgets/base",
            "_model_module_version": "1.2.0",
            "_model_name": "LayoutModel",
            "_view_count": null,
            "_view_module": "@jupyter-widgets/base",
            "_view_module_version": "1.2.0",
            "_view_name": "LayoutView",
            "align_content": null,
            "align_items": null,
            "align_self": null,
            "border": null,
            "bottom": null,
            "display": null,
            "flex": null,
            "flex_flow": null,
            "grid_area": null,
            "grid_auto_columns": null,
            "grid_auto_flow": null,
            "grid_auto_rows": null,
            "grid_column": null,
            "grid_gap": null,
            "grid_row": null,
            "grid_template_areas": null,
            "grid_template_columns": null,
            "grid_template_rows": null,
            "height": null,
            "justify_content": null,
            "justify_items": null,
            "left": null,
            "margin": null,
            "max_height": null,
            "max_width": null,
            "min_height": null,
            "min_width": null,
            "object_fit": null,
            "object_position": null,
            "order": null,
            "overflow": null,
            "overflow_x": null,
            "overflow_y": null,
            "padding": null,
            "right": null,
            "top": null,
            "visibility": null,
            "width": null
          }
        },
        "baa0bcbdfbca4fed924befbbc929486e": {
          "model_module": "@jupyter-widgets/controls",
          "model_name": "ProgressStyleModel",
          "model_module_version": "1.5.0",
          "state": {
            "_model_module": "@jupyter-widgets/controls",
            "_model_module_version": "1.5.0",
            "_model_name": "ProgressStyleModel",
            "_view_count": null,
            "_view_module": "@jupyter-widgets/base",
            "_view_module_version": "1.2.0",
            "_view_name": "StyleView",
            "bar_color": null,
            "description_width": ""
          }
        },
        "ebf4ee5227e742bdb186c1a27eb46d18": {
          "model_module": "@jupyter-widgets/base",
          "model_name": "LayoutModel",
          "model_module_version": "1.2.0",
          "state": {
            "_model_module": "@jupyter-widgets/base",
            "_model_module_version": "1.2.0",
            "_model_name": "LayoutModel",
            "_view_count": null,
            "_view_module": "@jupyter-widgets/base",
            "_view_module_version": "1.2.0",
            "_view_name": "LayoutView",
            "align_content": null,
            "align_items": null,
            "align_self": null,
            "border": null,
            "bottom": null,
            "display": null,
            "flex": null,
            "flex_flow": null,
            "grid_area": null,
            "grid_auto_columns": null,
            "grid_auto_flow": null,
            "grid_auto_rows": null,
            "grid_column": null,
            "grid_gap": null,
            "grid_row": null,
            "grid_template_areas": null,
            "grid_template_columns": null,
            "grid_template_rows": null,
            "height": null,
            "justify_content": null,
            "justify_items": null,
            "left": null,
            "margin": null,
            "max_height": null,
            "max_width": null,
            "min_height": null,
            "min_width": null,
            "object_fit": null,
            "object_position": null,
            "order": null,
            "overflow": null,
            "overflow_x": null,
            "overflow_y": null,
            "padding": null,
            "right": null,
            "top": null,
            "visibility": null,
            "width": null
          }
        },
        "affc09ce02634be89e82eb7eb9b55a5e": {
          "model_module": "@jupyter-widgets/controls",
          "model_name": "DescriptionStyleModel",
          "model_module_version": "1.5.0",
          "state": {
            "_model_module": "@jupyter-widgets/controls",
            "_model_module_version": "1.5.0",
            "_model_name": "DescriptionStyleModel",
            "_view_count": null,
            "_view_module": "@jupyter-widgets/base",
            "_view_module_version": "1.2.0",
            "_view_name": "StyleView",
            "description_width": ""
          }
        },
        "e802bea4c4f54558a5e4ae2ba8141226": {
          "model_module": "@jupyter-widgets/controls",
          "model_name": "HBoxModel",
          "model_module_version": "1.5.0",
          "state": {
            "_dom_classes": [],
            "_model_module": "@jupyter-widgets/controls",
            "_model_module_version": "1.5.0",
            "_model_name": "HBoxModel",
            "_view_count": null,
            "_view_module": "@jupyter-widgets/controls",
            "_view_module_version": "1.5.0",
            "_view_name": "HBoxView",
            "box_style": "",
            "children": [
              "IPY_MODEL_7a9547a3b0e346ec998273e0b8180fe6",
              "IPY_MODEL_95d16f67a6794bb89185f756e1f39651",
              "IPY_MODEL_c7576b5fb9634aebbe47010f45046eb3"
            ],
            "layout": "IPY_MODEL_03d1cc02eb8b4fa2aa8a9c2d75903a81"
          }
        },
        "7a9547a3b0e346ec998273e0b8180fe6": {
          "model_module": "@jupyter-widgets/controls",
          "model_name": "HTMLModel",
          "model_module_version": "1.5.0",
          "state": {
            "_dom_classes": [],
            "_model_module": "@jupyter-widgets/controls",
            "_model_module_version": "1.5.0",
            "_model_name": "HTMLModel",
            "_view_count": null,
            "_view_module": "@jupyter-widgets/controls",
            "_view_module_version": "1.5.0",
            "_view_name": "HTMLView",
            "description": "",
            "description_tooltip": null,
            "layout": "IPY_MODEL_2216367454874f5d988f4c5d1ccec179",
            "placeholder": "​",
            "style": "IPY_MODEL_3e7093bb4e7e47a29479a2f9687d5a97",
            "value": "100%"
          }
        },
        "95d16f67a6794bb89185f756e1f39651": {
          "model_module": "@jupyter-widgets/controls",
          "model_name": "FloatProgressModel",
          "model_module_version": "1.5.0",
          "state": {
            "_dom_classes": [],
            "_model_module": "@jupyter-widgets/controls",
            "_model_module_version": "1.5.0",
            "_model_name": "FloatProgressModel",
            "_view_count": null,
            "_view_module": "@jupyter-widgets/controls",
            "_view_module_version": "1.5.0",
            "_view_name": "ProgressView",
            "bar_style": "success",
            "description": "",
            "description_tooltip": null,
            "layout": "IPY_MODEL_ef20ca122b0445b39a062c17e90b006c",
            "max": 50,
            "min": 0,
            "orientation": "horizontal",
            "style": "IPY_MODEL_58219b2b05c44f61b13294bd1027695d",
            "value": 50
          }
        },
        "c7576b5fb9634aebbe47010f45046eb3": {
          "model_module": "@jupyter-widgets/controls",
          "model_name": "HTMLModel",
          "model_module_version": "1.5.0",
          "state": {
            "_dom_classes": [],
            "_model_module": "@jupyter-widgets/controls",
            "_model_module_version": "1.5.0",
            "_model_name": "HTMLModel",
            "_view_count": null,
            "_view_module": "@jupyter-widgets/controls",
            "_view_module_version": "1.5.0",
            "_view_name": "HTMLView",
            "description": "",
            "description_tooltip": null,
            "layout": "IPY_MODEL_60d313b208b545a48820e18707c98fc3",
            "placeholder": "​",
            "style": "IPY_MODEL_c7e886f64e024259969611d5c6e09a7e",
            "value": " 50/50 [00:34&lt;00:00,  1.79it/s]"
          }
        },
        "03d1cc02eb8b4fa2aa8a9c2d75903a81": {
          "model_module": "@jupyter-widgets/base",
          "model_name": "LayoutModel",
          "model_module_version": "1.2.0",
          "state": {
            "_model_module": "@jupyter-widgets/base",
            "_model_module_version": "1.2.0",
            "_model_name": "LayoutModel",
            "_view_count": null,
            "_view_module": "@jupyter-widgets/base",
            "_view_module_version": "1.2.0",
            "_view_name": "LayoutView",
            "align_content": null,
            "align_items": null,
            "align_self": null,
            "border": null,
            "bottom": null,
            "display": null,
            "flex": null,
            "flex_flow": null,
            "grid_area": null,
            "grid_auto_columns": null,
            "grid_auto_flow": null,
            "grid_auto_rows": null,
            "grid_column": null,
            "grid_gap": null,
            "grid_row": null,
            "grid_template_areas": null,
            "grid_template_columns": null,
            "grid_template_rows": null,
            "height": null,
            "justify_content": null,
            "justify_items": null,
            "left": null,
            "margin": null,
            "max_height": null,
            "max_width": null,
            "min_height": null,
            "min_width": null,
            "object_fit": null,
            "object_position": null,
            "order": null,
            "overflow": null,
            "overflow_x": null,
            "overflow_y": null,
            "padding": null,
            "right": null,
            "top": null,
            "visibility": null,
            "width": null
          }
        },
        "2216367454874f5d988f4c5d1ccec179": {
          "model_module": "@jupyter-widgets/base",
          "model_name": "LayoutModel",
          "model_module_version": "1.2.0",
          "state": {
            "_model_module": "@jupyter-widgets/base",
            "_model_module_version": "1.2.0",
            "_model_name": "LayoutModel",
            "_view_count": null,
            "_view_module": "@jupyter-widgets/base",
            "_view_module_version": "1.2.0",
            "_view_name": "LayoutView",
            "align_content": null,
            "align_items": null,
            "align_self": null,
            "border": null,
            "bottom": null,
            "display": null,
            "flex": null,
            "flex_flow": null,
            "grid_area": null,
            "grid_auto_columns": null,
            "grid_auto_flow": null,
            "grid_auto_rows": null,
            "grid_column": null,
            "grid_gap": null,
            "grid_row": null,
            "grid_template_areas": null,
            "grid_template_columns": null,
            "grid_template_rows": null,
            "height": null,
            "justify_content": null,
            "justify_items": null,
            "left": null,
            "margin": null,
            "max_height": null,
            "max_width": null,
            "min_height": null,
            "min_width": null,
            "object_fit": null,
            "object_position": null,
            "order": null,
            "overflow": null,
            "overflow_x": null,
            "overflow_y": null,
            "padding": null,
            "right": null,
            "top": null,
            "visibility": null,
            "width": null
          }
        },
        "3e7093bb4e7e47a29479a2f9687d5a97": {
          "model_module": "@jupyter-widgets/controls",
          "model_name": "DescriptionStyleModel",
          "model_module_version": "1.5.0",
          "state": {
            "_model_module": "@jupyter-widgets/controls",
            "_model_module_version": "1.5.0",
            "_model_name": "DescriptionStyleModel",
            "_view_count": null,
            "_view_module": "@jupyter-widgets/base",
            "_view_module_version": "1.2.0",
            "_view_name": "StyleView",
            "description_width": ""
          }
        },
        "ef20ca122b0445b39a062c17e90b006c": {
          "model_module": "@jupyter-widgets/base",
          "model_name": "LayoutModel",
          "model_module_version": "1.2.0",
          "state": {
            "_model_module": "@jupyter-widgets/base",
            "_model_module_version": "1.2.0",
            "_model_name": "LayoutModel",
            "_view_count": null,
            "_view_module": "@jupyter-widgets/base",
            "_view_module_version": "1.2.0",
            "_view_name": "LayoutView",
            "align_content": null,
            "align_items": null,
            "align_self": null,
            "border": null,
            "bottom": null,
            "display": null,
            "flex": null,
            "flex_flow": null,
            "grid_area": null,
            "grid_auto_columns": null,
            "grid_auto_flow": null,
            "grid_auto_rows": null,
            "grid_column": null,
            "grid_gap": null,
            "grid_row": null,
            "grid_template_areas": null,
            "grid_template_columns": null,
            "grid_template_rows": null,
            "height": null,
            "justify_content": null,
            "justify_items": null,
            "left": null,
            "margin": null,
            "max_height": null,
            "max_width": null,
            "min_height": null,
            "min_width": null,
            "object_fit": null,
            "object_position": null,
            "order": null,
            "overflow": null,
            "overflow_x": null,
            "overflow_y": null,
            "padding": null,
            "right": null,
            "top": null,
            "visibility": null,
            "width": null
          }
        },
        "58219b2b05c44f61b13294bd1027695d": {
          "model_module": "@jupyter-widgets/controls",
          "model_name": "ProgressStyleModel",
          "model_module_version": "1.5.0",
          "state": {
            "_model_module": "@jupyter-widgets/controls",
            "_model_module_version": "1.5.0",
            "_model_name": "ProgressStyleModel",
            "_view_count": null,
            "_view_module": "@jupyter-widgets/base",
            "_view_module_version": "1.2.0",
            "_view_name": "StyleView",
            "bar_color": null,
            "description_width": ""
          }
        },
        "60d313b208b545a48820e18707c98fc3": {
          "model_module": "@jupyter-widgets/base",
          "model_name": "LayoutModel",
          "model_module_version": "1.2.0",
          "state": {
            "_model_module": "@jupyter-widgets/base",
            "_model_module_version": "1.2.0",
            "_model_name": "LayoutModel",
            "_view_count": null,
            "_view_module": "@jupyter-widgets/base",
            "_view_module_version": "1.2.0",
            "_view_name": "LayoutView",
            "align_content": null,
            "align_items": null,
            "align_self": null,
            "border": null,
            "bottom": null,
            "display": null,
            "flex": null,
            "flex_flow": null,
            "grid_area": null,
            "grid_auto_columns": null,
            "grid_auto_flow": null,
            "grid_auto_rows": null,
            "grid_column": null,
            "grid_gap": null,
            "grid_row": null,
            "grid_template_areas": null,
            "grid_template_columns": null,
            "grid_template_rows": null,
            "height": null,
            "justify_content": null,
            "justify_items": null,
            "left": null,
            "margin": null,
            "max_height": null,
            "max_width": null,
            "min_height": null,
            "min_width": null,
            "object_fit": null,
            "object_position": null,
            "order": null,
            "overflow": null,
            "overflow_x": null,
            "overflow_y": null,
            "padding": null,
            "right": null,
            "top": null,
            "visibility": null,
            "width": null
          }
        },
        "c7e886f64e024259969611d5c6e09a7e": {
          "model_module": "@jupyter-widgets/controls",
          "model_name": "DescriptionStyleModel",
          "model_module_version": "1.5.0",
          "state": {
            "_model_module": "@jupyter-widgets/controls",
            "_model_module_version": "1.5.0",
            "_model_name": "DescriptionStyleModel",
            "_view_count": null,
            "_view_module": "@jupyter-widgets/base",
            "_view_module_version": "1.2.0",
            "_view_name": "StyleView",
            "description_width": ""
          }
        }
      }
    }
  },
  "cells": [
    {
      "cell_type": "markdown",
      "metadata": {
        "id": "view-in-github",
        "colab_type": "text"
      },
      "source": [
        "<a href=\"https://colab.research.google.com/github/SARA3SAEED/aws-ML/blob/main/3_abu_part_01_Embeddings_Evaluation.ipynb\" target=\"_parent\"><img src=\"https://colab.research.google.com/assets/colab-badge.svg\" alt=\"Open In Colab\"/></a>"
      ]
    },
    {
      "cell_type": "code",
      "execution_count": null,
      "metadata": {
        "id": "V9JrzBPE7o0B"
      },
      "outputs": [],
      "source": [
        "!pip install sentence-transformers==3.0.1 datasets\n",
        "!pip install Pympler==1.1"
      ]
    },
    {
      "cell_type": "markdown",
      "source": [
        "## Download Dataset"
      ],
      "metadata": {
        "id": "YZc_U3DnCcAP"
      }
    },
    {
      "cell_type": "code",
      "source": [
        "from datasets import load_dataset\n",
        "from tqdm.auto import tqdm\n",
        "import pandas as pd\n",
        "\n",
        "ds = load_dataset(\"Cohere/wikipedia-22-12\", \"ar\", streaming=True, trust_remote_code=True)"
      ],
      "metadata": {
        "id": "yMlJmSqnC5J4"
      },
      "execution_count": null,
      "outputs": []
    },
    {
      "cell_type": "code",
      "source": [
        "max_titles = 500\n",
        "all_titles = set()\n",
        "collected_recs = []\n",
        "\n",
        "progress_bar = tqdm()\n",
        "for rec in ds[\"train\"]:\n",
        "    if rec[\"title\"] not in all_titles:\n",
        "        all_titles.add(rec[\"title\"])\n",
        "        progress_bar.update(1)\n",
        "\n",
        "    if len(all_titles) == max_titles:\n",
        "        break\n",
        "\n",
        "    collected_recs.append(rec)"
      ],
      "metadata": {
        "id": "AnBnpAX0Ctzd"
      },
      "execution_count": null,
      "outputs": []
    },
    {
      "cell_type": "code",
      "source": [
        "collected_df = pd.DataFrame(collected_recs)\n",
        "collected_df.to_csv(\"collected_data.csv\", index=False)"
      ],
      "metadata": {
        "id": "MCKlBfrNDd5y"
      },
      "execution_count": null,
      "outputs": []
    },
    {
      "cell_type": "markdown",
      "source": [
        "## Outliers Filters"
      ],
      "metadata": {
        "id": "OqKayvT5D4jK"
      }
    },
    {
      "cell_type": "code",
      "source": [
        "import pandas as pd\n",
        "\n",
        "collected_df = pd.read_csv(\"collected_data.csv\")\n",
        "\n",
        "collected_df = collected_df.drop(columns=[\"url\", \"wiki_id\", \"views\", \"paragraph_id\", \"langs\"])\n",
        "print(collected_df.shape)"
      ],
      "metadata": {
        "colab": {
          "base_uri": "https://localhost:8080/"
        },
        "id": "QDJrCxX_D7FK",
        "outputId": "b39ac28a-29f0-4ae4-a0ab-7541d357f7f4"
      },
      "execution_count": null,
      "outputs": [
        {
          "output_type": "stream",
          "name": "stdout",
          "text": [
            "(46564, 3)\n"
          ]
        }
      ]
    },
    {
      "cell_type": "code",
      "source": [
        "collected_df.sample(2).head()"
      ],
      "metadata": {
        "colab": {
          "base_uri": "https://localhost:8080/",
          "height": 245
        },
        "id": "6Khwo2dMECsH",
        "outputId": "bf945d93-1807-4f4f-e3cd-17f381b16e82"
      },
      "execution_count": null,
      "outputs": [
        {
          "output_type": "execute_result",
          "data": {
            "text/plain": [
              "          id         title                                               text\n",
              "34837  34837         نسوية  تلاحظ كاثرين روتنبرغ أن سبب وجود النسوية الليب...\n",
              "12297  12297  أبجدية عربية  تتشابه بعض الأحرف في الأبجدية العربية ببعضها، ..."
            ],
            "text/html": [
              "\n",
              "  <div id=\"df-1763b2a1-240f-4328-98e4-4f366e858582\" class=\"colab-df-container\">\n",
              "    <div>\n",
              "<style scoped>\n",
              "    .dataframe tbody tr th:only-of-type {\n",
              "        vertical-align: middle;\n",
              "    }\n",
              "\n",
              "    .dataframe tbody tr th {\n",
              "        vertical-align: top;\n",
              "    }\n",
              "\n",
              "    .dataframe thead th {\n",
              "        text-align: right;\n",
              "    }\n",
              "</style>\n",
              "<table border=\"1\" class=\"dataframe\">\n",
              "  <thead>\n",
              "    <tr style=\"text-align: right;\">\n",
              "      <th></th>\n",
              "      <th>id</th>\n",
              "      <th>title</th>\n",
              "      <th>text</th>\n",
              "    </tr>\n",
              "  </thead>\n",
              "  <tbody>\n",
              "    <tr>\n",
              "      <th>34837</th>\n",
              "      <td>34837</td>\n",
              "      <td>نسوية</td>\n",
              "      <td>تلاحظ كاثرين روتنبرغ أن سبب وجود النسوية الليب...</td>\n",
              "    </tr>\n",
              "    <tr>\n",
              "      <th>12297</th>\n",
              "      <td>12297</td>\n",
              "      <td>أبجدية عربية</td>\n",
              "      <td>تتشابه بعض الأحرف في الأبجدية العربية ببعضها، ...</td>\n",
              "    </tr>\n",
              "  </tbody>\n",
              "</table>\n",
              "</div>\n",
              "    <div class=\"colab-df-buttons\">\n",
              "\n",
              "  <div class=\"colab-df-container\">\n",
              "    <button class=\"colab-df-convert\" onclick=\"convertToInteractive('df-1763b2a1-240f-4328-98e4-4f366e858582')\"\n",
              "            title=\"Convert this dataframe to an interactive table.\"\n",
              "            style=\"display:none;\">\n",
              "\n",
              "  <svg xmlns=\"http://www.w3.org/2000/svg\" height=\"24px\" viewBox=\"0 -960 960 960\">\n",
              "    <path d=\"M120-120v-720h720v720H120Zm60-500h600v-160H180v160Zm220 220h160v-160H400v160Zm0 220h160v-160H400v160ZM180-400h160v-160H180v160Zm440 0h160v-160H620v160ZM180-180h160v-160H180v160Zm440 0h160v-160H620v160Z\"/>\n",
              "  </svg>\n",
              "    </button>\n",
              "\n",
              "  <style>\n",
              "    .colab-df-container {\n",
              "      display:flex;\n",
              "      gap: 12px;\n",
              "    }\n",
              "\n",
              "    .colab-df-convert {\n",
              "      background-color: #E8F0FE;\n",
              "      border: none;\n",
              "      border-radius: 50%;\n",
              "      cursor: pointer;\n",
              "      display: none;\n",
              "      fill: #1967D2;\n",
              "      height: 32px;\n",
              "      padding: 0 0 0 0;\n",
              "      width: 32px;\n",
              "    }\n",
              "\n",
              "    .colab-df-convert:hover {\n",
              "      background-color: #E2EBFA;\n",
              "      box-shadow: 0px 1px 2px rgba(60, 64, 67, 0.3), 0px 1px 3px 1px rgba(60, 64, 67, 0.15);\n",
              "      fill: #174EA6;\n",
              "    }\n",
              "\n",
              "    .colab-df-buttons div {\n",
              "      margin-bottom: 4px;\n",
              "    }\n",
              "\n",
              "    [theme=dark] .colab-df-convert {\n",
              "      background-color: #3B4455;\n",
              "      fill: #D2E3FC;\n",
              "    }\n",
              "\n",
              "    [theme=dark] .colab-df-convert:hover {\n",
              "      background-color: #434B5C;\n",
              "      box-shadow: 0px 1px 3px 1px rgba(0, 0, 0, 0.15);\n",
              "      filter: drop-shadow(0px 1px 2px rgba(0, 0, 0, 0.3));\n",
              "      fill: #FFFFFF;\n",
              "    }\n",
              "  </style>\n",
              "\n",
              "    <script>\n",
              "      const buttonEl =\n",
              "        document.querySelector('#df-1763b2a1-240f-4328-98e4-4f366e858582 button.colab-df-convert');\n",
              "      buttonEl.style.display =\n",
              "        google.colab.kernel.accessAllowed ? 'block' : 'none';\n",
              "\n",
              "      async function convertToInteractive(key) {\n",
              "        const element = document.querySelector('#df-1763b2a1-240f-4328-98e4-4f366e858582');\n",
              "        const dataTable =\n",
              "          await google.colab.kernel.invokeFunction('convertToInteractive',\n",
              "                                                    [key], {});\n",
              "        if (!dataTable) return;\n",
              "\n",
              "        const docLinkHtml = 'Like what you see? Visit the ' +\n",
              "          '<a target=\"_blank\" href=https://colab.research.google.com/notebooks/data_table.ipynb>data table notebook</a>'\n",
              "          + ' to learn more about interactive tables.';\n",
              "        element.innerHTML = '';\n",
              "        dataTable['output_type'] = 'display_data';\n",
              "        await google.colab.output.renderOutput(dataTable, element);\n",
              "        const docLink = document.createElement('div');\n",
              "        docLink.innerHTML = docLinkHtml;\n",
              "        element.appendChild(docLink);\n",
              "      }\n",
              "    </script>\n",
              "  </div>\n",
              "\n",
              "\n",
              "<div id=\"df-1ee4bf21-b710-4126-8852-e3f22cf1e7f2\">\n",
              "  <button class=\"colab-df-quickchart\" onclick=\"quickchart('df-1ee4bf21-b710-4126-8852-e3f22cf1e7f2')\"\n",
              "            title=\"Suggest charts\"\n",
              "            style=\"display:none;\">\n",
              "\n",
              "<svg xmlns=\"http://www.w3.org/2000/svg\" height=\"24px\"viewBox=\"0 0 24 24\"\n",
              "     width=\"24px\">\n",
              "    <g>\n",
              "        <path d=\"M19 3H5c-1.1 0-2 .9-2 2v14c0 1.1.9 2 2 2h14c1.1 0 2-.9 2-2V5c0-1.1-.9-2-2-2zM9 17H7v-7h2v7zm4 0h-2V7h2v10zm4 0h-2v-4h2v4z\"/>\n",
              "    </g>\n",
              "</svg>\n",
              "  </button>\n",
              "\n",
              "<style>\n",
              "  .colab-df-quickchart {\n",
              "      --bg-color: #E8F0FE;\n",
              "      --fill-color: #1967D2;\n",
              "      --hover-bg-color: #E2EBFA;\n",
              "      --hover-fill-color: #174EA6;\n",
              "      --disabled-fill-color: #AAA;\n",
              "      --disabled-bg-color: #DDD;\n",
              "  }\n",
              "\n",
              "  [theme=dark] .colab-df-quickchart {\n",
              "      --bg-color: #3B4455;\n",
              "      --fill-color: #D2E3FC;\n",
              "      --hover-bg-color: #434B5C;\n",
              "      --hover-fill-color: #FFFFFF;\n",
              "      --disabled-bg-color: #3B4455;\n",
              "      --disabled-fill-color: #666;\n",
              "  }\n",
              "\n",
              "  .colab-df-quickchart {\n",
              "    background-color: var(--bg-color);\n",
              "    border: none;\n",
              "    border-radius: 50%;\n",
              "    cursor: pointer;\n",
              "    display: none;\n",
              "    fill: var(--fill-color);\n",
              "    height: 32px;\n",
              "    padding: 0;\n",
              "    width: 32px;\n",
              "  }\n",
              "\n",
              "  .colab-df-quickchart:hover {\n",
              "    background-color: var(--hover-bg-color);\n",
              "    box-shadow: 0 1px 2px rgba(60, 64, 67, 0.3), 0 1px 3px 1px rgba(60, 64, 67, 0.15);\n",
              "    fill: var(--button-hover-fill-color);\n",
              "  }\n",
              "\n",
              "  .colab-df-quickchart-complete:disabled,\n",
              "  .colab-df-quickchart-complete:disabled:hover {\n",
              "    background-color: var(--disabled-bg-color);\n",
              "    fill: var(--disabled-fill-color);\n",
              "    box-shadow: none;\n",
              "  }\n",
              "\n",
              "  .colab-df-spinner {\n",
              "    border: 2px solid var(--fill-color);\n",
              "    border-color: transparent;\n",
              "    border-bottom-color: var(--fill-color);\n",
              "    animation:\n",
              "      spin 1s steps(1) infinite;\n",
              "  }\n",
              "\n",
              "  @keyframes spin {\n",
              "    0% {\n",
              "      border-color: transparent;\n",
              "      border-bottom-color: var(--fill-color);\n",
              "      border-left-color: var(--fill-color);\n",
              "    }\n",
              "    20% {\n",
              "      border-color: transparent;\n",
              "      border-left-color: var(--fill-color);\n",
              "      border-top-color: var(--fill-color);\n",
              "    }\n",
              "    30% {\n",
              "      border-color: transparent;\n",
              "      border-left-color: var(--fill-color);\n",
              "      border-top-color: var(--fill-color);\n",
              "      border-right-color: var(--fill-color);\n",
              "    }\n",
              "    40% {\n",
              "      border-color: transparent;\n",
              "      border-right-color: var(--fill-color);\n",
              "      border-top-color: var(--fill-color);\n",
              "    }\n",
              "    60% {\n",
              "      border-color: transparent;\n",
              "      border-right-color: var(--fill-color);\n",
              "    }\n",
              "    80% {\n",
              "      border-color: transparent;\n",
              "      border-right-color: var(--fill-color);\n",
              "      border-bottom-color: var(--fill-color);\n",
              "    }\n",
              "    90% {\n",
              "      border-color: transparent;\n",
              "      border-bottom-color: var(--fill-color);\n",
              "    }\n",
              "  }\n",
              "</style>\n",
              "\n",
              "  <script>\n",
              "    async function quickchart(key) {\n",
              "      const quickchartButtonEl =\n",
              "        document.querySelector('#' + key + ' button');\n",
              "      quickchartButtonEl.disabled = true;  // To prevent multiple clicks.\n",
              "      quickchartButtonEl.classList.add('colab-df-spinner');\n",
              "      try {\n",
              "        const charts = await google.colab.kernel.invokeFunction(\n",
              "            'suggestCharts', [key], {});\n",
              "      } catch (error) {\n",
              "        console.error('Error during call to suggestCharts:', error);\n",
              "      }\n",
              "      quickchartButtonEl.classList.remove('colab-df-spinner');\n",
              "      quickchartButtonEl.classList.add('colab-df-quickchart-complete');\n",
              "    }\n",
              "    (() => {\n",
              "      let quickchartButtonEl =\n",
              "        document.querySelector('#df-1ee4bf21-b710-4126-8852-e3f22cf1e7f2 button');\n",
              "      quickchartButtonEl.style.display =\n",
              "        google.colab.kernel.accessAllowed ? 'block' : 'none';\n",
              "    })();\n",
              "  </script>\n",
              "</div>\n",
              "\n",
              "    </div>\n",
              "  </div>\n"
            ],
            "application/vnd.google.colaboratory.intrinsic+json": {
              "type": "dataframe",
              "summary": "{\n  \"name\": \"collected_df\",\n  \"rows\": 2,\n  \"fields\": [\n    {\n      \"column\": \"id\",\n      \"properties\": {\n        \"dtype\": \"number\",\n        \"std\": 15938,\n        \"min\": 12297,\n        \"max\": 34837,\n        \"num_unique_values\": 2,\n        \"samples\": [\n          12297,\n          34837\n        ],\n        \"semantic_type\": \"\",\n        \"description\": \"\"\n      }\n    },\n    {\n      \"column\": \"title\",\n      \"properties\": {\n        \"dtype\": \"string\",\n        \"num_unique_values\": 2,\n        \"samples\": [\n          \"\\u0623\\u0628\\u062c\\u062f\\u064a\\u0629 \\u0639\\u0631\\u0628\\u064a\\u0629\",\n          \"\\u0646\\u0633\\u0648\\u064a\\u0629\"\n        ],\n        \"semantic_type\": \"\",\n        \"description\": \"\"\n      }\n    },\n    {\n      \"column\": \"text\",\n      \"properties\": {\n        \"dtype\": \"string\",\n        \"num_unique_values\": 2,\n        \"samples\": [\n          \"\\u062a\\u062a\\u0634\\u0627\\u0628\\u0647 \\u0628\\u0639\\u0636 \\u0627\\u0644\\u0623\\u062d\\u0631\\u0641 \\u0641\\u064a \\u0627\\u0644\\u0623\\u0628\\u062c\\u062f\\u064a\\u0629 \\u0627\\u0644\\u0639\\u0631\\u0628\\u064a\\u0629 \\u0628\\u0628\\u0639\\u0636\\u0647\\u0627\\u060c \\u0648\\u064a\\u0645\\u0643\\u0646 \\u062a\\u0645\\u064a\\u064a\\u0632 \\u0647\\u0630\\u0647 \\u0627\\u0644\\u0645\\u062a\\u0634\\u0627\\u0628\\u0647\\u0627\\u062a \\u0639\\u0646 \\u0637\\u0631\\u064a\\u0642 \\u0627\\u0644\\u0646\\u0642\\u0627\\u0637 \\u0627\\u0644\\u0645\\u0648\\u062c\\u0648\\u062f\\u0629 \\u0641\\u0648\\u0642 \\u0628\\u0639\\u0636 \\u0627\\u0644\\u062d\\u0631\\u0648\\u0641 \\u0627\\u0644\\u0645\\u062a\\u0634\\u0627\\u0628\\u0647\\u0629 \\u0623\\u0648 \\u062a\\u062d\\u062a\\u0647\\u0627\\u061b \\u0639\\u0644\\u0649 \\u0633\\u0628\\u064a\\u0644 \\u0627\\u0644\\u0645\\u062b\\u0627\\u0644: \\u064a\\u062a\\u0634\\u0627\\u0628\\u0647 \\u0627\\u0644\\u062d\\u0631\\u0641\\u0627\\u0646 \\u00ab\\u0627\\u0644\\u0628\\u0627\\u0621\\u00bb (\\u0628) \\u0648\\u00ab\\u0627\\u0644\\u062a\\u0627\\u0621\\u00bb (\\u062a) \\u0645\\u0646 \\u062d\\u064a\\u062b \\u0627\\u0644\\u0634\\u0643\\u0644\\u060c \\u0648\\u0644\\u0643\\u0646 \\u0648\\u0636\\u0639 \\u0646\\u0642\\u0637\\u0629 \\u062a\\u062d\\u062a \\u00ab\\u0627\\u0644\\u0628\\u0627\\u0621\\u00bb \\u0648\\u0646\\u0642\\u0637\\u062a\\u0627\\u0646 \\u0641\\u0648\\u0642 \\u00ab\\u0627\\u0644\\u062a\\u0627\\u0621\\u00bb \\u064a\\u0645\\u064a\\u0632\\u0647\\u0645\\u0627 \\u0639\\u0646 \\u0628\\u0639\\u0636\\u0647\\u0645\\u0627.\",\n          \"\\u062a\\u0644\\u0627\\u062d\\u0638 \\u0643\\u0627\\u062b\\u0631\\u064a\\u0646 \\u0631\\u0648\\u062a\\u0646\\u0628\\u0631\\u063a \\u0623\\u0646 \\u0633\\u0628\\u0628 \\u0648\\u062c\\u0648\\u062f \\u0627\\u0644\\u0646\\u0633\\u0648\\u064a\\u0629 \\u0627\\u0644\\u0644\\u064a\\u0628\\u0631\\u0627\\u0644\\u064a\\u0629 \\u0627\\u0644\\u0643\\u0644\\u0627\\u0633\\u064a\\u0643\\u064a\\u0629 \\u0643\\u0627\\u0646 \\u00ab\\u0637\\u0631\\u062d \\u0646\\u0642\\u062f \\u062c\\u0648\\u0647\\u0631\\u064a \\u0644\\u0644\\u064a\\u0628\\u0631\\u0627\\u0644\\u064a\\u0629\\u060c \\u0648\\u0643\\u0634\\u0641 \\u0627\\u0644\\u0627\\u0633\\u062a\\u062b\\u0646\\u0627\\u0621\\u0627\\u062a \\u0627\\u0644\\u062c\\u0646\\u062f\\u0631\\u064a\\u0629 \\u0641\\u064a \\u0625\\u0639\\u0644\\u0627\\u0646 \\u0627\\u0644\\u062f\\u064a\\u0645\\u0642\\u0631\\u0627\\u0637\\u064a\\u0629 \\u0627\\u0644\\u0644\\u064a\\u0628\\u0631\\u0627\\u0644\\u064a\\u0629 \\u0639\\u0646 \\u0627\\u0644\\u0645\\u0633\\u0627\\u0648\\u0627\\u0629 \\u0627\\u0644\\u0639\\u0627\\u0644\\u0645\\u064a \\u0644\\u0627 \\u0633\\u064a\\u0645\\u0627 \\u0641\\u064a\\u0645\\u0627 \\u064a\\u062a\\u0639\\u0644\\u0642 \\u0628\\u0627\\u0644\\u0642\\u0627\\u0646\\u0648\\u0646 \\u0648\\u0627\\u0644\\u0648\\u0635\\u0648\\u0644 \\u0627\\u0644\\u0645\\u0624\\u0633\\u0633\\u064a \\u0648\\u0627\\u0644\\u062f\\u0645\\u062c \\u0627\\u0644\\u0643\\u0627\\u0645\\u0644 \\u0627\\u0644\\u0646\\u0633\\u0627\\u0621 \\u0641\\u064a \\u0627\\u0644\\u0645\\u062c\\u0627\\u0644 \\u0627\\u0644\\u0639\\u0627\\u0645\\u00bb. \\u062a\\u0642\\u0627\\u0631\\u0646 \\u0631\\u0648\\u062a\\u0646\\u0628\\u0631\\u063a \\u0627\\u0644\\u0646\\u0633\\u0648\\u064a\\u0629 \\u0627\\u0644\\u0644\\u064a\\u0628\\u0631\\u0627\\u0644\\u064a\\u0629 \\u0627\\u0644\\u0643\\u0644\\u0627\\u0633\\u064a\\u0643\\u064a\\u0629 \\u0628\\u0627\\u0644\\u0646\\u0633\\u0648\\u064a\\u0629 \\u0627\\u0644\\u0646\\u064a\\u0648\\u0644\\u064a\\u0628\\u0631\\u0627\\u0644\\u064a\\u0629 \\u0627\\u0644\\u062d\\u062f\\u064a\\u062b\\u0629 \\u0627\\u0644\\u062a\\u064a \\u00ab\\u062a\\u0628\\u062f\\u0648 \\u0645\\u062a\\u0632\\u0627\\u0645\\u0646\\u0629 \\u062a\\u0645\\u0627\\u0645\\u064b\\u0627 \\u0645\\u0639 \\u0627\\u0644\\u0646\\u0638\\u0627\\u0645 \\u0627\\u0644\\u0646\\u064a\\u0648\\u0644\\u064a\\u0628\\u0631\\u0627\\u0644\\u064a \\u0627\\u0644\\u0645\\u062a\\u0637\\u0648\\u0631\\u00bb. \\u0648\\u0641\\u0642\\u064b\\u0627 \\u0644\\u062c\\u0627\\u0646\\u063a \\u0648\\u0631\\u064a\\u0648\\u0633 \\u00ab\\u062a\\u0645\\u064a\\u0644 \\u0627\\u0644\\u0646\\u0633\\u0648\\u064a\\u0629 \\u0627\\u0644\\u0644\\u064a\\u0628\\u0631\\u0627\\u0644\\u064a\\u0629 \\u0625\\u0644\\u0649 \\u0623\\u0646 \\u064a\\u062a\\u0628\\u0646\\u0627\\u0647\\u0627 \\u0646\\u0633\\u0627\\u0621 '\\u0627\\u0644\\u062a\\u064a\\u0627\\u0631 \\u0627\\u0644\\u0631\\u0626\\u064a\\u0633\\u064a' (\\u0623\\u064a \\u0627\\u0644\\u0637\\u0628\\u0642\\u0629 \\u0627\\u0644\\u0648\\u0633\\u0637\\u0649) \\u0627\\u0644\\u0644\\u0648\\u0627\\u062a\\u064a \\u0644\\u0627 \\u064a\\u062e\\u062a\\u0644\\u0641\\u0646 \\u0645\\u0639 \\u0627\\u0644\\u0647\\u064a\\u0643\\u0644 \\u0627\\u0644\\u0627\\u062c\\u062a\\u0645\\u0627\\u0639\\u064a \\u0627\\u0644\\u062d\\u0627\\u0644\\u064a\\u00bb. \\u0648\\u0648\\u062c\\u062f\\u0627 \\u0623\\u0646\\u0647 \\u064a\\u064f\\u0646\\u0638\\u0631 \\u0625\\u0644\\u0649 \\u0627\\u0644\\u0646\\u0633\\u0648\\u064a\\u0629 \\u0627\\u0644\\u0644\\u064a\\u0628\\u0631\\u0627\\u0644\\u064a\\u0629 \\u0639\\u0644\\u0649 \\u0623\\u0646\\u0647\\u0627 \\u0627\\u0644\\u0634\\u0643\\u0644 \\u0627\\u0644\\u0633\\u0627\\u0626\\u062f \\u0648 \\u00ab\\u0627\\u0644\\u0645\\u0641\\u062a\\u0631\\u0636\\u00bb \\u0644\\u0644\\u0646\\u0633\\u0648\\u064a\\u0629 \\u0628\\u0633\\u0628\\u0628 \\u062a\\u0631\\u0643\\u064a\\u0632\\u0647\\u0627 \\u0639\\u0644\\u0649 \\u0627\\u0644\\u0645\\u0633\\u0627\\u0648\\u0627\\u0629.\"\n        ],\n        \"semantic_type\": \"\",\n        \"description\": \"\"\n      }\n    }\n  ]\n}"
            }
          },
          "metadata": {},
          "execution_count": 6
        }
      ]
    },
    {
      "cell_type": "code",
      "source": [
        "# ===== Collecte text length\n",
        "collected_df[\"text_length\"] = collected_df[\"text\"].apply(lambda text: len(text.strip()))\n",
        "collected_df[\"text_length\"].describe()"
      ],
      "metadata": {
        "colab": {
          "base_uri": "https://localhost:8080/",
          "height": 335
        },
        "id": "GYSoXcfVEk0S",
        "outputId": "91dd48d7-b918-4a08-feab-7aa6b700f2f3"
      },
      "execution_count": null,
      "outputs": [
        {
          "output_type": "execute_result",
          "data": {
            "text/plain": [
              "count    46564.000000\n",
              "mean       512.716734\n",
              "std        358.495835\n",
              "min        101.000000\n",
              "25%        271.000000\n",
              "50%        427.000000\n",
              "75%        650.000000\n",
              "max       5477.000000\n",
              "Name: text_length, dtype: float64"
            ],
            "text/html": [
              "<div>\n",
              "<style scoped>\n",
              "    .dataframe tbody tr th:only-of-type {\n",
              "        vertical-align: middle;\n",
              "    }\n",
              "\n",
              "    .dataframe tbody tr th {\n",
              "        vertical-align: top;\n",
              "    }\n",
              "\n",
              "    .dataframe thead th {\n",
              "        text-align: right;\n",
              "    }\n",
              "</style>\n",
              "<table border=\"1\" class=\"dataframe\">\n",
              "  <thead>\n",
              "    <tr style=\"text-align: right;\">\n",
              "      <th></th>\n",
              "      <th>text_length</th>\n",
              "    </tr>\n",
              "  </thead>\n",
              "  <tbody>\n",
              "    <tr>\n",
              "      <th>count</th>\n",
              "      <td>46564.000000</td>\n",
              "    </tr>\n",
              "    <tr>\n",
              "      <th>mean</th>\n",
              "      <td>512.716734</td>\n",
              "    </tr>\n",
              "    <tr>\n",
              "      <th>std</th>\n",
              "      <td>358.495835</td>\n",
              "    </tr>\n",
              "    <tr>\n",
              "      <th>min</th>\n",
              "      <td>101.000000</td>\n",
              "    </tr>\n",
              "    <tr>\n",
              "      <th>25%</th>\n",
              "      <td>271.000000</td>\n",
              "    </tr>\n",
              "    <tr>\n",
              "      <th>50%</th>\n",
              "      <td>427.000000</td>\n",
              "    </tr>\n",
              "    <tr>\n",
              "      <th>75%</th>\n",
              "      <td>650.000000</td>\n",
              "    </tr>\n",
              "    <tr>\n",
              "      <th>max</th>\n",
              "      <td>5477.000000</td>\n",
              "    </tr>\n",
              "  </tbody>\n",
              "</table>\n",
              "</div><br><label><b>dtype:</b> float64</label>"
            ]
          },
          "metadata": {},
          "execution_count": 8
        }
      ]
    },
    {
      "cell_type": "code",
      "source": [
        "cleaned_collected_df = collected_df[ collected_df[\"text_length\"] <= 1500 ]\n",
        "cleaned_collected_df[\"text_length\"].describe()"
      ],
      "metadata": {
        "colab": {
          "base_uri": "https://localhost:8080/",
          "height": 335
        },
        "id": "Q4iFtY2DE0D8",
        "outputId": "17644fac-6db7-4d54-8240-7b47bffd1647"
      },
      "execution_count": null,
      "outputs": [
        {
          "output_type": "execute_result",
          "data": {
            "text/plain": [
              "count    45563.000000\n",
              "mean       480.568948\n",
              "std        279.710852\n",
              "min        101.000000\n",
              "25%        267.000000\n",
              "50%        420.000000\n",
              "75%        630.000000\n",
              "max       1500.000000\n",
              "Name: text_length, dtype: float64"
            ],
            "text/html": [
              "<div>\n",
              "<style scoped>\n",
              "    .dataframe tbody tr th:only-of-type {\n",
              "        vertical-align: middle;\n",
              "    }\n",
              "\n",
              "    .dataframe tbody tr th {\n",
              "        vertical-align: top;\n",
              "    }\n",
              "\n",
              "    .dataframe thead th {\n",
              "        text-align: right;\n",
              "    }\n",
              "</style>\n",
              "<table border=\"1\" class=\"dataframe\">\n",
              "  <thead>\n",
              "    <tr style=\"text-align: right;\">\n",
              "      <th></th>\n",
              "      <th>text_length</th>\n",
              "    </tr>\n",
              "  </thead>\n",
              "  <tbody>\n",
              "    <tr>\n",
              "      <th>count</th>\n",
              "      <td>45563.000000</td>\n",
              "    </tr>\n",
              "    <tr>\n",
              "      <th>mean</th>\n",
              "      <td>480.568948</td>\n",
              "    </tr>\n",
              "    <tr>\n",
              "      <th>std</th>\n",
              "      <td>279.710852</td>\n",
              "    </tr>\n",
              "    <tr>\n",
              "      <th>min</th>\n",
              "      <td>101.000000</td>\n",
              "    </tr>\n",
              "    <tr>\n",
              "      <th>25%</th>\n",
              "      <td>267.000000</td>\n",
              "    </tr>\n",
              "    <tr>\n",
              "      <th>50%</th>\n",
              "      <td>420.000000</td>\n",
              "    </tr>\n",
              "    <tr>\n",
              "      <th>75%</th>\n",
              "      <td>630.000000</td>\n",
              "    </tr>\n",
              "    <tr>\n",
              "      <th>max</th>\n",
              "      <td>1500.000000</td>\n",
              "    </tr>\n",
              "  </tbody>\n",
              "</table>\n",
              "</div><br><label><b>dtype:</b> float64</label>"
            ]
          },
          "metadata": {},
          "execution_count": 13
        }
      ]
    },
    {
      "cell_type": "code",
      "source": [
        "cleaned_collected_df = cleaned_collected_df.sample(frac=1, random_state=101)"
      ],
      "metadata": {
        "id": "nfZbztcSHm90"
      },
      "execution_count": null,
      "outputs": []
    },
    {
      "cell_type": "markdown",
      "source": [
        "## Embed Documents"
      ],
      "metadata": {
        "id": "OD7E-iAbFQwH"
      }
    },
    {
      "cell_type": "markdown",
      "source": [
        "#### Install Ollama Embedding Client"
      ],
      "metadata": {
        "id": "iwVEOeyTHDTf"
      }
    },
    {
      "cell_type": "code",
      "source": [
        "# install ollama\n",
        "!pip install ollama==0.3.2\n",
        "!curl https://ollama.ai/install.sh | sh"
      ],
      "metadata": {
        "id": "Mpmg_bGQI5CH"
      },
      "execution_count": null,
      "outputs": []
    },
    {
      "cell_type": "code",
      "source": [
        "ollama_model_id = \"paraphrase-multilingual\""
      ],
      "metadata": {
        "id": "hYl_aV2MJFIU"
      },
      "execution_count": null,
      "outputs": []
    },
    {
      "cell_type": "code",
      "source": [
        "# run ollama server\n",
        "!nohup ollama serve &\n",
        "!sleep 8 && tail nohup.out"
      ],
      "metadata": {
        "id": "uq6xO0yvFSxV"
      },
      "execution_count": null,
      "outputs": []
    },
    {
      "cell_type": "code",
      "source": [
        "# !pkill -f ollama\n",
        "!ollama pull {ollama_model_id}"
      ],
      "metadata": {
        "id": "VPWIZdTfIydx"
      },
      "execution_count": null,
      "outputs": []
    },
    {
      "cell_type": "code",
      "source": [
        "!nohup ollama run {ollama_model_id} &\n",
        "!sleep 8 && tail nohup.out"
      ],
      "metadata": {
        "id": "62d9EiH6GfV9"
      },
      "execution_count": null,
      "outputs": []
    },
    {
      "cell_type": "markdown",
      "source": [
        "#### Evaluate Ollama Embedding"
      ],
      "metadata": {
        "id": "ZZlB5GGMHGF8"
      }
    },
    {
      "cell_type": "code",
      "source": [
        "import torch\n",
        "import ollama\n",
        "from tqdm.auto import tqdm\n",
        "from sentence_transformers.util import semantic_search, cos_sim"
      ],
      "metadata": {
        "id": "D1QVBIK0Jz3b"
      },
      "execution_count": null,
      "outputs": []
    },
    {
      "cell_type": "code",
      "source": [
        "sample_corpus = cleaned_collected_df[\"text\"].values[:50]\n",
        "\n",
        "sample_embeddings = [\n",
        "    ollama.embeddings(\n",
        "        model='paraphrase-multilingual',\n",
        "        prompt=text\n",
        "    )['embedding']\n",
        "    for text in tqdm(sample_corpus)\n",
        "]\n",
        "\n",
        "question_text = \"متى عقد الحلفاء المعاهدة التي ادت الى السلم مع الدولة الألمانية؟\" # record:15\n",
        "question_embedding =  ollama.embeddings(\n",
        "                        model='paraphrase-multilingual',\n",
        "                        prompt=question_text,\n",
        "                    )['embedding']"
      ],
      "metadata": {
        "colab": {
          "base_uri": "https://localhost:8080/",
          "height": 49,
          "referenced_widgets": [
            "37174810e38b4d189b9c5551e728336a",
            "c82423f558ed40b2a6b1152c2c078dd3",
            "44c69f28c41e4776b7d901722914a8fb",
            "5994c08d7de04d1e84495110d71f0a56",
            "94595f83d58643899dd57996660a4d46",
            "e3b7c28dca3b492daf82646fe7291261",
            "9357611f71084b9996fcd7fe54c0c5b1",
            "8cb7a88b6aca4a1696bb294981decb7b",
            "baa0bcbdfbca4fed924befbbc929486e",
            "ebf4ee5227e742bdb186c1a27eb46d18",
            "affc09ce02634be89e82eb7eb9b55a5e"
          ]
        },
        "id": "E0jMEjImHIlK",
        "outputId": "2d5fa5c0-2872-44eb-ad66-3b1bdcfeaf68"
      },
      "execution_count": null,
      "outputs": [
        {
          "output_type": "display_data",
          "data": {
            "text/plain": [
              "  0%|          | 0/50 [00:00<?, ?it/s]"
            ],
            "application/vnd.jupyter.widget-view+json": {
              "version_major": 2,
              "version_minor": 0,
              "model_id": "37174810e38b4d189b9c5551e728336a"
            }
          },
          "metadata": {}
        }
      ]
    },
    {
      "cell_type": "code",
      "source": [
        "sample_embeddings = torch.FloatTensor(sample_embeddings)\n",
        "question_embedding = torch.FloatTensor([question_embedding])"
      ],
      "metadata": {
        "id": "fcixGeXSKoYE"
      },
      "execution_count": null,
      "outputs": []
    },
    {
      "cell_type": "code",
      "source": [
        "similar_documents = semantic_search(\n",
        "    query_embeddings=question_embedding,\n",
        "    corpus_embeddings=sample_embeddings,\n",
        "    top_k=10,\n",
        ")"
      ],
      "metadata": {
        "id": "IuayG54_KGVG"
      },
      "execution_count": null,
      "outputs": []
    },
    {
      "cell_type": "code",
      "source": [
        "for document in similar_documents[0]:\n",
        "    _id = document[\"corpus_id\"]\n",
        "    print(\"Score\", document[\"score\"])\n",
        "    print(sample_corpus[_id])\n",
        "    print(\"=\"*30)"
      ],
      "metadata": {
        "colab": {
          "base_uri": "https://localhost:8080/"
        },
        "id": "W20XF3rJK13k",
        "outputId": "e56e9824-02c9-4b5e-86cc-b9c7656896b7"
      },
      "execution_count": null,
      "outputs": [
        {
          "output_type": "stream",
          "name": "stdout",
          "text": [
            "Score 0.7565121054649353\n",
            "«كان يجب على الولايات المتحدة أن تفكر مليًا في مصالحها، وألا تنخرط في الحرب العالمية الأولى. فإذا لم تخض الحرب، لكان عقد الحلفاء السلام مع ألمانيا في ربيع 1917. فلو كان السلام خيارنا، لما كان الانهيار الذي حل بروسيا، والذي تلته الشيوعية، ولا كانت حلت الفاشية بإيطاليا، ولما أصبحت ألمانيا طرفًا في معاهدة فرساي التي عظمت من وجود النازية في ألمانيا».\n",
            "==============================\n",
            "Score 0.5259615182876587\n",
            "مصطلح الحل النهائي أو حل أخير تم استعماله لأول مرة من قبل أدولف أيخمان والذي أشرف على عمليات الهولوكوست وتمت محاكمته وإعدامه من قبل محكمة إسرائيلية في 1 يونيو 1962 في سجن الرملة. تمت مناقشة خطة الحل النهائي في مؤتمر داخلي للحزب النازي عقد في منطقة وانسي جنوب غرب برلين في 20 يناير 1942 والذي نوقشت فيه آلية إبادة يهود أوروبا، وحضر ذلك الاجتماع هينريك هيملر أيضا والذي كان من أقوى رجال أدولف هتلر وأكثرهم شراسة. ونص مختصر محضر الاجتماع أن الأسلوب السابق في تشجيع اليهود على الهجرة من ألمانيا قد تم تغييره إلى الاستبعاد القسري.\n",
            "==============================\n",
            "Score 0.43884581327438354\n",
            "كانت تركيا منتجًا مهمًا للكروميت، وهو مكون رئيسي في صناعة الفولاذ المقاوم للصدأ والطوب المقاوم للصهر، وكان وصول ألمانيا إليه محدودًا. كانت القضية الرئيسية في مفاوضات تركيا مع كلا الجانبين هي بيع الكروميت لألمانيا أو للحلفاء. كان لدى الحلفاء إمكانية الوصول إلى مصادر أخرى واشتروا الكروميت بشكل أساسي من أجل منع بيعه إلى ألمانيا. أوقفت تركيا مبيعاتها لألمانيا في أبريل 1944 وقطعت العلاقات في أغسطس. أعلنت تركيا الحرب على دول المحور في فبراير 1945، بعد أن وجه الحلفاء دعوتهم للاجتماع الافتتاحي للأمم المتحدة (جنبًا إلى جنب مع دعوات من عدة دول أخرى) بشرط القتال الكامل. مع ذلك لم تشهد أي قوات تركية قتالًا على الإطلاق.\n",
            "==============================\n",
            "Score 0.3554188907146454\n",
            "في نهاية القرن الثاني، تقدم الدين الجديد في المقاطعة لأنه على الرغم من الوضع الصعب، تم تأسيس الإيمان الجديد بسرعة أكبر من أوروبا، خاصة بسبب الدور الاجتماعي الذي لعبته كنيسة قرطاج التي ظهرت في النصف الثاني من القرن الثالث، بفضل الكثافة الحضرية العالية جدًا. بالإضافة إلى ذلك، بمجرد نشر مرسوم ثيسالونيكي من قبل الإمبراطور ثيودوسيوس الأول في عام 381، أصبح التنصير تلقائيًا، حيث لا يُسمح بالعبادة الأخرى في الإمبراطورية. وهكذا، خلال القرن الخامس وتحت النشاط الديناميكي لأوغسطينوس ودفع قلة من الأساقفة، احتشد كبار ملاك الأراضي والأرستقراطية الحضرية إلى المسيحية، حيث رأوا اهتمامهم، وبالتالي دمجت الكنيسة الطبقات الاجتماعية المختلفة. سرعان ما اعتبرت مقاطعة أفريقيا منارة للمسيحية الغربية اللاتينية. ومع ذلك، واجه هذا التوسع عقبات، لا سيما أثناء الانقسام الدوناتي الذي تمت إدانته بشكل قاطع في مجلس قرطاج. هذا الأخير يتهم المنشقين بقطع الروابط بين الكنيسة الأفريقية والكنائس الشرقية الأصلية. على الرغم من هذا الصراع الديني، كان الوضع الاقتصادي والاجتماعي والثقافي مواتًا نسبيًا في وقت انتصار المسيحية، كما يتضح من العديد من الآثار، لا سيما البازيليكا في قرطاج والعديد من الكنائس التي بنيت في المعابد الوثنية القديمة (كما في سبيطلة) أو حتى بعض الكنائس الريفية التي تم اكتشافها مؤخرًا. في 19 أكتوبر 439، بعد أن جعلوا أنفسهم سادة هيبون، دخل الوندال والألان قرطاج، حيث استقرت مملكتهم لمدة قرن تقريبًا.\n",
            "==============================\n",
            "Score 0.3051340878009796\n",
            "لكن ظل الخلاف قائمًا بخصوص بعض بنود الإتفاق ليظل الإنقسام السياسي والمؤسساتي في البلاد بحكومتين هما الحكومة الليبية المؤقتة في البيضاء بدعم من مجلس النواب في طبرق والمجلس الرئاسي لحكومة الوفاق الوطني ذات الشرعية الدولية في طرابلس .\n",
            "==============================\n",
            "Score 0.30434146523475647\n",
            "خلال فترة الحرب العالمية الأولى، وقعت حادثة تعدّ أكثر الحوادث ضياعاً للأرواح في تاريخ الولايات المتحدة البحري عندما فُقدت يو إس إس سيكلوبس 'USS Cyclops'، والتي كانت بقيادة قائد ملازم جورج ورلي، بدون أثر وكان على متنها طاقم من 309 شخص بعد أن غادرت جزيرة بربادوس في 4 مارس 1918 وعلى الرغم من عدم وجود أي دليل قوي لأي نظرية، لكن كان هناك العديد من النظريات؛ فبعض الناس اعتقد أن السبب هو عاصفة قوية، والبعض اعتقد أنها غرقت، بينما البعض الآخر اعتقد أن نشاط الأعداء أثناء الحرب كان السبب في خسارتها.\n",
            "==============================\n",
            "Score 0.29206037521362305\n",
            "تأسس حزب العمال الوطني الألماني الاشتراكي ( الحزب النازي) في عام 1920. وكان قد تم تغيير اسمه ليكون خليفة حزب العمال الألماني (DAP) الذي تم تشكيله قبل عام واحد ، وهو واحد من العديد من الأحزاب السياسية اليمينية المتطرفة ثم نشط في ألمانيا. تضمن برنامج الحزب النازي تدمير جمهورية فايمار، ورفض بنود معاهدة فرساي ومعاداة السامية والبلشفية. وعدوا بحكومة مركزية قوية، وزيادة \"ليبنسراوم\" («مساحة المعيشة») للشعوب الجرمانية، وتشكيل مجتمع وطني على أساس العرق، والتطهير العنصري من خلال القمع النشط لليهود، الذين سيتم تجريدهم من جنسيتهم وحقوقهم المدنية. اقترح النازيون التجديد الوطني والثقافي على أساس حركة \"فولكيش\". استخدم الحزب ، ولا سيما منظمته شبه العسكرية \"كتيبة العاصفة و\"العنف الجسدي للنهوض بموقفهم السياسي، وتعطيل اجتماعات المنظمات المتنافسة ومهاجمة أعضائها في الشوارع. مثل هذه الجماعات المسلحة اليمينية المتطرفة شائعة في بافاريا، وتم التسامح معها من قبل حكومة الولاية اليمينية المتطرفة غوستاف ريتر فون كار.\n",
            "==============================\n",
            "Score 0.27153918147087097\n",
            "غالباً كان يطلق على هولندا في مجملها اسم «هولندا» (\"Holt land\"، بمعنى أرض الخشب أو أرض الغابات)، رغم أن هذه تسمية تخص مناطق شمال-هولندا وجنوب هولندا، وهما مقاطعتين من الإثني عشر مقاطعة في البلاد، واللتان كانتا مقاطعة واحدة في السابق، وقبلها كانت كونتية هولندا. وقد ظهرت هذه الكونتية الفرنكية السابقة في الأصل نتيجة حل المملكة الفريزية، وبعد تراجع دوقية برابنت كانت (مقاطعة) هولندا اقتصادياً وسياسياً المقاطعة الأكثر أهمية في المنطقة. وبسبب هذه الأهمية والتركيز على هولندا أثناء الحروب الإنجليزية الهولندية في القرون 17 وال18 استخدمت تسمية هولندا باعتبارها \"مجازاً جزئياً\" للبلد بأسرها، وتعدّ تسمية إما غير صحيحة، غير رسمية، أو في بعض الأحيان جديرة بالإزدراء، وذلك حسب السياق، ولكنها مقبولة جداً عند الإشارة إلى منتخب هولندا لكرة القدم.\n",
            "==============================\n",
            "Score 0.26182296872138977\n",
            "وفي رواية أن ابن عامر نزل على أبرشهر فغلب على نصفها ولكنه لم يقدر أن يصل إلى مرو، فصالح كناري، فأعطاه ابنه أبا الصلت ابن كناري وابن أخيه سليمًا رهنًا. ووجه عبد الله بن خازم إلى هراة، وحاتم بن النعمان إلى مرو، وأخذ ابن عامر ابني كناري، فصار إلى النعمان بن الأفقم النصري فأعتقهما،<ref name=\"تاريخ الطبري (5/ 306)\">تاريخ الطبري (5/ 306)</ref> وفتح ابن عامر ما حول مدينة أبرشهر، كطوس وبيورد، ونسا وحمران، حتى وصل إلى سرخس، وسرح ابن عامر الأسود بن كلثوم العدوي إلى ببهق وهو من أبرشهر، بينها وبين أبرشهر ستة عشر فرسخاً، ففتحها وقتل الأسود بن كلثوم، وكان فاضلاً في دينه، وكان من أصحاب عامر بن عبد الله العنبري. وكان عامر يقول بعدما أخرج من البصرة: «ما آسى من العراق على شيء إلا على ظماء الهواجر، وتجاوب المؤذنين، وإخوان مثل الأسود بن كلثوم».<ref name=\"تاريخ الطبري (5/ 307)\">تاريخ الطبري (5/ 307)</ref> واستطاع ابن عامر أن يتغلب على نيسابور، وخرج إلى سرخس، فأرسل إلى أهل مرو يطلب الصلح، فبعث إليهم حاتم بن النعمان الباهلي، فصالح براز مرزبان مرو على ألفي ألف ومائتي ألف.<ref name=\"تاريخ الطبري (5/ 307)\">تاريخ الطبري (5/ 307)</ref>\n",
            "==============================\n",
            "Score 0.26011452078819275\n",
            "تعرّف إسرائيل نفسها على أنها دولة ديمقراطية برلمانية متعددة الأحزاب بشكل مماثل للأنظمة الديمقراطية في أوروبا الوسطى. أي أن المؤسسة المركزية هي البرلمان الذي يلعب دور المجلس التشريعي كما ينتخب أعضاؤه الحكومة ورئيس الدولة ويراقب أعمال المؤسسات الحكومية. يطلق على البرلمان الإسرائيلي اسم «الكنيست» (أي «المجمع»).\n",
            "==============================\n"
          ]
        }
      ]
    },
    {
      "cell_type": "code",
      "source": [
        "print(\"Size of Index:\", asizeof.asizeof(sample_embeddings), \"bytes\")"
      ],
      "metadata": {
        "id": "igEYOyUrOOLZ"
      },
      "execution_count": null,
      "outputs": []
    },
    {
      "cell_type": "markdown",
      "source": [
        "## Test Sbert Embeddings"
      ],
      "metadata": {
        "id": "O4td_0knLVJ8"
      }
    },
    {
      "cell_type": "code",
      "source": [
        "from sentence_transformers import SentenceTransformer\n",
        "from sentence_transformers.util import semantic_search, cos_sim\n",
        "import torch\n",
        "from tqdm.auto import tqdm\n",
        "from pympler import asizeof\n",
        "\n",
        "# Check more\n",
        "# https://sbert.net/docs/package_reference/sentence_transformer/SentenceTransformer.html?highlight=sentencetransformer#sentence_transformers.SentenceTransformer\n",
        "\n",
        "model = SentenceTransformer('sentence-transformers/paraphrase-multilingual-MiniLM-L12-v2')\n",
        "normalize_embeddings = True\n",
        "precision = \"int8\" # float32"
      ],
      "metadata": {
        "id": "6x-gvxVgLXbb"
      },
      "execution_count": null,
      "outputs": []
    },
    {
      "cell_type": "code",
      "source": [
        "sample_corpus = cleaned_collected_df[\"text\"].values[:50]\n",
        "\n",
        "sample_embeddings = [\n",
        "    model.encode(text, normalize_embeddings=normalize_embeddings).tolist()\n",
        "    for text in tqdm(sample_corpus)\n",
        "]\n",
        "\n",
        "question_text = \"متى عقد الحلفاء المعاهدة التي ادت الى السلم مع الدولة الألمانية؟\"\n",
        "question_embedding =  model.encode(question_text, normalize_embeddings=normalize_embeddings).tolist()"
      ],
      "metadata": {
        "id": "vrnYX6b8Lw0f"
      },
      "execution_count": null,
      "outputs": []
    },
    {
      "cell_type": "code",
      "source": [
        "sample_embeddings = torch.FloatTensor(sample_embeddings)\n",
        "question_embedding = torch.FloatTensor([question_embedding])"
      ],
      "metadata": {
        "id": "JF2r-wBuMNoP"
      },
      "execution_count": null,
      "outputs": []
    },
    {
      "cell_type": "code",
      "source": [
        "similar_documents = semantic_search(\n",
        "    query_embeddings=question_embedding,\n",
        "    corpus_embeddings=sample_embeddings,\n",
        "    top_k=10,\n",
        ")\n",
        "\n",
        "print(\"Size of Index:\", asizeof.asizeof(sample_embeddings), \"bytes\")\n",
        "print(\"=\"*30)\n",
        "\n",
        "for document in similar_documents[0]:\n",
        "    _id = document[\"corpus_id\"]\n",
        "    print(\"Score\", document[\"score\"])\n",
        "    print(sample_corpus[_id])\n",
        "    print(\"=\"*30)"
      ],
      "metadata": {
        "colab": {
          "base_uri": "https://localhost:8080/"
        },
        "id": "qW3FdjiFMVBg",
        "outputId": "6b45ab96-c5bc-489b-b307-07a71d052cb2"
      },
      "execution_count": null,
      "outputs": [
        {
          "output_type": "stream",
          "name": "stdout",
          "text": [
            "Score 0.6488306522369385\n",
            "«كان يجب على الولايات المتحدة أن تفكر مليًا في مصالحها، وألا تنخرط في الحرب العالمية الأولى. فإذا لم تخض الحرب، لكان عقد الحلفاء السلام مع ألمانيا في ربيع 1917. فلو كان السلام خيارنا، لما كان الانهيار الذي حل بروسيا، والذي تلته الشيوعية، ولا كانت حلت الفاشية بإيطاليا، ولما أصبحت ألمانيا طرفًا في معاهدة فرساي التي عظمت من وجود النازية في ألمانيا».\n",
            "==============================\n",
            "Score 0.6129641532897949\n",
            "مصطلح الحل النهائي أو حل أخير تم استعماله لأول مرة من قبل أدولف أيخمان والذي أشرف على عمليات الهولوكوست وتمت محاكمته وإعدامه من قبل محكمة إسرائيلية في 1 يونيو 1962 في سجن الرملة. تمت مناقشة خطة الحل النهائي في مؤتمر داخلي للحزب النازي عقد في منطقة وانسي جنوب غرب برلين في 20 يناير 1942 والذي نوقشت فيه آلية إبادة يهود أوروبا، وحضر ذلك الاجتماع هينريك هيملر أيضا والذي كان من أقوى رجال أدولف هتلر وأكثرهم شراسة. ونص مختصر محضر الاجتماع أن الأسلوب السابق في تشجيع اليهود على الهجرة من ألمانيا قد تم تغييره إلى الاستبعاد القسري.\n",
            "==============================\n",
            "Score 0.5917273759841919\n",
            "كانت تركيا منتجًا مهمًا للكروميت، وهو مكون رئيسي في صناعة الفولاذ المقاوم للصدأ والطوب المقاوم للصهر، وكان وصول ألمانيا إليه محدودًا. كانت القضية الرئيسية في مفاوضات تركيا مع كلا الجانبين هي بيع الكروميت لألمانيا أو للحلفاء. كان لدى الحلفاء إمكانية الوصول إلى مصادر أخرى واشتروا الكروميت بشكل أساسي من أجل منع بيعه إلى ألمانيا. أوقفت تركيا مبيعاتها لألمانيا في أبريل 1944 وقطعت العلاقات في أغسطس. أعلنت تركيا الحرب على دول المحور في فبراير 1945، بعد أن وجه الحلفاء دعوتهم للاجتماع الافتتاحي للأمم المتحدة (جنبًا إلى جنب مع دعوات من عدة دول أخرى) بشرط القتال الكامل. مع ذلك لم تشهد أي قوات تركية قتالًا على الإطلاق.\n",
            "==============================\n",
            "Score 0.4930756688117981\n",
            "تأسس حزب العمال الوطني الألماني الاشتراكي ( الحزب النازي) في عام 1920. وكان قد تم تغيير اسمه ليكون خليفة حزب العمال الألماني (DAP) الذي تم تشكيله قبل عام واحد ، وهو واحد من العديد من الأحزاب السياسية اليمينية المتطرفة ثم نشط في ألمانيا. تضمن برنامج الحزب النازي تدمير جمهورية فايمار، ورفض بنود معاهدة فرساي ومعاداة السامية والبلشفية. وعدوا بحكومة مركزية قوية، وزيادة \"ليبنسراوم\" («مساحة المعيشة») للشعوب الجرمانية، وتشكيل مجتمع وطني على أساس العرق، والتطهير العنصري من خلال القمع النشط لليهود، الذين سيتم تجريدهم من جنسيتهم وحقوقهم المدنية. اقترح النازيون التجديد الوطني والثقافي على أساس حركة \"فولكيش\". استخدم الحزب ، ولا سيما منظمته شبه العسكرية \"كتيبة العاصفة و\"العنف الجسدي للنهوض بموقفهم السياسي، وتعطيل اجتماعات المنظمات المتنافسة ومهاجمة أعضائها في الشوارع. مثل هذه الجماعات المسلحة اليمينية المتطرفة شائعة في بافاريا، وتم التسامح معها من قبل حكومة الولاية اليمينية المتطرفة غوستاف ريتر فون كار.\n",
            "==============================\n",
            "Score 0.3521187901496887\n",
            "فازت الأمم المتحدة وموظفوها ووكالاتها بالعديد من جوائز نوبل للسلام، على الرغم من تباين التقييمات الأخرى لفعاليتها. يعتقد بعض المعلقين أن المنظمة قوة مهمة للسلام والتنمية البشرية، بينما وصفها آخرون بأنها غير فعالة أو متحيزة أو فاسدة.\n",
            "==============================\n",
            "Score 0.285541832447052\n",
            "في نهاية القرن الثاني، تقدم الدين الجديد في المقاطعة لأنه على الرغم من الوضع الصعب، تم تأسيس الإيمان الجديد بسرعة أكبر من أوروبا، خاصة بسبب الدور الاجتماعي الذي لعبته كنيسة قرطاج التي ظهرت في النصف الثاني من القرن الثالث، بفضل الكثافة الحضرية العالية جدًا. بالإضافة إلى ذلك، بمجرد نشر مرسوم ثيسالونيكي من قبل الإمبراطور ثيودوسيوس الأول في عام 381، أصبح التنصير تلقائيًا، حيث لا يُسمح بالعبادة الأخرى في الإمبراطورية. وهكذا، خلال القرن الخامس وتحت النشاط الديناميكي لأوغسطينوس ودفع قلة من الأساقفة، احتشد كبار ملاك الأراضي والأرستقراطية الحضرية إلى المسيحية، حيث رأوا اهتمامهم، وبالتالي دمجت الكنيسة الطبقات الاجتماعية المختلفة. سرعان ما اعتبرت مقاطعة أفريقيا منارة للمسيحية الغربية اللاتينية. ومع ذلك، واجه هذا التوسع عقبات، لا سيما أثناء الانقسام الدوناتي الذي تمت إدانته بشكل قاطع في مجلس قرطاج. هذا الأخير يتهم المنشقين بقطع الروابط بين الكنيسة الأفريقية والكنائس الشرقية الأصلية. على الرغم من هذا الصراع الديني، كان الوضع الاقتصادي والاجتماعي والثقافي مواتًا نسبيًا في وقت انتصار المسيحية، كما يتضح من العديد من الآثار، لا سيما البازيليكا في قرطاج والعديد من الكنائس التي بنيت في المعابد الوثنية القديمة (كما في سبيطلة) أو حتى بعض الكنائس الريفية التي تم اكتشافها مؤخرًا. في 19 أكتوبر 439، بعد أن جعلوا أنفسهم سادة هيبون، دخل الوندال والألان قرطاج، حيث استقرت مملكتهم لمدة قرن تقريبًا.\n",
            "==============================\n",
            "Score 0.25819218158721924\n",
            "كانت أولى المشكلات التي واجهت الشريف الحسين في بداية إمارته هو قيام جمعية الاتحاد والترقي باستغلال مناسبة الحج لمهاجمة الشريف الحسين عن طريق أمير الحج الشامي عبد الرحمن باشا اليوسف، الذي حاول بتوجيه منْ جمعية الاتحاد والترقي إثبات عدم قدرة الشريف الحسين على حفظ الأمن وسلامة الحجاج، فأعلن في عام 1909 أنَّ طريق الحج البري الواصل بين دمشق والمدينة المنورة غير آمن، وأنَّه يخشى اعتداء القبائل لاضطراب الأمن، لذا اقتَرح أنْ تعود قافلة الحجاج عن طريق البحر من جدة إلى سواحل الشام. عارض الشريف الحسين تنفيذ هذا الاقتراح، لأنَّ معناه عَجزه عن حماية الأمن وتوطيده في الحجاز، إذْ كانت مكانة الشريف تعتمد بشكل أساسي على ضمان أمن الحجاج. تعهَّد الشريف الحسين بتأمين وصول الحجاج برًا عن طريق المدينة المنورة - دمشق، تاركًا الأمير عبد الرحمن باشا اليوسف وحاشيته يسافرون بحرًا من جدة إلى دمشق، انتدب الشريف حسين، أخاه الشريف ناصر وإبنه عبد الله لإيصال موكب الحجيج من مكة إلى المدينة المنورة فدمشق، فأعطى الشريف بذلك برهانًا واضحًا على كفايته وسيطرته على القبائل وأفشل مخطط الإتحاديين.\n",
            "==============================\n",
            "Score 0.2578343451023102\n",
            "لكن ظل الخلاف قائمًا بخصوص بعض بنود الإتفاق ليظل الإنقسام السياسي والمؤسساتي في البلاد بحكومتين هما الحكومة الليبية المؤقتة في البيضاء بدعم من مجلس النواب في طبرق والمجلس الرئاسي لحكومة الوفاق الوطني ذات الشرعية الدولية في طرابلس .\n",
            "==============================\n",
            "Score 0.25584205985069275\n",
            "خلال فترة الحرب العالمية الأولى، وقعت حادثة تعدّ أكثر الحوادث ضياعاً للأرواح في تاريخ الولايات المتحدة البحري عندما فُقدت يو إس إس سيكلوبس 'USS Cyclops'، والتي كانت بقيادة قائد ملازم جورج ورلي، بدون أثر وكان على متنها طاقم من 309 شخص بعد أن غادرت جزيرة بربادوس في 4 مارس 1918 وعلى الرغم من عدم وجود أي دليل قوي لأي نظرية، لكن كان هناك العديد من النظريات؛ فبعض الناس اعتقد أن السبب هو عاصفة قوية، والبعض اعتقد أنها غرقت، بينما البعض الآخر اعتقد أن نشاط الأعداء أثناء الحرب كان السبب في خسارتها.\n",
            "==============================\n",
            "Score 0.24894359707832336\n",
            "تعرّف إسرائيل نفسها على أنها دولة ديمقراطية برلمانية متعددة الأحزاب بشكل مماثل للأنظمة الديمقراطية في أوروبا الوسطى. أي أن المؤسسة المركزية هي البرلمان الذي يلعب دور المجلس التشريعي كما ينتخب أعضاؤه الحكومة ورئيس الدولة ويراقب أعمال المؤسسات الحكومية. يطلق على البرلمان الإسرائيلي اسم «الكنيست» (أي «المجمع»).\n",
            "==============================\n"
          ]
        }
      ]
    },
    {
      "cell_type": "markdown",
      "source": [
        "### Embeddding Qualitative Evaluation"
      ],
      "metadata": {
        "id": "NI8ITdVhPBJV"
      }
    },
    {
      "cell_type": "code",
      "source": [
        "from sentence_transformers import SentenceTransformer\n",
        "from sentence_transformers.util import semantic_search, cos_sim\n",
        "import torch\n",
        "from tqdm.auto import tqdm\n",
        "from pympler import asizeof\n",
        "\n",
        "# Check more\n",
        "# https://sbert.net/docs/package_reference/sentence_transformer/SentenceTransformer.html?highlight=sentencetransformer#sentence_transformers.SentenceTransformer\n",
        "\n",
        "# model = SentenceTransformer('sentence-transformers/paraphrase-multilingual-MiniLM-L12-v2')\n",
        "# model = SentenceTransformer('sentence-transformers/LaBSE')\n",
        "model = SentenceTransformer('AbderrahmanSkiredj1/Arabic_text_embedding_for_sts')\n",
        "\n",
        "normalize_embeddings = True"
      ],
      "metadata": {
        "id": "UZC7HNRHPGwN"
      },
      "execution_count": null,
      "outputs": []
    },
    {
      "cell_type": "code",
      "source": [
        "sample_corpus = cleaned_collected_df[\"text\"].values[:50]\n",
        "\n",
        "sample_embeddings = [\n",
        "    model.encode(text, normalize_embeddings=normalize_embeddings).tolist()\n",
        "    for text in tqdm(sample_corpus)\n",
        "]\n",
        "\n",
        "sample_embeddings = torch.FloatTensor(sample_embeddings)"
      ],
      "metadata": {
        "colab": {
          "base_uri": "https://localhost:8080/",
          "height": 49,
          "referenced_widgets": [
            "e802bea4c4f54558a5e4ae2ba8141226",
            "7a9547a3b0e346ec998273e0b8180fe6",
            "95d16f67a6794bb89185f756e1f39651",
            "c7576b5fb9634aebbe47010f45046eb3",
            "03d1cc02eb8b4fa2aa8a9c2d75903a81",
            "2216367454874f5d988f4c5d1ccec179",
            "3e7093bb4e7e47a29479a2f9687d5a97",
            "ef20ca122b0445b39a062c17e90b006c",
            "58219b2b05c44f61b13294bd1027695d",
            "60d313b208b545a48820e18707c98fc3",
            "c7e886f64e024259969611d5c6e09a7e"
          ]
        },
        "id": "Ed71gPG-PJHa",
        "outputId": "8a4ef7c6-4989-40f4-c555-909f340d4e39"
      },
      "execution_count": null,
      "outputs": [
        {
          "output_type": "display_data",
          "data": {
            "text/plain": [
              "  0%|          | 0/50 [00:00<?, ?it/s]"
            ],
            "application/vnd.jupyter.widget-view+json": {
              "version_major": 2,
              "version_minor": 0,
              "model_id": "e802bea4c4f54558a5e4ae2ba8141226"
            }
          },
          "metadata": {}
        }
      ]
    },
    {
      "cell_type": "code",
      "source": [
        "queries_text = [\n",
        "    \"متى عقد الحلفاء المعاهدة التي ادت الى السلم مع الدولة الألمانية؟\",\n",
        "    \"من كان يحضر اجتماع المعاهدةالتي عقدها الحلفاء للسلام مع ألمانيا؟\",\n",
        "    \"اي الأطعمة اشهر في المانيا؟\",\n",
        "    \"المانيا معاهدة المانيا حرب ألمانيا سلام ألمانيا ألمانيا\",\n",
        "    \"اين يمكنني ان اعثر على غطاء وردي لجوالي؟\",\n",
        "    \"السلام عليكم\"\n",
        "]\n",
        "\n",
        "queries_embeddings = model.encode(queries_text, normalize_embeddings=normalize_embeddings)"
      ],
      "metadata": {
        "id": "2nvGW2DIPMSg"
      },
      "execution_count": null,
      "outputs": []
    },
    {
      "cell_type": "code",
      "source": [
        "for text, vec in zip(queries_text, queries_embeddings):\n",
        "    print(\"Text:\")\n",
        "    print(text)\n",
        "    print(\":\"*5)\n",
        "\n",
        "    similar_documents = semantic_search(\n",
        "        query_embeddings=vec,\n",
        "        corpus_embeddings=sample_embeddings,\n",
        "        top_k=2,\n",
        "    )\n",
        "\n",
        "    for document in similar_documents[0]:\n",
        "        _id = document[\"corpus_id\"]\n",
        "        print(\"Score\", document[\"score\"])\n",
        "        print(sample_corpus[_id])\n",
        "        print(\"=\"*30)\n",
        "\n",
        "    print(\"*\"*80)\n",
        "    print(\"*\"*80)"
      ],
      "metadata": {
        "colab": {
          "base_uri": "https://localhost:8080/"
        },
        "id": "QojQ7PQyP01n",
        "outputId": "72c99d4d-f862-431f-95dd-221663b24672"
      },
      "execution_count": null,
      "outputs": [
        {
          "output_type": "stream",
          "name": "stdout",
          "text": [
            "Text:\n",
            "متى عقد الحلفاء المعاهدة التي ادت الى السلم مع الدولة الألمانية؟\n",
            ":::::\n",
            "Score 0.4765843152999878\n",
            "«كان يجب على الولايات المتحدة أن تفكر مليًا في مصالحها، وألا تنخرط في الحرب العالمية الأولى. فإذا لم تخض الحرب، لكان عقد الحلفاء السلام مع ألمانيا في ربيع 1917. فلو كان السلام خيارنا، لما كان الانهيار الذي حل بروسيا، والذي تلته الشيوعية، ولا كانت حلت الفاشية بإيطاليا، ولما أصبحت ألمانيا طرفًا في معاهدة فرساي التي عظمت من وجود النازية في ألمانيا».\n",
            "==============================\n",
            "Score 0.3587024211883545\n",
            "كانت تركيا منتجًا مهمًا للكروميت، وهو مكون رئيسي في صناعة الفولاذ المقاوم للصدأ والطوب المقاوم للصهر، وكان وصول ألمانيا إليه محدودًا. كانت القضية الرئيسية في مفاوضات تركيا مع كلا الجانبين هي بيع الكروميت لألمانيا أو للحلفاء. كان لدى الحلفاء إمكانية الوصول إلى مصادر أخرى واشتروا الكروميت بشكل أساسي من أجل منع بيعه إلى ألمانيا. أوقفت تركيا مبيعاتها لألمانيا في أبريل 1944 وقطعت العلاقات في أغسطس. أعلنت تركيا الحرب على دول المحور في فبراير 1945، بعد أن وجه الحلفاء دعوتهم للاجتماع الافتتاحي للأمم المتحدة (جنبًا إلى جنب مع دعوات من عدة دول أخرى) بشرط القتال الكامل. مع ذلك لم تشهد أي قوات تركية قتالًا على الإطلاق.\n",
            "==============================\n",
            "********************************************************************************\n",
            "********************************************************************************\n",
            "Text:\n",
            "من كان يحضر اجتماع المعاهدةالتي عقدها الحلفاء للسلام مع ألمانيا؟\n",
            ":::::\n",
            "Score 0.44836169481277466\n",
            "«كان يجب على الولايات المتحدة أن تفكر مليًا في مصالحها، وألا تنخرط في الحرب العالمية الأولى. فإذا لم تخض الحرب، لكان عقد الحلفاء السلام مع ألمانيا في ربيع 1917. فلو كان السلام خيارنا، لما كان الانهيار الذي حل بروسيا، والذي تلته الشيوعية، ولا كانت حلت الفاشية بإيطاليا، ولما أصبحت ألمانيا طرفًا في معاهدة فرساي التي عظمت من وجود النازية في ألمانيا».\n",
            "==============================\n",
            "Score 0.3385929763317108\n",
            "مصطلح الحل النهائي أو حل أخير تم استعماله لأول مرة من قبل أدولف أيخمان والذي أشرف على عمليات الهولوكوست وتمت محاكمته وإعدامه من قبل محكمة إسرائيلية في 1 يونيو 1962 في سجن الرملة. تمت مناقشة خطة الحل النهائي في مؤتمر داخلي للحزب النازي عقد في منطقة وانسي جنوب غرب برلين في 20 يناير 1942 والذي نوقشت فيه آلية إبادة يهود أوروبا، وحضر ذلك الاجتماع هينريك هيملر أيضا والذي كان من أقوى رجال أدولف هتلر وأكثرهم شراسة. ونص مختصر محضر الاجتماع أن الأسلوب السابق في تشجيع اليهود على الهجرة من ألمانيا قد تم تغييره إلى الاستبعاد القسري.\n",
            "==============================\n",
            "********************************************************************************\n",
            "********************************************************************************\n",
            "Text:\n",
            "اي الأطعمة اشهر في المانيا؟\n",
            ":::::\n",
            "Score 0.2630762457847595\n",
            "تأسس حزب العمال الوطني الألماني الاشتراكي ( الحزب النازي) في عام 1920. وكان قد تم تغيير اسمه ليكون خليفة حزب العمال الألماني (DAP) الذي تم تشكيله قبل عام واحد ، وهو واحد من العديد من الأحزاب السياسية اليمينية المتطرفة ثم نشط في ألمانيا. تضمن برنامج الحزب النازي تدمير جمهورية فايمار، ورفض بنود معاهدة فرساي ومعاداة السامية والبلشفية. وعدوا بحكومة مركزية قوية، وزيادة \"ليبنسراوم\" («مساحة المعيشة») للشعوب الجرمانية، وتشكيل مجتمع وطني على أساس العرق، والتطهير العنصري من خلال القمع النشط لليهود، الذين سيتم تجريدهم من جنسيتهم وحقوقهم المدنية. اقترح النازيون التجديد الوطني والثقافي على أساس حركة \"فولكيش\". استخدم الحزب ، ولا سيما منظمته شبه العسكرية \"كتيبة العاصفة و\"العنف الجسدي للنهوض بموقفهم السياسي، وتعطيل اجتماعات المنظمات المتنافسة ومهاجمة أعضائها في الشوارع. مثل هذه الجماعات المسلحة اليمينية المتطرفة شائعة في بافاريا، وتم التسامح معها من قبل حكومة الولاية اليمينية المتطرفة غوستاف ريتر فون كار.\n",
            "==============================\n",
            "Score 0.2080295830965042\n",
            "غالباً كان يطلق على هولندا في مجملها اسم «هولندا» (\"Holt land\"، بمعنى أرض الخشب أو أرض الغابات)، رغم أن هذه تسمية تخص مناطق شمال-هولندا وجنوب هولندا، وهما مقاطعتين من الإثني عشر مقاطعة في البلاد، واللتان كانتا مقاطعة واحدة في السابق، وقبلها كانت كونتية هولندا. وقد ظهرت هذه الكونتية الفرنكية السابقة في الأصل نتيجة حل المملكة الفريزية، وبعد تراجع دوقية برابنت كانت (مقاطعة) هولندا اقتصادياً وسياسياً المقاطعة الأكثر أهمية في المنطقة. وبسبب هذه الأهمية والتركيز على هولندا أثناء الحروب الإنجليزية الهولندية في القرون 17 وال18 استخدمت تسمية هولندا باعتبارها \"مجازاً جزئياً\" للبلد بأسرها، وتعدّ تسمية إما غير صحيحة، غير رسمية، أو في بعض الأحيان جديرة بالإزدراء، وذلك حسب السياق، ولكنها مقبولة جداً عند الإشارة إلى منتخب هولندا لكرة القدم.\n",
            "==============================\n",
            "********************************************************************************\n",
            "********************************************************************************\n",
            "Text:\n",
            "المانيا معاهدة المانيا حرب ألمانيا سلام ألمانيا ألمانيا\n",
            ":::::\n",
            "Score 0.49246925115585327\n",
            "«كان يجب على الولايات المتحدة أن تفكر مليًا في مصالحها، وألا تنخرط في الحرب العالمية الأولى. فإذا لم تخض الحرب، لكان عقد الحلفاء السلام مع ألمانيا في ربيع 1917. فلو كان السلام خيارنا، لما كان الانهيار الذي حل بروسيا، والذي تلته الشيوعية، ولا كانت حلت الفاشية بإيطاليا، ولما أصبحت ألمانيا طرفًا في معاهدة فرساي التي عظمت من وجود النازية في ألمانيا».\n",
            "==============================\n",
            "Score 0.4067370891571045\n",
            "كانت تركيا منتجًا مهمًا للكروميت، وهو مكون رئيسي في صناعة الفولاذ المقاوم للصدأ والطوب المقاوم للصهر، وكان وصول ألمانيا إليه محدودًا. كانت القضية الرئيسية في مفاوضات تركيا مع كلا الجانبين هي بيع الكروميت لألمانيا أو للحلفاء. كان لدى الحلفاء إمكانية الوصول إلى مصادر أخرى واشتروا الكروميت بشكل أساسي من أجل منع بيعه إلى ألمانيا. أوقفت تركيا مبيعاتها لألمانيا في أبريل 1944 وقطعت العلاقات في أغسطس. أعلنت تركيا الحرب على دول المحور في فبراير 1945، بعد أن وجه الحلفاء دعوتهم للاجتماع الافتتاحي للأمم المتحدة (جنبًا إلى جنب مع دعوات من عدة دول أخرى) بشرط القتال الكامل. مع ذلك لم تشهد أي قوات تركية قتالًا على الإطلاق.\n",
            "==============================\n",
            "********************************************************************************\n",
            "********************************************************************************\n",
            "Text:\n",
            "اين يمكنني ان اعثر على غطاء وردي لجوالي؟\n",
            ":::::\n",
            "Score 0.045862600207328796\n",
            "خلال فترة الحرب العالمية الأولى، وقعت حادثة تعدّ أكثر الحوادث ضياعاً للأرواح في تاريخ الولايات المتحدة البحري عندما فُقدت يو إس إس سيكلوبس 'USS Cyclops'، والتي كانت بقيادة قائد ملازم جورج ورلي، بدون أثر وكان على متنها طاقم من 309 شخص بعد أن غادرت جزيرة بربادوس في 4 مارس 1918 وعلى الرغم من عدم وجود أي دليل قوي لأي نظرية، لكن كان هناك العديد من النظريات؛ فبعض الناس اعتقد أن السبب هو عاصفة قوية، والبعض اعتقد أنها غرقت، بينما البعض الآخر اعتقد أن نشاط الأعداء أثناء الحرب كان السبب في خسارتها.\n",
            "==============================\n",
            "Score 0.023679042235016823\n",
            "حسب تصنيف فورين بوليسي الأمريكية يحتل الرئيس محمد حسني مبارك المركز الخامس عشر في قائمة فورين بوليسي (أسوء السيئين) لعام 2010 حيث تعتبره فورين بوليسي «حاكم مطلق مستبد يعاني داء العظمة وشغله الشاغل الوحيد أن يستمر في منصبه، ومبارك يشك حتى في ظله وهو يحكم البلاد منذ 30 عاما بقانون الطوارئ لإخماد أي نشاط للمعارضة وكان يجهز ابنه جمال لخلافته»، وأضافت فورين بوليسي الأمريكية أنه «لا عجب أن 23 % فقط من المصريين أدلوا بأصواتهم في الانتخابات الرئاسية الأخيرة عام 2005».\n",
            "==============================\n",
            "********************************************************************************\n",
            "********************************************************************************\n",
            "Text:\n",
            "السلام عليكم\n",
            ":::::\n",
            "Score 0.20823165774345398\n",
            "يعود أقدم ذكر للمصطلح لدى الكتاب والمؤرخين إلى أعمال المؤرخ اليوناني هكتيوس الملطي الذي عاش في القرن السادس قبل الميلاد، والذي تم الٳعتماد عليها خلال القرن السادس ميلادي من قبل المعجمي والفيلسوف ستيفان البيزنطي في كتابه الشهير ستيفان إثنيات بيزنطة. ويذكر المعجم لفظ مازيغ (باليونانية البيزنطية: mazyer) على أنها تسمية الإثنية لشعب النوميد، والليبو ويرادفها في المعنى ماكسير (باليونانية البيزنطية: Maxyer) وماكلير (باليونانية البيزنطية: Machlyer).\n",
            "==============================\n",
            "Score 0.1978701800107956\n",
            "وفي رواية أن ابن عامر نزل على أبرشهر فغلب على نصفها ولكنه لم يقدر أن يصل إلى مرو، فصالح كناري، فأعطاه ابنه أبا الصلت ابن كناري وابن أخيه سليمًا رهنًا. ووجه عبد الله بن خازم إلى هراة، وحاتم بن النعمان إلى مرو، وأخذ ابن عامر ابني كناري، فصار إلى النعمان بن الأفقم النصري فأعتقهما،<ref name=\"تاريخ الطبري (5/ 306)\">تاريخ الطبري (5/ 306)</ref> وفتح ابن عامر ما حول مدينة أبرشهر، كطوس وبيورد، ونسا وحمران، حتى وصل إلى سرخس، وسرح ابن عامر الأسود بن كلثوم العدوي إلى ببهق وهو من أبرشهر، بينها وبين أبرشهر ستة عشر فرسخاً، ففتحها وقتل الأسود بن كلثوم، وكان فاضلاً في دينه، وكان من أصحاب عامر بن عبد الله العنبري. وكان عامر يقول بعدما أخرج من البصرة: «ما آسى من العراق على شيء إلا على ظماء الهواجر، وتجاوب المؤذنين، وإخوان مثل الأسود بن كلثوم».<ref name=\"تاريخ الطبري (5/ 307)\">تاريخ الطبري (5/ 307)</ref> واستطاع ابن عامر أن يتغلب على نيسابور، وخرج إلى سرخس، فأرسل إلى أهل مرو يطلب الصلح، فبعث إليهم حاتم بن النعمان الباهلي، فصالح براز مرزبان مرو على ألفي ألف ومائتي ألف.<ref name=\"تاريخ الطبري (5/ 307)\">تاريخ الطبري (5/ 307)</ref>\n",
            "==============================\n",
            "********************************************************************************\n",
            "********************************************************************************\n"
          ]
        }
      ]
    },
    {
      "cell_type": "code",
      "source": [
        "for text, vec in zip(queries_text, queries_embeddings):\n",
        "    print(\"Text:\")\n",
        "    print(text)\n",
        "    print(\":\"*5)\n",
        "\n",
        "    similar_documents = semantic_search(\n",
        "        query_embeddings=vec,\n",
        "        corpus_embeddings=sample_embeddings,\n",
        "        top_k=2,\n",
        "    )\n",
        "\n",
        "    for document in similar_documents[0]:\n",
        "        _id = document[\"corpus_id\"]\n",
        "        print(\"Score\", document[\"score\"])\n",
        "        print(sample_corpus[_id])\n",
        "        print(\"=\"*30)\n",
        "\n",
        "    print(\"*\"*80)\n",
        "    print(\"*\"*80)"
      ],
      "metadata": {
        "colab": {
          "base_uri": "https://localhost:8080/"
        },
        "id": "FOx27iCVSSGl",
        "outputId": "cf5e72ed-2e48-49a2-8d10-babcffb48c84"
      },
      "execution_count": null,
      "outputs": [
        {
          "output_type": "stream",
          "name": "stdout",
          "text": [
            "Text:\n",
            "متى عقد الحلفاء المعاهدة التي ادت الى السلم مع الدولة الألمانية؟\n",
            ":::::\n",
            "Score 0.5178075432777405\n",
            "«كان يجب على الولايات المتحدة أن تفكر مليًا في مصالحها، وألا تنخرط في الحرب العالمية الأولى. فإذا لم تخض الحرب، لكان عقد الحلفاء السلام مع ألمانيا في ربيع 1917. فلو كان السلام خيارنا، لما كان الانهيار الذي حل بروسيا، والذي تلته الشيوعية، ولا كانت حلت الفاشية بإيطاليا، ولما أصبحت ألمانيا طرفًا في معاهدة فرساي التي عظمت من وجود النازية في ألمانيا».\n",
            "==============================\n",
            "Score 0.3628353476524353\n",
            "كانت تركيا منتجًا مهمًا للكروميت، وهو مكون رئيسي في صناعة الفولاذ المقاوم للصدأ والطوب المقاوم للصهر، وكان وصول ألمانيا إليه محدودًا. كانت القضية الرئيسية في مفاوضات تركيا مع كلا الجانبين هي بيع الكروميت لألمانيا أو للحلفاء. كان لدى الحلفاء إمكانية الوصول إلى مصادر أخرى واشتروا الكروميت بشكل أساسي من أجل منع بيعه إلى ألمانيا. أوقفت تركيا مبيعاتها لألمانيا في أبريل 1944 وقطعت العلاقات في أغسطس. أعلنت تركيا الحرب على دول المحور في فبراير 1945، بعد أن وجه الحلفاء دعوتهم للاجتماع الافتتاحي للأمم المتحدة (جنبًا إلى جنب مع دعوات من عدة دول أخرى) بشرط القتال الكامل. مع ذلك لم تشهد أي قوات تركية قتالًا على الإطلاق.\n",
            "==============================\n",
            "********************************************************************************\n",
            "********************************************************************************\n",
            "Text:\n",
            "من كان يحضر اجتماع المعاهدةالتي عقدها الحلفاء للسلام مع ألمانيا؟\n",
            ":::::\n",
            "Score 0.5415472984313965\n",
            "«كان يجب على الولايات المتحدة أن تفكر مليًا في مصالحها، وألا تنخرط في الحرب العالمية الأولى. فإذا لم تخض الحرب، لكان عقد الحلفاء السلام مع ألمانيا في ربيع 1917. فلو كان السلام خيارنا، لما كان الانهيار الذي حل بروسيا، والذي تلته الشيوعية، ولا كانت حلت الفاشية بإيطاليا، ولما أصبحت ألمانيا طرفًا في معاهدة فرساي التي عظمت من وجود النازية في ألمانيا».\n",
            "==============================\n",
            "Score 0.3211911916732788\n",
            "كانت تركيا منتجًا مهمًا للكروميت، وهو مكون رئيسي في صناعة الفولاذ المقاوم للصدأ والطوب المقاوم للصهر، وكان وصول ألمانيا إليه محدودًا. كانت القضية الرئيسية في مفاوضات تركيا مع كلا الجانبين هي بيع الكروميت لألمانيا أو للحلفاء. كان لدى الحلفاء إمكانية الوصول إلى مصادر أخرى واشتروا الكروميت بشكل أساسي من أجل منع بيعه إلى ألمانيا. أوقفت تركيا مبيعاتها لألمانيا في أبريل 1944 وقطعت العلاقات في أغسطس. أعلنت تركيا الحرب على دول المحور في فبراير 1945، بعد أن وجه الحلفاء دعوتهم للاجتماع الافتتاحي للأمم المتحدة (جنبًا إلى جنب مع دعوات من عدة دول أخرى) بشرط القتال الكامل. مع ذلك لم تشهد أي قوات تركية قتالًا على الإطلاق.\n",
            "==============================\n",
            "********************************************************************************\n",
            "********************************************************************************\n",
            "Text:\n",
            "اي الأطعمة اشهر في المانيا؟\n",
            ":::::\n",
            "Score 0.31899571418762207\n",
            "يرى جون هيك أنَّ أتباع الأديان الثلاثة يرون لأنفسهم حظوة خاصة عند الله، ليست لدى الآخرين، لكن، إذا كان كلُّ دين من هذه الأديان الثلاثة يرى نفسه الحقَّ المطلق والحقيقة المحضة، ألا يعني هذا أن يتحوَّل العالَم إلى جحيم لا يُطاق؟ يتابع هيك قائلا أنَّ هذه الأديان عبارة عن ظهورات وصور وتجليات لإله واحد؛ فلعلَّ الله تجلى لأفراد البشر بطرق متفاوتة وأنحاء مختلفة. إنَّ يهوه، والله، والأب السماوي للمسيحيين؛ كل واحد منهم يمثِّل شخصيَّة إلهيَّة تاريخيَّة في رأيه، وتمثِّل حصيلة مشتركة من الظهور الكلي للذات المقدَّسة مع تدخُّل القوة المُصَوِّرة للإنسان في ظروف تاريخيَّة خاصَّة.[18]\n",
            "==============================\n",
            "Score 0.2752039432525635\n",
            "قطاع الخدمات هو أكبر قطاع اقتصادي (68.8% من الناتج المحلي الإجمالي) يليه الصناعات التحويلية والبناء (26.9% من الناتج المحلي الإجمالي) ومن ثم الزراعة واستخراج المواد الخام (4.3% من الناتج المحلي الإجمالي).\n",
            "==============================\n",
            "********************************************************************************\n",
            "********************************************************************************\n",
            "Text:\n",
            "المانيا معاهدة المانيا حرب ألمانيا سلام ألمانيا ألمانيا\n",
            ":::::\n",
            "Score 0.5089221000671387\n",
            "«كان يجب على الولايات المتحدة أن تفكر مليًا في مصالحها، وألا تنخرط في الحرب العالمية الأولى. فإذا لم تخض الحرب، لكان عقد الحلفاء السلام مع ألمانيا في ربيع 1917. فلو كان السلام خيارنا، لما كان الانهيار الذي حل بروسيا، والذي تلته الشيوعية، ولا كانت حلت الفاشية بإيطاليا، ولما أصبحت ألمانيا طرفًا في معاهدة فرساي التي عظمت من وجود النازية في ألمانيا».\n",
            "==============================\n",
            "Score 0.36588814854621887\n",
            "كانت تركيا منتجًا مهمًا للكروميت، وهو مكون رئيسي في صناعة الفولاذ المقاوم للصدأ والطوب المقاوم للصهر، وكان وصول ألمانيا إليه محدودًا. كانت القضية الرئيسية في مفاوضات تركيا مع كلا الجانبين هي بيع الكروميت لألمانيا أو للحلفاء. كان لدى الحلفاء إمكانية الوصول إلى مصادر أخرى واشتروا الكروميت بشكل أساسي من أجل منع بيعه إلى ألمانيا. أوقفت تركيا مبيعاتها لألمانيا في أبريل 1944 وقطعت العلاقات في أغسطس. أعلنت تركيا الحرب على دول المحور في فبراير 1945، بعد أن وجه الحلفاء دعوتهم للاجتماع الافتتاحي للأمم المتحدة (جنبًا إلى جنب مع دعوات من عدة دول أخرى) بشرط القتال الكامل. مع ذلك لم تشهد أي قوات تركية قتالًا على الإطلاق.\n",
            "==============================\n",
            "********************************************************************************\n",
            "********************************************************************************\n"
          ]
        }
      ]
    },
    {
      "cell_type": "markdown",
      "source": [
        "### MTEB Top STS Leaderboard\n",
        "\n",
        "![image.png](data:image/png;base64,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)"
      ],
      "metadata": {
        "id": "Pm2BwJRTTZmz"
      }
    },
    {
      "cell_type": "code",
      "source": [],
      "metadata": {
        "id": "4drVMpxnTdqj"
      },
      "execution_count": null,
      "outputs": []
    }
  ]
}