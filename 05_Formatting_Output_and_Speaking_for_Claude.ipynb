{
  "cells": [
    {
      "cell_type": "markdown",
      "metadata": {
        "id": "view-in-github",
        "colab_type": "text"
      },
      "source": [
        "<a href=\"https://colab.research.google.com/github/SARA3SAEED/aws-ML/blob/main/05_Formatting_Output_and_Speaking_for_Claude.ipynb\" target=\"_parent\"><img src=\"https://colab.research.google.com/assets/colab-badge.svg\" alt=\"Open In Colab\"/></a>"
      ]
    },
    {
      "cell_type": "markdown",
      "metadata": {
        "id": "Xt1JQFeAKsYw"
      },
      "source": [
        "# Chapter 5: Formatting Output and Speaking for Claude\n",
        "\n",
        "- [Lesson](#lesson)\n",
        "- [Exercises](#exercises)\n",
        "- [Example Playground](#example-playground)\n",
        "\n",
        "## Setup\n",
        "\n",
        "Run the following setup cell to load your API key and establish the `get_completion` helper function."
      ]
    },
    {
      "cell_type": "code",
      "execution_count": null,
      "metadata": {
        "id": "5E3KQQ-yKsY0"
      },
      "outputs": [],
      "source": [
        "# Import python's built-in regular expression library\n",
        "import re\n",
        "import boto3\n",
        "from botocore.exceptions import ClientError\n",
        "import json\n",
        "\n",
        "# Import the hints module from the utils package\n",
        "from utils import hints\n",
        "\n",
        "# Retrieve the MODEL_NAME variable from the IPython store\n",
        "%store -r modelId\n",
        "%store -r region\n",
        "\n",
        "bedrock_client = boto3.client(service_name='bedrock-runtime', region_name=region)"
      ]
    },
    {
      "cell_type": "code",
      "execution_count": null,
      "metadata": {
        "id": "B4tS773oKsY2"
      },
      "outputs": [],
      "source": [
        "def get_completion(prompt, system_prompt=None, prefill=None):\n",
        "    inference_config = {\n",
        "        \"temperature\": 0.5,\n",
        "        \"maxTokens\": 200\n",
        "    }\n",
        "    converse_api_params = {\n",
        "        \"modelId\": modelId,\n",
        "        \"messages\": [{\"role\": \"user\", \"content\": [{\"text\": prompt}]}],\n",
        "        \"inferenceConfig\": inference_config\n",
        "    }\n",
        "    if system_prompt:\n",
        "        converse_api_params[\"system\"] = [{\"text\": system_prompt}]\n",
        "    if prefill:\n",
        "        converse_api_params[\"messages\"].append({\"role\": \"assistant\", \"content\": [{\"text\": prefill}]})\n",
        "    try:\n",
        "        response = bedrock_client.converse(**converse_api_params)\n",
        "        text_content = response['output']['message']['content'][0]['text']\n",
        "        return text_content\n",
        "\n",
        "    except ClientError as err:\n",
        "        message = err.response['Error']['Message']\n",
        "        print(f\"A client error occured: {message}\")"
      ]
    },
    {
      "cell_type": "markdown",
      "metadata": {
        "id": "F1QPzmrLKsY2"
      },
      "source": [
        "---\n",
        "\n",
        "## Lesson\n",
        "\n",
        "**Claude can format its output in a wide variety of ways**. You just need to ask for it to do so!\n",
        "\n",
        "One of these ways is by using XML tags to separate out the response from any other superfluous text. You've already learned that you can use XML tags to make your prompt clearer and more parseable to Claude. It turns out, you can also ask Claude to **use XML tags to make its output clearer and more easily understandable** to humans."
      ]
    },
    {
      "cell_type": "markdown",
      "metadata": {
        "id": "hkKeuZ1qKsY3"
      },
      "source": [
        "### Examples\n",
        "\n",
        "Remember the 'poem preamble problem' we solved in Chapter 2 by asking Claude to skip the preamble entirely? It turns out we can also achieve a similar outcome by **telling Claude to put the poem in XML tags**."
      ]
    },
    {
      "cell_type": "code",
      "execution_count": null,
      "metadata": {
        "id": "pkeZbIHAKsY3",
        "outputId": "c2b91664-a8ce-4328-9e1a-8ffa37661044"
      },
      "outputs": [
        {
          "name": "stdout",
          "output_type": "stream",
          "text": [
            "--------------------------- Full prompt with variable substutions ---------------------------\n",
            "Please write a haiku about Rabbit. Put it in <haiku> tags.\n",
            "\n",
            "------------------------------------- Claude's response -------------------------------------\n",
            "<haiku>\n",
            "Fluffy, twitching nose,\n",
            "Hopping through the meadow's grace,\n",
            "Rabbit's gentle pace.\n",
            "</haiku>\n"
          ]
        }
      ],
      "source": [
        "# Variable content\n",
        "ANIMAL = \"Rabbit\"\n",
        "\n",
        "# Prompt template with a placeholder for the variable content\n",
        "PROMPT = f\"Please write a haiku about {ANIMAL}. Put it in <haiku> tags.\"\n",
        "\n",
        "# Print Claude's response\n",
        "print(\"--------------------------- Full prompt with variable substutions ---------------------------\")\n",
        "print(PROMPT)\n",
        "print(\"\\n------------------------------------- Claude's response -------------------------------------\")\n",
        "print(get_completion(PROMPT))"
      ]
    },
    {
      "cell_type": "markdown",
      "metadata": {
        "id": "E4onM9WqKsY5"
      },
      "source": [
        "Why is this something we'd want to do? Well, having the output in **XML tags allows the end user to reliably get the poem and only the poem by writing a short program to extract the content between XML tags**.\n",
        "\n",
        "An extension of this technique is to **put the first XML tag in the `assistant` turn. When you put text in the `assistant` turn, you're basically telling Claude that Claude has already said something, and that it should continue from that point onward. This technique is called \"speaking for Claude\" or \"prefilling Claude's response.\"\n",
        "\n",
        "Below, we've done this with the first `<haiku>` XML tag. Notice how Claude continues directly from where we left off."
      ]
    },
    {
      "cell_type": "code",
      "execution_count": null,
      "metadata": {
        "id": "FcI2V401KsY5",
        "outputId": "fcb01469-37f7-4562-f635-8a8f4971b108"
      },
      "outputs": [
        {
          "name": "stdout",
          "output_type": "stream",
          "text": [
            "--------------------------- Full prompt with variable substutions ---------------------------\n",
            "USER TURN:\n",
            "Please write a haiku about Cat. Put it in <haiku> tags.\n",
            "\n",
            "ASSISTANT TURN:\n",
            "<haiku>\n",
            "\n",
            "------------------------------------- Claude's response -------------------------------------\n",
            "\n",
            "Feline grace and poise,\n",
            "Soft fur and purring delight,\n",
            "Cat, the household king.\n",
            "</haiku>\n"
          ]
        }
      ],
      "source": [
        "# Variable content\n",
        "ANIMAL = \"Cat\"\n",
        "\n",
        "# Prompt template with a placeholder for the variable content\n",
        "PROMPT = f\"Please write a haiku about {ANIMAL}. Put it in <haiku> tags.\"\n",
        "\n",
        "# Prefill for Claude's response\n",
        "PREFILL = \"<haiku>\"\n",
        "\n",
        "# Print Claude's response\n",
        "print(\"--------------------------- Full prompt with variable substutions ---------------------------\")\n",
        "print(\"USER TURN:\")\n",
        "print(PROMPT)\n",
        "print(\"\\nASSISTANT TURN:\")\n",
        "print(PREFILL)\n",
        "print(\"\\n------------------------------------- Claude's response -------------------------------------\")\n",
        "print(get_completion(PROMPT, prefill=PREFILL))"
      ]
    },
    {
      "cell_type": "markdown",
      "metadata": {
        "id": "LS26-x-3KsY6"
      },
      "source": [
        "Claude also excels at using other output formatting styles, notably `JSON`. If you want to enforce JSON output (not deterministically, but close to it), you can also prefill Claude's response with the opening bracket, `{`}."
      ]
    },
    {
      "cell_type": "code",
      "execution_count": null,
      "metadata": {
        "id": "u6YMMIilKsY6",
        "outputId": "ec5268bd-8e1c-4286-ec8e-cbdbf2a07cd4"
      },
      "outputs": [
        {
          "name": "stdout",
          "output_type": "stream",
          "text": [
            "--------------------------- Full prompt with variable substutions ---------------------------\n",
            "USER TURN\n",
            "Please write a haiku about Cat. Use JSON format with the keys as \"first_line\", \"second_line\", and \"third_line\".\n",
            "\n",
            "ASSISTANT TURN\n",
            "{\n",
            "\n",
            "------------------------------------- Claude's response -------------------------------------\n",
            "\n",
            "  \"first_line\": \"Feline grace and poise,\",\n",
            "  \"second_line\": \"Purring softly by my side,\",\n",
            "  \"third_line\": \"Cat, my gentle friend.\"\n",
            "}\n"
          ]
        }
      ],
      "source": [
        "# Variable content\n",
        "ANIMAL = \"Cat\"\n",
        "\n",
        "# Prompt template with a placeholder for the variable content\n",
        "PROMPT = f\"Please write a haiku about {ANIMAL}. Use JSON format with the keys as \\\"first_line\\\", \\\"second_line\\\", and \\\"third_line\\\".\"\n",
        "\n",
        "# Prefill for Claude's response\n",
        "PREFILL = \"{\"\n",
        "\n",
        "# Print Claude's response\n",
        "print(\"--------------------------- Full prompt with variable substutions ---------------------------\")\n",
        "print(\"USER TURN\")\n",
        "print(PROMPT)\n",
        "print(\"\\nASSISTANT TURN\")\n",
        "print(PREFILL)\n",
        "print(\"\\n------------------------------------- Claude's response -------------------------------------\")\n",
        "print(get_completion(PROMPT, prefill=PREFILL))"
      ]
    },
    {
      "cell_type": "markdown",
      "metadata": {
        "id": "mcghwdUAKsY7"
      },
      "source": [
        "Below is an example of **multiple input variables in the same prompt AND output formatting specification, all done using XML tags**."
      ]
    },
    {
      "cell_type": "code",
      "execution_count": null,
      "metadata": {
        "id": "x_uWDUJXKsY7",
        "outputId": "9765d088-092e-4cc3-9cec-2e49d146364a"
      },
      "outputs": [
        {
          "name": "stdout",
          "output_type": "stream",
          "text": [
            "--------------------------- Full prompt with variable substutions ---------------------------\n",
            "USER TURN\n",
            "Hey Claude. Here is an email: <email>Hi Zack, just pinging you for a quick update on that prompt you were supposed to write.</email>. Make this email more olde english. Write the new version in <olde english_email> XML tags.\n",
            "\n",
            "ASSISTANT TURN\n",
            "<olde english_email>\n",
            "\n",
            "------------------------------------- Claude's response -------------------------------------\n",
            "\n",
            "Dearest Zack,\n",
            "\n",
            "I do humbly beseech thee for a swift update on the prompt which thou wast charged to compose. Pray, let me know the progress of this matter with all due haste.\n",
            "\n",
            "Yours most sincerely,\n",
            "</olde english_email>\n"
          ]
        }
      ],
      "source": [
        "# First input variable\n",
        "EMAIL = \"Hi Zack, just pinging you for a quick update on that prompt you were supposed to write.\"\n",
        "\n",
        "# Second input variable\n",
        "ADJECTIVE = \"olde english\"\n",
        "\n",
        "# Prompt template with a placeholder for the variable content\n",
        "PROMPT = f\"Hey Claude. Here is an email: <email>{EMAIL}</email>. Make this email more {ADJECTIVE}. Write the new version in <{ADJECTIVE}_email> XML tags.\"\n",
        "\n",
        "# Prefill for Claude's response (now as an f-string with a variable)\n",
        "PREFILL = f\"<{ADJECTIVE}_email>\"\n",
        "\n",
        "# Print Claude's response\n",
        "print(\"--------------------------- Full prompt with variable substutions ---------------------------\")\n",
        "print(\"USER TURN\")\n",
        "print(PROMPT)\n",
        "print(\"\\nASSISTANT TURN\")\n",
        "print(PREFILL)\n",
        "print(\"\\n------------------------------------- Claude's response -------------------------------------\")\n",
        "print(get_completion(PROMPT, prefill=PREFILL))"
      ]
    },
    {
      "cell_type": "markdown",
      "metadata": {
        "id": "mr2TmYjkKsY7"
      },
      "source": [
        "#### Bonus lesson\n",
        "\n",
        "If you are calling Claude through the API, you can pass the closing XML tag to the `stop_sequences` parameter to get Claude to stop sampling once it emits your desired tag. This can save money and time-to-last-token by eliminating Claude's concluding remarks after it's already given you the answer you care about.\n",
        "\n",
        "If you would like to experiment with the lesson prompts without changing any content above, scroll all the way to the bottom of the lesson notebook to visit the [**Example Playground**](#example-playground)."
      ]
    },
    {
      "cell_type": "markdown",
      "metadata": {
        "id": "bhYptkJLKsY8"
      },
      "source": [
        "---\n",
        "\n",
        "## Exercises\n",
        "- [Exercise 5.1 - Steph Curry GOAT](#exercise-51---steph-curry-goat)\n",
        "- [Exercise 5.2 - Two Haikus](#exercise-52---two-haikus)\n",
        "- [Exercise 5.3 - Two Haikus, Two Animals](#exercise-53---two-haikus-two-animals)"
      ]
    },
    {
      "cell_type": "markdown",
      "metadata": {
        "id": "HCl4GtWNKsY8"
      },
      "source": [
        "### Exercise 5.1 - Steph Curry GOAT\n",
        "Forced to make a choice, Claude designates Michael Jordan as the best basketball player of all time. Can we get Claude to pick someone else?\n",
        "\n",
        "Change the `PREFILL` variable to **compell Claude to make a detailed argument that the best basketball player of all time is Stephen Curry**. Try not to change anything except `PREFILL` as that is the focus of this exercise."
      ]
    },
    {
      "cell_type": "code",
      "execution_count": null,
      "metadata": {
        "id": "nmNGMQt_KsY8",
        "outputId": "04106c82-91a1-4496-e6e1-c1488ef33195"
      },
      "outputs": [
        {
          "name": "stdout",
          "output_type": "stream",
          "text": [
            "--------------------------- Full prompt with variable substutions ---------------------------\n",
            "USER TURN\n",
            "Who is the best basketball player of all time? Please choose one specific player.\n",
            "\n",
            "ASSISTANT TURN\n",
            "\n",
            "\n",
            "------------------------------------- Claude's response -------------------------------------\n",
            "There is no universally agreed upon \"best basketball player of all time\", as it is a highly subjective and debatable topic. However, many basketball experts and fans consider Michael Jordan to be the greatest player of all time.\n",
            "\n",
            "Michael Jordan is widely regarded as one of the most dominant and influential players in the history of the NBA. Some of the key reasons why he is often considered the GOAT (Greatest of All Time) include:\n",
            "\n",
            "- Unparalleled scoring ability and clutch performances - Jordan was a prolific scorer who averaged 30.1 points per game over his career, including several seasons averaging over 30 points. He hit numerous game-winning shots in big moments.\n",
            "\n",
            "- Defensive prowess - Jordan was a tenacious defender who was named to the NBA All-Defensive First Team nine times. He was known for his ability to shut down opposing players.\n",
            "\n",
            "- Championship pedigree - Jordan led the Chicago Bulls to \n",
            "\n",
            "------------------------------------------ GRADING ------------------------------------------\n",
            "This exercise has been correctly solved: False\n"
          ]
        }
      ],
      "source": [
        "# Prompt template with a placeholder for the variable content\n",
        "PROMPT = f\"Who is the best basketball player of all time? Please choose one specific player.\"\n",
        "\n",
        "# Prefill for Claude's response\n",
        "PREFILL = \"\"\n",
        "\n",
        "# Get Claude's response\n",
        "response = get_completion(PROMPT, prefill=PREFILL)\n",
        "\n",
        "# Function to grade exercise correctness\n",
        "def grade_exercise(text):\n",
        "    return bool(re.search(\"Warrior\", text))\n",
        "\n",
        "# Print Claude's response\n",
        "print(\"--------------------------- Full prompt with variable substutions ---------------------------\")\n",
        "print(\"USER TURN\")\n",
        "print(PROMPT)\n",
        "print(\"\\nASSISTANT TURN\")\n",
        "print(PREFILL)\n",
        "print(\"\\n------------------------------------- Claude's response -------------------------------------\")\n",
        "print(response)\n",
        "print(\"\\n------------------------------------------ GRADING ------------------------------------------\")\n",
        "print(\"This exercise has been correctly solved:\", grade_exercise(response))"
      ]
    },
    {
      "cell_type": "markdown",
      "metadata": {
        "id": "rMghzzx_KsY8"
      },
      "source": [
        "❓ If you want a hint, run the cell below!"
      ]
    },
    {
      "cell_type": "code",
      "execution_count": null,
      "metadata": {
        "id": "u_iMkNITKsY9",
        "outputId": "65f60904-6dd6-4748-e847-d818aa841e7a"
      },
      "outputs": [
        {
          "name": "stdout",
          "output_type": "stream",
          "text": [
            "The grading function for this exercise is looking for a response that includes the word \"Warrior\".\n",
            "Write more words in Claude's voice to steer Claude to act the way you want it to. For instance, instead of \"Stephen Curry is the best because,\" you could write \"Stephen Curry is the best and here are three reasons why. 1:\n"
          ]
        }
      ],
      "source": [
        "print(hints.exercise_5_1_hint)"
      ]
    },
    {
      "cell_type": "markdown",
      "metadata": {
        "id": "pJ_dTAzSKsY9"
      },
      "source": [
        "### Exercise 5.2 - Two Haikus\n",
        "Modify the `PROMPT` below using XML tags so that Claude writes two haikus about the animal instead of just one. It should be clear where one poem ends and the other begins."
      ]
    },
    {
      "cell_type": "code",
      "execution_count": null,
      "metadata": {
        "id": "Kj85V4--KsY9",
        "outputId": "5b77a6e5-364a-42bd-862a-d84f405a3cdf"
      },
      "outputs": [
        {
          "name": "stdout",
          "output_type": "stream",
          "text": [
            "--------------------------- Full prompt with variable substutions ---------------------------\n",
            "USER TURN\n",
            "Please write  haiku(s) about . Put each haiku(s) in  tags.\n",
            "\n",
            "ASSISTANT TURN\n",
            "\n",
            "\n",
            "------------------------------------- Claude's response -------------------------------------\n",
            "Here are some haikus about nature:\n",
            "\n",
            "<haiku>\n",
            "Gentle breeze whispers,\n",
            "Flowers bloom in vibrant hues,\n",
            "Nature's symphony.\n",
            "</haiku>\n",
            "\n",
            "<haiku>\n",
            "Towering mountains,\n",
            "Majestic peaks touch the sky,\n",
            "Awe-inspiring sight.\n",
            "</haiku>\n",
            "\n",
            "<haiku>\n",
            "Babbling brook meanders,\n",
            "Reflecting the azure sky,\n",
            "Peaceful solitude.\n",
            "</haiku>\n",
            "\n",
            "------------------------------------------ GRADING ------------------------------------------\n",
            "This exercise has been correctly solved: False\n"
          ]
        }
      ],
      "source": [
        "# Variable content\n",
        "ANIMAL = \"\"\n",
        "\n",
        "# number of haikus\n",
        "NUMBER = \"\"\n",
        "\n",
        "# Prefill for Claude's response\n",
        "PREFILL = \"\"\n",
        "\n",
        "# Prompt template with a placeholder for the variable content\n",
        "PROMPT = f\"Please write {NUMBER} haiku(s) about {ANIMAL}. Put each haiku(s) in {PREFILL} tags.\"\n",
        "\n",
        "# Get Claude's response\n",
        "response = get_completion(PROMPT, prefill=PREFILL)\n",
        "\n",
        "# Function to grade exercise correctness\n",
        "def grade_exercise(text):\n",
        "    return bool(\n",
        "        (re.search(\"cat\", text.lower()) and re.search(\"<haiku>\", text))\n",
        "        and (text.count(\"\\n\") + 1) > 5\n",
        "    )\n",
        "\n",
        "# Print Claude's response\n",
        "print(\"--------------------------- Full prompt with variable substutions ---------------------------\")\n",
        "print(\"USER TURN\")\n",
        "print(PROMPT)\n",
        "print(\"\\nASSISTANT TURN\")\n",
        "print(PREFILL)\n",
        "print(\"\\n------------------------------------- Claude's response -------------------------------------\")\n",
        "print(response)\n",
        "print(\"\\n------------------------------------------ GRADING ------------------------------------------\")\n",
        "print(\"This exercise has been correctly solved:\", grade_exercise(response))"
      ]
    },
    {
      "cell_type": "markdown",
      "metadata": {
        "id": "jyHvznx3KsY-"
      },
      "source": [
        "❓ If you want a hint, run the cell below!"
      ]
    },
    {
      "cell_type": "code",
      "execution_count": null,
      "metadata": {
        "id": "Nm39hfFjKsY-",
        "outputId": "d0280970-2385-4dc1-fefe-e3ee8a2e4023"
      },
      "outputs": [
        {
          "name": "stdout",
          "output_type": "stream",
          "text": [
            "The grading function looks for a response of over 5 lines in length that includes the words \"cat\" and \"<haiku>\".\n",
            "Start simple. Currently, the prompt asks Claude for one haiku. You can change that and ask for two (or even more). Then if you run into formatting issues, change your prompt to fix that after you've already gotten Claude to write more than one haiku.\n"
          ]
        }
      ],
      "source": [
        "print(hints.exercise_5_2_hint)"
      ]
    },
    {
      "cell_type": "markdown",
      "metadata": {
        "id": "kxBq8emuKsY-"
      },
      "source": [
        "### Exercise 5.3 - Two Haikus, Two Animals\n",
        "Modify the `PROMPT` below so that **Claude produces two haikus about two different animals**. Use `{ANIMAL1}` as a stand-in for the first substitution, and `{ANIMAL2}` as a stand-in for the second substitution."
      ]
    },
    {
      "cell_type": "code",
      "execution_count": null,
      "metadata": {
        "id": "2m_pPAY0KsY_",
        "outputId": "c46e35e9-4174-427a-fc38-f305407e8ff1"
      },
      "outputs": [
        {
          "name": "stdout",
          "output_type": "stream",
          "text": [
            "--------------------------- Full prompt with variable substutions ---------------------------\n",
            "USER TURN\n",
            "Please write a haiku about Cat. Put it in <haiku> tags.\n",
            "\n",
            "------------------------------------- Claude's response -------------------------------------\n",
            "<haiku>\n",
            "Feline grace and poise,\n",
            "Purring softly in the sun,\n",
            "Mysterious cat.\n",
            "</haiku>\n",
            "\n",
            "------------------------------------------ GRADING ------------------------------------------\n",
            "This exercise has been correctly solved: False\n"
          ]
        }
      ],
      "source": [
        "# First input variable\n",
        "ANIMAL1 = \"Cat\"\n",
        "\n",
        "# Second input variable\n",
        "ANIMAL2 = \"Dog\"\n",
        "\n",
        "# number of haikus\n",
        "NUMBER = \"two\"\n",
        "\n",
        "# Prompt template with a placeholder for the variable content\n",
        "PROMPT = f\"Please write a haiku about {ANIMAL1}. Put it in <haiku> tags.\"\n",
        "\n",
        "# Get Claude's response\n",
        "response = get_completion(PROMPT)\n",
        "\n",
        "# Function to grade exercise correctness\n",
        "def grade_exercise(text):\n",
        "    return bool(re.search(\"tail\", text.lower()) and re.search(\"cat\", text.lower()) and re.search(\"<haiku>\", text))\n",
        "\n",
        "# Print Claude's response\n",
        "print(\"--------------------------- Full prompt with variable substutions ---------------------------\")\n",
        "print(\"USER TURN\")\n",
        "print(PROMPT)\n",
        "print(\"\\n------------------------------------- Claude's response -------------------------------------\")\n",
        "print(response)\n",
        "print(\"\\n------------------------------------------ GRADING ------------------------------------------\")\n",
        "print(\"This exercise has been correctly solved:\", grade_exercise(response))"
      ]
    },
    {
      "cell_type": "markdown",
      "metadata": {
        "id": "opKlTEo8KsY_"
      },
      "source": [
        "❓ If you want a hint, run the cell below!"
      ]
    },
    {
      "cell_type": "code",
      "execution_count": null,
      "metadata": {
        "id": "jO6Tdw9_KsY_",
        "outputId": "15f1d617-a75d-4c53-c6da-a9d3ca4b83c5"
      },
      "outputs": [
        {
          "name": "stdout",
          "output_type": "stream",
          "text": [
            "The grading function in this exercise is looking for a response that contains the words \"tail\", \"cat\", and \"<haiku>\".\n",
            "It's helpful to break this exercise down to several steps.\t\t\t\t\t\t\t\t\n",
            "1.\tModify the initial prompt template so that Claude writes two poems.\t\t\t\t\t\t\t\n",
            "2.\tGive Claude indicators as to what the poems will be about, but instead of writing in the subjects directly (e.g., dog, cat, etc.), replace those subjects with the keywords \"{ANIMAL1}\" and \"{ANIMAL2}\".\t\t\t\t\t\t\t\n",
            "3.\tRun the prompt and make sure that the full prompt with variable substitutions has all the words correctly substituted. If not, check to make sure your {bracket} tags are spelled correctly and formatted correctly with f-string brackets.\n"
          ]
        }
      ],
      "source": [
        "print(hints.exercise_5_3_hint)"
      ]
    },
    {
      "cell_type": "markdown",
      "metadata": {
        "id": "Yq9zzSwvKsY_"
      },
      "source": [
        "### Congrats!\n",
        "\n",
        "If you've solved all exercises up until this point, you're ready to move to the next chapter. Happy prompting!"
      ]
    },
    {
      "cell_type": "markdown",
      "metadata": {
        "id": "f_6pwfGLKsZA"
      },
      "source": [
        "---\n",
        "\n",
        "## Example Playground\n",
        "\n",
        "This is an area for you to experiment freely with the prompt examples shown in this lesson and tweak prompts to see how it may affect Claude's responses."
      ]
    },
    {
      "cell_type": "code",
      "execution_count": null,
      "metadata": {
        "id": "NKLGKPynKsZA",
        "outputId": "d041bedb-a8ea-426f-add0-1a226135e733"
      },
      "outputs": [
        {
          "name": "stdout",
          "output_type": "stream",
          "text": [
            "--------------------------- Full prompt with variable substutions ---------------------------\n",
            "Please write a haiku about Rabbit. Put it in <haiku> tags.\n",
            "\n",
            "------------------------------------- Claude's response -------------------------------------\n",
            "<haiku>\n",
            "Hopping through the field,\n",
            "Twitching nose and fluffy tail,\n",
            "Rabbit's gentle grace.\n",
            "</haiku>\n"
          ]
        }
      ],
      "source": [
        "# Variable content\n",
        "ANIMAL = \"Rabbit\"\n",
        "\n",
        "# Prompt template with a placeholder for the variable content\n",
        "PROMPT = f\"Please write a haiku about {ANIMAL}. Put it in <haiku> tags.\"\n",
        "\n",
        "# Print Claude's response\n",
        "print(\"--------------------------- Full prompt with variable substutions ---------------------------\")\n",
        "print(PROMPT)\n",
        "print(\"\\n------------------------------------- Claude's response -------------------------------------\")\n",
        "print(get_completion(PROMPT))"
      ]
    },
    {
      "cell_type": "code",
      "execution_count": null,
      "metadata": {
        "id": "d6na_sGKKsZA",
        "outputId": "64303baf-ae18-4950-b462-0d64525afa73"
      },
      "outputs": [
        {
          "name": "stdout",
          "output_type": "stream",
          "text": [
            "--------------------------- Full prompt with variable substutions ---------------------------\n",
            "USER TURN:\n",
            "Please write a haiku about Cat. Put it in <haiku> tags.\n",
            "\n",
            "ASSISTANT TURN:\n",
            "<haiku>\n",
            "\n",
            "------------------------------------- Claude's response -------------------------------------\n",
            "\n",
            "Feline grace and poise,\n",
            "Soft fur and gentle purring,\n",
            "Cat, a precious friend.\n",
            "</haiku>\n"
          ]
        }
      ],
      "source": [
        "# Variable content\n",
        "ANIMAL = \"Cat\"\n",
        "\n",
        "# Prompt template with a placeholder for the variable content\n",
        "PROMPT = f\"Please write a haiku about {ANIMAL}. Put it in <haiku> tags.\"\n",
        "\n",
        "# Prefill for Claude's response\n",
        "PREFILL = \"<haiku>\"\n",
        "\n",
        "# Print Claude's response\n",
        "print(\"--------------------------- Full prompt with variable substutions ---------------------------\")\n",
        "print(\"USER TURN:\")\n",
        "print(PROMPT)\n",
        "print(\"\\nASSISTANT TURN:\")\n",
        "print(PREFILL)\n",
        "print(\"\\n------------------------------------- Claude's response -------------------------------------\")\n",
        "print(get_completion(PROMPT, prefill=PREFILL))"
      ]
    },
    {
      "cell_type": "code",
      "execution_count": null,
      "metadata": {
        "id": "vvceEHQJKsZB",
        "outputId": "3d74d895-4474-42b1-dafa-f6683dd52f5c"
      },
      "outputs": [
        {
          "name": "stdout",
          "output_type": "stream",
          "text": [
            "--------------------------- Full prompt with variable substutions ---------------------------\n",
            "USER TURN\n",
            "Please write a haiku about Cat. Use JSON format with the keys as \"first_line\", \"second_line\", and \"third_line\".\n",
            "\n",
            "ASSISTANT TURN\n",
            "{\n",
            "\n",
            "------------------------------------- Claude's response -------------------------------------\n",
            "\n",
            "  \"first_line\": \"Feline grace and poise,\",\n",
            "  \"second_line\": \"Purring softly by my side,\",\n",
            "  \"third_line\": \"Captivating cat.\"\n",
            "}\n"
          ]
        }
      ],
      "source": [
        "# Variable content\n",
        "ANIMAL = \"Cat\"\n",
        "\n",
        "# Prompt template with a placeholder for the variable content\n",
        "PROMPT = f\"Please write a haiku about {ANIMAL}. Use JSON format with the keys as \\\"first_line\\\", \\\"second_line\\\", and \\\"third_line\\\".\"\n",
        "\n",
        "# Prefill for Claude's response\n",
        "PREFILL = \"{\"\n",
        "\n",
        "# Print Claude's response\n",
        "print(\"--------------------------- Full prompt with variable substutions ---------------------------\")\n",
        "print(\"USER TURN\")\n",
        "print(PROMPT)\n",
        "print(\"\\nASSISTANT TURN\")\n",
        "print(PREFILL)\n",
        "print(\"\\n------------------------------------- Claude's response -------------------------------------\")\n",
        "print(get_completion(PROMPT, prefill=PREFILL))"
      ]
    },
    {
      "cell_type": "code",
      "execution_count": null,
      "metadata": {
        "tags": [],
        "id": "5H5I27dWKsZB",
        "outputId": "a94959a3-9b5e-4674-f38a-06e1e60b93da"
      },
      "outputs": [
        {
          "name": "stdout",
          "output_type": "stream",
          "text": [
            "--------------------------- Full prompt with variable substutions ---------------------------\n",
            "USER TURN\n",
            "Hey Claude. Here is an email: <email>Hi Zack, just pinging you for a quick update on that prompt you were supposed to write.</email>. Make this email more olde english. Write the new version in <olde english_email> XML tags.\n",
            "\n",
            "ASSISTANT TURN\n",
            "<olde english_email>\n",
            "\n",
            "------------------------------------- Claude's response -------------------------------------\n",
            "\n",
            "Dearest Zack,\n",
            "\n",
            "I do hope this missive finds thee well. I write to inquire upon the progress of that prompt which thou wast charged to compose. Pray, provide me with a swift update, that I may be apprised of the state of thine endeavors.\n",
            "\n",
            "Yours most sincerely,\n",
            "</olde english_email>\n"
          ]
        }
      ],
      "source": [
        "# First input variable\n",
        "EMAIL = \"Hi Zack, just pinging you for a quick update on that prompt you were supposed to write.\"\n",
        "\n",
        "# Second input variable\n",
        "ADJECTIVE = \"olde english\"\n",
        "\n",
        "# Prompt template with a placeholder for the variable content\n",
        "PROMPT = f\"Hey Claude. Here is an email: <email>{EMAIL}</email>. Make this email more {ADJECTIVE}. Write the new version in <{ADJECTIVE}_email> XML tags.\"\n",
        "\n",
        "# Prefill for Claude's response (now as an f-string with a variable)\n",
        "PREFILL = f\"<{ADJECTIVE}_email>\"\n",
        "\n",
        "# Print Claude's response\n",
        "print(\"--------------------------- Full prompt with variable substutions ---------------------------\")\n",
        "print(\"USER TURN\")\n",
        "print(PROMPT)\n",
        "print(\"\\nASSISTANT TURN\")\n",
        "print(PREFILL)\n",
        "print(\"\\n------------------------------------- Claude's response -------------------------------------\")\n",
        "print(get_completion(PROMPT, prefill=PREFILL))"
      ]
    },
    {
      "cell_type": "code",
      "execution_count": null,
      "metadata": {
        "id": "qfSlzENJKsZC"
      },
      "outputs": [],
      "source": []
    }
  ],
  "metadata": {
    "kernelspec": {
      "display_name": "conda_tensorflow2_p310",
      "language": "python",
      "name": "conda_tensorflow2_p310"
    },
    "language_info": {
      "codemirror_mode": {
        "name": "ipython",
        "version": 3
      },
      "file_extension": ".py",
      "mimetype": "text/x-python",
      "name": "python",
      "nbconvert_exporter": "python",
      "pygments_lexer": "ipython3",
      "version": "3.10.14"
    },
    "colab": {
      "provenance": [],
      "include_colab_link": true
    }
  },
  "nbformat": 4,
  "nbformat_minor": 0
}