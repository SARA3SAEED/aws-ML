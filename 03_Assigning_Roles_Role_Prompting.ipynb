{
  "cells": [
    {
      "cell_type": "markdown",
      "metadata": {
        "id": "view-in-github",
        "colab_type": "text"
      },
      "source": [
        "<a href=\"https://colab.research.google.com/github/SARA3SAEED/aws-ML/blob/main/03_Assigning_Roles_Role_Prompting.ipynb\" target=\"_parent\"><img src=\"https://colab.research.google.com/assets/colab-badge.svg\" alt=\"Open In Colab\"/></a>"
      ]
    },
    {
      "cell_type": "markdown",
      "metadata": {
        "id": "xEhfGPzYDvJC"
      },
      "source": [
        "# Chapter 3: Assigning Roles (Role Prompting)\n",
        "\n",
        "- [Lesson](#lesson)\n",
        "- [Exercises](#exercises)\n",
        "- [Example Playground](#example-playground)\n",
        "\n",
        "## Setup\n",
        "\n",
        "Run the following setup cell to load your API key and establish the `get_completion` helper function."
      ]
    },
    {
      "cell_type": "code",
      "execution_count": null,
      "metadata": {
        "tags": [],
        "id": "lHdI88HoDvJE"
      },
      "outputs": [],
      "source": [
        "# Import python's built-in regular expression library\n",
        "import re\n",
        "import boto3\n",
        "from botocore.exceptions import ClientError\n",
        "import json\n",
        "\n",
        "# Import the hints module from the utils package\n",
        "from utils import hints\n",
        "\n",
        "# Retrieve the MODEL_NAME variable from the IPython store\n",
        "%store -r modelId\n",
        "%store -r region\n",
        "\n",
        "bedrock_client = boto3.client(service_name='bedrock-runtime', region_name=region)"
      ]
    },
    {
      "cell_type": "code",
      "execution_count": null,
      "metadata": {
        "id": "-QutQGYuDvJG"
      },
      "outputs": [],
      "source": [
        "def get_completion(prompt, system_prompt=None):\n",
        "    inference_config = {\n",
        "        \"temperature\": 0.0,\n",
        "        \"maxTokens\": 500\n",
        "    }\n",
        "    converse_api_params = {\n",
        "        \"modelId\": modelId,\n",
        "        \"messages\": [{\"role\": \"user\", \"content\": [{\"text\": prompt}]}],\n",
        "        \"inferenceConfig\": inference_config\n",
        "    }\n",
        "    if system_prompt:\n",
        "        converse_api_params[\"system\"] = [{\"text\": system_prompt}]\n",
        "    try:\n",
        "        response = bedrock_client.converse(**converse_api_params)\n",
        "        text_content = response['output']['message']['content'][0]['text']\n",
        "        return text_content\n",
        "\n",
        "    except ClientError as err:\n",
        "        message = err.response['Error']['Message']\n",
        "        print(f\"A client error occured: {message}\")"
      ]
    },
    {
      "cell_type": "markdown",
      "metadata": {
        "id": "e441Iw1IDvJG"
      },
      "source": [
        "---\n",
        "\n",
        "## Lesson\n",
        "\n",
        "Continuing on the theme of Claude having no context aside from what you say, it's sometimes important to **prompt Claude to inhabit a specific role (including all necessary context)**. This is also known as role prompting. The more detail to the role context, the better.\n",
        "\n",
        "**Priming Claude with a role can improve Claude's performance** in a variety of fields, from writing to coding to summarizing. It's like how humans can sometimes be helped when told to \"think like a ______\". Role prompting can also change the style, tone, and manner of Claude's response.\n",
        "\n",
        "**Note:** Role prompting can happen either in the system prompt or as part of the User message turn."
      ]
    },
    {
      "cell_type": "markdown",
      "metadata": {
        "id": "a5t7qdzODvJH"
      },
      "source": [
        "### Examples\n",
        "\n",
        "In the example below, we see that without role prompting, Claude provides a **straightforward and non-stylized answer** when asked to give a single sentence perspective on skateboarding.\n",
        "\n",
        "However, when we prime Claude to inhabit the role of a cat, Claude's perspective changes, and thus **Claude's response tone, style, content adapts to the new role**.\n",
        "\n",
        "**Note:** A bonus technique you can use is to **provide Claude context on its intended audience**. Below, we could have tweaked the prompt to also tell Claude whom it should be speaking to. \"You are a cat\" produces quite a different response than \"you are a cat talking to a crowd of skateboarders.\n",
        "\n",
        "Here is the prompt without role prompting in the system prompt:"
      ]
    },
    {
      "cell_type": "code",
      "execution_count": null,
      "metadata": {
        "id": "3664QdcgDvJI",
        "outputId": "3c3d47ff-b096-4d09-df90-60937152d46e"
      },
      "outputs": [
        {
          "name": "stdout",
          "output_type": "stream",
          "text": [
            "Skateboarding is an exhilarating and creative form of self-expression that combines athleticism, artistry, and a unique sense of freedom and community.\n"
          ]
        }
      ],
      "source": [
        "# Prompt\n",
        "PROMPT = \"In one sentence, what do you think about skateboarding?\"\n",
        "\n",
        "# Print Claude's response\n",
        "print(get_completion(PROMPT))"
      ]
    },
    {
      "cell_type": "markdown",
      "metadata": {
        "id": "dXIEIbQYDvJJ"
      },
      "source": [
        "Here is the same user question, except with role prompting."
      ]
    },
    {
      "cell_type": "code",
      "execution_count": null,
      "metadata": {
        "id": "6BAb8wKzDvJJ",
        "outputId": "24ce6256-81da-47d1-f1ee-5d5e62b8b8a5"
      },
      "outputs": [
        {
          "name": "stdout",
          "output_type": "stream",
          "text": [
            "*meows* Skateboarding looks like a fun way for humans to zoom around on four wheels while balancing precariously, though I much prefer chasing after feathers and napping in sunbeams.\n"
          ]
        }
      ],
      "source": [
        "# System prompt\n",
        "SYSTEM_PROMPT = \"You are a cat.\"\n",
        "\n",
        "# Prompt\n",
        "PROMPT = \"In one sentence, what do you think about skateboarding?\"\n",
        "\n",
        "# Print Claude's response\n",
        "print(get_completion(PROMPT, SYSTEM_PROMPT))"
      ]
    },
    {
      "cell_type": "markdown",
      "metadata": {
        "id": "Zt-CB53bDvJK"
      },
      "source": [
        "You can use role prompting as a way to get Claude to emulate certain styles in writing, speak in a certain voice, or guide the complexity of its answers. **Role prompting can also make Claude better at performing math or logic tasks.**\n",
        "\n",
        "For example, in the example below, there is a definitive correct answer, which is yes. However, Claude gets it wrong and thinks it lacks information, which it doesn't:"
      ]
    },
    {
      "cell_type": "code",
      "execution_count": null,
      "metadata": {
        "id": "abE_7x62DvJK",
        "outputId": "74df74ae-ba03-4862-f0c3-ad784fce738b"
      },
      "outputs": [
        {
          "name": "stdout",
          "output_type": "stream",
          "text": [
            "To solve this problem, we need to analyze the given information and determine if a married person is looking at an unmarried person.\n",
            "\n",
            "Given information:\n",
            "- Jack is looking at Anne.\n",
            "- Anne is looking at George.\n",
            "- Jack is married.\n",
            "- George is not married.\n",
            "- We don't know if Anne is married or not.\n",
            "\n",
            "To determine if a married person is looking at an unmarried person, we need to identify the relationship between the people involved.\n",
            "\n",
            "1. Jack is a married person, and he is looking at Anne.\n",
            "2. We don't know if Anne is married or not, so we cannot conclude whether a married person is looking at an unmarried person in this case.\n",
            "\n",
            "However, we can say that a married person (Jack) is looking at a person (Anne) whose marital status is unknown.\n",
            "\n",
            "Therefore, the answer is: We cannot conclude whether a married person is looking at an unmarried person based on the given information, as we don't know Anne's marital status.\n"
          ]
        }
      ],
      "source": [
        "# Prompt\n",
        "PROMPT = \"Jack is looking at Anne. Anne is looking at George. Jack is married, George is not, and we don’t know if Anne is married. Is a married person looking at an unmarried person?\"\n",
        "\n",
        "# Print Claude's response\n",
        "print(get_completion(PROMPT))"
      ]
    },
    {
      "cell_type": "markdown",
      "metadata": {
        "id": "Tem-_blKDvJL"
      },
      "source": [
        "Now, what if we **prime Claude to act as a logic bot**? How will that change Claude's answer?\n",
        "\n",
        "It turns out that with this new role assignment, Claude gets it right. (Although notably not for all the right reasons)"
      ]
    },
    {
      "cell_type": "code",
      "execution_count": null,
      "metadata": {
        "id": "dVAA6rNsDvJL",
        "outputId": "4fddd1f0-14ee-4b9d-af10-6670cc810e94"
      },
      "outputs": [
        {
          "name": "stdout",
          "output_type": "stream",
          "text": [
            "To solve this problem, we need to analyze the given information and determine the relationship between the people.\n",
            "\n",
            "Given information:\n",
            "- Jack is looking at Anne.\n",
            "- Anne is looking at George.\n",
            "- Jack is married.\n",
            "- George is not married.\n",
            "- We don't know if Anne is married.\n",
            "\n",
            "To determine if a married person is looking at an unmarried person, we need to identify the marital status of the people involved in the scenario.\n",
            "\n",
            "We know that:\n",
            "- Jack is married.\n",
            "- George is not married.\n",
            "\n",
            "Since Anne's marital status is unknown, we cannot definitively conclude whether a married person is looking at an unmarried person.\n",
            "\n",
            "However, we can make the following observations:\n",
            "- Jack, who is married, is looking at Anne, whose marital status is unknown.\n",
            "- Anne, whose marital status is unknown, is looking at George, who is not married.\n",
            "\n",
            "Therefore, based on the given information, it is possible that a married person (Jack) is looking at an unmarried person (George), but we cannot say this with certainty due to the unknown marital status of Anne.\n"
          ]
        }
      ],
      "source": [
        "# System prompt\n",
        "SYSTEM_PROMPT = \"You are a logic bot designed to answer complex logic problems.\"\n",
        "\n",
        "# Prompt\n",
        "PROMPT = \"Jack is looking at Anne. Anne is looking at George. Jack is married, George is not, and we don’t know if Anne is married. Is a married person looking at an unmarried person?\"\n",
        "\n",
        "# Print Claude's response\n",
        "print(get_completion(PROMPT, SYSTEM_PROMPT))"
      ]
    },
    {
      "cell_type": "markdown",
      "metadata": {
        "id": "xltofHiaDvJM"
      },
      "source": [
        "**Note:** What you'll learn throughout this course is that there are **many prompt engineering techniques you can use to derive similar results**. Which techniques you use is up to you and your preference! We encourage you to **experiment to find your own prompt engineering style**.\n",
        "\n",
        "If you would like to experiment with the lesson prompts without changing any content above, scroll all the way to the bottom of the lesson notebook to visit the [**Example Playground**](#example-playground)."
      ]
    },
    {
      "cell_type": "markdown",
      "metadata": {
        "id": "UCiTw921DvJM"
      },
      "source": [
        "---\n",
        "\n",
        "## Exercises\n",
        "- [Exercise 3.1 - Math Correction](#exercise-31---math-correction)"
      ]
    },
    {
      "cell_type": "markdown",
      "metadata": {
        "id": "odzarOSJDvJM"
      },
      "source": [
        "### Exercise 3.1 - Math Correction\n",
        "In some instances, **Claude may struggle with mathematics**, even simple mathematics. Below, Claude incorrectly assesses the math problem as correctly solved, even though there's an obvious arithmetic mistake in the second step. Note that Claude actually catches the mistake when going through step-by-step, but doesn't jump to the conclusion that the overall solution is wrong.\n",
        "\n",
        "Modify the `PROMPT` and / or the `SYSTEM_PROMPT` to make Claude grade the solution as `incorrectly` solved, rather than correctly solved.\n"
      ]
    },
    {
      "cell_type": "code",
      "execution_count": null,
      "metadata": {
        "id": "fDkgvTukDvJM",
        "outputId": "1989d3aa-ad4d-4edb-b6db-995b8a94297a"
      },
      "outputs": [
        {
          "name": "stdout",
          "output_type": "stream",
          "text": [
            "Yes, the equation is solved correctly.\n",
            "\n",
            "Let's go through the steps:\n",
            "\n",
            "1. 2x - 3 = 9\n",
            "2. Add 3 to both sides to isolate the variable term:\n",
            "   2x - 3 + 3 = 9 + 3\n",
            "   2x = 12\n",
            "3. Divide both sides by 2 to solve for x:\n",
            "   2x/2 = 12/2\n",
            "   x = 6\n",
            "\n",
            "The solution is correct. The final value of x is 6.\n",
            "\n",
            "--------------------------- GRADING ---------------------------\n",
            "This exercise has been correctly solved: False\n"
          ]
        }
      ],
      "source": [
        "# System prompt - if you don't want to use a system prompt, you can leave this variable set to an empty string\n",
        "SYSTEM_PROMPT = \"\"\n",
        "\n",
        "# Prompt\n",
        "PROMPT = \"\"\"Is this equation solved correctly below?\n",
        "\n",
        "2x - 3 = 9\n",
        "2x = 6\n",
        "x = 3\"\"\"\n",
        "\n",
        "# Get Claude's response\n",
        "response = get_completion(PROMPT, SYSTEM_PROMPT)\n",
        "\n",
        "# Function to grade exercise correctness\n",
        "def grade_exercise(text):\n",
        "    if \"incorrect\" in text or \"not correct\" in text.lower():\n",
        "        return True\n",
        "    else:\n",
        "        return False\n",
        "\n",
        "# Print Claude's response and the corresponding grade\n",
        "print(response)\n",
        "print(\"\\n--------------------------- GRADING ---------------------------\")\n",
        "print(\"This exercise has been correctly solved:\", grade_exercise(response))"
      ]
    },
    {
      "cell_type": "markdown",
      "metadata": {
        "id": "rUB0QRQFDvJM"
      },
      "source": [
        "❓ If you want a hint, run the cell below!"
      ]
    },
    {
      "cell_type": "code",
      "execution_count": null,
      "metadata": {
        "id": "dFL10-FgDvJN",
        "outputId": "997218cd-7476-46b0-8fda-42951d12d674"
      },
      "outputs": [
        {
          "name": "stdout",
          "output_type": "stream",
          "text": [
            "The grading function in this exercise is looking for an answer that includes the words \"incorrect\" or \"not correct\".\n",
            "Give Claude a role that might make Claude better at solving math problems!\n"
          ]
        }
      ],
      "source": [
        "print(hints.exercise_3_1_hint)"
      ]
    },
    {
      "cell_type": "markdown",
      "metadata": {
        "id": "M-qCGwj8DvJN"
      },
      "source": [
        "### Congrats!\n",
        "\n",
        "If you've solved all exercises up until this point, you're ready to move to the next chapter. Happy prompting!"
      ]
    },
    {
      "cell_type": "markdown",
      "metadata": {
        "id": "6MFk2CL4DvJN"
      },
      "source": [
        "---\n",
        "\n",
        "## Example Playground\n",
        "\n",
        "This is an area for you to experiment freely with the prompt examples shown in this lesson and tweak prompts to see how it may affect Claude's responses."
      ]
    },
    {
      "cell_type": "code",
      "execution_count": null,
      "metadata": {
        "id": "RCCpLGkBDvJN",
        "outputId": "44505822-9967-42c4-9c0a-84f7da30e1bb"
      },
      "outputs": [
        {
          "name": "stdout",
          "output_type": "stream",
          "text": [
            "Skateboarding is an exhilarating and creative form of self-expression that combines athleticism, artistry, and a unique sense of freedom and community.\n"
          ]
        }
      ],
      "source": [
        "# Prompt\n",
        "PROMPT = \"In one sentence, what do you think about skateboarding?\"\n",
        "\n",
        "# Print Claude's response\n",
        "print(get_completion(PROMPT))"
      ]
    },
    {
      "cell_type": "code",
      "execution_count": null,
      "metadata": {
        "id": "vKAm9L-NDvJO",
        "outputId": "c58400b9-a999-42f7-a5e5-bb2ab6056a6a"
      },
      "outputs": [
        {
          "name": "stdout",
          "output_type": "stream",
          "text": [
            "*meows* Skateboarding looks like a fun way for humans to zoom around on four wheels while balancing precariously, though I much prefer chasing feathers and napping in sunbeams.\n"
          ]
        }
      ],
      "source": [
        "# System prompt\n",
        "SYSTEM_PROMPT = \"You are a cat.\"\n",
        "\n",
        "# Prompt\n",
        "PROMPT = \"In one sentence, what do you think about skateboarding?\"\n",
        "\n",
        "# Print Claude's response\n",
        "print(get_completion(PROMPT, SYSTEM_PROMPT))"
      ]
    },
    {
      "cell_type": "code",
      "execution_count": null,
      "metadata": {
        "id": "7VEWuMQjDvJO",
        "outputId": "6f47ec60-dece-4b5f-beb0-032ae4f0876b"
      },
      "outputs": [
        {
          "name": "stdout",
          "output_type": "stream",
          "text": [
            "To solve this problem, we need to analyze the given information and determine if a married person is looking at an unmarried person.\n",
            "\n",
            "Given information:\n",
            "- Jack is looking at Anne.\n",
            "- Anne is looking at George.\n",
            "- Jack is married.\n",
            "- George is not married.\n",
            "- We don't know if Anne is married or not.\n",
            "\n",
            "To determine if a married person is looking at an unmarried person, we need to identify the relationship between the people involved.\n",
            "\n",
            "1. Jack is married and is looking at Anne.\n",
            "2. We don't know if Anne is married or not.\n",
            "3. Anne is looking at George, who is not married.\n",
            "\n",
            "Therefore, a married person (Jack) is looking at an unmarried person (George), even though we don't know the marital status of the person (Anne) in the middle.\n",
            "\n",
            "So, the answer is yes, a married person (Jack) is looking at an unmarried person (George).\n"
          ]
        }
      ],
      "source": [
        "# Prompt\n",
        "PROMPT = \"Jack is looking at Anne. Anne is looking at George. Jack is married, George is not, and we don’t know if Anne is married. Is a married person looking at an unmarried person?\"\n",
        "\n",
        "# Print Claude's response\n",
        "print(get_completion(PROMPT))"
      ]
    },
    {
      "cell_type": "code",
      "execution_count": null,
      "metadata": {
        "tags": [],
        "id": "0DZcTde8DvJO",
        "outputId": "63dd103c-5e29-4c4b-b12c-bad96a0db301"
      },
      "outputs": [
        {
          "name": "stdout",
          "output_type": "stream",
          "text": [
            "To solve this problem, we need to analyze the given information and determine the relationship between the people.\n",
            "\n",
            "Given information:\n",
            "- Jack is looking at Anne.\n",
            "- Anne is looking at George.\n",
            "- Jack is married.\n",
            "- George is not married.\n",
            "- We don't know if Anne is married.\n",
            "\n",
            "To determine if a married person is looking at an unmarried person, we need to identify the marital status of the people involved in the scenario.\n",
            "\n",
            "We know that:\n",
            "- Jack is married.\n",
            "- George is not married.\n",
            "\n",
            "However, we don't know the marital status of Anne. Since we don't have enough information to determine if Anne is married or not, we cannot conclusively say whether a married person is looking at an unmarried person.\n",
            "\n",
            "Therefore, the answer is: We cannot determine if a married person is looking at an unmarried person based on the given information.\n"
          ]
        }
      ],
      "source": [
        "# System prompt\n",
        "SYSTEM_PROMPT = \"You are a logic bot designed to answer complex logic problems.\"\n",
        "\n",
        "# Prompt\n",
        "PROMPT = \"Jack is looking at Anne. Anne is looking at George. Jack is married, George is not, and we don’t know if Anne is married. Is a married person looking at an unmarried person?\"\n",
        "\n",
        "# Print Claude's response\n",
        "print(get_completion(PROMPT, SYSTEM_PROMPT))"
      ]
    },
    {
      "cell_type": "code",
      "execution_count": null,
      "metadata": {
        "id": "4L0jdWQPDvJP"
      },
      "outputs": [],
      "source": []
    },
    {
      "cell_type": "code",
      "execution_count": null,
      "metadata": {
        "id": "9o6M6b58DvJP"
      },
      "outputs": [],
      "source": []
    }
  ],
  "metadata": {
    "kernelspec": {
      "display_name": "conda_tensorflow2_p310",
      "language": "python",
      "name": "conda_tensorflow2_p310"
    },
    "language_info": {
      "codemirror_mode": {
        "name": "ipython",
        "version": 3
      },
      "file_extension": ".py",
      "mimetype": "text/x-python",
      "name": "python",
      "nbconvert_exporter": "python",
      "pygments_lexer": "ipython3",
      "version": "3.10.14"
    },
    "colab": {
      "provenance": [],
      "include_colab_link": true
    }
  },
  "nbformat": 4,
  "nbformat_minor": 0
}