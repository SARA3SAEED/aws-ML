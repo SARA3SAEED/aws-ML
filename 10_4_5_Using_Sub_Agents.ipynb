{
  "cells": [
    {
      "cell_type": "markdown",
      "metadata": {
        "id": "view-in-github",
        "colab_type": "text"
      },
      "source": [
        "<a href=\"https://colab.research.google.com/github/SARA3SAEED/aws-ML/blob/main/10_4_5_Using_Sub_Agents.ipynb\" target=\"_parent\"><img src=\"https://colab.research.google.com/assets/colab-badge.svg\" alt=\"Open In Colab\"/></a>"
      ]
    },
    {
      "cell_type": "markdown",
      "metadata": {
        "id": "K81FimAD9VWi"
      },
      "source": [
        "# Appendix 10.4.5: Using Haiku as a sub-agent\n",
        "\n",
        "In this recipe, we'll demonstrate how to analyze Apple's 2023 financial earnings reports using Claude 3 Haiku sub-agent models to extract relevant information from earnings release PDFs. We'll then use Claude 3 Sonnet to generate a response to our question and create a graph using matplotlib to accompany its response."
      ]
    },
    {
      "cell_type": "markdown",
      "metadata": {
        "id": "0oSlKn9i9VWl"
      },
      "source": [
        "## Step 1: Set up the environment\n",
        "First, let's install the required libraries and set up the Anthropic API client."
      ]
    },
    {
      "cell_type": "code",
      "execution_count": null,
      "metadata": {
        "tags": [],
        "id": "rf3IFOWW9VWm",
        "outputId": "529327c4-6187-47ff-cd1e-178d574b31d1"
      },
      "outputs": [
        {
          "name": "stdout",
          "output_type": "stream",
          "text": [
            "  \u001b[1;31merror\u001b[0m: \u001b[1msubprocess-exited-with-error\u001b[0m\n",
            "  \n",
            "  \u001b[31m×\u001b[0m \u001b[32mpython setup.py egg_info\u001b[0m did not run successfully.\n",
            "  \u001b[31m│\u001b[0m exit code: \u001b[1;36m1\u001b[0m\n",
            "  \u001b[31m╰─>\u001b[0m \u001b[31m[40 lines of output]\u001b[0m\n",
            "  \u001b[31m   \u001b[0m running egg_info\n",
            "  \u001b[31m   \u001b[0m creating /tmp/pip-pip-egg-info-0uf8ekfb/wikipedia.egg-info\n",
            "  \u001b[31m   \u001b[0m writing /tmp/pip-pip-egg-info-0uf8ekfb/wikipedia.egg-info/PKG-INFO\n",
            "  \u001b[31m   \u001b[0m writing dependency_links to /tmp/pip-pip-egg-info-0uf8ekfb/wikipedia.egg-info/dependency_links.txt\n",
            "  \u001b[31m   \u001b[0m writing requirements to /tmp/pip-pip-egg-info-0uf8ekfb/wikipedia.egg-info/requires.txt\n",
            "  \u001b[31m   \u001b[0m writing top-level names to /tmp/pip-pip-egg-info-0uf8ekfb/wikipedia.egg-info/top_level.txt\n",
            "  \u001b[31m   \u001b[0m writing manifest file '/tmp/pip-pip-egg-info-0uf8ekfb/wikipedia.egg-info/SOURCES.txt'\n",
            "  \u001b[31m   \u001b[0m reading manifest file '/tmp/pip-pip-egg-info-0uf8ekfb/wikipedia.egg-info/SOURCES.txt'\n",
            "  \u001b[31m   \u001b[0m reading manifest template 'MANIFEST.in'\n",
            "  \u001b[31m   \u001b[0m adding license file 'LICENSE'\n",
            "  \u001b[31m   \u001b[0m Traceback (most recent call last):\n",
            "  \u001b[31m   \u001b[0m   File \"<string>\", line 2, in <module>\n",
            "  \u001b[31m   \u001b[0m   File \"<pip-setuptools-caller>\", line 34, in <module>\n",
            "  \u001b[31m   \u001b[0m   File \"/tmp/pip-install-kqlt_ji6/wikipedia_00665b5f425e46b5aac1e080f5dccffd/setup.py\", line 26, in <module>\n",
            "  \u001b[31m   \u001b[0m     setuptools.setup(\n",
            "  \u001b[31m   \u001b[0m   File \"/home/ec2-user/anaconda3/envs/python3/lib/python3.10/site-packages/setuptools/__init__.py\", line 108, in setup\n",
            "  \u001b[31m   \u001b[0m     return distutils.core.setup(**attrs)\n",
            "  \u001b[31m   \u001b[0m   File \"/home/ec2-user/anaconda3/envs/python3/lib/python3.10/site-packages/setuptools/_distutils/core.py\", line 184, in setup\n",
            "  \u001b[31m   \u001b[0m     return run_commands(dist)\n",
            "  \u001b[31m   \u001b[0m   File \"/home/ec2-user/anaconda3/envs/python3/lib/python3.10/site-packages/setuptools/_distutils/core.py\", line 200, in run_commands\n",
            "  \u001b[31m   \u001b[0m     dist.run_commands()\n",
            "  \u001b[31m   \u001b[0m   File \"/home/ec2-user/anaconda3/envs/python3/lib/python3.10/site-packages/setuptools/_distutils/dist.py\", line 970, in run_commands\n",
            "  \u001b[31m   \u001b[0m     self.run_command(cmd)\n",
            "  \u001b[31m   \u001b[0m   File \"/home/ec2-user/anaconda3/envs/python3/lib/python3.10/site-packages/setuptools/dist.py\", line 956, in run_command\n",
            "  \u001b[31m   \u001b[0m     super().run_command(command)\n",
            "  \u001b[31m   \u001b[0m   File \"/home/ec2-user/anaconda3/envs/python3/lib/python3.10/site-packages/setuptools/_distutils/dist.py\", line 989, in run_command\n",
            "  \u001b[31m   \u001b[0m     cmd_obj.run()\n",
            "  \u001b[31m   \u001b[0m   File \"/home/ec2-user/anaconda3/envs/python3/lib/python3.10/site-packages/setuptools/command/egg_info.py\", line 310, in run\n",
            "  \u001b[31m   \u001b[0m     self.find_sources()\n",
            "  \u001b[31m   \u001b[0m   File \"/home/ec2-user/anaconda3/envs/python3/lib/python3.10/site-packages/setuptools/command/egg_info.py\", line 318, in find_sources\n",
            "  \u001b[31m   \u001b[0m     mm.run()\n",
            "  \u001b[31m   \u001b[0m   File \"/home/ec2-user/anaconda3/envs/python3/lib/python3.10/site-packages/setuptools/command/egg_info.py\", line 544, in run\n",
            "  \u001b[31m   \u001b[0m     self.prune_file_list()\n",
            "  \u001b[31m   \u001b[0m   File \"/home/ec2-user/anaconda3/envs/python3/lib/python3.10/site-packages/setuptools/command/egg_info.py\", line 610, in prune_file_list\n",
            "  \u001b[31m   \u001b[0m     base_dir = self.distribution.get_fullname()\n",
            "  \u001b[31m   \u001b[0m   File \"/home/ec2-user/anaconda3/envs/python3/lib/python3.10/site-packages/setuptools/_core_metadata.py\", line 266, in get_fullname\n",
            "  \u001b[31m   \u001b[0m     return _distribution_fullname(self.get_name(), self.get_version())\n",
            "  \u001b[31m   \u001b[0m   File \"/home/ec2-user/anaconda3/envs/python3/lib/python3.10/site-packages/setuptools/_core_metadata.py\", line 284, in _distribution_fullname\n",
            "  \u001b[31m   \u001b[0m     canonicalize_version(version, strip_trailing_zero=False),\n",
            "  \u001b[31m   \u001b[0m TypeError: canonicalize_version() got an unexpected keyword argument 'strip_trailing_zero'\n",
            "  \u001b[31m   \u001b[0m \u001b[31m[end of output]\u001b[0m\n",
            "  \n",
            "  \u001b[1;35mnote\u001b[0m: This error originates from a subprocess, and is likely not a problem with pip.\n",
            "\u001b[1;31merror\u001b[0m: \u001b[1mmetadata-generation-failed\u001b[0m\n",
            "\n",
            "\u001b[31m×\u001b[0m Encountered error while generating package metadata.\n",
            "\u001b[31m╰─>\u001b[0m See above for output.\n",
            "\n",
            "\u001b[1;35mnote\u001b[0m: This is an issue with the package mentioned above, not pip.\n",
            "\u001b[1;36mhint\u001b[0m: See above for details.\n",
            "Note: you may need to restart the kernel to use updated packages.\n"
          ]
        }
      ],
      "source": [
        "pip install -qUr requirements.txt"
      ]
    },
    {
      "cell_type": "code",
      "execution_count": null,
      "metadata": {
        "tags": [],
        "id": "kbmNGoEo9VWp",
        "outputId": "0ccdf778-e180-4035-e9ba-4458e09f29c6"
      },
      "outputs": [
        {
          "name": "stdout",
          "output_type": "stream",
          "text": [
            "Using modelId: anthropic.claude-3-sonnet-20240229-v1:0\n",
            "Using region:  us-west-2\n"
          ]
        }
      ],
      "source": [
        "# Import the required libraries\n",
        "import boto3\n",
        "import fitz\n",
        "from PIL import Image\n",
        "import io\n",
        "from concurrent.futures import ThreadPoolExecutor\n",
        "import requests\n",
        "import os\n",
        "\n",
        "session = boto3.Session()\n",
        "region = session.region_name\n",
        "\n",
        "modelId = 'anthropic.claude-3-sonnet-20240229-v1:0'\n",
        "#modelId = 'anthropic.claude-3-haiku-20240307-v1:0'\n",
        "\n",
        "print(f'Using modelId: {modelId}')\n",
        "print('Using region: ', region)\n",
        "\n",
        "bedrock_client = boto3.client(service_name = 'bedrock-runtime', region_name = region,)"
      ]
    },
    {
      "cell_type": "markdown",
      "metadata": {
        "id": "cSBa1q5J9VWq"
      },
      "source": [
        "## Step 2: Gather our documents and ask a question\n",
        "For this example, we will be using all Apple's financial statements from the 2023 financial year and asking about the net sales over the year."
      ]
    },
    {
      "cell_type": "code",
      "execution_count": null,
      "metadata": {
        "tags": [],
        "id": "FkT7uXze9VWq"
      },
      "outputs": [],
      "source": [
        "# List of Apple's earnings release PDF URLs\n",
        "pdf_urls = [\n",
        "    \"https://www.apple.com/newsroom/pdfs/fy2023-q4/FY23_Q4_Consolidated_Financial_Statements.pdf\",\n",
        "    \"https://www.apple.com/newsroom/pdfs/fy2023-q3/FY23_Q3_Consolidated_Financial_Statements.pdf\",\n",
        "    \"https://www.apple.com/newsroom/pdfs/FY23_Q2_Consolidated_Financial_Statements.pdf\",\n",
        "    \"https://www.apple.com/newsroom/pdfs/FY23_Q1_Consolidated_Financial_Statements.pdf\"\n",
        "]\n",
        "\n",
        "# User's question\n",
        "QUESTION = \"How did Apple's net sales change quarter to quarter in the 2023 financial year and what were the key contributors to the changes?\""
      ]
    },
    {
      "cell_type": "markdown",
      "metadata": {
        "id": "4-Q6NCHZ9VWr"
      },
      "source": [
        "## Step 3: Download and convert PDFs to images\n",
        "Next, we'll define functions to download the earnings release PDFs and convert them to base64-encoded PNG images. We have to do this because these PDFs are full of tables that are hard to parse with traditional PDF parsers. It's easier if we just convert them to images and pass the images to Haiku.\n",
        "\n",
        "The ```download_pdf``` function downloads a PDF file from a given URL and saves it to the specified folder. The ```pdf_to_pngs``` function converts a PDF to a list of PNG images."
      ]
    },
    {
      "cell_type": "code",
      "execution_count": null,
      "metadata": {
        "tags": [],
        "id": "4h0DXxbp9VWr"
      },
      "outputs": [],
      "source": [
        "# Function to download a PDF file from a URL and save it to a specified folder\n",
        "def download_pdf(url, folder):\n",
        "    response = requests.get(url)\n",
        "    if response.status_code == 200:\n",
        "        file_name = os.path.join(folder, url.split(\"/\")[-1])\n",
        "        with open(file_name, \"wb\") as file:\n",
        "            file.write(response.content)\n",
        "        return file_name\n",
        "    else:\n",
        "        print(f\"Failed to download PDF from {url}\")\n",
        "        return None\n",
        "\n",
        "# Define the function to convert a PDF to a list of base64-encoded PNG images\n",
        "def pdf_to_png(pdf_path, quality=75, max_size=(1024, 1024)):\n",
        "    # Open the PDF file\n",
        "    doc = fitz.open(pdf_path)\n",
        "    pdf_to_png_images = []\n",
        "\n",
        "    # Iterate through each page of the PDF\n",
        "    for page_num in range(doc.page_count):\n",
        "        # Load the page\n",
        "        page = doc.load_page(page_num)\n",
        "\n",
        "        # Render the page as a PNG image\n",
        "        pix = page.get_pixmap(matrix=fitz.Matrix(300/72, 300/72))\n",
        "\n",
        "        # Convert the pixmap to a PIL Image\n",
        "        image = Image.frombytes(\"RGB\", [pix.width, pix.height], pix.samples)\n",
        "\n",
        "        # Resize the image if it exceeds the maximum size\n",
        "        if image.size[0] > max_size[0] or image.size[1] > max_size[1]:\n",
        "            image.thumbnail(max_size, Image.Resampling.LANCZOS)\n",
        "\n",
        "        # Convert the PIL image to bytes\n",
        "        image_data = io.BytesIO()\n",
        "        image.save(image_data, format='PNG', optimize=True, quality=quality)\n",
        "        image_data.seek(0)\n",
        "        pdf_to_png_image = image_data.getvalue()\n",
        "\n",
        "        # Append the PNG image bytes to the list\n",
        "        pdf_to_png_images.append(pdf_to_png_image)\n",
        "\n",
        "    # Close the PDF document\n",
        "    doc.close()\n",
        "\n",
        "    return pdf_to_png_images\n",
        "\n",
        "# Folder to save the downloaded PDFs\n",
        "folder = \"./images/using_sub_agents\"\n",
        "\n",
        "# Download the PDFs concurrently\n",
        "with ThreadPoolExecutor() as executor:\n",
        "    pdf_paths = list(executor.map(download_pdf, pdf_urls, [folder] * len(pdf_urls)))\n",
        "\n",
        "# Remove any None values (failed downloads) from pdf_paths\n",
        "pdf_paths = [path for path in pdf_paths if path is not None]"
      ]
    },
    {
      "cell_type": "markdown",
      "metadata": {
        "id": "AfzN6H5E9VWs"
      },
      "source": [
        "We use ThreadPoolExecutor to download the PDFs concurrently and store the file paths in pdf_paths."
      ]
    },
    {
      "cell_type": "markdown",
      "metadata": {
        "id": "c4CsRdNi9VWt"
      },
      "source": [
        "## Step 4: Generate a specific prompt for Haiku using Sonnet\n",
        "Let's use Opus as an orchestrator and have it write a specific prompt for each Haiku sub-agent based on the user provided question."
      ]
    },
    {
      "cell_type": "code",
      "execution_count": null,
      "metadata": {
        "tags": [],
        "id": "wlT2BqG29VWt",
        "outputId": "2d23a2fe-4902-4842-a695-043847a285ee"
      },
      "outputs": [
        {
          "name": "stdout",
          "output_type": "stream",
          "text": [
            "Extract the quarterly net sales figures for Apple's 2023 fiscal year from the provided earnings report PDF. Identify and summarize the key factors mentioned in the report that contributed to any significant increases or decreases in net sales between consecutive quarters.\n"
          ]
        }
      ],
      "source": [
        "def generate_haiku_prompt(question):\n",
        "    prompt = f\"\"\"Based on the following question, please generate a specific prompt for an LLM sub-agent to extract relevant information from an earning's report PDF. Each sub-agent only has access to a single quarter's earnings report. Output only the prompt and nothing else.\\n\\nQuestion: {question}\"\"\"\n",
        "    messages = [\n",
        "        {\n",
        "            \"role\": 'user',\n",
        "            \"content\": [\n",
        "                {\"text\": prompt }\n",
        "            ]\n",
        "        }\n",
        "    ]\n",
        "\n",
        "    converse_api_params = {\n",
        "        \"modelId\": modelId,\n",
        "        \"messages\": messages,\n",
        "    }\n",
        "\n",
        "    response = bedrock_client.converse(**converse_api_params)\n",
        "\n",
        "    return response['output']['message']['content'][0]['text']\n",
        "\n",
        "haiku_prompt = generate_haiku_prompt(QUESTION)\n",
        "print(haiku_prompt)"
      ]
    },
    {
      "cell_type": "markdown",
      "metadata": {
        "id": "zS97tN9a9VWt"
      },
      "source": [
        "## Step 5: Extract information from PDFs\n",
        "Now, let's define our question and extract information from the PDFs using sub-agent Haiku models. We format the information from each model into a neatly defined set of XML tags."
      ]
    },
    {
      "cell_type": "code",
      "execution_count": null,
      "metadata": {
        "tags": [],
        "id": "5NJH8tPl9VWu",
        "outputId": "e17ebf59-3e7a-4c8e-f6d4-d51293eb002c"
      },
      "outputs": [
        {
          "name": "stdout",
          "output_type": "stream",
          "text": [
            "<info quarter=\"Q4\">Based on the information provided in the \"Condensed Consolidated Statements of Operations\" table, Apple's net sales changed quarter to quarter as follows:\n",
            "\n",
            "For the three months ended September 30, 2023, net sales were $89,498 million. This was an increase from the three months ended September 24, 2022, where net sales were $90,146 million.\n",
            "\n",
            "The key contributors to the change in net sales were:\n",
            "\n",
            "- Products sales increased from $70,958 million in Q4 2022 to $67,184 million in Q1 2023.\n",
            "- Services sales increased from $19,188 million in Q4 2022 to $22,314 million in Q1 2023.\n",
            "\n",
            "So the overall net sales decreased quarter-over-quarter, driven by a decrease in Product sales, but this was partially offset by an increase in Services sales.</info>\n",
            "<info quarter=\"Q3\">According to the financial statements, Apple's net sales increased quarter-over-quarter in the 2023 financial year:\n",
            "\n",
            "- In the three months ended July 1, 2023, net sales were $293,787 million.\n",
            "- In the three months ended June 25, 2022, net sales were $82,959 million. \n",
            "\n",
            "This represents a significant increase in net sales from the prior quarter, a change of around $210,828 million.\n",
            "\n",
            "The key contributors to this increase were:\n",
            "- Higher product sales, with iPhone net sales increasing from $40,665 million in Q3 2022 to $156,778 million in Q4 2023.\n",
            "- Increased services revenue, which grew from $19,604 million in Q3 2022 to $62,886 million in Q4 2023.\n",
            "- Stronger sales across other product categories like Mac, iPad, and Wearables, Home and Accessories.\n",
            "\n",
            "So in summary, Apple saw a very substantial quarter-over-quarter increase in net sales, driven by growth across its major product and services segments.</info>\n",
            "<info quarter=\"Q2\">According to the financial statements, Apple's net sales changed quarter to quarter in the 2023 financial year as follows:\n",
            "\n",
            "- In the three months ended April 1, 2023, net sales were $94,836 million.\n",
            "- In the three months ended March 26, 2022, net sales were $97,278 million.\n",
            "- This represents a decrease in net sales from the prior quarter.\n",
            "\n",
            "The key contributors to the changes in net sales were:\n",
            "\n",
            "- Products sales decreased from $77,457 million in Q3 2022 to $73,929 million in Q1 2023.\n",
            "- Services sales increased from $19,821 million in Q3 2022 to $20,907 million in Q1 2023.\n",
            "\n",
            "So the decrease in net sales from the prior quarter was primarily driven by a decline in product sales, while services sales continued to grow.</info>\n",
            "<info quarter=\"Q1\">Based on the information provided in the consolidated statements of operations, Apple's net sales changed from $117,154 million in the three months ended December 31, 2022 to $123,945 million in the three months ended December 25, 2021, an increase of $6,791 million.\n",
            "\n",
            "The key contributors to this increase in net sales were:\n",
            "\n",
            "1. Products sales increased from $96,388 million in Q1 2022 to $104,429 million in Q1 2023, an increase of $8,041 million.\n",
            "\n",
            "2. Services sales increased from $20,766 million in Q1 2022 to $19,516 million in Q1 2023, a decrease of $1,250 million.\n",
            "\n",
            "So the increase in net sales was primarily driven by higher sales of Apple's products, while services sales saw a slight decline quarter-over-quarter.</info>\n",
            "\n"
          ]
        }
      ],
      "source": [
        "def extract_info(pdf_path, haiku_prompt):\n",
        "    pdf_pngs = pdf_to_png(pdf_path)\n",
        "\n",
        "    messages = [\n",
        "        {\n",
        "            \"role\": \"user\",\n",
        "            \"content\": [\n",
        "                *[{\"image\": {\"format\": 'png', \"source\": {\"bytes\": pdf_png}}} for pdf_png in pdf_pngs],\n",
        "                {\"text\": haiku_prompt}\n",
        "            ]\n",
        "        }\n",
        "    ]\n",
        "\n",
        "    converse_api_params = {\n",
        "        \"modelId\": \"anthropic.claude-3-haiku-20240307-v1:0\",\n",
        "        \"messages\": messages,\n",
        "    }\n",
        "    response = bedrock_client.converse(**converse_api_params)\n",
        "\n",
        "    return response['output']['message']['content'][0]['text'], pdf_path\n",
        "\n",
        "def process_pdf(pdf_path):\n",
        "    return extract_info(pdf_path, QUESTION)\n",
        "\n",
        "# Process the PDFs concurrently with Haiku sub-agent models\n",
        "with ThreadPoolExecutor() as executor:\n",
        "    extracted_info_list = list(executor.map(process_pdf, pdf_paths))\n",
        "\n",
        "extracted_info = \"\"\n",
        "# Display the extracted information from each model call\n",
        "for info in extracted_info_list:\n",
        "    extracted_info += \"<info quarter=\\\"\" + info[1].split(\"/\")[-1].split(\"_\")[1] + \"\\\">\" + info[0] + \"</info>\\n\"\n",
        "print(extracted_info)"
      ]
    },
    {
      "cell_type": "markdown",
      "metadata": {
        "id": "Y1Os3nZX9VWu"
      },
      "source": [
        "We extract information from the PDFs concurrently using sub-agent models and combine the extracted information. We then prepare the messages for the powerful model, including the question and the extracted information, and ask it to generate a response and matplotlib code."
      ]
    },
    {
      "cell_type": "markdown",
      "metadata": {
        "id": "nNQkw4hV9VWu"
      },
      "source": [
        "## Step 6: Pass the information to Sonnet to generate a response\n",
        "Now that we have fetched the information from each PDF using the sub-agents, let's call Opus to actually answer the question and write code to create a graph to accompany the answer."
      ]
    },
    {
      "cell_type": "code",
      "execution_count": null,
      "metadata": {
        "tags": [],
        "id": "lrScftDS9VWv",
        "outputId": "f284abe1-70fd-43c9-a878-d73d16b1dd6f"
      },
      "outputs": [
        {
          "name": "stdout",
          "output_type": "stream",
          "text": [
            "Generated Response:\n",
            "Based on the information provided from Apple's earnings releases, here's how the company's net sales changed quarter-over-quarter in the 2023 financial year, along with the key contributors to those changes:\n",
            "\n",
            "In Q1 2023, Apple's net sales increased by $6,791 million compared to Q1 2022. This increase was driven primarily by an $8,041 million increase in product sales, which offset a $1,250 million decrease in services sales.\n",
            "\n",
            "In Q2 2023, Apple's net sales decreased by $2,442 million compared to Q2 2022. This decline was mainly due to a $3,528 million decrease in product sales, although services sales grew by $1,086 million during the same period.\n",
            "\n",
            "In Q3 2023, Apple experienced a substantial increase in net sales, rising by $210,828 million compared to Q3 2022. This significant growth was fueled by higher product sales, with iPhone net sales increasing by $116,113 million, as well as an increase of $43,282 million in services revenue.\n",
            "\n",
            "In Q4 2023, Apple's net sales decreased slightly by $648 million compared to Q4 2022. While product sales decreased by $3,774 million, services sales grew by $3,126 million, partially offsetting the overall decline.\n",
            "\n",
            "To accompany this response, here's Python code using the matplotlib library to visualize Apple's net sales changes quarter-over-quarter in the 2023 financial year:\n",
            "\n",
            "<code>\n",
            "import matplotlib.pyplot as plt\n",
            "\n",
            "quarters = ['Q1', 'Q2', 'Q3', 'Q4']\n",
            "net_sales_changes = [6791, -2442, 210828, -648]\n",
            "\n",
            "plt.figure(figsize=(8, 6))\n",
            "plt.bar(quarters, net_sales_changes)\n",
            "plt.axhline(0, color='r', linestyle='--')\n",
            "plt.xlabel('Quarter')\n",
            "plt.ylabel('Net Sales Change ($ million)')\n",
            "plt.title('Apple Net Sales Changes Q-o-Q (FY 2023)')\n",
            "\n",
            "for i, v in enumerate(net_sales_changes):\n",
            "    plt.text(i, v + 1000, str(v), ha='center', va='bottom')\n",
            "\n",
            "plt.show()\n",
            "</code>\n",
            "\n",
            "This code creates a bar chart that visualizes the net sales changes for each quarter in the 2023 financial year. The positive values are shown in blue, and the negative values are shown below the red dashed line, representing a decrease in net sales compared to the previous quarter. The specific net sales change values are also displayed above each bar for clarity.\n"
          ]
        }
      ],
      "source": [
        "# Prepare the messages for the powerful model\n",
        "messages = [\n",
        "    {\n",
        "        \"role\": \"user\",\n",
        "        \"content\": [\n",
        "            {\"text\": f\"Based on the following extracted information from Apple's earnings releases, please provide a response to the question: {QUESTION}\\n\\nAlso, please generate Python code using the matplotlib library to accompany your response. Enclose the code within <code> tags.\\n\\nExtracted Information:\\n{extracted_info}\"}\n",
        "        ]\n",
        "    }\n",
        "]\n",
        "\n",
        "# Generate the matplotlib code using the powerful model\n",
        "converse_api_params = {\n",
        "    \"modelId\": \"anthropic.claude-3-sonnet-20240229-v1:0\",\n",
        "    \"messages\": messages,\n",
        "    \"inferenceConfig\": {\"maxTokens\": 4096},\n",
        "}\n",
        "response = bedrock_client.converse(**converse_api_params)\n",
        "\n",
        "generated_response = response['output']['message']['content'][0]['text']\n",
        "print(\"Generated Response:\")\n",
        "print(generated_response)"
      ]
    },
    {
      "cell_type": "markdown",
      "metadata": {
        "id": "_6Juzwaj9VWv"
      },
      "source": [
        "## Step 7: Extract response and execute Matplotlib code\n",
        "Finally, let's extract the matplotlib code from the generated response and execute it to visualize the revenue growth trend.\n",
        "\n",
        "We define the ```extract_code_and_response``` function to extract the matplotlib code and non-code response from the generated response. We print the non-code response and execute the matplotlib code if it is found.\n",
        "\n",
        "Note that it is not good practice to use ```exec``` on model-written code outside of a sandbox but for the purposes of this demo we are doing it :)"
      ]
    },
    {
      "cell_type": "code",
      "execution_count": null,
      "metadata": {
        "tags": [],
        "id": "8jUwYge_9VWw",
        "outputId": "719a2caa-399c-4916-9ebd-39d23e6a5f3c"
      },
      "outputs": [
        {
          "name": "stdout",
          "output_type": "stream",
          "text": [
            "Based on the information provided from Apple's earnings releases, here's how the company's net sales changed quarter-over-quarter in the 2023 financial year, along with the key contributors to those changes:\n",
            "\n",
            "In Q1 2023, Apple's net sales increased by $6,791 million compared to Q1 2022. This increase was driven primarily by an $8,041 million increase in product sales, which offset a $1,250 million decrease in services sales.\n",
            "\n",
            "In Q2 2023, Apple's net sales decreased by $2,442 million compared to Q2 2022. This decline was mainly due to a $3,528 million decrease in product sales, although services sales grew by $1,086 million during the same period.\n",
            "\n",
            "In Q3 2023, Apple experienced a substantial increase in net sales, rising by $210,828 million compared to Q3 2022. This significant growth was fueled by higher product sales, with iPhone net sales increasing by $116,113 million, as well as an increase of $43,282 million in services revenue.\n",
            "\n",
            "In Q4 2023, Apple's net sales decreased slightly by $648 million compared to Q4 2022. While product sales decreased by $3,774 million, services sales grew by $3,126 million, partially offsetting the overall decline.\n",
            "\n",
            "To accompany this response, here's Python code using the matplotlib library to visualize Apple's net sales changes quarter-over-quarter in the 2023 financial year:\n"
          ]
        }
      ],
      "source": [
        "# Extract the matplotlib code from the response\n",
        "# Function to extract the code and non-code parts from the response\n",
        "def extract_code_and_response(response):\n",
        "    start_tag = \"<code>\"\n",
        "    end_tag = \"</code>\"\n",
        "    start_index = response.find(start_tag)\n",
        "    end_index = response.find(end_tag)\n",
        "    if start_index != -1 and end_index != -1:\n",
        "        code = response[start_index + len(start_tag):end_index].strip()\n",
        "        non_code_response = response[:start_index].strip()\n",
        "        return code, non_code_response\n",
        "    else:\n",
        "        return None, response.strip()\n",
        "\n",
        "matplotlib_code, non_code_response = extract_code_and_response(generated_response)\n",
        "\n",
        "print(non_code_response)\n",
        "if matplotlib_code:\n",
        "\n",
        "    # Execute the extracted matplotlib code\n",
        "    exec(matplotlib_code)\n",
        "else:\n",
        "    print(\"No matplotlib code found in the response.\")"
      ]
    },
    {
      "cell_type": "code",
      "execution_count": null,
      "metadata": {
        "id": "TForg5TQ9VWw"
      },
      "outputs": [],
      "source": []
    }
  ],
  "metadata": {
    "kernelspec": {
      "display_name": "conda_python3",
      "language": "python",
      "name": "conda_python3"
    },
    "language_info": {
      "codemirror_mode": {
        "name": "ipython",
        "version": 3
      },
      "file_extension": ".py",
      "mimetype": "text/x-python",
      "name": "python",
      "nbconvert_exporter": "python",
      "pygments_lexer": "ipython3",
      "version": "3.10.14"
    },
    "colab": {
      "provenance": [],
      "include_colab_link": true
    }
  },
  "nbformat": 4,
  "nbformat_minor": 0
}