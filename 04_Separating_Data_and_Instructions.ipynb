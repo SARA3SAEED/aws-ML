{
  "cells": [
    {
      "cell_type": "markdown",
      "metadata": {
        "id": "view-in-github",
        "colab_type": "text"
      },
      "source": [
        "<a href=\"https://colab.research.google.com/github/SARA3SAEED/aws-ML/blob/main/04_Separating_Data_and_Instructions.ipynb\" target=\"_parent\"><img src=\"https://colab.research.google.com/assets/colab-badge.svg\" alt=\"Open In Colab\"/></a>"
      ]
    },
    {
      "cell_type": "markdown",
      "metadata": {
        "id": "M_-rzIr5KS8d"
      },
      "source": [
        "# Chapter 4: Separating Data and Instructions\n",
        "\n",
        "- [Lesson](#lesson)\n",
        "- [Exercises](#exercises)\n",
        "- [Example Playground](#example-playground)\n",
        "\n",
        "## Setup\n",
        "\n",
        "Run the following setup cell to load your API key and establish the `get_completion` helper function."
      ]
    },
    {
      "cell_type": "code",
      "execution_count": null,
      "metadata": {
        "id": "mM5IFdjZKS8g"
      },
      "outputs": [],
      "source": [
        "# Import python's built-in regular expression library\n",
        "import re\n",
        "import boto3\n",
        "from botocore.exceptions import ClientError\n",
        "import json\n",
        "\n",
        "# Import the hints module from the utils package\n",
        "from utils import hints\n",
        "\n",
        "# Retrieve the MODEL_NAME variable from the IPython store\n",
        "%store -r modelId\n",
        "%store -r region\n",
        "\n",
        "bedrock_client = boto3.client(service_name='bedrock-runtime', region_name=region)"
      ]
    },
    {
      "cell_type": "code",
      "execution_count": null,
      "metadata": {
        "id": "C3MKR0xcKS8h"
      },
      "outputs": [],
      "source": [
        "def get_completion(prompt, system_prompt=None):\n",
        "    inference_config = {\n",
        "        \"temperature\": 0.0,\n",
        "        \"maxTokens\": 200\n",
        "    }\n",
        "    converse_api_params = {\n",
        "        \"modelId\": modelId,\n",
        "        \"messages\": [{\"role\": \"user\", \"content\": [{\"text\": prompt}]}],\n",
        "        \"inferenceConfig\": inference_config\n",
        "    }\n",
        "    if system_prompt:\n",
        "        converse_api_params[\"system\"] = [{\"text\": system_prompt}]\n",
        "    try:\n",
        "        response = bedrock_client.converse(**converse_api_params)\n",
        "        text_content = response['output']['message']['content'][0]['text']\n",
        "        return text_content\n",
        "\n",
        "    except ClientError as err:\n",
        "        message = err.response['Error']['Message']\n",
        "        print(f\"A client error occured: {message}\")"
      ]
    },
    {
      "cell_type": "markdown",
      "metadata": {
        "id": "7YYgPUdUKS8i"
      },
      "source": [
        "---\n",
        "\n",
        "## Lesson\n",
        "\n",
        "Oftentimes, you don't want to write full prompts, but instead want **prompt templates that can be modified later with additional input data before submitting to Claude**. This might come in handy if you want Claude to do the same thing every time, but the data that Claude uses for its task might be different each time.\n",
        "\n",
        "Luckily, you can do this pretty easily by **separating the fixed skeleton of the prompt from variable user input, then substituting the user input into the prompt** before sending the full prompt to Claude.\n",
        "\n",
        "Below, you'll walk step by step through how to write a substitutable prompt template, as well as how to substitute in user input."
      ]
    },
    {
      "cell_type": "markdown",
      "metadata": {
        "id": "MO_wq1Y1KS8j"
      },
      "source": [
        "### Examples\n",
        "\n",
        "In this first example, you're asking Claude to act as an animal noise generator. Notice that the full prompt submitted to Claude is just the `PROMPT_TEMPLATE` substituted with the input (in this case, \"Cow\"). Notice that the word \"Cow\" replaces the `ANIMAL` placeholder via an f-string when you print out the full prompt.\n",
        "\n",
        "**Note:** You don't have to call your placeholder variable anything in particular in practice. You called it `ANIMAL` in this example, but just as easily, you could have called it `CREATURE` or `A` (although it's generally good to have your variable names be specific and relevant so that your prompt template is easy to understand even without the substitution, just for user parseability). Just make sure that whatever you name your variable is what you use for the prompt template f-string."
      ]
    },
    {
      "cell_type": "code",
      "execution_count": null,
      "metadata": {
        "id": "iVq3Kwo_KS8k",
        "outputId": "a4633c3a-f284-40f1-dd54-e817e5d9157f"
      },
      "outputs": [
        {
          "name": "stdout",
          "output_type": "stream",
          "text": [
            "--------------------------- Full prompt with variable substutions ---------------------------\n",
            "I will tell you the name of an animal. Please respond with the noise that animal makes. Cow\n",
            "\n",
            "------------------------------------- Claude's response -------------------------------------\n",
            "Moo.\n"
          ]
        }
      ],
      "source": [
        "# Variable content\n",
        "ANIMAL = \"Cow\"\n",
        "\n",
        "# Prompt template with a placeholder for the variable content\n",
        "PROMPT = f\"I will tell you the name of an animal. Please respond with the noise that animal makes. {ANIMAL}\"\n",
        "\n",
        "# Print Claude's response\n",
        "print(\"--------------------------- Full prompt with variable substutions ---------------------------\")\n",
        "print(PROMPT)\n",
        "print(\"\\n------------------------------------- Claude's response -------------------------------------\")\n",
        "print(get_completion(PROMPT))"
      ]
    },
    {
      "cell_type": "markdown",
      "metadata": {
        "id": "FT_dovpIKS8l"
      },
      "source": [
        "Why would you want to separate and substitute inputs like this? Well, **prompt templates simplify repetitive tasks**. Let's say you build a prompt structure that invites third party users to submit content to the prompt (in this case the animal whose sound they want to generate). These third party users don't have to write or even see the full prompt. All they have to do is fill in variables.\n",
        "\n",
        "You do this substitution here using variables and f-strings, but you can also do it with the format() method.\n",
        "\n",
        "**Note:** Prompt templates can have as many variables as desired!"
      ]
    },
    {
      "cell_type": "markdown",
      "metadata": {
        "id": "uOj0eth2KS8m"
      },
      "source": [
        "When introducing substitution variables like this, it is very important to **make sure Claude knows where variables start and end** (vs. instructions or task descriptions). Let's look at an example where there is no separation between the instructions and the substitution variable.\n",
        "\n",
        "To our human eyes, it is very clear where the variable begins and ends in the prompt template below. However, in the fully substituted prompt, that delineation becomes unclear."
      ]
    },
    {
      "cell_type": "code",
      "execution_count": null,
      "metadata": {
        "id": "E27W1yvLKS8n",
        "outputId": "501604bd-a6ed-4466-9fd1-b2698b79bfac"
      },
      "outputs": [
        {
          "name": "stdout",
          "output_type": "stream",
          "text": [
            "--------------------------- Full prompt with variable substutions ---------------------------\n",
            "Yo Claude. Show up at 6am tomorrow because I'm the CEO and I say so. <----- Make this email more polite but don't change anything else about it.\n",
            "\n",
            "------------------------------------- Claude's response -------------------------------------\n",
            "Dear [Your Name],\n",
            "\n",
            "I hope this email finds you well. As the CEO, I would like to request your presence at our office tomorrow at 6 am. I understand this may be an early start, but I believe it is necessary for the success of our company.\n",
            "\n",
            "Please let me know if this time works for you, or if you have any concerns or scheduling conflicts. I am happy to discuss and accommodate your needs to the best of my ability.\n",
            "\n",
            "Thank you for your time and dedication to our organization.\n",
            "\n",
            "Best regards,\n",
            "[Your Name]\n",
            "CEO\n"
          ]
        }
      ],
      "source": [
        "# Variable content\n",
        "EMAIL = \"Show up at 6am tomorrow because I'm the CEO and I say so.\"\n",
        "\n",
        "# Prompt template with a placeholder for the variable content\n",
        "PROMPT = f\"Yo Claude. {EMAIL} <----- Make this email more polite but don't change anything else about it.\"\n",
        "\n",
        "# Print Claude's response\n",
        "print(\"--------------------------- Full prompt with variable substutions ---------------------------\")\n",
        "print(PROMPT)\n",
        "print(\"\\n------------------------------------- Claude's response -------------------------------------\")\n",
        "print(get_completion(PROMPT))"
      ]
    },
    {
      "cell_type": "markdown",
      "metadata": {
        "id": "yHc834_GKS8n"
      },
      "source": [
        "Here, **Claude thinks \"Yo Claude\" is part of the email it's supposed to rewrite**! You can tell because it begins its rewrite with \"Dear Claude\". To the human eye, it's clear, particularly in the prompt template where the email begins and ends, but it becomes much less clear in the prompt after substitution."
      ]
    },
    {
      "cell_type": "markdown",
      "metadata": {
        "id": "oWcFA1eNKS8o"
      },
      "source": [
        "How do you solve this? **Wrap the input in XML tags**! We did this below, and as you can see, there's no more \"Dear Claude\" in the output.\n",
        "\n",
        "[XML tags](https://docs.anthropic.com/claude/docs/use-xml-tags) are angle-bracket tags like `<tag></tag>`. They come in pairs and consist of an opening tag, such as `<tag>`, and a closing tag marked by a `/`, such as `</tag>`. XML tags are used to wrap around content, like this: `<tag>content</tag>`.\n",
        "\n",
        "**Note:** While Claude can recognize and work with a wide range of separators and delimeters, we recommend that you **use specifically XML tags as separators** for Claude, as Claude was trained specifically to recognize XML tags as a prompt organizing mechanism. Outside of function calling, **there are no special sauce XML tags that Claude has been trained on that you should use to maximally boost your performance**. Anthropic has purposefully made Claude very malleable and customizable this way."
      ]
    },
    {
      "cell_type": "code",
      "execution_count": null,
      "metadata": {
        "id": "Qohrsq8ZKS8o",
        "outputId": "bdd15608-3048-439b-840b-ea78d40fee03"
      },
      "outputs": [
        {
          "name": "stdout",
          "output_type": "stream",
          "text": [
            "--------------------------- Full prompt with variable substutions ---------------------------\n",
            "Yo Claude. <email>Show up at 6am tomorrow because I'm the CEO and I say so.</email> <----- Make this email more polite but don't change anything else about it.\n",
            "\n",
            "------------------------------------- Claude's response -------------------------------------\n",
            "Dear [Your Name],\n",
            "\n",
            "I hope this email finds you well. As the CEO, I would like to request your presence at our office tomorrow at 6 am. I understand this may be an early start, but I believe it is necessary for the success of our company.\n",
            "\n",
            "Please let me know if you have any questions or concerns. I appreciate your dedication and look forward to working with you.\n",
            "\n",
            "Best regards,\n",
            "[CEO's Name]\n"
          ]
        }
      ],
      "source": [
        "# Variable content\n",
        "EMAIL = \"Show up at 6am tomorrow because I'm the CEO and I say so.\"\n",
        "\n",
        "# Prompt template with a placeholder for the variable content\n",
        "PROMPT = f\"Yo Claude. <email>{EMAIL}</email> <----- Make this email more polite but don't change anything else about it.\"\n",
        "\n",
        "# Print Claude's response\n",
        "print(\"--------------------------- Full prompt with variable substutions ---------------------------\")\n",
        "print(PROMPT)\n",
        "print(\"\\n------------------------------------- Claude's response -------------------------------------\")\n",
        "print(get_completion(PROMPT))"
      ]
    },
    {
      "cell_type": "markdown",
      "metadata": {
        "id": "Bp-SFBWRKS8o"
      },
      "source": [
        "Let's see another example of how XML tags can help us.\n",
        "\n",
        "In the following prompt, **Claude incorrectly interprets what part of the prompt is the instruction vs. the input**. It incorrectly considers `Each is about an animal, like rabbits` to be part of the list due to the formatting, when the user (the one filling out the `SENTENCES` variable) presumably did not want that."
      ]
    },
    {
      "cell_type": "code",
      "execution_count": null,
      "metadata": {
        "id": "f6A7KTiHKS8o",
        "outputId": "1b98b643-1e60-405e-d8ef-3fce20aff637"
      },
      "outputs": [
        {
          "name": "stdout",
          "output_type": "stream",
          "text": [
            "--------------------------- Full prompt with variable substutions ---------------------------\n",
            "Below is a list of sentences. Tell me the second item on the list.\n",
            "\n",
            "- Each is about an animal, like rabbits.\n",
            "- I like how cows sound\n",
            "- This sentence is about spiders\n",
            "- This sentence may appear to be about dogs but it's actually about pigs\n",
            "\n",
            "------------------------------------- Claude's response -------------------------------------\n",
            "The second item on the list is \"I like how cows sound\".\n"
          ]
        }
      ],
      "source": [
        "# Variable content\n",
        "SENTENCES = \"\"\"- I like how cows sound\n",
        "- This sentence is about spiders\n",
        "- This sentence may appear to be about dogs but it's actually about pigs\"\"\"\n",
        "\n",
        "# Prompt template with a placeholder for the variable content\n",
        "PROMPT = f\"\"\"Below is a list of sentences. Tell me the second item on the list.\n",
        "\n",
        "- Each is about an animal, like rabbits.\n",
        "{SENTENCES}\"\"\"\n",
        "\n",
        "# Print Claude's response\n",
        "print(\"--------------------------- Full prompt with variable substutions ---------------------------\")\n",
        "print(PROMPT)\n",
        "print(\"\\n------------------------------------- Claude's response -------------------------------------\")\n",
        "print(get_completion(PROMPT))"
      ]
    },
    {
      "cell_type": "markdown",
      "metadata": {
        "id": "4dxtpXejKS8p"
      },
      "source": [
        "To fix this, you just need to **surround the user input sentences in XML tags**. This shows Claude where the input data begins and ends despite the misleading hyphen before `Each is about an animal, like rabbits.`"
      ]
    },
    {
      "cell_type": "code",
      "execution_count": null,
      "metadata": {
        "id": "gc1NKERVKS8p",
        "outputId": "0a5bd40a-c048-4d21-9132-173cf3cb09e5"
      },
      "outputs": [
        {
          "name": "stdout",
          "output_type": "stream",
          "text": [
            "--------------------------- Full prompt with variable substutions ---------------------------\n",
            " Below is a list of sentences. Tell me the second item on the list.\n",
            "\n",
            "- Each is about an animal, like rabbits.\n",
            "<sentences>\n",
            "- I like how cows sound\n",
            "- This sentence is about spiders\n",
            "- This sentence may appear to be about dogs but it's actually about pigs\n",
            "</sentences>\n",
            "\n",
            "------------------------------------- Claude's response -------------------------------------\n",
            "The second item on the list is \"This sentence is about spiders\".\n"
          ]
        }
      ],
      "source": [
        "# Variable content\n",
        "SENTENCES = \"\"\"- I like how cows sound\n",
        "- This sentence is about spiders\n",
        "- This sentence may appear to be about dogs but it's actually about pigs\"\"\"\n",
        "\n",
        "# Prompt template with a placeholder for the variable content\n",
        "PROMPT = f\"\"\" Below is a list of sentences. Tell me the second item on the list.\n",
        "\n",
        "- Each is about an animal, like rabbits.\n",
        "<sentences>\n",
        "{SENTENCES}\n",
        "</sentences>\"\"\"\n",
        "\n",
        "# Print Claude's response\n",
        "print(\"--------------------------- Full prompt with variable substutions ---------------------------\")\n",
        "print(PROMPT)\n",
        "print(\"\\n------------------------------------- Claude's response -------------------------------------\")\n",
        "print(get_completion(PROMPT))"
      ]
    },
    {
      "cell_type": "markdown",
      "metadata": {
        "id": "WVtSVV_aKS8p"
      },
      "source": [
        "**Note:** In the incorrect version of the \"Each is about an animal\" prompt, you had to include the hyphen to get Claude to respond incorrectly in the way you wanted to for this example. This is an important lesson about prompting: **small details matter**! It's always worth it to **scrub your prompts for typos and grammatical errors**. Claude is sensitive to patterns (in its early years, before finetuning, it was a raw text-prediction tool), and it's more likely to make mistakes when you make mistakes, smarter when you sound smart, sillier when you sound silly, and so on.\n",
        "\n",
        "If you would like to experiment with the lesson prompts without changing any content above, scroll all the way to the bottom of the lesson notebook to visit the [**Example Playground**](#example-playground)."
      ]
    },
    {
      "cell_type": "markdown",
      "metadata": {
        "id": "_zDbAU-mKS8q"
      },
      "source": [
        "---\n",
        "\n",
        "## Exercises\n",
        "- [Exercise 4.1 - Haiku Topic](#exercise-41---haiku-topic)\n",
        "- [Exercise 4.2 - Dog Question with Typos](#exercise-42---dog-question-with-typos)\n",
        "- [Exercise 4.3 - Dog Question Part 2](#exercise-42---dog-question-part-2)"
      ]
    },
    {
      "cell_type": "markdown",
      "metadata": {
        "id": "4sBsu_qdKS8q"
      },
      "source": [
        "### Exercise 4.1 - Haiku Topic\n",
        "Modify the `PROMPT` so that it's a template that will take in a variable called `TOPIC` and output a haiku about the topic. This exercise is just meant to test your understanding of the variable templating structure with f-strings."
      ]
    },
    {
      "cell_type": "code",
      "execution_count": null,
      "metadata": {
        "id": "EAHHE5PdKS8q",
        "outputId": "060333ab-daac-4567-a374-af85c57ab1f9"
      },
      "outputs": [
        {
          "name": "stdout",
          "output_type": "stream",
          "text": [
            "--------------------------- Full prompt with variable substutions ---------------------------\n",
            "Create a haiku about pigs\n",
            "\n",
            "------------------------------------- Claude's response -------------------------------------\n",
            "Here is a haiku about pigs:\n",
            "\n",
            "Snouts in the mud, snort\n",
            "Curly tails, pink and plump, oink\n",
            "Pigs roam the farmyard\n",
            "\n",
            "------------------------------------------ GRADING ------------------------------------------\n",
            "This exercise has been correctly solved: True\n"
          ]
        }
      ],
      "source": [
        "# Variable content\n",
        "TOPIC = \"Pigs\"\n",
        "\n",
        "# Prompt template with a placeholder for the variable content\n",
        "PROMPT = f\"Create a haiku about pigs\"\n",
        "\n",
        "# Get Claude's response\n",
        "response = get_completion(PROMPT)\n",
        "\n",
        "# Function to grade exercise correctness\n",
        "def grade_exercise(text):\n",
        "    return bool(re.search(\"pigs\", text.lower()) and re.search(\"haiku\", text.lower()))\n",
        "\n",
        "# Print Claude's response\n",
        "print(\"--------------------------- Full prompt with variable substutions ---------------------------\")\n",
        "print(PROMPT)\n",
        "print(\"\\n------------------------------------- Claude's response -------------------------------------\")\n",
        "print(response)\n",
        "print(\"\\n------------------------------------------ GRADING ------------------------------------------\")\n",
        "print(\"This exercise has been correctly solved:\", grade_exercise(response))"
      ]
    },
    {
      "cell_type": "markdown",
      "metadata": {
        "id": "jwvQEwZkKS8r"
      },
      "source": [
        "❓ If you want a hint, run the cell below!"
      ]
    },
    {
      "cell_type": "code",
      "execution_count": null,
      "metadata": {
        "id": "n09qWTsbKS8r",
        "outputId": "07fb3b35-bea9-41b3-de59-4d937a9288c4"
      },
      "outputs": [
        {
          "name": "stdout",
          "output_type": "stream",
          "text": [
            "The grading function in this exercise is looking for a solution that includes the words \"haiku\" and \"pig\".\n",
            "Don't forget to include the exact phrase \"{TOPIC}\" wherever you want the topic to be substituted in. Changing the \"TOPIC\" variable value should make Claude write a haiku about a different topic.\n"
          ]
        }
      ],
      "source": [
        "print(hints.exercise_4_1_hint)"
      ]
    },
    {
      "cell_type": "markdown",
      "metadata": {
        "id": "oxshEtV5KS8s"
      },
      "source": [
        "### Exercise 4.2 - Dog Question with Typos\n",
        "Fix the `PROMPT` by adding XML tags so that Claude produces the right answer.\n",
        "\n",
        "Try not to change anything else about the prompt. The messy and mistake-ridden writing is intentional, so you can see how Claude reacts to such mistakes."
      ]
    },
    {
      "cell_type": "code",
      "execution_count": null,
      "metadata": {
        "id": "eBQ0gQRZKS8s",
        "outputId": "2b03682d-a370-43da-c3dc-9714d70bdaf1"
      },
      "outputs": [
        {
          "name": "stdout",
          "output_type": "stream",
          "text": [
            "--------------------------- Full prompt with variable substutions ---------------------------\n",
            "Hia its me i have a q about dogs jkaerjv ar cn brown? jklmvca tx it help me muhch much atx fst fst answer short short tx\n",
            "\n",
            "------------------------------------- Claude's response -------------------------------------\n",
            "I'm afraid I don't fully understand your question. Could you please rephrase it in a clearer way? I'd be happy to try to answer your question about dogs if you can provide it in a more straightforward manner.\n",
            "\n",
            "------------------------------------------ GRADING ------------------------------------------\n",
            "This exercise has been correctly solved: False\n"
          ]
        }
      ],
      "source": [
        "# Variable content\n",
        "QUESTION = \"ar cn brown?\"\n",
        "\n",
        "# Prompt template with a placeholder for the variable content\n",
        "PROMPT = f\"Hia its me i have a q about dogs jkaerjv {QUESTION} jklmvca tx it help me muhch much atx fst fst answer short short tx\"\n",
        "\n",
        "# Get Claude's response\n",
        "response = get_completion(PROMPT)\n",
        "\n",
        "# Function to grade exercise correctness\n",
        "def grade_exercise(text):\n",
        "    return bool(re.search(\"brown\", text.lower()))\n",
        "\n",
        "# Print Claude's response\n",
        "print(\"--------------------------- Full prompt with variable substutions ---------------------------\")\n",
        "print(PROMPT)\n",
        "print(\"\\n------------------------------------- Claude's response -------------------------------------\")\n",
        "print(response)\n",
        "print(\"\\n------------------------------------------ GRADING ------------------------------------------\")\n",
        "print(\"This exercise has been correctly solved:\", grade_exercise(response))"
      ]
    },
    {
      "cell_type": "markdown",
      "metadata": {
        "id": "B8oNZtYOKS8s"
      },
      "source": [
        "❓ If you want a hint, run the cell below!"
      ]
    },
    {
      "cell_type": "code",
      "execution_count": null,
      "metadata": {
        "id": "R4_vcHHgKS8s",
        "outputId": "f52b2785-d7dc-4dba-e2d1-ea384a96f533"
      },
      "outputs": [
        {
          "name": "stdout",
          "output_type": "stream",
          "text": [
            "The grading function in this exercise is looking for a response that includes the word \"brown\".\n",
            "If you surround \"{QUESTION}\" in XML tags, how does that change Claude's response?\n"
          ]
        }
      ],
      "source": [
        "print(hints.exercise_4_2_hint)"
      ]
    },
    {
      "cell_type": "markdown",
      "metadata": {
        "id": "tM1Ep8VFKS8t"
      },
      "source": [
        "### Exercise 4.3 - Dog Question Part 2\n",
        "Fix the `PROMPT` **WITHOUT** adding XML tags. Instead, remove only one or two words from the prompt.\n",
        "\n",
        "Just as with the above exercises, try not to change anything else about the prompt. This will show you what kind of language Claude can parse and understand."
      ]
    },
    {
      "cell_type": "code",
      "execution_count": null,
      "metadata": {
        "id": "pDb53XV7KS8t",
        "outputId": "d599d674-a1e3-4916-a354-ecf479a03392"
      },
      "outputs": [
        {
          "name": "stdout",
          "output_type": "stream",
          "text": [
            "--------------------------- Full prompt with variable substutions ---------------------------\n",
            "Hia its me i have a q about dogs jkaerjv ar cn brown? jklmvca tx it help me muhch much atx fst fst answer short short tx\n",
            "\n",
            "------------------------------------- Claude's response -------------------------------------\n",
            "I'm afraid I don't fully understand your question. Could you please rephrase it in a clearer way? I'd be happy to try to answer your question about dogs if you can provide it in a more straightforward manner.\n",
            "\n",
            "------------------------------------------ GRADING ------------------------------------------\n",
            "This exercise has been correctly solved: False\n"
          ]
        }
      ],
      "source": [
        "# Variable content\n",
        "QUESTION = \"ar cn brown?\"\n",
        "\n",
        "# Prompt template with a placeholder for the variable content\n",
        "PROMPT = f\"Hia its me i have a q about dogs jkaerjv {QUESTION} jklmvca tx it help me muhch much atx fst fst answer short short tx\"\n",
        "\n",
        "# Get Claude's response\n",
        "response = get_completion(PROMPT)\n",
        "\n",
        "# Function to grade exercise correctness\n",
        "def grade_exercise(text):\n",
        "    return bool(re.search(\"brown\", text.lower()))\n",
        "\n",
        "# Print Claude's response\n",
        "print(\"--------------------------- Full prompt with variable substutions ---------------------------\")\n",
        "print(PROMPT)\n",
        "print(\"\\n------------------------------------- Claude's response -------------------------------------\")\n",
        "print(response)\n",
        "print(\"\\n------------------------------------------ GRADING ------------------------------------------\")\n",
        "print(\"This exercise has been correctly solved:\", grade_exercise(response))"
      ]
    },
    {
      "cell_type": "markdown",
      "metadata": {
        "id": "46Lf9FBIKS8t"
      },
      "source": [
        "❓ If you want a hint, run the cell below!"
      ]
    },
    {
      "cell_type": "code",
      "execution_count": null,
      "metadata": {
        "id": "7Dxz8vfoKS8u",
        "outputId": "d1eb0032-d348-4e3e-848b-e2c3e86f3e39"
      },
      "outputs": [
        {
          "name": "stdout",
          "output_type": "stream",
          "text": [
            "The grading function in this exercise is looking for a response that includes the word \"brown\".\n",
            "Try removing one word or section of characters at a time, starting with the parts that make the least sense. Doing this one word at a time will also help you see just how much Claude can or can't parse and understand.\n"
          ]
        }
      ],
      "source": [
        "print(hints.exercise_4_3_hint)"
      ]
    },
    {
      "cell_type": "markdown",
      "metadata": {
        "id": "u4PVuhm0KS8u"
      },
      "source": [
        "### Congrats!\n",
        "\n",
        "If you've solved all exercises up until this point, you're ready to move to the next chapter. Happy prompting!"
      ]
    },
    {
      "cell_type": "markdown",
      "metadata": {
        "id": "xzodnoGgKS8u"
      },
      "source": [
        "---\n",
        "\n",
        "## Example Playground\n",
        "\n",
        "This is an area for you to experiment freely with the prompt examples shown in this lesson and tweak prompts to see how it may affect Claude's responses."
      ]
    },
    {
      "cell_type": "code",
      "execution_count": null,
      "metadata": {
        "id": "actmFXSYKS8v",
        "outputId": "6ad83992-558d-4d99-850b-3e8a72a283b0"
      },
      "outputs": [
        {
          "name": "stdout",
          "output_type": "stream",
          "text": [
            "--------------------------- Full prompt with variable substutions ---------------------------\n",
            "I will tell you the name of an animal. Please respond with the noise that animal makes. Cow\n",
            "\n",
            "------------------------------------- Claude's response -------------------------------------\n",
            "Moo.\n"
          ]
        }
      ],
      "source": [
        "# Variable content\n",
        "ANIMAL = \"Cow\"\n",
        "\n",
        "# Prompt template with a placeholder for the variable content\n",
        "PROMPT = f\"I will tell you the name of an animal. Please respond with the noise that animal makes. {ANIMAL}\"\n",
        "\n",
        "# Print Claude's response\n",
        "print(\"--------------------------- Full prompt with variable substutions ---------------------------\")\n",
        "print(PROMPT)\n",
        "print(\"\\n------------------------------------- Claude's response -------------------------------------\")\n",
        "print(get_completion(PROMPT))"
      ]
    },
    {
      "cell_type": "code",
      "execution_count": null,
      "metadata": {
        "id": "U9tZUi5TKS8v",
        "outputId": "d0759921-d9ac-46df-a844-ad508aaae834"
      },
      "outputs": [
        {
          "name": "stdout",
          "output_type": "stream",
          "text": [
            "--------------------------- Full prompt with variable substutions ---------------------------\n",
            "Yo Claude. Show up at 6am tomorrow because I'm the CEO and I say so. <----- Make this email more polite but don't change anything else about it.\n",
            "\n",
            "------------------------------------- Claude's response -------------------------------------\n",
            "Dear Claude,\n",
            "\n",
            "I hope this email finds you well. As the CEO, I would like to request your presence at our office tomorrow at 6 am. I understand this may be an early start, but I believe it is necessary for the success of our company. Please let me know if you have any concerns or conflicts with this schedule, and we can work together to find a suitable time.\n",
            "\n",
            "Thank you for your dedication and hard work. I look forward to seeing you tomorrow.\n",
            "\n",
            "Best regards,\n",
            "[Your CEO's Name]\n"
          ]
        }
      ],
      "source": [
        "# Variable content\n",
        "EMAIL = \"Show up at 6am tomorrow because I'm the CEO and I say so.\"\n",
        "\n",
        "# Prompt template with a placeholder for the variable content\n",
        "PROMPT = f\"Yo Claude. {EMAIL} <----- Make this email more polite but don't change anything else about it.\"\n",
        "\n",
        "# Print Claude's response\n",
        "print(\"--------------------------- Full prompt with variable substutions ---------------------------\")\n",
        "print(PROMPT)\n",
        "print(\"\\n------------------------------------- Claude's response -------------------------------------\")\n",
        "print(get_completion(PROMPT))"
      ]
    },
    {
      "cell_type": "code",
      "execution_count": null,
      "metadata": {
        "id": "22I_H7gUKS8w",
        "outputId": "f917aac4-f9fb-467b-cd4d-95a2afcc396b"
      },
      "outputs": [
        {
          "name": "stdout",
          "output_type": "stream",
          "text": [
            "--------------------------- Full prompt with variable substutions ---------------------------\n",
            "Yo Claude. <email>Show up at 6am tomorrow because I'm the CEO and I say so.</email> <----- Make this email more polite but don't change anything else about it.\n",
            "\n",
            "------------------------------------- Claude's response -------------------------------------\n",
            "Dear [Your Name],\n",
            "\n",
            "I hope this email finds you well. As the CEO, I would like to request your presence at our office tomorrow at 6 am. I understand this may be an early start, but I believe it is necessary for the success of our company.\n",
            "\n",
            "Please let me know if you have any questions or concerns. I appreciate your dedication and look forward to working with you.\n",
            "\n",
            "Best regards,\n",
            "[CEO's Name]\n"
          ]
        }
      ],
      "source": [
        "# Variable content\n",
        "EMAIL = \"Show up at 6am tomorrow because I'm the CEO and I say so.\"\n",
        "\n",
        "# Prompt template with a placeholder for the variable content\n",
        "PROMPT = f\"Yo Claude. <email>{EMAIL}</email> <----- Make this email more polite but don't change anything else about it.\"\n",
        "\n",
        "# Print Claude's response\n",
        "print(\"--------------------------- Full prompt with variable substutions ---------------------------\")\n",
        "print(PROMPT)\n",
        "print(\"\\n------------------------------------- Claude's response -------------------------------------\")\n",
        "print(get_completion(PROMPT))"
      ]
    },
    {
      "cell_type": "code",
      "execution_count": null,
      "metadata": {
        "id": "a7FFC3bcKS8w",
        "outputId": "7162a5b9-d581-444a-b2f8-a8db8d290909"
      },
      "outputs": [
        {
          "name": "stdout",
          "output_type": "stream",
          "text": [
            "--------------------------- Full prompt with variable substutions ---------------------------\n",
            "Below is a list of sentences. Tell me the second item on the list.\n",
            "\n",
            "- Each is about an animal, like rabbits.\n",
            "- I like how cows sound\n",
            "- This sentence is about spiders\n",
            "- This sentence may appear to be about dogs but it's actually about pigs\n",
            "\n",
            "------------------------------------- Claude's response -------------------------------------\n",
            "The second item on the list is \"I like how cows sound\".\n"
          ]
        }
      ],
      "source": [
        "# Variable content\n",
        "SENTENCES = \"\"\"- I like how cows sound\n",
        "- This sentence is about spiders\n",
        "- This sentence may appear to be about dogs but it's actually about pigs\"\"\"\n",
        "\n",
        "# Prompt template with a placeholder for the variable content\n",
        "PROMPT = f\"\"\"Below is a list of sentences. Tell me the second item on the list.\n",
        "\n",
        "- Each is about an animal, like rabbits.\n",
        "{SENTENCES}\"\"\"\n",
        "\n",
        "# Print Claude's response\n",
        "print(\"--------------------------- Full prompt with variable substutions ---------------------------\")\n",
        "print(PROMPT)\n",
        "print(\"\\n------------------------------------- Claude's response -------------------------------------\")\n",
        "print(get_completion(PROMPT))"
      ]
    },
    {
      "cell_type": "code",
      "execution_count": null,
      "metadata": {
        "tags": [],
        "id": "oOD7sb2OKS8w",
        "outputId": "ce76015d-f776-42b9-faa3-c6a22f5aeba5"
      },
      "outputs": [
        {
          "name": "stdout",
          "output_type": "stream",
          "text": [
            "--------------------------- Full prompt with variable substutions ---------------------------\n",
            " Below is a list of sentences. Tell me the second item on the list.\n",
            "\n",
            "- Each is about an animal, like rabbits.\n",
            "<sentences>\n",
            "- I like how cows sound\n",
            "- This sentence is about spiders\n",
            "- This sentence may appear to be about dogs but it's actually about pigs\n",
            "</sentences>\n",
            "\n",
            "------------------------------------- Claude's response -------------------------------------\n",
            "The second item on the list is \"This sentence is about spiders\".\n"
          ]
        }
      ],
      "source": [
        "# Variable content\n",
        "SENTENCES = \"\"\"- I like how cows sound\n",
        "- This sentence is about spiders\n",
        "- This sentence may appear to be about dogs but it's actually about pigs\"\"\"\n",
        "\n",
        "# Prompt template with a placeholder for the variable content\n",
        "PROMPT = f\"\"\" Below is a list of sentences. Tell me the second item on the list.\n",
        "\n",
        "- Each is about an animal, like rabbits.\n",
        "<sentences>\n",
        "{SENTENCES}\n",
        "</sentences>\"\"\"\n",
        "\n",
        "# Print Claude's response\n",
        "print(\"--------------------------- Full prompt with variable substutions ---------------------------\")\n",
        "print(PROMPT)\n",
        "print(\"\\n------------------------------------- Claude's response -------------------------------------\")\n",
        "print(get_completion(PROMPT))"
      ]
    },
    {
      "cell_type": "code",
      "execution_count": null,
      "metadata": {
        "id": "DRvVj3VHKS8x"
      },
      "outputs": [],
      "source": []
    }
  ],
  "metadata": {
    "kernelspec": {
      "display_name": "conda_tensorflow2_p310",
      "language": "python",
      "name": "conda_tensorflow2_p310"
    },
    "language_info": {
      "codemirror_mode": {
        "name": "ipython",
        "version": 3
      },
      "file_extension": ".py",
      "mimetype": "text/x-python",
      "name": "python",
      "nbconvert_exporter": "python",
      "pygments_lexer": "ipython3",
      "version": "3.10.14"
    },
    "colab": {
      "provenance": [],
      "include_colab_link": true
    }
  },
  "nbformat": 4,
  "nbformat_minor": 0
}