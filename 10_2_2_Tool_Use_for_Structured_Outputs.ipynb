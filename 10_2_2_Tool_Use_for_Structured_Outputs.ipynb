{
  "cells": [
    {
      "cell_type": "markdown",
      "metadata": {
        "id": "view-in-github",
        "colab_type": "text"
      },
      "source": [
        "<a href=\"https://colab.research.google.com/github/SARA3SAEED/aws-ML/blob/main/10_2_2_Tool_Use_for_Structured_Outputs.ipynb\" target=\"_parent\"><img src=\"https://colab.research.google.com/assets/colab-badge.svg\" alt=\"Open In Colab\"/></a>"
      ]
    },
    {
      "cell_type": "markdown",
      "metadata": {
        "id": "7ArwNjAP0WLz"
      },
      "source": [
        "# Appendix 10.2.2: Forcing JSON with tool use\n",
        "\n",
        "## Learning goals\n",
        "\n",
        "* Understand using tools to force a structured response\n",
        "* Utilize this \"trick\" to generate structured JSON\n",
        "\n",
        "One of the more interesting ways of utilizing tool use is in forcing Claude to respond with structured content like JSON.  There are many situations in which we may want to get a standardized JSON response from Claude: extracting entities, summarizing data, analyzing sentiment, etc.\n",
        "\n",
        "One way of doing this is simply asking Claude to respond with JSON, but this can require additional work to actually extract the JSON from the big string we get back from Claude or to make sure the JSON follows the exact format we want.\n",
        "\n",
        "The good news is that **whenever Claude wants to use a tool, it already responds using the perfectly structured format we told it to use when we defined the tool.**\n",
        "\n",
        "In the previous lesson, we gave Claude a calculator tool.  When it wanted to use the tool, it responded with content like this:\n",
        "\n",
        "```\n",
        "{\n",
        "    'operand1': 1984135,\n",
        "    'operand2': 9343116,\n",
        "    'operation': 'multiply'\n",
        "}\n",
        "```\n",
        "\n",
        "That looks suspiciously similar to JSON!\n",
        "\n",
        "If we want Claude to generate structured JSON, we can use this to our advantage.  All we have to do is define a tool that describes a particular JSON structure and then tell Claude about it.  That's it.  Claude will respond back, thinking it's \"calling a tool\" but really all we care about is the structured response it gives us."
      ]
    },
    {
      "cell_type": "markdown",
      "metadata": {
        "id": "MM-MW1sb0WL2"
      },
      "source": [
        "***"
      ]
    },
    {
      "cell_type": "markdown",
      "metadata": {
        "id": "OZxJajzy0WL3"
      },
      "source": [
        "# Conceptual overview\n",
        "\n",
        "How is this different than what we did in the previous lesson?  Here's a diagram of the workflow from the last lesson:\n",
        "\n",
        "![chickens_calculator.png](./images/chickens_calculator.png)\n",
        "\n",
        "In the last lesson, we gave Claude access to a tool, Claude wanted to call it, and then we actually called the underlying tool function.\n",
        "\n",
        "In this lesson, we're going to \"trick\" Claude by telling it about a particular tool, but we won't need to actually call the underlying tool function.  We're using the tool as a way of forcing a particular structure of response, as seen in this diagram:\n",
        "\n",
        "![structured_response.png](./images/structured_response.png)"
      ]
    },
    {
      "cell_type": "markdown",
      "metadata": {
        "id": "eUPM0rqv0WL3"
      },
      "source": [
        "## Sentiment analysis\n",
        "Let's start with a simple example.  Suppose we want Claude to analyze the sentiment in some text and respond with a JSON object that follows this shape:\n",
        "\n",
        "```\n",
        "{\n",
        "  \"negative_score\": 0.6,\n",
        "  \"neutral_score\": 0.3,\n",
        "  \"positive_score\": 0.1\n",
        "}\n",
        "```"
      ]
    },
    {
      "cell_type": "markdown",
      "metadata": {
        "id": "UnipchgQ0WL3"
      },
      "source": [
        "All we have to do is define a tool that captures this shape using JSON Schema.  Here's a potential implementation:"
      ]
    },
    {
      "cell_type": "code",
      "execution_count": null,
      "metadata": {
        "tags": [],
        "id": "EU3qYxO90WL4",
        "outputId": "71c0389d-238f-4c9b-9239-223c9e4ae971"
      },
      "outputs": [
        {
          "name": "stdout",
          "output_type": "stream",
          "text": [
            "Note: you may need to restart the kernel to use updated packages.\n",
            "Note: you may need to restart the kernel to use updated packages.\n"
          ]
        }
      ],
      "source": [
        "%pip install -qU pip\n",
        "%pip install -qUr requirements.txt"
      ]
    },
    {
      "cell_type": "code",
      "execution_count": null,
      "metadata": {
        "tags": [],
        "id": "hp2wIT860WL6"
      },
      "outputs": [],
      "source": [
        "import boto3\n",
        "import json\n",
        "from datetime import datetime\n",
        "from botocore.exceptions import ClientError\n",
        "\n",
        "# Import the hints module from the utils package\n",
        "from utils import hints\n",
        "\n",
        "session = boto3.Session()\n",
        "region = session.region_name"
      ]
    },
    {
      "cell_type": "code",
      "execution_count": null,
      "metadata": {
        "tags": [],
        "id": "gd0PbUEc0WL7"
      },
      "outputs": [],
      "source": [
        "modelId = 'anthropic.claude-3-sonnet-20240229-v1:0'\n",
        "#modelId = 'anthropic.claude-3-haiku-20240307-v1:0'\n",
        "\n",
        "bedrock_client = boto3.client(service_name = 'bedrock-runtime', region_name = region,)"
      ]
    },
    {
      "cell_type": "code",
      "execution_count": null,
      "metadata": {
        "tags": [],
        "id": "GNNQGMz_0WL7"
      },
      "outputs": [],
      "source": [
        "tools = {\n",
        "  \"tools\": [\n",
        "    {\n",
        "      \"toolSpec\": {\n",
        "        \"name\": \"print_sentiment_scores\",\n",
        "        \"description\": \"Prints the sentiment scores of a given text.\",\n",
        "        \"inputSchema\": {\n",
        "          \"json\": {\n",
        "            \"type\": \"object\",\n",
        "            \"properties\": {\n",
        "              \"positive_score\": {\n",
        "                \"type\": \"number\",\n",
        "                \"description\": \"The positive sentiment score, ranging from 0.0 to 1.0.\"},\n",
        "              \"negative_score\": {\n",
        "                \"type\": \"number\",\n",
        "                \"description\": \"The negative sentiment score, ranging from 0.0 to 1.0.\"},\n",
        "              \"neutral_score\": {\n",
        "                \"type\": \"number\",\n",
        "                \"description\": \"The neutral sentiment score, ranging from 0.0 to 1.0.\"}\n",
        "            },\n",
        "            \"required\": [\"positive_score\", \"negative_score\", \"neutral_score\"\n",
        "            ]\n",
        "          }\n",
        "        }\n",
        "      }\n",
        "    }\n",
        "  ]\n",
        "}"
      ]
    },
    {
      "cell_type": "markdown",
      "metadata": {
        "id": "TW9saEm80WL8"
      },
      "source": [
        "Now we can tell Claude about this tool and explicitly tell Claude to use it, to ensure that it actually does use it.  We should get a response telling us that Claude wants to use a tool.  The tool use response should contain all the data in the exact format we want."
      ]
    },
    {
      "cell_type": "code",
      "execution_count": null,
      "metadata": {
        "tags": [],
        "id": "mplUT_tL0WL8"
      },
      "outputs": [],
      "source": [
        "tweet = \"I'm a HUGE hater of pickles.  I actually despise pickles.  They are garbage.\"\n",
        "\n",
        "query = f\"\"\"\n",
        "<text>\n",
        "{tweet}\n",
        "</text>\n",
        "\n",
        "Only use the print_sentiment_scores tool.\n",
        "\"\"\"\n",
        "\n",
        "converse_api_params = {\n",
        "    \"modelId\": \"anthropic.claude-3-haiku-20240307-v1:0\",\n",
        "    \"messages\": [{\"role\": \"user\", \"content\": [{\"text\": query}]}],\n",
        "    \"inferenceConfig\": {\"temperature\": 0.0, \"maxTokens\": 400},\n",
        "    \"toolConfig\": tools,\n",
        "}\n",
        "\n",
        "response = bedrock_client.converse(**converse_api_params)"
      ]
    },
    {
      "cell_type": "code",
      "execution_count": null,
      "metadata": {
        "tags": [],
        "id": "9G9w7Kx80WL9",
        "outputId": "99d8656c-74b4-48e3-d205-af1dbf615cf4"
      },
      "outputs": [
        {
          "data": {
            "text/plain": [
              "{'message': {'role': 'assistant',\n",
              "  'content': [{'text': \"Okay, let's analyze the sentiment of the given text using the print_sentiment_scores tool:\"},\n",
              "   {'toolUse': {'toolUseId': 'tooluse_xXC84eXFQA-vbOn05G-5Dg',\n",
              "     'name': 'print_sentiment_scores',\n",
              "     'input': {'text': \"I'm a HUGE hater of pickles.  I actually despise pickles.  They are garbage.\"}}}]}}"
            ]
          },
          "execution_count": 27,
          "metadata": {},
          "output_type": "execute_result"
        }
      ],
      "source": [
        "response['output']"
      ]
    },
    {
      "cell_type": "markdown",
      "metadata": {
        "id": "rhgPDHhj0WL9"
      },
      "source": [
        "Let's take a look at the response we get back from Claude.  We've bolded the important part:\n",
        "\n",
        ">{'message': {'role': 'assistant',\n",
        "  'content': [{'text': 'Here is the sentiment analysis for the given text:'},\n",
        "   {'toolUse': {'toolUseId': 'tooluse_d2ReNcjDQvKjLLet4u9EOA',\n",
        "     'name': 'print_sentiment_scores',\n",
        "     **'input': {'positive_score': 0.0,\n",
        "      'negative_score': 0.7,\n",
        "      'neutral_score': 0.3}**}}]}}\n",
        "\n",
        "Claude \"thinks\" it's calling a tool that will use this sentiment analysis data, but really we're just going to extract the data and turn it into JSON:"
      ]
    },
    {
      "cell_type": "code",
      "execution_count": null,
      "metadata": {
        "tags": [],
        "id": "bm7_v0Ge0WL9",
        "outputId": "4e879aac-6d48-4a13-baa9-9d3daac8e897"
      },
      "outputs": [
        {
          "name": "stdout",
          "output_type": "stream",
          "text": [
            "Sentiment Analysis (JSON):\n",
            "{\n",
            "  \"text\": \"I'm a HUGE hater of pickles.  I actually despise pickles.  They are garbage.\"\n",
            "}\n"
          ]
        }
      ],
      "source": [
        "import json\n",
        "json_sentiment = None\n",
        "for content in response['output']['message']['content']:\n",
        "    if isinstance(content, dict) and 'toolUse' in content:\n",
        "        tool_use = content['toolUse']\n",
        "        if tool_use['name'] == \"print_sentiment_scores\":\n",
        "            json_sentiment = tool_use['input']\n",
        "            break\n",
        "\n",
        "if json_sentiment:\n",
        "    print(\"Sentiment Analysis (JSON):\")\n",
        "    print(json.dumps(json_sentiment, indent=2))\n",
        "else:\n",
        "    print(\"No sentiment analysis found in the response.\")"
      ]
    },
    {
      "cell_type": "markdown",
      "metadata": {
        "id": "q4pceZ440WL-"
      },
      "source": [
        "It works! Now let's turn that into a reusable function that takes a tweet or article and then prints or returns the sentiment analysis as JSON."
      ]
    },
    {
      "cell_type": "code",
      "execution_count": null,
      "metadata": {
        "tags": [],
        "id": "qyI6bB0C0WL-"
      },
      "outputs": [],
      "source": [
        "def analyze_sentiment(content):\n",
        "\n",
        "    query = f\"\"\"\n",
        "    <text>\n",
        "    {content}\n",
        "    </text>\n",
        "\n",
        "    Only use the print_sentiment_scores tool.\n",
        "    \"\"\"\n",
        "\n",
        "    converse_api_params = {\n",
        "        \"modelId\": \"anthropic.claude-3-haiku-20240307-v1:0\",\n",
        "        \"messages\": [{\"role\": \"user\", \"content\": [{\"text\": query}]}],\n",
        "        \"inferenceConfig\": {\"temperature\": 0.0, \"maxTokens\": 4096},\n",
        "        \"toolConfig\": tools,\n",
        "    }\n",
        "\n",
        "    response = bedrock_client.converse(**converse_api_params)\n",
        "\n",
        "    json_sentiment = None\n",
        "    for content in response['output']['message']['content']:\n",
        "        if isinstance(content, dict) and 'toolUse' in content:\n",
        "            tool_use = content['toolUse']\n",
        "            if tool_use['name'] == \"print_sentiment_scores\":\n",
        "                json_sentiment = tool_use['input']\n",
        "                break\n",
        "\n",
        "    if json_sentiment:\n",
        "        print(\"Sentiment Analysis (JSON):\")\n",
        "        print(json.dumps(json_sentiment, indent=2))\n",
        "    else:\n",
        "        print(\"No sentiment analysis found in the response.\")"
      ]
    },
    {
      "cell_type": "code",
      "execution_count": null,
      "metadata": {
        "tags": [],
        "id": "ArFSN7EN0WL-",
        "outputId": "ae0bd716-8c99-48bb-9cf7-5882c3fead2c"
      },
      "outputs": [
        {
          "name": "stdout",
          "output_type": "stream",
          "text": [
            "Sentiment Analysis (JSON):\n",
            "{\n",
            "  \"positive_score\": 0.9,\n",
            "  \"negative_score\": 0.0,\n",
            "  \"neutral_score\": 0.1\n",
            "}\n"
          ]
        }
      ],
      "source": [
        "analyze_sentiment(\"OMG I absolutely love taking bubble baths soooo much!!!!\")"
      ]
    },
    {
      "cell_type": "code",
      "execution_count": null,
      "metadata": {
        "tags": [],
        "id": "pjEgr96Q0WL-",
        "outputId": "417a7fe3-a6ba-4558-f822-8e9a0dee068a"
      },
      "outputs": [
        {
          "name": "stdout",
          "output_type": "stream",
          "text": [
            "Sentiment Analysis (JSON):\n",
            "{\n",
            "  \"positive_score\": 0.0,\n",
            "  \"negative_score\": 0.0,\n",
            "  \"neutral_score\": 1.0\n",
            "}\n"
          ]
        }
      ],
      "source": [
        "analyze_sentiment(\"Honestly I have no opinion on taking baths\")"
      ]
    },
    {
      "cell_type": "markdown",
      "metadata": {
        "id": "QlAmgnVT0WL_"
      },
      "source": [
        "***"
      ]
    },
    {
      "cell_type": "markdown",
      "metadata": {
        "id": "XclRxEBg0WL_"
      },
      "source": [
        "## Forcing tool use with `toolChoice`\n",
        "\n",
        "Currently we're \"forcing\" Claude to use our `print_sentiment_scores` tool through prompting.  In our prompt, we write `Only use the print_sentiment_scores tool.` which usually works, but there's a better way! We can actually force Claude to use a specific tool using the `tool_choice` parameter:"
      ]
    },
    {
      "cell_type": "markdown",
      "metadata": {
        "tags": [],
        "id": "dRbG4-pF0WL_"
      },
      "source": [
        "```json\n",
        "tool_choice = {\n",
        "    \"tool\": {\n",
        "        \"name\": \"print_sentiment_scores\"}\n",
        "}\n",
        "```"
      ]
    },
    {
      "cell_type": "markdown",
      "metadata": {
        "id": "uq8k2nae0WL_"
      },
      "source": [
        "The above code tells Claude that it must respond by calling the `print_sentiment_scores` tool.  Let's update our tools and function to use it:"
      ]
    },
    {
      "cell_type": "code",
      "execution_count": null,
      "metadata": {
        "id": "63_7jxer0WL_"
      },
      "outputs": [],
      "source": [
        "# create out toolConfig var and force the toolChoice to be print_sentiment_scores by name\n",
        "toolConfig = {'tools': [],\n",
        "        \"toolChoice\": {\n",
        "        \"tool\": {\"name\":\"print_sentiment_scores\"},\n",
        "    }\n",
        "}"
      ]
    },
    {
      "cell_type": "code",
      "execution_count": null,
      "metadata": {
        "id": "mpSCm6rj0WL_"
      },
      "outputs": [],
      "source": [
        "# append our tool specification to our toolConfig\n",
        "toolConfig['tools'].append({\n",
        "      \"toolSpec\": {\n",
        "        \"name\": \"print_sentiment_scores\",\n",
        "        \"description\": \"Prints the sentiment scores of a given text.\",\n",
        "        \"inputSchema\": {\n",
        "          \"json\": {\n",
        "            \"type\": \"object\",\n",
        "            \"properties\": {\n",
        "              \"positive_score\": {\n",
        "                \"type\": \"number\",\n",
        "                \"description\": \"The positive sentiment score, ranging from 0.0 to 1.0.\"},\n",
        "              \"negative_score\": {\n",
        "                \"type\": \"number\",\n",
        "                \"description\": \"The negative sentiment score, ranging from 0.0 to 1.0.\"},\n",
        "              \"neutral_score\": {\n",
        "                \"type\": \"number\",\n",
        "                \"description\": \"The neutral sentiment score, ranging from 0.0 to 1.0.\"}\n",
        "            },\n",
        "            \"required\": [\"positive_score\", \"negative_score\", \"neutral_score\"]\n",
        "          }\n",
        "        }\n",
        "      }\n",
        "    })"
      ]
    },
    {
      "cell_type": "code",
      "execution_count": null,
      "metadata": {
        "tags": [],
        "id": "QhoJZxyZ0WMA",
        "outputId": "b7712138-1203-4687-cfa6-e54baa0e9b90"
      },
      "outputs": [
        {
          "data": {
            "text/plain": [
              "{'tools': [{'toolSpec': {'name': 'print_sentiment_scores',\n",
              "    'description': 'Prints the sentiment scores of a given text.',\n",
              "    'inputSchema': {'json': {'type': 'object',\n",
              "      'properties': {'positive_score': {'type': 'number',\n",
              "        'description': 'The positive sentiment score, ranging from 0.0 to 1.0.'},\n",
              "       'negative_score': {'type': 'number',\n",
              "        'description': 'The negative sentiment score, ranging from 0.0 to 1.0.'},\n",
              "       'neutral_score': {'type': 'number',\n",
              "        'description': 'The neutral sentiment score, ranging from 0.0 to 1.0.'}},\n",
              "      'required': ['positive_score', 'negative_score', 'neutral_score']}}}}],\n",
              " 'toolChoice': {'tool': {'name': 'print_sentiment_scores'}}}"
            ]
          },
          "execution_count": 34,
          "metadata": {},
          "output_type": "execute_result"
        }
      ],
      "source": [
        "# optional uncomment if you want to see the complete toolConfig\n",
        "toolConfig"
      ]
    },
    {
      "cell_type": "code",
      "execution_count": null,
      "metadata": {
        "tags": [],
        "id": "R27WXLJT0WMA"
      },
      "outputs": [],
      "source": [
        "def analyze_sentiment(content):\n",
        "\n",
        "    query = f\"\"\"\n",
        "    <text>\n",
        "    {content}\n",
        "    </text>\n",
        "\n",
        "    Only use the print_sentiment_scores tool.\n",
        "    \"\"\"\n",
        "\n",
        "    converse_api_params = {\n",
        "        \"modelId\": \"anthropic.claude-3-haiku-20240307-v1:0\",\n",
        "        \"messages\": [{\"role\": \"user\", \"content\": [{\"text\": query}]}],\n",
        "        \"inferenceConfig\": {\"temperature\": 0.0, \"maxTokens\": 4096},\n",
        "        \"toolConfig\": toolConfig\n",
        "    }\n",
        "\n",
        "    response = bedrock_client.converse(**converse_api_params)\n",
        "\n",
        "    json_sentiment = None\n",
        "    for content in response['output']['message']['content']:\n",
        "        if isinstance(content, dict) and 'toolUse' in content:\n",
        "            tool_use = content['toolUse']\n",
        "            if tool_use['name'] == \"print_sentiment_scores\":\n",
        "                json_sentiment = tool_use['input']\n",
        "                break\n",
        "\n",
        "    if json_sentiment:\n",
        "        print(\"Sentiment Analysis (JSON):\")\n",
        "        print(json.dumps(json_sentiment, indent=2))\n",
        "    else:\n",
        "        print(\"No sentiment analysis found in the response.\")"
      ]
    },
    {
      "cell_type": "code",
      "execution_count": null,
      "metadata": {
        "tags": [],
        "id": "-gMu1O-70WMA",
        "outputId": "5f2ff4f3-629d-4214-82ce-b2cd0028d7a6"
      },
      "outputs": [
        {
          "name": "stdout",
          "output_type": "stream",
          "text": [
            "Sentiment Analysis (JSON):\n",
            "{\n",
            "  \"positive_score\": 0.0,\n",
            "  \"negative_score\": 0.0,\n",
            "  \"neutral_score\": 1.0\n",
            "}\n"
          ]
        }
      ],
      "source": [
        "analyze_sentiment(\"Honestly I have no opinion on taking baths\")"
      ]
    },
    {
      "cell_type": "markdown",
      "metadata": {
        "id": "JmWsDs4h0WMB"
      },
      "source": [
        "We'll cover `toolChoice` in greater detail in an upcoming lesson."
      ]
    },
    {
      "cell_type": "markdown",
      "metadata": {
        "id": "P37X_BqQ0WMB"
      },
      "source": [
        "***"
      ]
    },
    {
      "cell_type": "markdown",
      "metadata": {
        "id": "jLmq-bvO0WMB"
      },
      "source": [
        "## Entity extraction example\n",
        "\n",
        "Let's use this same approach to get Claude to generate nicely formatted JSON that contains entities like people, organizations, and locations extracted from a text sample:\n"
      ]
    },
    {
      "cell_type": "code",
      "execution_count": null,
      "metadata": {
        "tags": [],
        "id": "F9lowkC80WMB",
        "outputId": "24e3baea-5b44-4094-849e-246bc63f9649"
      },
      "outputs": [
        {
          "name": "stdout",
          "output_type": "stream",
          "text": [
            "Extracted Entities (JSON):\n",
            "{\n",
            "  \"entities\": [\n",
            "    {\n",
            "      \"name\": \"John\",\n",
            "      \"type\": \"PERSON\",\n",
            "      \"context\": \"John works at Google in New York.\"\n",
            "    },\n",
            "    {\n",
            "      \"name\": \"Google\",\n",
            "      \"type\": \"ORGANIZATION\",\n",
            "      \"context\": \"John works at Google in New York.\"\n",
            "    },\n",
            "    {\n",
            "      \"name\": \"New York\",\n",
            "      \"type\": \"LOCATION\",\n",
            "      \"context\": \"John works at Google in New York.\"\n",
            "    },\n",
            "    {\n",
            "      \"name\": \"Sarah\",\n",
            "      \"type\": \"PERSON\",\n",
            "      \"context\": \"He met with Sarah, the CEO of Acme Inc., last week in San Francisco.\"\n",
            "    },\n",
            "    {\n",
            "      \"name\": \"Acme Inc.\",\n",
            "      \"type\": \"ORGANIZATION\",\n",
            "      \"context\": \"He met with Sarah, the CEO of Acme Inc., last week in San Francisco.\"\n",
            "    },\n",
            "    {\n",
            "      \"name\": \"San Francisco\",\n",
            "      \"type\": \"LOCATION\",\n",
            "      \"context\": \"He met with Sarah, the CEO of Acme Inc., last week in San Francisco.\"\n",
            "    }\n",
            "  ]\n",
            "}\n"
          ]
        }
      ],
      "source": [
        "toolConfig = {\n",
        "  \"tools\": [\n",
        "    {\n",
        "      \"toolSpec\": {\n",
        "        \"name\": \"print_entities\",\n",
        "        \"description\": \"Prints extract named entities.\",\n",
        "        \"inputSchema\": {\n",
        "          \"json\": {\n",
        "            \"type\": \"object\",\n",
        "            \"properties\": {\n",
        "              \"entities\": {\n",
        "                \"type\": \"array\",\n",
        "                \"items\": {\n",
        "                  \"type\": \"object\",\n",
        "                  \"properties\": {\n",
        "                    \"name\": {\"type\": \"string\", \"description\": \"The extracted entity name.\"},\n",
        "                    \"type\": {\"type\": \"string\", \"description\": \"The entity type (e.g., PERSON, ORGANIZATION, LOCATION).\"},\n",
        "                    \"context\": {\"type\": \"string\", \"description\": \"The context in which the entity appears in the text.\"}\n",
        "                  },\n",
        "                  \"required\": [\"name\", \"type\", \"context\"]\n",
        "                }\n",
        "              }\n",
        "            },\n",
        "            \"required\": [\"entities\"]\n",
        "          }\n",
        "        }\n",
        "      }\n",
        "    }\n",
        "  ]\n",
        "}\n",
        "\n",
        "text = \"John works at Google in New York. He met with Sarah, the CEO of Acme Inc., last week in San Francisco.\"\n",
        "\n",
        "query = f\"\"\"\n",
        "<document>\n",
        "{text}\n",
        "</document>\n",
        "\n",
        "Use the print_entities tool.\n",
        "\"\"\"\n",
        "\n",
        "converse_api_params = {\n",
        "    \"modelId\": \"anthropic.claude-3-haiku-20240307-v1:0\",\n",
        "    \"messages\": [{\"role\": \"user\", \"content\": [{\"text\": query}]}],\n",
        "    \"additionalModelRequestFields\": {\"max_tokens\": 4096},\n",
        "    \"toolConfig\": toolConfig\n",
        "}\n",
        "\n",
        "response = bedrock_client.converse(**converse_api_params)\n",
        "\n",
        "\n",
        "json_entities = None\n",
        "for content in response['output']['message']['content']:\n",
        "    if isinstance(content, dict) and 'toolUse' in content:\n",
        "        tool_use = content['toolUse']\n",
        "        if tool_use['name'] == \"print_entities\":\n",
        "            json_entities = tool_use['input']\n",
        "            break\n",
        "\n",
        "if json_entities:\n",
        "    print(\"Extracted Entities (JSON):\")\n",
        "    print(json.dumps(json_entities, indent=2))\n",
        "else:\n",
        "    print(\"No entities found in the response.\")"
      ]
    },
    {
      "cell_type": "markdown",
      "metadata": {
        "id": "q2fvjOOO0WMB"
      },
      "source": [
        "We're using the same \"trick\" as before.  We tell Claude it has access to a tool as a way of getting Claude to respond with a particular data format.  Then we extract the formatted data Claude responded with, and we're good to go.\n",
        "\n",
        "Remember that in this use case, it helps to explicitly tell Claude we want it to use a given tool:\n",
        "\n",
        "\n",
        ">Use the print_entities tool.\n"
      ]
    },
    {
      "cell_type": "markdown",
      "metadata": {
        "id": "Tp6mYwpM0WMC"
      },
      "source": [
        "***"
      ]
    },
    {
      "cell_type": "markdown",
      "metadata": {
        "id": "YtR0kAhY0WMC"
      },
      "source": [
        "## Wikipedia summary example with more complex data\n",
        "\n",
        "Let's try another example that's a little more complex.  We'll use the Python `wikipedia` package to get entire Wikipedia page articles and pass them to Claude.  We'll use Claude to generate a response that includes:\n",
        "\n",
        "* The main subject of the article\n",
        "* A summary of the article\n",
        "* A list of keywords and topics mentioned in the article\n",
        "* A list of category classifications for the article (entertainment, politics, business, etc.) along with a classification score (i.e., how strongly the topic falls into that category)"
      ]
    },
    {
      "cell_type": "markdown",
      "metadata": {
        "id": "c4P9E_6G0WMC"
      },
      "source": [
        "If we passed Claude the Wikipedia article about Walt Disney, we might expect a result like this:\n",
        "\n",
        "```json\n",
        "{\n",
        "  \"subject\": \"Walt Disney\",\n",
        "  \"summary\": \"Walter Elias Disney was an American animator, film producer, and entrepreneur. He was a pioneer of the American animation industry and introduced several developments in the production of cartoons. He held the record for most Academy Awards earned and nominations by an individual. He was also involved in the development of Disneyland and other theme parks, as well as television programs.\",\n",
        "  \"keywords\": [\n",
        "    \"Walt Disney\",\n",
        "    \"animation\",\n",
        "    \"film producer\",\n",
        "    \"entrepreneur\",\n",
        "    \"Disneyland\",\n",
        "    \"theme parks\",\n",
        "    \"television\"\n",
        "  ],\n",
        "  \"categories\": [\n",
        "    {\n",
        "      \"name\": \"Entertainment\",\n",
        "      \"score\": 0.9\n",
        "    },\n",
        "    {\n",
        "      \"name\": \"Business\",\n",
        "      \"score\": 0.7\n",
        "    },\n",
        "    {\n",
        "      \"name\": \"Technology\",\n",
        "      \"score\": 0.6\n",
        "    }\n",
        "  ]\n",
        "}\n",
        "```"
      ]
    },
    {
      "cell_type": "markdown",
      "metadata": {
        "id": "iCYhRC-q0WMC"
      },
      "source": [
        "Here's an example implementation of a function that expects a Wikipedia page subject, finds the article, downloads the contents, passes it to Claude, and then prints out the resulting JSON data.  We use the same strategy of defining a tool to \"coach\" the shape of Claude's response.\n",
        "\n",
        "Note: make sure to `pip install wikipedia` if you don't have it on your machine!"
      ]
    },
    {
      "cell_type": "code",
      "execution_count": null,
      "metadata": {
        "tags": [],
        "id": "noSFfKCx0WMD"
      },
      "outputs": [],
      "source": [
        "import wikipedia\n",
        "\n",
        "#tool definition\n",
        "toolConfig = {\n",
        "  \"tools\": [\n",
        "    {\n",
        "      \"toolSpec\": {\n",
        "        \"name\": \"print_article_classification\",\n",
        "        \"description\": \"Prints the classification results.\",\n",
        "        \"inputSchema\": {\n",
        "          \"json\": {\n",
        "            \"type\": \"object\",\n",
        "            \"properties\": {\n",
        "              \"subject\": {\n",
        "                \"type\": \"string\",\n",
        "                \"description\": \"The overall subject of the article\"},\n",
        "              \"summary\": {\n",
        "                \"type\": \"string\",\n",
        "                \"description\": \"A paragaph summary of the article\"},\n",
        "              \"keywords\": {\n",
        "                \"type\": \"array\",\n",
        "                \"items\": {\n",
        "                  \"type\": \"string\",\n",
        "                  \"description\": \"List of keywords and topics in the article\"}\n",
        "              },\n",
        "              \"categories\": {\n",
        "                \"type\": \"array\",\n",
        "                \"items\": {\n",
        "                  \"type\": \"object\",\n",
        "                  \"properties\": {\n",
        "                    \"name\": {\"type\": \"string\", \"description\": \"The category name.\"},\n",
        "                    \"score\": {\"type\": \"number\", \"description\": \"The classification score for the category, ranging from 0.0 to 1.0.\"}\n",
        "                  },\n",
        "                  \"required\": [\"name\", \"score\"]\n",
        "                }\n",
        "              }\n",
        "            },\n",
        "            \"required\": [\"subject\", \"summary\", \"keywords\", \"categories\"]\n",
        "          }\n",
        "        }\n",
        "      }\n",
        "    }\n",
        "  ]\n",
        "}\n",
        "\n",
        "#The function that generates the json for a given article subject\n",
        "def generate_json_for_article(subject):\n",
        "    page = wikipedia.page(subject, auto_suggest=True)\n",
        "    query = f\"\"\"\n",
        "    <document>\n",
        "    {page.content}\n",
        "    </document>\n",
        "\n",
        "    Use the print_article_classification tool. Example categories are Politics, Sports, Technology, Entertainment, Business.\n",
        "    \"\"\"\n",
        "\n",
        "    converse_api_params = {\n",
        "        \"modelId\": \"anthropic.claude-3-haiku-20240307-v1:0\",\n",
        "        \"messages\": [{\"role\": \"user\", \"content\": [{\"text\": query}]}],\n",
        "        \"additionalModelRequestFields\": {\"max_tokens\": 4096},\n",
        "        \"toolConfig\": toolConfig\n",
        "    }\n",
        "\n",
        "    response = bedrock_client.converse(**converse_api_params)\n",
        "\n",
        "    json_classification = None\n",
        "    for content in response['output']['message']['content']:\n",
        "        if isinstance(content, dict) and 'toolUse' in content:\n",
        "            tool_use = content['toolUse']\n",
        "            if tool_use['name'] == \"print_article_classification\":\n",
        "                json_classification = tool_use['input']\n",
        "                break\n",
        "\n",
        "    if json_classification:\n",
        "        print(\"Text Classification (JSON):\")\n",
        "        print(json.dumps(json_classification, indent=2))\n",
        "    else:\n",
        "        print(\"No text classification found in the response.\")"
      ]
    },
    {
      "cell_type": "code",
      "execution_count": null,
      "metadata": {
        "tags": [],
        "id": "fJ45VkQC0WMD",
        "outputId": "4d70ba41-bc7f-4686-fa05-5c3eb5d420ce"
      },
      "outputs": [
        {
          "name": "stdout",
          "output_type": "stream",
          "text": [
            "Text Classification (JSON):\n",
            "{\n",
            "  \"subject\": \"Jeff Goldblum\",\n",
            "  \"summary\": \"The article provides a detailed overview of the life and career of American actor and musician Jeffrey Lynn Goldblum. It covers his early life, acting debut and rise to fame, as well as his musical endeavors and various TV and film roles. The article highlights Goldblum's versatility as an actor, appearing in both blockbuster films like Jurassic Park and indie/arthouse projects, and his transition into a jazz musician. It also touches on his personal life, including his marriages and children.\",\n",
            "  \"keywords\": [\n",
            "    \"Jeff Goldblum\",\n",
            "    \"actor\",\n",
            "    \"musician\",\n",
            "    \"Jurassic Park\",\n",
            "    \"Independence Day\",\n",
            "    \"The Fly\",\n",
            "    \"Wes Anderson\",\n",
            "    \"Marvel Cinematic Universe\",\n",
            "    \"jazz band\"\n",
            "  ],\n",
            "  \"categories\": [\n",
            "    {\n",
            "      \"name\": \"Entertainment\",\n",
            "      \"score\": 0.9\n",
            "    },\n",
            "    {\n",
            "      \"name\": \"Arts & Culture\",\n",
            "      \"score\": 0.8\n",
            "    }\n",
            "  ]\n",
            "}\n"
          ]
        }
      ],
      "source": [
        "generate_json_for_article(\"Jeff Goldblum\")"
      ]
    },
    {
      "cell_type": "code",
      "execution_count": null,
      "metadata": {
        "tags": [],
        "id": "jxAUMJqp0WMD",
        "outputId": "423a5913-e9a3-403c-c3bd-ac3b09551e38"
      },
      "outputs": [
        {
          "name": "stdout",
          "output_type": "stream",
          "text": [
            "Text Classification (JSON):\n",
            "{\n",
            "  \"subject\": \"Octopus biology and ecology\",\n",
            "  \"summary\": \"The article provides a detailed overview of the biology, anatomy, physiology, behavior, and ecology of octopuses. It covers topics such as their nervous system and intelligence, camouflage and color change abilities, feeding habits, reproduction, and life cycle. The article also discusses the evolutionary history of octopuses and their relationship with humans, including their appearance in art, literature, and mythology, as well as their use as a food source and in scientific research.\",\n",
            "  \"keywords\": \"octopus, cephalopod, marine biology, animal behavior, animal intelligence, animal evolution, animal ecology\",\n",
            "  \"categories\": [\n",
            "    {\n",
            "      \"name\": \"Biology\",\n",
            "      \"score\": 0.9\n",
            "    },\n",
            "    {\n",
            "      \"name\": \"Natural History\",\n",
            "      \"score\": 0.8\n",
            "    },\n",
            "    {\n",
            "      \"name\": \"Environmental Science\",\n",
            "      \"score\": 0.7\n",
            "    }\n",
            "  ]\n",
            "}\n"
          ]
        }
      ],
      "source": [
        "generate_json_for_article(\"Octopus\")"
      ]
    },
    {
      "cell_type": "code",
      "execution_count": null,
      "metadata": {
        "tags": [],
        "id": "quDB7HXt0WMJ",
        "outputId": "9b693f91-4aa4-47df-858d-8ff016ed5a12"
      },
      "outputs": [
        {
          "name": "stdout",
          "output_type": "stream",
          "text": [
            "Text Classification (JSON):\n",
            "{\n",
            "  \"subject\": \"Herbert Hoover\",\n",
            "  \"summary\": \"This article provides a comprehensive biography of Herbert Hoover, the 31st President of the United States. It covers his early life, career as a mining engineer and humanitarian, his time as Secretary of Commerce, his presidency during the Great Depression, and his post-presidency. The article discusses Hoover's policies, the economic conditions during his presidency, and his historical legacy.\",\n",
            "  \"keywords\": [\n",
            "    \"Herbert Hoover\",\n",
            "    \"Great Depression\",\n",
            "    \"Presidency\",\n",
            "    \"Politics\",\n",
            "    \"Economics\",\n",
            "    \"Mining\"\n",
            "  ],\n",
            "  \"categories\": [\n",
            "    {\n",
            "      \"name\": \"Politics\",\n",
            "      \"score\": 0.9\n",
            "    },\n",
            "    {\n",
            "      \"name\": \"History\",\n",
            "      \"score\": 0.8\n",
            "    },\n",
            "    {\n",
            "      \"name\": \"Economics\",\n",
            "      \"score\": 0.7\n",
            "    }\n",
            "  ]\n",
            "}\n"
          ]
        }
      ],
      "source": [
        "generate_json_for_article(\"Herbert Hoover\")"
      ]
    },
    {
      "cell_type": "markdown",
      "metadata": {
        "id": "tBUnE46C0WMK"
      },
      "source": [
        "***"
      ]
    },
    {
      "cell_type": "markdown",
      "metadata": {
        "id": "KInlXgPP0WMK"
      },
      "source": [
        "## Exercise\n",
        "\n",
        "Use the above strategy to write a function called `translate` that takes a word or phrase and generates a structured JSON output that includes the original phrase in English and the translated phrase in Spanish, French, Japanese, and Arabic.\n",
        "\n",
        "Here is an example of how this should work:\n",
        "\n",
        "If we call this:"
      ]
    },
    {
      "cell_type": "code",
      "execution_count": null,
      "metadata": {
        "id": "BhpkIvrj0WML",
        "outputId": "070ab97b-1aaa-4509-e78b-797a1caf2eb1"
      },
      "outputs": [
        {
          "ename": "NameError",
          "evalue": "name 'translate' is not defined",
          "output_type": "error",
          "traceback": [
            "\u001b[0;31m---------------------------------------------------------------------------\u001b[0m",
            "\u001b[0;31mNameError\u001b[0m                                 Traceback (most recent call last)",
            "Cell \u001b[0;32mIn[42], line 1\u001b[0m\n\u001b[0;32m----> 1\u001b[0m \u001b[43mtranslate\u001b[49m(\u001b[38;5;124m\"\u001b[39m\u001b[38;5;124mhow much does this cost\u001b[39m\u001b[38;5;124m\"\u001b[39m)\n",
            "\u001b[0;31mNameError\u001b[0m: name 'translate' is not defined"
          ]
        }
      ],
      "source": [
        "translate(\"how much does this cost\")"
      ]
    },
    {
      "cell_type": "markdown",
      "metadata": {
        "id": "b_Kc9jCX0WML"
      },
      "source": [
        "**Step 1.** You'll need to complete a toolConfig with a toolSpec for a tool we'll name \"translations_from_claude\". Here is the start of the toolSpec which includes English"
      ]
    },
    {
      "cell_type": "code",
      "execution_count": null,
      "metadata": {
        "tags": [],
        "id": "c433Bhnl0WML"
      },
      "outputs": [],
      "source": [
        "# Here is a strater toolConfig we've added \"English\" for you.\n",
        "toolConfig = {\n",
        "  \"tools\": [\n",
        "    {\n",
        "      \"toolSpec\": {\n",
        "        \"name\": \"translations_from_claude\",\n",
        "        \"description\": \"The translations from Claude of a user provided phrase into English to Spanish, French, Japanese, and Arabic.\",\n",
        "        \"inputSchema\": {\n",
        "          \"json\": {\n",
        "            \"type\": \"object\",\n",
        "            \"properties\": {\n",
        "              \"english\": {\"type\": \"string\", \"description\": \"Your English translation of the provided content from the user\"},\n",
        "            },\n",
        "            \"required\": [\"english\"]\n",
        "          }\n",
        "        }\n",
        "      }\n",
        "    }\n",
        "  ],\n",
        "    \"toolChoice\": {\"tool\": {\"name\": \"translations_from_claude\"}}\n",
        "}"
      ]
    },
    {
      "cell_type": "markdown",
      "metadata": {
        "tags": [],
        "id": "CzrPDqLM0WML"
      },
      "source": [
        "❓ If you want a hint related to your toolSpec, run the cell below!"
      ]
    },
    {
      "cell_type": "code",
      "execution_count": null,
      "metadata": {
        "tags": [],
        "id": "UysnXUGG0WMM",
        "outputId": "bed8bf54-2c7c-4fd3-d850-66a4770c2695"
      },
      "outputs": [
        {
          "name": "stdout",
          "output_type": "stream",
          "text": [
            "\n",
            "toolConfig = {\n",
            "  \"tools\": [\n",
            "    {\n",
            "      \"toolSpec\": {\n",
            "        \"name\": \"translations_from_claude\",\n",
            "        \"description\": \"The translations from Claude of a user provided phrase into English to Spanish, French, Japanese, and Arabic.\",\n",
            "        \"inputSchema\": {\n",
            "          \"json\": {\n",
            "            \"type\": \"object\",\n",
            "            \"properties\": {\n",
            "              \"english\": {\"type\": \"string\", \"description\": \"Your English translation of the provided content from the user\"},\n",
            "              \"spanish\": {\"type\": \"string\", \"description\": \"Your Spanish translation of the provided content from the user\"},\n",
            "              \"french\": {\"type\": \"string\", \"description\": \"Your French translation of the provided content from the user\"},\n",
            "              \"japanese\": {\"type\": \"string\", \"description\": \"Your Japanese translation of the provided content from the user\"},\n",
            "              \"arabic\": {\"type\": \"string\", \"description\": \"Your Arabic translation of the provided content from the user\"}\n",
            "            },\n",
            "            \"required\": [\"english\", \"spanish\", \"french\", \"japanese\", \"arabic\"]\n",
            "          }\n",
            "        }\n",
            "      }\n",
            "    }\n",
            "  ],\n",
            "    \"toolChoice\": {\"tool\": {\"name\": \"translations_from_claude\"}}\n",
            "}\n",
            "\n"
          ]
        }
      ],
      "source": [
        "print(hints.exercise_10_2_2_toolSpec)"
      ]
    },
    {
      "cell_type": "markdown",
      "metadata": {
        "id": "gNIzD7Mj0WMM"
      },
      "source": [
        "**Step 2.** Now you need to complete your \"translate\" function."
      ]
    },
    {
      "cell_type": "code",
      "execution_count": null,
      "metadata": {
        "tags": [],
        "id": "x2W-UrQ80WMM"
      },
      "outputs": [],
      "source": [
        "def translate(query):\n",
        "    prompt = f\"\"\"\n",
        "    Translate phrase below from the user into Spanish, French, Japanese and Arabic.\n",
        "    Content to translate: '{query}'\n",
        "    \"\"\"\n",
        "\n",
        "    pass"
      ]
    },
    {
      "cell_type": "markdown",
      "metadata": {
        "id": "LfQUciUh0WMM"
      },
      "source": [
        "❓ If you want a hint related to your translate function, run the cell below!"
      ]
    },
    {
      "cell_type": "code",
      "execution_count": null,
      "metadata": {
        "tags": [],
        "id": "vlBAEBWo0WMN",
        "outputId": "5bf073db-78b8-406a-e11a-9d8a3cbd54f2"
      },
      "outputs": [
        {
          "name": "stdout",
          "output_type": "stream",
          "text": [
            "\n",
            "def translate(query):\n",
            "    prompt = f\"Translate this phrase from the user into English, Spanish, French, Japanese and Arabic. Content to translate: '{query}'\"\n",
            "\n",
            "    converse_api_params = {\n",
            "        \"modelId\": modelId,\n",
            "        \"messages\": [{\"role\": \"user\", \"content\": [{\"text\": prompt}]}],\n",
            "        \"additionalModelRequestFields\": {\"max_tokens\": 4096},\n",
            "        \"toolConfig\": toolConfig\n",
            "    }\n",
            "\n",
            "    response = bedrock_client.converse(**converse_api_params)\n",
            "    tool_use = response['output']['message']['content'][-1]\n",
            "    translations_from_claude = tool_use['toolUse']['input']\n",
            "\n",
            "    print(json.dumps(translations_from_claude, ensure_ascii=False, indent=2))\n",
            "\n"
          ]
        }
      ],
      "source": [
        "print(hints.exercise_10_2_2_translate)"
      ]
    },
    {
      "cell_type": "markdown",
      "metadata": {
        "id": "fItltI6n0WMN"
      },
      "source": [
        "**Step 3.** It's time to give our translate function a try."
      ]
    },
    {
      "cell_type": "code",
      "execution_count": null,
      "metadata": {
        "id": "ZjWf6HVF0WMN"
      },
      "outputs": [],
      "source": [
        "translate(\"how much does this cost\")"
      ]
    },
    {
      "cell_type": "markdown",
      "metadata": {
        "id": "mzMut-zJ0WMN"
      },
      "source": [
        "We expect an output like this:\n",
        "\n",
        "```json\n",
        "{\n",
        "  \"english\": \"how much does this cost\",\n",
        "  \"spanish\": \"¿cuánto cuesta esto?\",\n",
        "  \"french\": \"combien ça coûte?\",\n",
        "  \"japanese\": \"これはいくらですか\",\n",
        "  \"arabic\": \"كم تكلفة هذا؟\"\n",
        "}\n",
        "```\n",
        "\n",
        "**NOTE: If you want to print your results, this line of code will help you print them out nicely:**"
      ]
    },
    {
      "cell_type": "code",
      "execution_count": null,
      "metadata": {
        "tags": [],
        "id": "ksZCz8xd0WMN",
        "outputId": "9896fce2-96ef-4057-af0c-c34efabb9abf"
      },
      "outputs": [
        {
          "ename": "NameError",
          "evalue": "name 'translations_from_claude' is not defined",
          "output_type": "error",
          "traceback": [
            "\u001b[0;31m---------------------------------------------------------------------------\u001b[0m",
            "\u001b[0;31mNameError\u001b[0m                                 Traceback (most recent call last)",
            "Cell \u001b[0;32mIn[48], line 1\u001b[0m\n\u001b[0;32m----> 1\u001b[0m \u001b[38;5;28mprint\u001b[39m(json\u001b[38;5;241m.\u001b[39mdumps(\u001b[43mtranslations_from_claude\u001b[49m, ensure_ascii\u001b[38;5;241m=\u001b[39m\u001b[38;5;28;01mFalse\u001b[39;00m, indent\u001b[38;5;241m=\u001b[39m\u001b[38;5;241m2\u001b[39m))\n",
            "\u001b[0;31mNameError\u001b[0m: name 'translations_from_claude' is not defined"
          ]
        }
      ],
      "source": [
        "print(json.dumps(translations_from_claude, ensure_ascii=False, indent=2))"
      ]
    },
    {
      "cell_type": "code",
      "execution_count": null,
      "metadata": {
        "id": "JbcE6P8g0WMO"
      },
      "outputs": [],
      "source": []
    }
  ],
  "metadata": {
    "kernelspec": {
      "display_name": "conda_tensorflow2_p310",
      "language": "python",
      "name": "conda_tensorflow2_p310"
    },
    "language_info": {
      "codemirror_mode": {
        "name": "ipython",
        "version": 3
      },
      "file_extension": ".py",
      "mimetype": "text/x-python",
      "name": "python",
      "nbconvert_exporter": "python",
      "pygments_lexer": "ipython3",
      "version": "3.10.14"
    },
    "colab": {
      "provenance": [],
      "include_colab_link": true
    }
  },
  "nbformat": 4,
  "nbformat_minor": 0
}