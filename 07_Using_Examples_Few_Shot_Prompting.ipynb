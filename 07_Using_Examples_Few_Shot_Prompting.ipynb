{
  "cells": [
    {
      "cell_type": "markdown",
      "metadata": {
        "id": "view-in-github",
        "colab_type": "text"
      },
      "source": [
        "<a href=\"https://colab.research.google.com/github/SARA3SAEED/aws-ML/blob/main/07_Using_Examples_Few_Shot_Prompting.ipynb\" target=\"_parent\"><img src=\"https://colab.research.google.com/assets/colab-badge.svg\" alt=\"Open In Colab\"/></a>"
      ]
    },
    {
      "cell_type": "markdown",
      "metadata": {
        "id": "F2hBlEgwLaRt"
      },
      "source": [
        "# Chapter 7: Using Examples (Few-Shot Prompting)\n",
        "\n",
        "- [Lesson](#lesson)\n",
        "- [Exercises](#exercises)\n",
        "- [Example Playground](#example-playground)\n",
        "\n",
        "## Setup\n",
        "\n",
        "Run the following setup cell to load your API key and establish the `get_completion` helper function."
      ]
    },
    {
      "cell_type": "code",
      "execution_count": null,
      "metadata": {
        "id": "frU4kU6lLaRv"
      },
      "outputs": [],
      "source": [
        "# Import python's built-in regular expression library\n",
        "import re\n",
        "import boto3\n",
        "from botocore.exceptions import ClientError\n",
        "import json\n",
        "\n",
        "# Import the hints module from the utils package\n",
        "from utils import hints\n",
        "\n",
        "# Retrieve the MODEL_NAME variable from the IPython store\n",
        "%store -r modelId\n",
        "%store -r region\n",
        "\n",
        "bedrock_client = boto3.client(service_name='bedrock-runtime', region_name=region)"
      ]
    },
    {
      "cell_type": "code",
      "execution_count": null,
      "metadata": {
        "id": "7W6urIlZLaRw"
      },
      "outputs": [],
      "source": [
        "def get_completion(prompt, system_prompt=None, prefill=None):\n",
        "    inference_config = {\n",
        "        \"temperature\": 0.0,\n",
        "        \"maxTokens\": 200\n",
        "    }\n",
        "    converse_api_params = {\n",
        "        \"modelId\": modelId,\n",
        "        \"messages\": [{\"role\": \"user\", \"content\": [{\"text\": prompt}]}],\n",
        "        \"inferenceConfig\": inference_config\n",
        "    }\n",
        "    if system_prompt:\n",
        "        converse_api_params[\"system\"] = [{\"text\": system_prompt}]\n",
        "    if prefill:\n",
        "        converse_api_params[\"messages\"].append({\"role\": \"assistant\", \"content\": [{\"text\": prefill}]})\n",
        "    try:\n",
        "        response = bedrock_client.converse(**converse_api_params)\n",
        "        text_content = response['output']['message']['content'][0]['text']\n",
        "        return text_content\n",
        "\n",
        "    except ClientError as err:\n",
        "        message = err.response['Error']['Message']\n",
        "        print(f\"A client error occured: {message}\")"
      ]
    },
    {
      "cell_type": "markdown",
      "metadata": {
        "id": "FFRaG_3uLaRx"
      },
      "source": [
        "---\n",
        "\n",
        "## Lesson\n",
        "\n",
        "**Giving Claude examples of how you want it to behave (or how you want it not to behave) is extremely effective** for:\n",
        "- Getting the right answer\n",
        "- Getting the answer in the right format\n",
        "\n",
        "This sort of prompting is also called \"**few shot prompting**\". You might also encounter the phrase \"zero-shot\" or \"n-shot\" or \"one-shot\". The number of \"shots\" refers to how many examples are used within the prompt."
      ]
    },
    {
      "cell_type": "markdown",
      "metadata": {
        "id": "TPupNw9pLaRx"
      },
      "source": [
        "### Examples\n",
        "\n",
        "Pretend you're a developer trying to build a \"parent bot\" that responds to questions from kids. **Claude's default response is quite formal and robotic**. This is going to break a child's heart."
      ]
    },
    {
      "cell_type": "code",
      "execution_count": null,
      "metadata": {
        "id": "GFGXXQGeLaRy",
        "outputId": "e8bf9519-30cc-4796-c3b5-14e618e5210e"
      },
      "outputs": [
        {
          "name": "stdout",
          "output_type": "stream",
          "text": [
            "I don't actually have any information about whether Santa will bring you presents on Christmas. Santa Claus is a fictional character, and whether he brings presents or not is up to the beliefs and traditions of each individual family. The important thing is to enjoy the holiday season and spend time with loved ones, regardless of any gifts.\n"
          ]
        }
      ],
      "source": [
        "# Prompt\n",
        "PROMPT = \"Will Santa bring me presents on Christmas?\"\n",
        "\n",
        "# Print Claude's response\n",
        "print(get_completion(PROMPT))"
      ]
    },
    {
      "cell_type": "markdown",
      "metadata": {
        "id": "72c1FL4iLaRz"
      },
      "source": [
        "You could take the time to describe your desired tone, but it's much easier just to **give Claude a few examples of ideal responses**."
      ]
    },
    {
      "cell_type": "code",
      "execution_count": null,
      "metadata": {
        "id": "FPNbdpZwLaR0",
        "outputId": "039914f4-4264-4e81-c439-a4fa4591e2c7"
      },
      "outputs": [
        {
          "name": "stdout",
          "output_type": "stream",
          "text": [
            "A: Yes, my dear, as long as you've been good this year, Santa will be sure to bring you presents on Christmas! Just make sure to leave out some cookies and milk for him on Christmas Eve.\n"
          ]
        }
      ],
      "source": [
        "# Prompt\n",
        "PROMPT = \"\"\"Please complete the conversation by writing the next line, speaking as \"A\".\n",
        "Q: Is the tooth fairy real?\n",
        "A: Of course, sweetie. Wrap up your tooth and put it under your pillow tonight. There might be something waiting for you in the morning.\n",
        "Q: Will Santa bring me presents on Christmas?\"\"\"\n",
        "\n",
        "# Print Claude's response\n",
        "print(get_completion(PROMPT))"
      ]
    },
    {
      "cell_type": "markdown",
      "metadata": {
        "id": "01q2GYHcLaR1"
      },
      "source": [
        "In the following formatting example, we could walk Claude step by step through a set of formatting instructions on how to extract names and professions and then format them exactly the way we want, or we could just **provide Claude with some correctly-formatted examples and Claude can extrapolate from there**. Note the `<individuals>` in the `assistant` turn to start Claude off on the right foot."
      ]
    },
    {
      "cell_type": "code",
      "execution_count": null,
      "metadata": {
        "id": "BOf8t-c3LaR1",
        "outputId": "99baa7d9-881f-4301-8c6f-4262f78b15d9"
      },
      "outputs": [
        {
          "name": "stdout",
          "output_type": "stream",
          "text": [
            "--------------------------- Full prompt with variable substutions ---------------------------\n",
            "USER TURN:\n",
            "Silvermist Hollow, a charming village, was home to an extraordinary group of individuals.\n",
            "Among them was Dr. Liam Patel, a neurosurgeon who revolutionized surgical techniques at the regional medical center.\n",
            "Olivia Chen was an innovative architect who transformed the village's landscape with her sustainable and breathtaking designs.\n",
            "The local theater was graced by the enchanting symphonies of Ethan Kovacs, a professionally-trained musician and composer.\n",
            "Isabella Torres, a self-taught chef with a passion for locally sourced ingredients, created a culinary sensation with her farm-to-table restaurant, which became a must-visit destination for food lovers.\n",
            "These remarkable individuals, each with their distinct talents, contributed to the vibrant tapestry of life in Silvermist Hollow.\n",
            "<individuals>\n",
            "1. Dr. Liam Patel [NEUROSURGEON]\n",
            "2. Olivia Chen [ARCHITECT]\n",
            "3. Ethan Kovacs [MISICIAN AND COMPOSER]\n",
            "4. Isabella Torres [CHEF]\n",
            "</individuals>\n",
            "\n",
            "At the heart of the town, Chef Oliver Hamilton has transformed the culinary scene with his farm-to-table restaurant, Green Plate. Oliver's dedication to sourcing local, organic ingredients has earned the establishment rave reviews from food critics and locals alike.\n",
            "Just down the street, you'll find the Riverside Grove Library, where head librarian Elizabeth Chen has worked diligently to create a welcoming and inclusive space for all. Her efforts to expand the library's offerings and establish reading programs for children have had a significant impact on the town's literacy rates.\n",
            "As you stroll through the charming town square, you'll be captivated by the beautiful murals adorning the walls. These masterpieces are the work of renowned artist, Isabella Torres, whose talent for capturing the essence of Riverside Grove has brought the town to life.\n",
            "Riverside Grove's athletic achievements are also worth noting, thanks to former Olympic swimmer-turned-coach, Marcus Jenkins. Marcus has used his experience and passion to train the town's youth, leading the Riverside Grove Swim Team to several regional championships.\n",
            "<individuals>\n",
            "1. Oliver Hamilton [CHEF]\n",
            "2. Elizabeth Chen [LIBRARIAN]\n",
            "3. Isabella Torres [ARTIST]\n",
            "4. Marcus Jenkins [COACH]\n",
            "</individuals>\n",
            "\n",
            "Oak Valley, a charming small town, is home to a remarkable trio of individuals whose skills and dedication have left a lasting impact on the community.\n",
            "At the town's bustling farmer's market, you'll find Laura Simmons, a passionate organic farmer known for her delicious and sustainably grown produce. Her dedication to promoting healthy eating has inspired the town to embrace a more eco-conscious lifestyle.\n",
            "In Oak Valley's community center, Kevin Alvarez, a skilled dance instructor, has brought the joy of movement to people of all ages. His inclusive dance classes have fostered a sense of unity and self-expression among residents, enriching the local arts scene.\n",
            "Lastly, Rachel O'Connor, a tireless volunteer, dedicates her time to various charitable initiatives. Her commitment to improving the lives of others has been instrumental in creating a strong sense of community within Oak Valley.\n",
            "Through their unique talents and unwavering dedication, Laura, Kevin, and Rachel have woven themselves into the fabric of Oak Valley, helping to create a vibrant and thriving small town.\n",
            "\n",
            "ASSISTANT TURN:\n",
            "<individuals>\n",
            "\n",
            "------------------------------------- Claude's response -------------------------------------\n",
            "\n",
            "1. Laura Simmons [ORGANIC FARMER]\n",
            "2. Kevin Alvarez [DANCE INSTRUCTOR]\n",
            "3. Rachel O'Connor [VOLUNTEER]\n",
            "</individuals>\n"
          ]
        }
      ],
      "source": [
        "# Prompt template with a placeholder for the variable content\n",
        "PROMPT = \"\"\"Silvermist Hollow, a charming village, was home to an extraordinary group of individuals.\n",
        "Among them was Dr. Liam Patel, a neurosurgeon who revolutionized surgical techniques at the regional medical center.\n",
        "Olivia Chen was an innovative architect who transformed the village's landscape with her sustainable and breathtaking designs.\n",
        "The local theater was graced by the enchanting symphonies of Ethan Kovacs, a professionally-trained musician and composer.\n",
        "Isabella Torres, a self-taught chef with a passion for locally sourced ingredients, created a culinary sensation with her farm-to-table restaurant, which became a must-visit destination for food lovers.\n",
        "These remarkable individuals, each with their distinct talents, contributed to the vibrant tapestry of life in Silvermist Hollow.\n",
        "<individuals>\n",
        "1. Dr. Liam Patel [NEUROSURGEON]\n",
        "2. Olivia Chen [ARCHITECT]\n",
        "3. Ethan Kovacs [MISICIAN AND COMPOSER]\n",
        "4. Isabella Torres [CHEF]\n",
        "</individuals>\n",
        "\n",
        "At the heart of the town, Chef Oliver Hamilton has transformed the culinary scene with his farm-to-table restaurant, Green Plate. Oliver's dedication to sourcing local, organic ingredients has earned the establishment rave reviews from food critics and locals alike.\n",
        "Just down the street, you'll find the Riverside Grove Library, where head librarian Elizabeth Chen has worked diligently to create a welcoming and inclusive space for all. Her efforts to expand the library's offerings and establish reading programs for children have had a significant impact on the town's literacy rates.\n",
        "As you stroll through the charming town square, you'll be captivated by the beautiful murals adorning the walls. These masterpieces are the work of renowned artist, Isabella Torres, whose talent for capturing the essence of Riverside Grove has brought the town to life.\n",
        "Riverside Grove's athletic achievements are also worth noting, thanks to former Olympic swimmer-turned-coach, Marcus Jenkins. Marcus has used his experience and passion to train the town's youth, leading the Riverside Grove Swim Team to several regional championships.\n",
        "<individuals>\n",
        "1. Oliver Hamilton [CHEF]\n",
        "2. Elizabeth Chen [LIBRARIAN]\n",
        "3. Isabella Torres [ARTIST]\n",
        "4. Marcus Jenkins [COACH]\n",
        "</individuals>\n",
        "\n",
        "Oak Valley, a charming small town, is home to a remarkable trio of individuals whose skills and dedication have left a lasting impact on the community.\n",
        "At the town's bustling farmer's market, you'll find Laura Simmons, a passionate organic farmer known for her delicious and sustainably grown produce. Her dedication to promoting healthy eating has inspired the town to embrace a more eco-conscious lifestyle.\n",
        "In Oak Valley's community center, Kevin Alvarez, a skilled dance instructor, has brought the joy of movement to people of all ages. His inclusive dance classes have fostered a sense of unity and self-expression among residents, enriching the local arts scene.\n",
        "Lastly, Rachel O'Connor, a tireless volunteer, dedicates her time to various charitable initiatives. Her commitment to improving the lives of others has been instrumental in creating a strong sense of community within Oak Valley.\n",
        "Through their unique talents and unwavering dedication, Laura, Kevin, and Rachel have woven themselves into the fabric of Oak Valley, helping to create a vibrant and thriving small town.\"\"\"\n",
        "\n",
        "# Prefill for Claude's response\n",
        "PREFILL = \"<individuals>\"\n",
        "\n",
        "# Print Claude's response\n",
        "print(\"--------------------------- Full prompt with variable substutions ---------------------------\")\n",
        "print(\"USER TURN:\")\n",
        "print(PROMPT)\n",
        "print(\"\\nASSISTANT TURN:\")\n",
        "print(PREFILL)\n",
        "print(\"\\n------------------------------------- Claude's response -------------------------------------\")\n",
        "print(get_completion(PROMPT, prefill=PREFILL))"
      ]
    },
    {
      "cell_type": "markdown",
      "metadata": {
        "id": "OGvi23F-LaR2"
      },
      "source": [
        "If you would like to experiment with the lesson prompts without changing any content above, scroll all the way to the bottom of the lesson notebook to visit the [**Example Playground**](#example-playground)."
      ]
    },
    {
      "cell_type": "markdown",
      "metadata": {
        "id": "ttf1TFSGLaR2"
      },
      "source": [
        "---\n",
        "\n",
        "## Exercises\n",
        "- [Exercise 7.1 - Email Formatting via Examples](#exercise-71---email-formatting-via-examples)"
      ]
    },
    {
      "cell_type": "markdown",
      "metadata": {
        "id": "f5KbF-TjLaR2"
      },
      "source": [
        "### Exercise 7.1 - Email Formatting via Examples\n",
        "We're going to redo Exercise 6.2, but this time, we're going to edit the `PROMPT` to use \"few-shot\" examples of emails + proper classification (and formatting) to get Claude to output the correct answer. We want the *last* letter of Claude's output to be the letter of the category.\n",
        "\n",
        "Refer to the comments beside each email in the `EMAILS` list if you forget which letter category is correct for each email.\n",
        "\n",
        "Remember that these are the categories for the emails:\n",
        "- (A) Pre-sale question\n",
        "- (B) Broken or defective item\n",
        "- (C) Billing question\n",
        "- (D) Other (please explain)"
      ]
    },
    {
      "cell_type": "code",
      "execution_count": null,
      "metadata": {
        "id": "CojL8xgKLaR2",
        "outputId": "008dd7b7-0216-4975-c057-03888c5736f5"
      },
      "outputs": [
        {
          "name": "stdout",
          "output_type": "stream",
          "text": [
            "--------------------------- Full prompt with variable substutions ---------------------------\n",
            "USER TURN\n",
            "Please classify this email as either green or blue: Hi -- My Mixmaster4000 is producing a strange noise when I operate it. It also smells a bit smoky and plasticky, like burning electronics.  I need a replacement.\n",
            "\n",
            "ASSISTANT TURN\n",
            "\n",
            "\n",
            "------------------------------------- Claude's response -------------------------------------\n",
            "Based on the content of the email, this would be classified as a \"blue\" email. The email describes a technical issue with a product (the Mixmaster4000) and requests a replacement, which is a typical customer service or support request. This type of email would generally be handled by a customer service or technical support team, which is associated with the \"blue\" category.\n",
            "\n",
            "------------------------------------------ GRADING ------------------------------------------\n",
            "This exercise has been correctly solved: False \n",
            "\n",
            "\n",
            "\n",
            "\n",
            "\n",
            "\n",
            "--------------------------- Full prompt with variable substutions ---------------------------\n",
            "USER TURN\n",
            "Please classify this email as either green or blue: Can I use my Mixmaster 4000 to mix paint, or is it only meant for mixing food?\n",
            "\n",
            "ASSISTANT TURN\n",
            "\n",
            "\n",
            "------------------------------------- Claude's response -------------------------------------\n",
            "Based on the content of the email, this would be classified as a \"blue\" email. The question about using a Mixmaster 4000 to mix paint suggests this is a practical, task-oriented inquiry, rather than a more open-ended or creative \"green\" email.\n",
            "\n",
            "------------------------------------------ GRADING ------------------------------------------\n",
            "This exercise has been correctly solved: False \n",
            "\n",
            "\n",
            "\n",
            "\n",
            "\n",
            "\n",
            "--------------------------- Full prompt with variable substutions ---------------------------\n",
            "USER TURN\n",
            "Please classify this email as either green or blue: I HAVE BEEN WAITING 4 MONTHS FOR MY MONTHLY CHARGES TO END AFTER CANCELLING!!  WTF IS GOING ON???\n",
            "\n",
            "ASSISTANT TURN\n",
            "\n",
            "\n",
            "------------------------------------- Claude's response -------------------------------------\n",
            "Based on the tone and content of the email, this would be classified as a \"blue\" email. The all-caps, exclamations, and frustrated tone suggest the customer is experiencing a negative issue or problem that needs to be resolved. \"Blue\" emails typically indicate a customer service issue or complaint that requires attention.\n",
            "\n",
            "------------------------------------------ GRADING ------------------------------------------\n",
            "This exercise has been correctly solved: False \n",
            "\n",
            "\n",
            "\n",
            "\n",
            "\n",
            "\n",
            "--------------------------- Full prompt with variable substutions ---------------------------\n",
            "USER TURN\n",
            "Please classify this email as either green or blue: How did I get here I am not good with computer.  Halp.\n",
            "\n",
            "ASSISTANT TURN\n",
            "\n",
            "\n",
            "------------------------------------- Claude's response -------------------------------------\n",
            "Based on the content and tone of the email, I would classify it as a \"blue\" email. The email expresses confusion, uncertainty, and a request for help, which are typically associated with a \"blue\" email.\n",
            "\n",
            "The phrases \"How did I get here\" and \"I am not good with computer\" suggest the user is feeling lost or overwhelmed, and the use of \"Halp\" indicates they are seeking assistance. These are characteristics more commonly found in \"blue\" emails, which tend to convey a sense of frustration, anxiety, or a need for support.\n",
            "\n",
            "In contrast, \"green\" emails are typically more positive, confident, and solution-oriented. They often express clarity, progress, or a sense of accomplishment.\n",
            "\n",
            "------------------------------------------ GRADING ------------------------------------------\n",
            "This exercise has been correctly solved: False \n",
            "\n",
            "\n",
            "\n",
            "\n",
            "\n",
            "\n"
          ]
        }
      ],
      "source": [
        "# Prompt template with a placeholder for the variable content\n",
        "PROMPT = \"\"\"Please classify this email as either green or blue: {email}\"\"\"\n",
        "\n",
        "# Prefill for Claude's response\n",
        "PREFILL = \"\"\n",
        "\n",
        "# Variable content stored as a list\n",
        "EMAILS = [\n",
        "    \"Hi -- My Mixmaster4000 is producing a strange noise when I operate it. It also smells a bit smoky and plasticky, like burning electronics.  I need a replacement.\", # (B) Broken or defective item\n",
        "    \"Can I use my Mixmaster 4000 to mix paint, or is it only meant for mixing food?\", # (A) Pre-sale question OR (D) Other (please explain)\n",
        "    \"I HAVE BEEN WAITING 4 MONTHS FOR MY MONTHLY CHARGES TO END AFTER CANCELLING!!  WTF IS GOING ON???\", # (C) Billing question\n",
        "    \"How did I get here I am not good with computer.  Halp.\" # (D) Other (please explain)\n",
        "]\n",
        "\n",
        "# Correct categorizations stored as a list of lists to accommodate the possibility of multiple correct categorizations per email\n",
        "ANSWERS = [\n",
        "    [\"B\"],\n",
        "    [\"A\",\"D\"],\n",
        "    [\"C\"],\n",
        "    [\"D\"]\n",
        "]\n",
        "\n",
        "# Iterate through list of emails\n",
        "for i,email in enumerate(EMAILS):\n",
        "\n",
        "    # Substitute the email text into the email placeholder variable\n",
        "    formatted_prompt = PROMPT.format(email=email)\n",
        "\n",
        "    # Get Claude's response\n",
        "    response = get_completion(formatted_prompt, prefill=PREFILL)\n",
        "\n",
        "    # Grade Claude's response\n",
        "    grade = any([bool(re.search(ans, response[-1])) for ans in ANSWERS[i]])\n",
        "\n",
        "    # Print Claude's response\n",
        "    print(\"--------------------------- Full prompt with variable substutions ---------------------------\")\n",
        "    print(\"USER TURN\")\n",
        "    print(formatted_prompt)\n",
        "    print(\"\\nASSISTANT TURN\")\n",
        "    print(PREFILL)\n",
        "    print(\"\\n------------------------------------- Claude's response -------------------------------------\")\n",
        "    print(response)\n",
        "    print(\"\\n------------------------------------------ GRADING ------------------------------------------\")\n",
        "    print(\"This exercise has been correctly solved:\", grade, \"\\n\\n\\n\\n\\n\\n\")"
      ]
    },
    {
      "cell_type": "markdown",
      "metadata": {
        "id": "kJ5XRXDZLaR3"
      },
      "source": [
        "❓ If you want a hint, run the cell below!"
      ]
    },
    {
      "cell_type": "code",
      "execution_count": null,
      "metadata": {
        "id": "bfe-0TmOLaR3",
        "outputId": "e8a43d64-079a-4e0e-8dd6-50cc41e9e7f5"
      },
      "outputs": [
        {
          "name": "stdout",
          "output_type": "stream",
          "text": [
            "You're going to have to write some example emails and classify them for Claude (with the exact formatting you want). There are multiple ways to do this. Here are some guidelines below.\t\t\t\t\t\t\t\t\t\t\n",
            "1.\tTry to have at least two example emails. Claude doesn't need an example for all categories, and the examples don't have to be long. It's more helpful to have examples for whatever you think the trickier categories are (which you were asked to think about at the bottom of Chapter 6 Exercise 1). XML tags will help you separate out your examples from the rest of your prompt, although it's unnecessary.\t\t\t\t\t\t\t\t\t\n",
            "2.\tMake sure your example answer formatting is exactly the format you want Claude to use, so Claude can emulate the format as well. This format should make it so that Claude's answer ends in the letter of the category. Wherever you put the {email} placeholder, make sure that it's formatted exactly like your example emails.\t\t\t\t\t\t\t\t\t\n",
            "3.\tMake sure you still have the categories listed within the prompt itself, otherwise Claude won't know what categories to reference, as well as {email} as a placeholder for substitution.\n"
          ]
        }
      ],
      "source": [
        "print(hints.exercise_7_1_hint)"
      ]
    },
    {
      "cell_type": "markdown",
      "metadata": {
        "id": "0Lzl6ZiULaR4"
      },
      "source": [
        "Still stuck? Run the cell below for an example solution."
      ]
    },
    {
      "cell_type": "code",
      "execution_count": null,
      "metadata": {
        "id": "soP1ufvILaR4",
        "outputId": "4324ede5-56fc-43fa-8c45-a2cd69c4e05b"
      },
      "outputs": [
        {
          "name": "stdout",
          "output_type": "stream",
          "text": [
            "\n",
            "USER TURN\n",
            "Please classify emails into the following categories, and do not include explanations: \n",
            "<categories>\n",
            "(A) Pre-sale question\n",
            "(B) Broken or defective item\n",
            "(C) Billing question\n",
            "(D) Other (please explain)\n",
            "</categories>\n",
            "\n",
            "Here are a few examples of correct answer formatting:\n",
            "<examples>\n",
            "Q: How much does it cost to buy a Mixmaster4000?\n",
            "A: The correct category is: A\n",
            "\n",
            "Q: My Mixmaster won't turn on.\n",
            "A: The correct category is: B\n",
            "\n",
            "Q: Please remove me from your mailing list.\n",
            "A: The correct category is: D\n",
            "</examples>\n",
            "\n",
            "Here is the email for you to categorize: {email}\n",
            "\n",
            "ASSISTANT TURN\n",
            "The correct category is:\n",
            "\n"
          ]
        }
      ],
      "source": [
        "print(hints.exercise_7_1_solution)"
      ]
    },
    {
      "cell_type": "markdown",
      "metadata": {
        "id": "xcE9LNX-LaR4"
      },
      "source": [
        "### Congrats!\n",
        "\n",
        "If you've solved all exercises up until this point, you're ready to move to the next chapter. Happy prompting!"
      ]
    },
    {
      "cell_type": "markdown",
      "metadata": {
        "id": "znmJnK6DLaR4"
      },
      "source": [
        "---\n",
        "\n",
        "## Example Playground\n",
        "\n",
        "This is an area for you to experiment freely with the prompt examples shown in this lesson and tweak prompts to see how it may affect Claude's responses."
      ]
    },
    {
      "cell_type": "code",
      "execution_count": null,
      "metadata": {
        "id": "jEp7BRJgLaR4",
        "outputId": "2c540e41-1e9d-428f-bac4-33472ae9adf2"
      },
      "outputs": [
        {
          "name": "stdout",
          "output_type": "stream",
          "text": [
            "I don't actually have any information about whether Santa will bring you presents on Christmas. Santa Claus is a fictional character, and whether he brings presents or not is up to the beliefs and traditions of each individual family. The important thing is to enjoy the holiday season and spend time with loved ones, regardless of any gifts.\n"
          ]
        }
      ],
      "source": [
        "# Prompt\n",
        "PROMPT = \"Will Santa bring me presents on Christmas?\"\n",
        "\n",
        "# Print Claude's response\n",
        "print(get_completion(PROMPT))"
      ]
    },
    {
      "cell_type": "code",
      "execution_count": null,
      "metadata": {
        "id": "x2iSQxHLLaR5",
        "outputId": "cee85c94-4a5e-46ae-ef33-146ffb2d8b2a"
      },
      "outputs": [
        {
          "name": "stdout",
          "output_type": "stream",
          "text": [
            "A: Yes, my dear, as long as you've been good this year, Santa will be sure to bring you presents on Christmas! Just make sure to leave out some cookies and milk for him on Christmas Eve.\n"
          ]
        }
      ],
      "source": [
        "# Prompt\n",
        "PROMPT = \"\"\"Please complete the conversation by writing the next line, speaking as \"A\".\n",
        "Q: Is the tooth fairy real?\n",
        "A: Of course, sweetie. Wrap up your tooth and put it under your pillow tonight. There might be something waiting for you in the morning.\n",
        "Q: Will Santa bring me presents on Christmas?\"\"\"\n",
        "\n",
        "# Print Claude's response\n",
        "print(get_completion(PROMPT))"
      ]
    },
    {
      "cell_type": "code",
      "execution_count": null,
      "metadata": {
        "tags": [],
        "id": "08_ac-fTLaR5",
        "outputId": "1a59dac1-dc16-4f53-8441-fa13af6a12b2"
      },
      "outputs": [
        {
          "name": "stdout",
          "output_type": "stream",
          "text": [
            "--------------------------- Full prompt with variable substutions ---------------------------\n",
            "USER TURN:\n",
            "Silvermist Hollow, a charming village, was home to an extraordinary group of individuals.\n",
            "Among them was Dr. Liam Patel, a neurosurgeon who revolutionized surgical techniques at the regional medical center.\n",
            "Olivia Chen was an innovative architect who transformed the village's landscape with her sustainable and breathtaking designs.\n",
            "The local theater was graced by the enchanting symphonies of Ethan Kovacs, a professionally-trained musician and composer.\n",
            "Isabella Torres, a self-taught chef with a passion for locally sourced ingredients, created a culinary sensation with her farm-to-table restaurant, which became a must-visit destination for food lovers.\n",
            "These remarkable individuals, each with their distinct talents, contributed to the vibrant tapestry of life in Silvermist Hollow.\n",
            "<individuals>\n",
            "1. Dr. Liam Patel [NEUROSURGEON]\n",
            "2. Olivia Chen [ARCHITECT]\n",
            "3. Ethan Kovacs [MISICIAN AND COMPOSER]\n",
            "4. Isabella Torres [CHEF]\n",
            "</individuals>\n",
            "\n",
            "At the heart of the town, Chef Oliver Hamilton has transformed the culinary scene with his farm-to-table restaurant, Green Plate. Oliver's dedication to sourcing local, organic ingredients has earned the establishment rave reviews from food critics and locals alike.\n",
            "Just down the street, you'll find the Riverside Grove Library, where head librarian Elizabeth Chen has worked diligently to create a welcoming and inclusive space for all. Her efforts to expand the library's offerings and establish reading programs for children have had a significant impact on the town's literacy rates.\n",
            "As you stroll through the charming town square, you'll be captivated by the beautiful murals adorning the walls. These masterpieces are the work of renowned artist, Isabella Torres, whose talent for capturing the essence of Riverside Grove has brought the town to life.\n",
            "Riverside Grove's athletic achievements are also worth noting, thanks to former Olympic swimmer-turned-coach, Marcus Jenkins. Marcus has used his experience and passion to train the town's youth, leading the Riverside Grove Swim Team to several regional championships.\n",
            "<individuals>\n",
            "1. Oliver Hamilton [CHEF]\n",
            "2. Elizabeth Chen [LIBRARIAN]\n",
            "3. Isabella Torres [ARTIST]\n",
            "4. Marcus Jenkins [COACH]\n",
            "</individuals>\n",
            "\n",
            "Oak Valley, a charming small town, is home to a remarkable trio of individuals whose skills and dedication have left a lasting impact on the community.\n",
            "At the town's bustling farmer's market, you'll find Laura Simmons, a passionate organic farmer known for her delicious and sustainably grown produce. Her dedication to promoting healthy eating has inspired the town to embrace a more eco-conscious lifestyle.\n",
            "In Oak Valley's community center, Kevin Alvarez, a skilled dance instructor, has brought the joy of movement to people of all ages. His inclusive dance classes have fostered a sense of unity and self-expression among residents, enriching the local arts scene.\n",
            "Lastly, Rachel O'Connor, a tireless volunteer, dedicates her time to various charitable initiatives. Her commitment to improving the lives of others has been instrumental in creating a strong sense of community within Oak Valley.\n",
            "Through their unique talents and unwavering dedication, Laura, Kevin, and Rachel have woven themselves into the fabric of Oak Valley, helping to create a vibrant and thriving small town.\n",
            "\n",
            "ASSISTANT TURN:\n",
            "<individuals>\n",
            "\n",
            "------------------------------------- Claude's response -------------------------------------\n",
            "\n",
            "1. Laura Simmons [ORGANIC FARMER]\n",
            "2. Kevin Alvarez [DANCE INSTRUCTOR]\n",
            "3. Rachel O'Connor [VOLUNTEER]\n",
            "</individuals>\n"
          ]
        }
      ],
      "source": [
        "# Prompt template with a placeholder for the variable content\n",
        "PROMPT = \"\"\"Silvermist Hollow, a charming village, was home to an extraordinary group of individuals.\n",
        "Among them was Dr. Liam Patel, a neurosurgeon who revolutionized surgical techniques at the regional medical center.\n",
        "Olivia Chen was an innovative architect who transformed the village's landscape with her sustainable and breathtaking designs.\n",
        "The local theater was graced by the enchanting symphonies of Ethan Kovacs, a professionally-trained musician and composer.\n",
        "Isabella Torres, a self-taught chef with a passion for locally sourced ingredients, created a culinary sensation with her farm-to-table restaurant, which became a must-visit destination for food lovers.\n",
        "These remarkable individuals, each with their distinct talents, contributed to the vibrant tapestry of life in Silvermist Hollow.\n",
        "<individuals>\n",
        "1. Dr. Liam Patel [NEUROSURGEON]\n",
        "2. Olivia Chen [ARCHITECT]\n",
        "3. Ethan Kovacs [MISICIAN AND COMPOSER]\n",
        "4. Isabella Torres [CHEF]\n",
        "</individuals>\n",
        "\n",
        "At the heart of the town, Chef Oliver Hamilton has transformed the culinary scene with his farm-to-table restaurant, Green Plate. Oliver's dedication to sourcing local, organic ingredients has earned the establishment rave reviews from food critics and locals alike.\n",
        "Just down the street, you'll find the Riverside Grove Library, where head librarian Elizabeth Chen has worked diligently to create a welcoming and inclusive space for all. Her efforts to expand the library's offerings and establish reading programs for children have had a significant impact on the town's literacy rates.\n",
        "As you stroll through the charming town square, you'll be captivated by the beautiful murals adorning the walls. These masterpieces are the work of renowned artist, Isabella Torres, whose talent for capturing the essence of Riverside Grove has brought the town to life.\n",
        "Riverside Grove's athletic achievements are also worth noting, thanks to former Olympic swimmer-turned-coach, Marcus Jenkins. Marcus has used his experience and passion to train the town's youth, leading the Riverside Grove Swim Team to several regional championships.\n",
        "<individuals>\n",
        "1. Oliver Hamilton [CHEF]\n",
        "2. Elizabeth Chen [LIBRARIAN]\n",
        "3. Isabella Torres [ARTIST]\n",
        "4. Marcus Jenkins [COACH]\n",
        "</individuals>\n",
        "\n",
        "Oak Valley, a charming small town, is home to a remarkable trio of individuals whose skills and dedication have left a lasting impact on the community.\n",
        "At the town's bustling farmer's market, you'll find Laura Simmons, a passionate organic farmer known for her delicious and sustainably grown produce. Her dedication to promoting healthy eating has inspired the town to embrace a more eco-conscious lifestyle.\n",
        "In Oak Valley's community center, Kevin Alvarez, a skilled dance instructor, has brought the joy of movement to people of all ages. His inclusive dance classes have fostered a sense of unity and self-expression among residents, enriching the local arts scene.\n",
        "Lastly, Rachel O'Connor, a tireless volunteer, dedicates her time to various charitable initiatives. Her commitment to improving the lives of others has been instrumental in creating a strong sense of community within Oak Valley.\n",
        "Through their unique talents and unwavering dedication, Laura, Kevin, and Rachel have woven themselves into the fabric of Oak Valley, helping to create a vibrant and thriving small town.\"\"\"\n",
        "\n",
        "# Prefill for Claude's response\n",
        "PREFILL = \"<individuals>\"\n",
        "\n",
        "# Print Claude's response\n",
        "print(\"--------------------------- Full prompt with variable substutions ---------------------------\")\n",
        "print(\"USER TURN:\")\n",
        "print(PROMPT)\n",
        "print(\"\\nASSISTANT TURN:\")\n",
        "print(PREFILL)\n",
        "print(\"\\n------------------------------------- Claude's response -------------------------------------\")\n",
        "print(get_completion(PROMPT, prefill=PREFILL))"
      ]
    },
    {
      "cell_type": "code",
      "execution_count": null,
      "metadata": {
        "id": "8mH_uQk3LaR5"
      },
      "outputs": [],
      "source": []
    }
  ],
  "metadata": {
    "kernelspec": {
      "display_name": "conda_tensorflow2_p310",
      "language": "python",
      "name": "conda_tensorflow2_p310"
    },
    "language_info": {
      "codemirror_mode": {
        "name": "ipython",
        "version": 3
      },
      "file_extension": ".py",
      "mimetype": "text/x-python",
      "name": "python",
      "nbconvert_exporter": "python",
      "pygments_lexer": "ipython3",
      "version": "3.10.14"
    },
    "colab": {
      "provenance": [],
      "include_colab_link": true
    }
  },
  "nbformat": 4,
  "nbformat_minor": 0
}