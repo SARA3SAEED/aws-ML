{
  "cells": [
    {
      "cell_type": "markdown",
      "metadata": {
        "id": "view-in-github",
        "colab_type": "text"
      },
      "source": [
        "<a href=\"https://colab.research.google.com/github/SARA3SAEED/aws-ML/blob/main/01_Basic_Prompt_Structure(1).ipynb\" target=\"_parent\"><img src=\"https://colab.research.google.com/assets/colab-badge.svg\" alt=\"Open In Colab\"/></a>"
      ]
    },
    {
      "cell_type": "markdown",
      "metadata": {
        "id": "PnZQaK_BxS6e"
      },
      "source": [
        "# Chapter 1: Basic Prompt Structure\n",
        "\n",
        "- [Lesson](#lesson)\n",
        "- [Exercises](#exercises)\n",
        "- [Example Playground](#example-playground)\n",
        "\n",
        "## Setup\n",
        "\n",
        "Run the following setup cell to load your API key and establish the `get_completion` helper function."
      ]
    },
    {
      "cell_type": "code",
      "execution_count": null,
      "metadata": {
        "tags": [],
        "id": "1QHEwA-NxS6h",
        "outputId": "4a8bc3f0-2c14-4d9c-e905-eae75865457e"
      },
      "outputs": [
        {
          "name": "stdout",
          "output_type": "stream",
          "text": [
            "Note: you may need to restart the kernel to use updated packages.\n",
            "  \u001b[1;31merror\u001b[0m: \u001b[1msubprocess-exited-with-error\u001b[0m\n",
            "  \n",
            "  \u001b[31m×\u001b[0m \u001b[32mpython setup.py egg_info\u001b[0m did not run successfully.\n",
            "  \u001b[31m│\u001b[0m exit code: \u001b[1;36m1\u001b[0m\n",
            "  \u001b[31m╰─>\u001b[0m \u001b[31m[40 lines of output]\u001b[0m\n",
            "  \u001b[31m   \u001b[0m running egg_info\n",
            "  \u001b[31m   \u001b[0m creating /tmp/pip-pip-egg-info-1xkpohoi/wikipedia.egg-info\n",
            "  \u001b[31m   \u001b[0m writing /tmp/pip-pip-egg-info-1xkpohoi/wikipedia.egg-info/PKG-INFO\n",
            "  \u001b[31m   \u001b[0m writing dependency_links to /tmp/pip-pip-egg-info-1xkpohoi/wikipedia.egg-info/dependency_links.txt\n",
            "  \u001b[31m   \u001b[0m writing requirements to /tmp/pip-pip-egg-info-1xkpohoi/wikipedia.egg-info/requires.txt\n",
            "  \u001b[31m   \u001b[0m writing top-level names to /tmp/pip-pip-egg-info-1xkpohoi/wikipedia.egg-info/top_level.txt\n",
            "  \u001b[31m   \u001b[0m writing manifest file '/tmp/pip-pip-egg-info-1xkpohoi/wikipedia.egg-info/SOURCES.txt'\n",
            "  \u001b[31m   \u001b[0m reading manifest file '/tmp/pip-pip-egg-info-1xkpohoi/wikipedia.egg-info/SOURCES.txt'\n",
            "  \u001b[31m   \u001b[0m reading manifest template 'MANIFEST.in'\n",
            "  \u001b[31m   \u001b[0m adding license file 'LICENSE'\n",
            "  \u001b[31m   \u001b[0m Traceback (most recent call last):\n",
            "  \u001b[31m   \u001b[0m   File \"<string>\", line 2, in <module>\n",
            "  \u001b[31m   \u001b[0m   File \"<pip-setuptools-caller>\", line 34, in <module>\n",
            "  \u001b[31m   \u001b[0m   File \"/tmp/pip-install-_aappcd1/wikipedia_f95cc2fe3c1042f69a5ab03261fb7ae3/setup.py\", line 26, in <module>\n",
            "  \u001b[31m   \u001b[0m     setuptools.setup(\n",
            "  \u001b[31m   \u001b[0m   File \"/home/ec2-user/anaconda3/envs/tensorflow2_p310/lib/python3.10/site-packages/setuptools/__init__.py\", line 108, in setup\n",
            "  \u001b[31m   \u001b[0m     return distutils.core.setup(**attrs)\n",
            "  \u001b[31m   \u001b[0m   File \"/home/ec2-user/anaconda3/envs/tensorflow2_p310/lib/python3.10/site-packages/setuptools/_distutils/core.py\", line 184, in setup\n",
            "  \u001b[31m   \u001b[0m     return run_commands(dist)\n",
            "  \u001b[31m   \u001b[0m   File \"/home/ec2-user/anaconda3/envs/tensorflow2_p310/lib/python3.10/site-packages/setuptools/_distutils/core.py\", line 200, in run_commands\n",
            "  \u001b[31m   \u001b[0m     dist.run_commands()\n",
            "  \u001b[31m   \u001b[0m   File \"/home/ec2-user/anaconda3/envs/tensorflow2_p310/lib/python3.10/site-packages/setuptools/_distutils/dist.py\", line 970, in run_commands\n",
            "  \u001b[31m   \u001b[0m     self.run_command(cmd)\n",
            "  \u001b[31m   \u001b[0m   File \"/home/ec2-user/anaconda3/envs/tensorflow2_p310/lib/python3.10/site-packages/setuptools/dist.py\", line 956, in run_command\n",
            "  \u001b[31m   \u001b[0m     super().run_command(command)\n",
            "  \u001b[31m   \u001b[0m   File \"/home/ec2-user/anaconda3/envs/tensorflow2_p310/lib/python3.10/site-packages/setuptools/_distutils/dist.py\", line 989, in run_command\n",
            "  \u001b[31m   \u001b[0m     cmd_obj.run()\n",
            "  \u001b[31m   \u001b[0m   File \"/home/ec2-user/anaconda3/envs/tensorflow2_p310/lib/python3.10/site-packages/setuptools/command/egg_info.py\", line 310, in run\n",
            "  \u001b[31m   \u001b[0m     self.find_sources()\n",
            "  \u001b[31m   \u001b[0m   File \"/home/ec2-user/anaconda3/envs/tensorflow2_p310/lib/python3.10/site-packages/setuptools/command/egg_info.py\", line 318, in find_sources\n",
            "  \u001b[31m   \u001b[0m     mm.run()\n",
            "  \u001b[31m   \u001b[0m   File \"/home/ec2-user/anaconda3/envs/tensorflow2_p310/lib/python3.10/site-packages/setuptools/command/egg_info.py\", line 544, in run\n",
            "  \u001b[31m   \u001b[0m     self.prune_file_list()\n",
            "  \u001b[31m   \u001b[0m   File \"/home/ec2-user/anaconda3/envs/tensorflow2_p310/lib/python3.10/site-packages/setuptools/command/egg_info.py\", line 610, in prune_file_list\n",
            "  \u001b[31m   \u001b[0m     base_dir = self.distribution.get_fullname()\n",
            "  \u001b[31m   \u001b[0m   File \"/home/ec2-user/anaconda3/envs/tensorflow2_p310/lib/python3.10/site-packages/setuptools/_core_metadata.py\", line 266, in get_fullname\n",
            "  \u001b[31m   \u001b[0m     return _distribution_fullname(self.get_name(), self.get_version())\n",
            "  \u001b[31m   \u001b[0m   File \"/home/ec2-user/anaconda3/envs/tensorflow2_p310/lib/python3.10/site-packages/setuptools/_core_metadata.py\", line 284, in _distribution_fullname\n",
            "  \u001b[31m   \u001b[0m     canonicalize_version(version, strip_trailing_zero=False),\n",
            "  \u001b[31m   \u001b[0m TypeError: canonicalize_version() got an unexpected keyword argument 'strip_trailing_zero'\n",
            "  \u001b[31m   \u001b[0m \u001b[31m[end of output]\u001b[0m\n",
            "  \n",
            "  \u001b[1;35mnote\u001b[0m: This error originates from a subprocess, and is likely not a problem with pip.\n",
            "\u001b[1;31merror\u001b[0m: \u001b[1mmetadata-generation-failed\u001b[0m\n",
            "\n",
            "\u001b[31m×\u001b[0m Encountered error while generating package metadata.\n",
            "\u001b[31m╰─>\u001b[0m See above for output.\n",
            "\n",
            "\u001b[1;35mnote\u001b[0m: This is an issue with the package mentioned above, not pip.\n",
            "\u001b[1;36mhint\u001b[0m: See above for details.\n",
            "Note: you may need to restart the kernel to use updated packages.\n"
          ]
        }
      ],
      "source": [
        "%pip install -qU pip\n",
        "%pip install -qUr requirements.txt"
      ]
    },
    {
      "cell_type": "code",
      "execution_count": null,
      "metadata": {
        "tags": [],
        "id": "BE5GikJaxS6j"
      },
      "outputs": [],
      "source": [
        "# Import python's built-in regular expression library\n",
        "import re\n",
        "import boto3\n",
        "from botocore.exceptions import ClientError\n",
        "import json\n",
        "\n",
        "# Import the hints module from the utils package\n",
        "from utils import hints\n",
        "\n",
        "# Retrieve the MODEL_NAME variable from the IPython store\n",
        "%store -r modelId\n",
        "%store -r region\n",
        "\n",
        "bedrock_client = boto3.client(service_name='bedrock-runtime', region_name=region)"
      ]
    },
    {
      "cell_type": "code",
      "execution_count": null,
      "metadata": {
        "id": "fuktqi3VxS6k"
      },
      "outputs": [],
      "source": [
        "def get_completion(prompt, system_prompt=None):\n",
        "    # Define the inference configuration\n",
        "    inference_config = {\n",
        "        \"temperature\": 0.0,  # Set the temperature for generating diverse responses\n",
        "        \"maxTokens\": 200,  # Set the maximum number of tokens to generate\n",
        "        \"topP\": 1,  # Set the top_p value for nucleus sampling\n",
        "    }\n",
        "    # Create the converse method parameters\n",
        "    converse_api_params = {\n",
        "        \"modelId\": modelId,  # Specify the model ID to use\n",
        "        \"messages\": [{\"role\": \"user\", \"content\": [{\"text\": prompt}]}],  # Provide the user's prompt\n",
        "        \"inferenceConfig\": inference_config,  # Pass the inference configuration\n",
        "    }\n",
        "    # Check if system_text is provided\n",
        "    if system_prompt:\n",
        "        # If system_text is provided, add the system parameter to the converse_params dictionary\n",
        "        converse_api_params[\"system\"] = [{\"text\": system_prompt}]\n",
        "\n",
        "    # Send a request to the Bedrock client to generate a response\n",
        "    try:\n",
        "        response = bedrock_client.converse(**converse_api_params)\n",
        "\n",
        "        # Extract the generated text content from the response\n",
        "        text_content = response['output']['message']['content'][0]['text']\n",
        "\n",
        "        # Return the generated text content\n",
        "        return text_content\n",
        "\n",
        "    except ClientError as err:\n",
        "        message = err.response['Error']['Message']\n",
        "        print(f\"A client error occured: {message}\")"
      ]
    },
    {
      "cell_type": "markdown",
      "metadata": {
        "id": "QRI2KhX9xS6l"
      },
      "source": [
        "---\n",
        "\n",
        "## Lesson\n",
        "\n",
        "Amazon Bedrock offers three APIs that can be used with Anthropic Claude models, the legacy [Text Completions API](https://docs.aws.amazon.com/bedrock/latest/userguide/model-parameters-anthropic-claude-text-completion.html) , the [Messages API](https://docs.aws.amazon.com/bedrock/latest/userguide/model-parameters-anthropic-claude-messages.html) and the current [Converse API](https://docs.aws.amazon.com/bedrock/latest/userguide/conversation-inference.html). For this tutorial, we will be exclusively using the Converse API.\n",
        "\n",
        "At minimum, a call to Claude using the Converse API requires the following parameters:\n",
        "- `modelId`: the [API model name](https://docs.aws.amazon.com/bedrock/latest/userguide/model-ids.html#model-ids-arns) of the model that you intend to call\n",
        "\n",
        "- `messages`: an array of input messages. Claude 3 models are trained to operate on alternating `user` and `assistant` conversational turns. When creating a new `Message`, you specify the prior conversational turns with the messages parameter, and the model then generates the next `Message` in the conversation.\n",
        "  - Each input message must be an object with a `role` and `content`. You can specify a single `user`-role message, or you can include multiple `user` and `assistant` messages (they must alternate, if so). **The first message must always use the `user` role.**\n",
        "  \n",
        "  You store the content for the message in the `content` field of a [(ContentBlock)](https://docs.aws.amazon.com/bedrock/latest/APIReference/API_runtime_ContentBlock.html). Specify text in the `text` field, or if supported by the model, you can also pass the raw bytes for an image in the `image` field of an [(ImageBlock)](https://docs.aws.amazon.com/bedrock/latest/APIReference/API_runtime_ImageBlock.html). The other fields in ContentBlock are for [tool use](https://docs.aws.amazon.com/bedrock/latest/userguide/tool-use.html).\n",
        "\n",
        "There are also optional parameters, such as:\n",
        "- `system`: the system prompt - more on this below.\n",
        "  \n",
        "- `temperature`: the degree of variability in Claude's response. For these lessons and exercises, we have set `temperature` to 0.\n",
        "\n",
        "- `max_tokens`: the maximum number of tokens to generate before stopping. Note that Claude may stop before reaching this maximum. This parameter only specifies the absolute maximum number of tokens to generate. Furthermore, this is a *hard* stop, meaning that it may cause Claude to stop generating mid-word or mid-sentence.\n",
        "\n",
        "For a complete list of all API parameters, visit our [API documentation](https://docs.aws.amazon.com/bedrock/latest/userguide/conversation-inference.html)."
      ]
    },
    {
      "cell_type": "markdown",
      "metadata": {
        "id": "jUy-KqI-xS6m"
      },
      "source": [
        "### Examples\n",
        "\n",
        "Let's take a look at how Claude responds to some correctly-formatted prompts. For each of the following cells, run the cell (`shift+enter`), and Claude's response will appear below the block."
      ]
    },
    {
      "cell_type": "code",
      "execution_count": null,
      "metadata": {
        "tags": [],
        "id": "0bnJkXPvxS6m",
        "outputId": "71b1e6b8-86c2-489f-e89d-4fd1e9bc24da"
      },
      "outputs": [
        {
          "name": "stdout",
          "output_type": "stream",
          "text": [
            "I'm doing well, thanks for asking! As an AI assistant, I don't have feelings in the same way humans do, but I'm functioning properly and ready to assist you with any questions or tasks you may have. How can I help you today?\n"
          ]
        }
      ],
      "source": [
        "# Prompt\n",
        "PROMPT = \"Hi Claude, how are you?\"\n",
        "\n",
        "# Print Claude's response\n",
        "print(get_completion(PROMPT))"
      ]
    },
    {
      "cell_type": "code",
      "execution_count": null,
      "metadata": {
        "tags": [],
        "id": "lVUGK8GNxS6n",
        "outputId": "934edf53-8206-427e-eaf3-0b35716ab815"
      },
      "outputs": [
        {
          "name": "stdout",
          "output_type": "stream",
          "text": [
            "The color of the ocean can vary depending on a few factors:\n",
            "\n",
            "- Depth - The ocean appears blue in deeper waters due to the way sunlight interacts with the water molecules. Shallower waters may appear more green, turquoise, or even brown depending on the seafloor.\n",
            "\n",
            "- Suspended particles - Things like plankton, sediment, or algae in the water can affect the ocean's color, making it appear more green, brown, or even reddish.\n",
            "\n",
            "- Weather conditions - The sky's color can reflect on the surface of the ocean, making it appear more gray, white, or even black on overcast days.\n",
            "\n",
            "- Geographic location - Different regions of the ocean can have slightly different hues based on factors like latitude, currents, and local marine life.\n",
            "\n",
            "In general though, the predominant color of the open ocean is a deep, rich blue. This is due to the way sunlight interacts with the\n"
          ]
        }
      ],
      "source": [
        "# Prompt\n",
        "PROMPT = \"Can you tell me the color of the ocean?\"\n",
        "\n",
        "# Print Claude's response\n",
        "print(get_completion(PROMPT))"
      ]
    },
    {
      "cell_type": "code",
      "execution_count": null,
      "metadata": {
        "tags": [],
        "id": "fNElpTEOxS6o",
        "outputId": "2fbefc90-030e-4078-bd50-93f8b943d4e7"
      },
      "outputs": [
        {
          "name": "stdout",
          "output_type": "stream",
          "text": [
            "Celine Dion was born on March 30, 1968.\n"
          ]
        }
      ],
      "source": [
        "# Prompt\n",
        "PROMPT = \"What year was Celine Dion born in?\"\n",
        "\n",
        "# Print Claude's response\n",
        "print(get_completion(PROMPT))"
      ]
    },
    {
      "cell_type": "markdown",
      "metadata": {
        "id": "c2dTOWS2xS6o"
      },
      "source": [
        "Now let's take a look at some prompts that do not include the correct Converse API formatting. For these malformatted prompts, the Converse API returns an error.\n",
        "\n",
        "First, we have an example of a Converse API call that lacks `role` and `content` fields in the `messages` array."
      ]
    },
    {
      "cell_type": "markdown",
      "metadata": {
        "id": "5Lwpfbh_xS6p"
      },
      "source": [
        "> ⚠️ **Warning:** Due to the incorrect formatting of the messages parameter in the prompt, the following cell will return an error. This is expected behavior."
      ]
    },
    {
      "cell_type": "code",
      "execution_count": null,
      "metadata": {
        "tags": [],
        "id": "Fryf8EpQxS6p",
        "outputId": "9555457e-b4d9-4d36-f75d-32f05f05069c"
      },
      "outputs": [
        {
          "name": "stdout",
          "output_type": "stream",
          "text": [
            "I'm doing well, thanks for asking! As an AI assistant, I don't have feelings in the same way humans do, but I'm functioning properly and ready to assist you with any questions or tasks you may have. How can I help you today?\n"
          ]
        }
      ],
      "source": [
        "# Get Claude's response\n",
        "inference_config = {\n",
        "    \"temperature\": 0.0, # Set the temperature for generating diverse responses\n",
        "    \"maxTokens\": 200 # Set the maximum number of tokens to generate\n",
        "}\n",
        "\n",
        "converse_api_params = {\n",
        "    \"modelId\": modelId,\n",
        "    \"messages\": [{\"role\":\"user\",\"content\":[{\"text\":\"Hi Claude, how are you?\"}]}], # Provide the user's prompt\n",
        "    \"inferenceConfig\": inference_config # Pass the inference configuration\n",
        "}\n",
        "\n",
        "response = bedrock_client.converse(**converse_api_params)\n",
        "\n",
        "# Print Claude's response\n",
        "print(response['output']['message']['content'][0]['text'])"
      ]
    },
    {
      "cell_type": "markdown",
      "metadata": {
        "id": "Ydo2A3UVxS6p"
      },
      "source": [
        "Here's a prompt that fails to alternate between the `user` and `assistant` roles."
      ]
    },
    {
      "cell_type": "markdown",
      "metadata": {
        "id": "C8PjubLpxS6p"
      },
      "source": [
        "> ⚠️ **Warning:** Due to the lack of alternation between `user` and `assistant` roles, Claude will return an error message. This is expected behavior."
      ]
    },
    {
      "cell_type": "code",
      "execution_count": null,
      "metadata": {
        "tags": [],
        "id": "EH6TZVALxS6q",
        "outputId": "080f861b-c326-45e5-eeaa-22e3f40476ce"
      },
      "outputs": [
        {
          "name": "stdout",
          "output_type": "stream",
          "text": [
            "\n",
            "\n",
            "Celine Dion was born on March 30, 1968 in Charlemagne, Quebec, Canada.\n",
            "\n",
            "Some other key facts about Celine Dion:\n",
            "\n",
            "- She is a Canadian singer and businesswoman. She is one of the most successful and influential pop singers of all time.\n",
            "\n",
            "- She began her career at a very young age, releasing her first French-language album at age 13 in 1981.\n",
            "\n",
            "- She gained international fame in the 1990s with hit songs like \"The Power of Love\", \"Because You Loved Me\", and the theme song for the film Titanic, \"My Heart Will Go On\".\n",
            "\n",
            "- She has won numerous awards over her career, including 5 Grammy Awards, 7 Billboard Music Awards, and 20 Juno Awards (Canada's top music awards).\n",
            "\n",
            "- She has released 27 studio albums in both French and English and has\n"
          ]
        }
      ],
      "source": [
        "inference_config = {\n",
        "    \"temperature\": 0.5,\n",
        "    \"maxTokens\": 200\n",
        "}\n",
        "# Create the converse method parameters\n",
        "converse_api_params = {\n",
        "    \"modelId\": modelId,\n",
        "    \"messages\": [\n",
        "        {\"role\": \"user\", \"content\": [{\"text\": \"What year was Celine Dion born in?\"}]},\n",
        "        {\"role\": \"assistant\", \"content\": [{\"text\":\"Also, can you tell me some other facts about her?\"}]}\n",
        "    ],\n",
        "    \"inferenceConfig\": inference_config,\n",
        "}\n",
        "\n",
        "response = bedrock_client.converse(**converse_api_params)\n",
        "\n",
        "# Print Claude's response\n",
        "print(response['output']['message']['content'][0]['text'])"
      ]
    },
    {
      "cell_type": "markdown",
      "metadata": {
        "id": "xGY9L6pFxS6q"
      },
      "source": [
        "`user` and `assistant` messages **MUST alternate**, and messages **MUST start with a `user` turn**. You can have multiple `user` & `assistant` pairs in a prompt (as if simulating a multi-turn conversation). You can also put words into a terminal `assistant` message for Claude to continue from where you left off (more on that in later chapters).\n",
        "\n",
        "#### System Prompts\n",
        "\n",
        "You can also use **system prompts**. A system prompt is a way to **provide context, instructions, and guidelines to Claude** before presenting it with a question or task in the \"User\" turn.\n",
        "\n",
        "Structurally, system prompts exist separately from the list of `user` & `assistant` messages, and thus belong in a separate `system` parameter (take a look at the structure of the `get_completion` helper function in the [Setup](#setup) section of the notebook).\n",
        "\n",
        "Within this tutorial, wherever we might utilize a system prompt, we have provided you a `system` field in your completions function. Should you not want to use a system prompt, simply set the `SYSTEM_PROMPT` variable to an empty string."
      ]
    },
    {
      "cell_type": "markdown",
      "metadata": {
        "id": "VqjX_P1gxS6q"
      },
      "source": [
        "#### System Prompt Example"
      ]
    },
    {
      "cell_type": "code",
      "execution_count": null,
      "metadata": {
        "tags": [],
        "id": "8PKS4n5YxS6r",
        "outputId": "a2183e3b-630e-4aae-9bf6-60af354e218c"
      },
      "outputs": [
        {
          "name": "stdout",
          "output_type": "stream",
          "text": [
            "Here are some critical thinking questions to further explore why the sky is blue:\n",
            "\n",
            "- What causes the sky to appear blue in color?\n",
            "- How does the composition of the Earth's atmosphere contribute to the sky's blue appearance?\n",
            "- What role do the wavelengths of visible light play in making the sky appear blue?\n",
            "- How do the scattering properties of different wavelengths of light affect the sky's color?\n",
            "- What other factors, such as the time of day or weather conditions, can influence the sky's appearance?\n",
            "- How have scientists historically explained and studied the phenomenon of the blue sky?\n",
            "- What are some alternative perspectives or theories that have been proposed to explain the sky's blue color?\n",
            "\n",
            "By exploring these types of questions, we can delve deeper into the scientific principles and mechanisms that give rise to the familiar blue hue of the sky.\n"
          ]
        }
      ],
      "source": [
        "# System prompt\n",
        "SYSTEM_PROMPT = \"Your answer should always be a series of critical thinking questions that further the conversation (do not provide answers to your questions). Do not actually answer the user question.\"\n",
        "\n",
        "# Prompt\n",
        "PROMPT = \"Why is the sky blue?\"\n",
        "\n",
        "# Print Claude's response\n",
        "print(get_completion(PROMPT, SYSTEM_PROMPT))"
      ]
    },
    {
      "cell_type": "markdown",
      "metadata": {
        "id": "fno0m3vKxS6r"
      },
      "source": [
        "Why use a system prompt? A **well-written system prompt can improve Claude's performance** in a variety of ways, such as increasing Claude's ability to follow rules and instructions. For more information, visit Anthropic's documentation on [how to use system prompts](https://docs.anthropic.com/claude/docs/how-to-use-system-prompts) with Claude.\n",
        "\n",
        "Now we'll dive into some exercises. If you would like to experiment with the lesson prompts without changing any content above, scroll all the way to the bottom of the lesson notebook to visit the [**Example Playground**](#example-playground)."
      ]
    },
    {
      "cell_type": "markdown",
      "metadata": {
        "id": "sZvduEasxS6r"
      },
      "source": [
        "---\n",
        "\n",
        "## Exercises\n",
        "- [Exercise 1.1 - Counting to Three](#exercise-11---counting-to-three)\n",
        "- [Exercise 1.2 - System Prompt](#exercise-12---system-prompt)"
      ]
    },
    {
      "cell_type": "markdown",
      "metadata": {
        "id": "ZQV8rUfgxS6s"
      },
      "source": [
        "### Exercise 1.1 - Counting to Three\n",
        "Using proper `user` / `assistant` formatting, edit the `PROMPT` below to get Claude to **count to three.** The output will also indicate whether your solution is correct."
      ]
    },
    {
      "cell_type": "code",
      "execution_count": null,
      "metadata": {
        "tags": [],
        "id": "tS59cUmRxS6s",
        "outputId": "a43134d3-19d8-4f10-8484-b3a557a92871"
      },
      "outputs": [
        {
          "name": "stdout",
          "output_type": "stream",
          "text": [
            "The sky appears blue due to a phenomenon called Rayleigh scattering. Here's a brief explanation:\n",
            "\n",
            "1. Sunlight is composed of different wavelengths of visible light, including red, orange, yellow, green, blue, and violet.\n",
            "\n",
            "2. As sunlight passes through the Earth's atmosphere, the shorter wavelengths of light (such as blue and violet) are more easily scattered by the gas molecules in the atmosphere, particularly nitrogen and oxygen.\n",
            "\n",
            "3. This selective scattering of the shorter wavelengths of light is known as Rayleigh scattering. The blue wavelengths are scattered more than the longer red and orange wavelengths.\n",
            "\n",
            "4. The scattered blue light is then reflected and refracted in the atmosphere, making the sky appear blue to our eyes. This is why the sky appears more blue during the day when the sun is high in the sky.\n",
            "\n",
            "5. At sunrise and sunset, when the sun\n",
            "\n",
            "--------------------------- GRADING ---------------------------\n",
            "This exercise has been correctly solved: True\n"
          ]
        }
      ],
      "source": [
        "# Prompt - this is the only field you should change\n",
        "PROMPT = \"Why is the sky blue?\"\n",
        "\n",
        "# Get Claude's response\n",
        "response = get_completion(PROMPT)\n",
        "\n",
        "# Function to grade exercise correctness\n",
        "def grade_exercise(text):\n",
        "    pattern = re.compile(r'^(?=.*1)(?=.*2)(?=.*3).*$', re.DOTALL)\n",
        "    return bool(pattern.match(text))\n",
        "\n",
        "# Print Claude's response and the corresponding grade\n",
        "print(response)\n",
        "print(\"\\n--------------------------- GRADING ---------------------------\")\n",
        "print(\"This exercise has been correctly solved:\", grade_exercise(response))"
      ]
    },
    {
      "cell_type": "markdown",
      "metadata": {
        "id": "AUjUc_XvxS6s"
      },
      "source": [
        "❓ If you want a hint, run the cell below!"
      ]
    },
    {
      "cell_type": "code",
      "execution_count": null,
      "metadata": {
        "id": "9o542VtlxS6t",
        "outputId": "ab5a826e-5198-4d64-ccb1-d6d662bb469a"
      },
      "outputs": [
        {
          "name": "stdout",
          "output_type": "stream",
          "text": [
            "The grading function in this exercise is looking for an answer that contains the exact Arabic numerals \"1\", \"2\", and \"3\".\n",
            "You can often get Claude to do what you want simply by asking.\n"
          ]
        }
      ],
      "source": [
        "print(hints.exercise_1_1_hint)"
      ]
    },
    {
      "cell_type": "markdown",
      "metadata": {
        "id": "bbj6aprYxS6t"
      },
      "source": [
        "### Exercise 1.2 - System Prompt\n",
        "\n",
        "Modify the `SYSTEM_PROMPT` to make Claude respond like it's a 3 year old child."
      ]
    },
    {
      "cell_type": "code",
      "execution_count": null,
      "metadata": {
        "id": "9QCqcPvRxS6t",
        "outputId": "acbbc1dd-ceed-4556-c889-d280b60b06f1"
      },
      "outputs": [
        {
          "name": "stdout",
          "output_type": "stream",
          "text": [
            "The sky is absolutely massive! It's so big, it's hard to even comprehend. Just imagine - the sky stretches out in every direction as far as the eye can see. It goes on and on, with fluffy clouds drifting by and the sun or moon shining down. And that's just the part we can see from Earth! The sky actually extends far beyond our planet, all the way out into the vast expanse of the universe, with billions of stars and galaxies. It's truly mind-boggling to think about how immense and awe-inspiring the sky really is. It makes you feel so small, yet also part of something so grand and incredible. The sky is the limit, as they say - it's a boundless canvas of wonder and possibility!\n",
            "\n",
            "--------------------------- GRADING ---------------------------\n",
            "This exercise has been correctly solved: False\n"
          ]
        }
      ],
      "source": [
        "# System prompt - this is the only field you should change\n",
        "SYSTEM_PROMPT = \"Respond in a playful, imaginative, and lighthearted tone.\"\n",
        "\n",
        "# Prompt\n",
        "PROMPT = \"How big is the sky?\"\n",
        "\n",
        "# Get Claude's response\n",
        "response = get_completion(PROMPT, SYSTEM_PROMPT)\n",
        "\n",
        "# Function to grade exercise correctness\n",
        "def grade_exercise(text):\n",
        "    return bool(re.search(r\"giggles\", text) or re.search(r\"soo\", text))\n",
        "\n",
        "# Print Claude's response and the corresponding grade\n",
        "print(response)\n",
        "print(\"\\n--------------------------- GRADING ---------------------------\")\n",
        "print(\"This exercise has been correctly solved:\", grade_exercise(response))"
      ]
    },
    {
      "cell_type": "markdown",
      "metadata": {
        "id": "u2PnOxafxS6u"
      },
      "source": [
        "❓ If you want a hint, run the cell below!"
      ]
    },
    {
      "cell_type": "code",
      "execution_count": null,
      "metadata": {
        "id": "4di_Z6UGxS6u",
        "outputId": "32e06114-41ab-4ae8-817c-ac3ab895a5d4"
      },
      "outputs": [
        {
          "name": "stdout",
          "output_type": "stream",
          "text": [
            "The grading function in this exercise is looking for answers that contain \"soo\" or \"giggles\".\n",
            "There are many ways to solve this, just by asking!\n"
          ]
        }
      ],
      "source": [
        "print(hints.exercise_1_2_hint)"
      ]
    },
    {
      "cell_type": "markdown",
      "metadata": {
        "id": "iqBhHjcFxS6v"
      },
      "source": [
        "### Congrats!\n",
        "\n",
        "If you've solved all exercises up until this point, you're ready to move to the next chapter. Happy prompting!"
      ]
    },
    {
      "cell_type": "markdown",
      "metadata": {
        "id": "HVCWiaPAxS6v"
      },
      "source": [
        "---\n",
        "\n",
        "## Example Playground\n",
        "\n",
        "This is an area for you to experiment freely with the prompt examples shown in this lesson and tweak prompts to see how it may affect Claude's responses."
      ]
    },
    {
      "cell_type": "code",
      "execution_count": null,
      "metadata": {
        "tags": [],
        "id": "6ynyUYYaxS6v",
        "outputId": "ecf1f808-8b78-4b9d-bce2-9cd2232e2c19"
      },
      "outputs": [
        {
          "name": "stdout",
          "output_type": "stream",
          "text": [
            "I'm doing well, thanks for asking! As an AI assistant, I don't have feelings in the same way humans do, but I'm functioning properly and ready to assist you with any questions or tasks you may have. How can I help you today?\n"
          ]
        }
      ],
      "source": [
        "# Prompt\n",
        "PROMPT = \"Hi Claude, how are you?\"\n",
        "\n",
        "# Print Claude's response\n",
        "print(get_completion(PROMPT))"
      ]
    },
    {
      "cell_type": "code",
      "execution_count": null,
      "metadata": {
        "tags": [],
        "id": "7p9mUqGbxS6w",
        "outputId": "0f171186-774f-4ffa-c0ef-c9f445b4bded"
      },
      "outputs": [
        {
          "name": "stdout",
          "output_type": "stream",
          "text": [
            "The color of the ocean can vary depending on a few factors:\n",
            "\n",
            "- Depth - The ocean appears blue in deeper waters due to the way sunlight interacts with the water molecules. Shallower waters may appear more green, turquoise, or even brown.\n",
            "\n",
            "- Suspended particles - Things like plankton, sediment, or algae in the water can affect the ocean's color, making it appear more green, brown, or even reddish.\n",
            "\n",
            "- Weather conditions - The sky's color can reflect on the surface of the ocean, making it appear more gray, white, or even darker blue on overcast days.\n",
            "\n",
            "- Geographic location - Different regions of the ocean can have slightly different hues based on factors like latitude, currents, and local marine life.\n",
            "\n",
            "In general though, the predominant color of the open ocean is a deep, rich blue. This is due to the way sunlight interacts with the water and the lack of\n"
          ]
        }
      ],
      "source": [
        "# Prompt\n",
        "PROMPT = \"Can you tell me the color of the ocean?\"\n",
        "\n",
        "# Print Claude's response\n",
        "print(get_completion(PROMPT))"
      ]
    },
    {
      "cell_type": "code",
      "execution_count": null,
      "metadata": {
        "tags": [],
        "id": "gPtAohpAxS6w",
        "outputId": "e08b0156-ad24-409e-def4-5cb2854fe244"
      },
      "outputs": [
        {
          "name": "stdout",
          "output_type": "stream",
          "text": [
            "Celine Dion was born on March 30, 1968.\n"
          ]
        }
      ],
      "source": [
        "# Prompt\n",
        "PROMPT = \"What year was Celine Dion born in?\"\n",
        "\n",
        "# Print Claude's response\n",
        "print(get_completion(PROMPT))"
      ]
    },
    {
      "cell_type": "code",
      "execution_count": null,
      "metadata": {
        "id": "JHY-91CFxS6x",
        "outputId": "d2010a74-6799-4624-d342-dc6f3c3833f4"
      },
      "outputs": [
        {
          "name": "stdout",
          "output_type": "stream",
          "text": [
            "I'm doing well, thanks for asking! As an AI assistant, I don't have feelings in the same way humans do, but I'm functioning properly and ready to assist you. How can I help you today?\n"
          ]
        }
      ],
      "source": [
        "# Get Claude's response\n",
        "inference_config = {\n",
        "    \"temperature\": 0.0\n",
        "}\n",
        "additional_model_fields = {\n",
        "    \"max_tokens\": 200\n",
        "}\n",
        "\n",
        "converse_api_params = {\n",
        "    \"modelId\": modelId,\n",
        "#     \"messages\": [{\"text\":\"Hi Claude, how are you?\"}],\n",
        "     \"messages\": [{\"role\":\"user\",\"content\":[{\"text\":\"Hi Claude, how are you?\"}]}],\n",
        "    \"inferenceConfig\": inference_config,\n",
        "    \"additionalModelRequestFields\": additional_model_fields\n",
        "}\n",
        "\n",
        "response = bedrock_client.converse(**converse_api_params)\n",
        "\n",
        "# Print Claude's response\n",
        "print(response['output']['message']['content'][0]['text'])"
      ]
    },
    {
      "cell_type": "code",
      "execution_count": null,
      "metadata": {
        "id": "wj4_ioJgxS6x",
        "outputId": "b37fab81-feaf-4778-b069-33eff53dd9a4"
      },
      "outputs": [
        {
          "name": "stdout",
          "output_type": "stream",
          "text": [
            "\n",
            "\n",
            "Celine Dion was born on March 30, 1968 in Charlemagne, Quebec, Canada.\n",
            "\n",
            "Some other key facts about Celine Dion:\n",
            "\n",
            "- She is a Canadian singer, songwriter, and businesswoman. She is one of the most successful and influential pop singers of all time.\n",
            "\n",
            "- She first gained international fame in the 1990s with her album \"Falling Into You\" and the theme song for the film Titanic, \"My Heart Will Go On\", which became one of the best-selling singles of all time.\n",
            "\n",
            "- She has won numerous awards over her career, including 5 Grammy Awards, 2 Academy Awards, 7 American Music Awards, and 20 Juno Awards.\n",
            "\n",
            "- She is the best-selling Canadian recording artist and the second best-selling female artist in history, having sold over 200 million albums worldwide.\n",
            "\n",
            "- In addition to\n"
          ]
        }
      ],
      "source": [
        "inference_config = {\n",
        "    \"temperature\": 0.0\n",
        "}\n",
        "additional_model_fields = {\n",
        "    \"top_p\": 1,\n",
        "    \"max_tokens\": 200\n",
        "}\n",
        "converse_api_params = {\n",
        "    \"modelId\": modelId,\n",
        "    \"messages\": [\n",
        "        {\"role\": \"user\", \"content\": [{\"text\": \"What year was Celine Dion born in?\"}]},\n",
        "        {\"role\": \"assistant\", \"content\": [{\"text\":\"Also, can you tell me some other facts about her?\"}]}\n",
        "    ],\n",
        "    \"inferenceConfig\": inference_config,\n",
        "    \"additionalModelRequestFields\": additional_model_fields\n",
        "}\n",
        "\n",
        "response = bedrock_client.converse(**converse_api_params)\n",
        "\n",
        "# Print Claude's response\n",
        "print(response['output']['message']['content'][0]['text'])"
      ]
    },
    {
      "cell_type": "code",
      "execution_count": null,
      "metadata": {
        "tags": [],
        "id": "29iCENLOxS6y",
        "outputId": "c93fcaa1-d03f-4346-a7cc-7143cdcb425f"
      },
      "outputs": [
        {
          "name": "stdout",
          "output_type": "stream",
          "text": [
            "Here are some critical thinking questions to further explore why the sky is blue:\n",
            "\n",
            "- What is the composition of the Earth's atmosphere, and how does that affect the way light interacts with it?\n",
            "- How does the scattering of different wavelengths of light contribute to the blue appearance of the sky?\n",
            "- What role do gases like nitrogen and oxygen play in causing the sky to appear blue?\n",
            "- How do the properties of sunlight, such as its spectrum, contribute to the blue color of the sky?\n",
            "- What other factors, such as the time of day or weather conditions, can influence the appearance of the sky's color?\n",
            "- How have scientists historically investigated and explained the phenomenon of the blue sky?\n",
            "- What are some alternative theories or perspectives on why the sky appears blue that are worth considering?\n",
            "\n",
            "By exploring these types of questions, we can delve deeper into the scientific principles and mechanisms that underlie the blue color of the sky.\n"
          ]
        }
      ],
      "source": [
        "# System prompt\n",
        "SYSTEM_PROMPT = \"Your answer should always be a series of critical thinking questions that further the conversation (do not provide answers to your questions). Do not actually answer the user question.\"\n",
        "\n",
        "# Prompt\n",
        "PROMPT = \"Why is the sky blue?\"\n",
        "\n",
        "# Print Claude's response\n",
        "print(get_completion(PROMPT, SYSTEM_PROMPT))"
      ]
    },
    {
      "cell_type": "code",
      "execution_count": null,
      "metadata": {
        "id": "r3jbXm9BxS6y"
      },
      "outputs": [],
      "source": []
    }
  ],
  "metadata": {
    "kernelspec": {
      "display_name": "conda_tensorflow2_p310",
      "language": "python",
      "name": "conda_tensorflow2_p310"
    },
    "language_info": {
      "codemirror_mode": {
        "name": "ipython",
        "version": 3
      },
      "file_extension": ".py",
      "mimetype": "text/x-python",
      "name": "python",
      "nbconvert_exporter": "python",
      "pygments_lexer": "ipython3",
      "version": "3.10.14"
    },
    "colab": {
      "provenance": [],
      "include_colab_link": true
    }
  },
  "nbformat": 4,
  "nbformat_minor": 0
}