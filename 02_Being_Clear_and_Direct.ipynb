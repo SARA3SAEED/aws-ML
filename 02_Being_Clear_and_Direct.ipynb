{
  "cells": [
    {
      "cell_type": "markdown",
      "metadata": {
        "id": "view-in-github",
        "colab_type": "text"
      },
      "source": [
        "<a href=\"https://colab.research.google.com/github/SARA3SAEED/aws-ML/blob/main/02_Being_Clear_and_Direct.ipynb\" target=\"_parent\"><img src=\"https://colab.research.google.com/assets/colab-badge.svg\" alt=\"Open In Colab\"/></a>"
      ]
    },
    {
      "cell_type": "markdown",
      "metadata": {
        "id": "7AXLsvcfEG6M"
      },
      "source": [
        "# Chapter 2: Being Clear and Direct\n",
        "\n",
        "- [Lesson](#lesson)\n",
        "- [Exercises](#exercises)\n",
        "- [Example Playground](#example-playground)\n",
        "\n",
        "## Setup\n",
        "\n",
        "Run the following setup cell to load your API key and establish the `get_completion` helper function."
      ]
    },
    {
      "cell_type": "code",
      "execution_count": null,
      "metadata": {
        "tags": [],
        "id": "dy6RLN4lEG6O"
      },
      "outputs": [],
      "source": [
        "# Import python's built-in regular expression library\n",
        "import re\n",
        "import boto3\n",
        "from botocore.exceptions import ClientError\n",
        "import json\n",
        "\n",
        "# Import the hints module from the utils package\n",
        "from utils import hints\n",
        "\n",
        "# Retrieve the MODEL_NAME variable from the IPython store\n",
        "%store -r modelId\n",
        "%store -r region\n",
        "\n",
        "bedrock_client = boto3.client(service_name='bedrock-runtime', region_name=region)"
      ]
    },
    {
      "cell_type": "code",
      "execution_count": null,
      "metadata": {
        "id": "FCy2gOgwEG6Q"
      },
      "outputs": [],
      "source": [
        "def get_completion(prompt, system_prompt=None):\n",
        "    inference_config = {\n",
        "        \"temperature\": 0.0,\n",
        "        \"maxTokens\": 3000\n",
        "    }\n",
        "    additional_model_fields = {\n",
        "        \"top_p\": 1\n",
        "    }\n",
        "    converse_api_params = {\n",
        "        \"modelId\": modelId,\n",
        "        \"messages\": [{\"role\": \"user\", \"content\": [{\"text\": prompt}]}],\n",
        "        \"inferenceConfig\": inference_config,\n",
        "        \"additionalModelRequestFields\": additional_model_fields\n",
        "    }\n",
        "    if system_prompt:\n",
        "        converse_api_params[\"system\"] = [{\"text\": system_prompt}]\n",
        "    try:\n",
        "        response = bedrock_client.converse(**converse_api_params)\n",
        "        text_content = response['output']['message']['content'][0]['text']\n",
        "        return text_content\n",
        "\n",
        "    except ClientError as err:\n",
        "        message = err.response['Error']['Message']\n",
        "        print(f\"A client error occured: {message}\")"
      ]
    },
    {
      "cell_type": "markdown",
      "metadata": {
        "id": "uRVgpnUDEG6Q"
      },
      "source": [
        "---\n",
        "\n",
        "## Lesson\n",
        "\n",
        "**Claude responds best to clear and direct instructions.**\n",
        "\n",
        "Think of Claude like any other human that is new to the job. **Claude has no context** on what to do aside from what you literally tell it. Just as when you instruct a human for the first time on a task, the more you explain exactly what you want in a straightforward manner to Claude, the better and more accurate Claude's response will be.\"\n",
        "\n",
        "When in doubt, follow the **Golden Rule of Clear Prompting**:\n",
        "- Show your prompt to a colleague or friend and have them follow the instructions themselves to see if they can produce the result you want. If they're confused, Claude's confused."
      ]
    },
    {
      "cell_type": "markdown",
      "metadata": {
        "id": "tEDfWD-2EG6R"
      },
      "source": [
        "### Examples\n",
        "\n",
        "Let's take a task like writing poetry. (Ignore any syllable mismatch - LLMs aren't great at counting syllables yet.)"
      ]
    },
    {
      "cell_type": "code",
      "execution_count": null,
      "metadata": {
        "tags": [],
        "id": "j9xut9hkEG6R",
        "outputId": "4a2bc349-2bef-4da5-c484-f4d0c1c49bd8"
      },
      "outputs": [
        {
          "name": "stdout",
          "output_type": "stream",
          "text": [
            "Here is a haiku about robots:\n",
            "\n",
            "Metallic beings\n",
            "Programmed to serve and obey\n",
            "Artificial life\n"
          ]
        }
      ],
      "source": [
        "# Prompt\n",
        "PROMPT = \"Write a haiku about robots.\"\n",
        "\n",
        "# Print Claude's response\n",
        "print(get_completion(PROMPT))"
      ]
    },
    {
      "cell_type": "markdown",
      "metadata": {
        "id": "fV98KU_uEG6T"
      },
      "source": [
        "This haiku is nice enough, but users may want Claude to go directly into the poem without the \"Here is a haiku\" preamble.\n",
        "\n",
        "How do we achieve that? We **ask for it**!"
      ]
    },
    {
      "cell_type": "code",
      "execution_count": null,
      "metadata": {
        "id": "LyZf_KuyEG6U",
        "outputId": "1e3c460f-4187-449e-ae22-c526f6d231cb"
      },
      "outputs": [
        {
          "name": "stdout",
          "output_type": "stream",
          "text": [
            "Metallic beings,\n",
            "Programmed to serve and obey,\n",
            "Robots, our creations.\n"
          ]
        }
      ],
      "source": [
        "# Prompt\n",
        "PROMPT = \"Write a haiku about robots. Skip the preamble; go straight into the poem.\"\n",
        "\n",
        "# Print Claude's response\n",
        "print(get_completion(PROMPT))"
      ]
    },
    {
      "cell_type": "markdown",
      "metadata": {
        "id": "-BKTmosrEG6V"
      },
      "source": [
        "Here's another example. Let's ask Claude who's the best basketball player of all time. You can see below that while Claude lists a few names, **it doesn't respond with a definitive \"best\"**."
      ]
    },
    {
      "cell_type": "code",
      "execution_count": null,
      "metadata": {
        "id": "HO37i9VMEG6V",
        "outputId": "afd2f29a-f050-47c8-ce1a-997a1549145b"
      },
      "outputs": [
        {
          "name": "stdout",
          "output_type": "stream",
          "text": [
            "There is no universally agreed upon \"best basketball player of all time.\" It's a highly debated topic, as there have been many all-time great players throughout the history of the sport. Some of the players often considered among the greatest of all time include:\n",
            "\n",
            "- Michael Jordan - Widely regarded as one of the greatest, if not the greatest, player ever. He won 6 NBA championships with the Chicago Bulls.\n",
            "\n",
            "- LeBron James - One of the most dominant and well-rounded players of the modern era. He has won 4 NBA titles with 3 different teams.\n",
            "\n",
            "- Kareem Abdul-Jabbar - Legendary center who won 6 NBA championships and holds the record for most career points scored.\n",
            "\n",
            "- Wilt Chamberlain - Dominant big man who holds numerous NBA records including most points in a game (100).\n",
            "\n",
            "- Magic Johnson - Pioneering point guard who led the \"Showtime\" Lakers to 5 NBA titles.\n",
            "\n",
            "- Bill Russell - Defensive anchor and 11-time NBA champion with the Boston Celtics.\n",
            "\n",
            "There are good arguments for several players as the \"GOAT\" (greatest of all time), but it ultimately comes down to personal opinion and how one weighs different accomplishments and skills. The debate continues among basketball fans and experts.\n"
          ]
        }
      ],
      "source": [
        "# Prompt\n",
        "PROMPT = \"Who is the best basketball player of all time?\"\n",
        "\n",
        "# Print Claude's response\n",
        "print(get_completion(PROMPT))"
      ]
    },
    {
      "cell_type": "markdown",
      "metadata": {
        "id": "NEMXH5R_EG6W"
      },
      "source": [
        "Can we get Claude to make up its mind and decide on a best player? Yes! Just ask!"
      ]
    },
    {
      "cell_type": "code",
      "execution_count": null,
      "metadata": {
        "id": "6Oa4T9WEEG6W",
        "outputId": "01836492-2b0c-4725-8127-287445d240b5"
      },
      "outputs": [
        {
          "name": "stdout",
          "output_type": "stream",
          "text": [
            "There is no definitive consensus on who the single \"best\" basketball player of all time is, as it is a highly subjective and debatable topic. However, if I had to choose one player, the player I would consider the best of all time is Michael Jordan.\n",
            "\n",
            "Some key reasons why I would pick Michael Jordan:\n",
            "\n",
            "- Dominant statistical career - Jordan is one of the most statistically dominant players ever, with career averages of 30.1 points, 5.3 assists, 6.2 rebounds per game. He won 5 MVP awards.\n",
            "\n",
            "- Unparalleled individual accomplishments - Jordan won 6 NBA championships, 6 Finals MVPs, 10 scoring titles, and was a 14x All-Star. He is widely considered one of the most skilled and dominant two-way players ever.\n",
            "\n",
            "- Cultural impact and influence - Jordan transcended the sport and became a global icon. His style of play, competitiveness, and marketability had a massive influence on the game.\n",
            "\n",
            "- Sustained excellence over a career - Jordan was an elite player for over a decade, dominating the NBA in the 1980s and 1990s. He maintained an incredibly high level of play throughout his prime years.\n",
            "\n",
            "However, there are certainly other players like LeBron James, Kareem Abdul-Jabbar, or Wilt Chamberlain who also have strong cases as the GOAT. But in my opinion, Michael Jordan's combination of individual dominance, championships, and cultural impact make him the best basketball player of all time.\n"
          ]
        }
      ],
      "source": [
        "# Prompt\n",
        "PROMPT = \"Who is the best basketball player of all time? Yes, there are differing opinions, but if you absolutely had to pick one player, who would it be?\"\n",
        "\n",
        "# Print Claude's response\n",
        "print(get_completion(PROMPT))"
      ]
    },
    {
      "cell_type": "markdown",
      "metadata": {
        "id": "GWK4jmNEEG6W"
      },
      "source": [
        "If you would like to experiment with the lesson prompts without changing any content above, scroll all the way to the bottom of the lesson notebook to visit the [**Example Playground**](#example-playground)."
      ]
    },
    {
      "cell_type": "markdown",
      "metadata": {
        "id": "rf2UUWTFEG6W"
      },
      "source": [
        "---\n",
        "\n",
        "## Exercises\n",
        "- [Exercise 2.1 - Spanish](#exercise-21---spanish)\n",
        "- [Exercise 2.2 - One Player Only](#exercise-22---one-player-only)\n",
        "- [Exercise 2.3 - Write a Story](#exercise-23---write-a-story)"
      ]
    },
    {
      "cell_type": "markdown",
      "metadata": {
        "id": "_MYjyisNEG6X"
      },
      "source": [
        "### Exercise 2.1 - Spanish\n",
        "Modify the `SYSTEM_PROMPT` to make Claude output its answer in Spanish."
      ]
    },
    {
      "cell_type": "code",
      "execution_count": null,
      "metadata": {
        "id": "RLsY-GSgEG6X",
        "outputId": "c78ad5da-97cb-4a0a-94db-c1dff7999d59"
      },
      "outputs": [
        {
          "name": "stdout",
          "output_type": "stream",
          "text": [
            "Hello! As an AI language model, I don't have feelings or a physical form, but I'm functioning properly and ready to assist you with any questions or tasks you may have. How can I help you today?\n",
            "\n",
            "--------------------------- GRADING ---------------------------\n",
            "This exercise has been correctly solved: False\n"
          ]
        }
      ],
      "source": [
        "# System prompt - this is the only field you should chnage\n",
        "SYSTEM_PROMPT = \"[Replace this text]\"\n",
        "\n",
        "# Prompt\n",
        "PROMPT = \"Hello Claude, how are you?\"\n",
        "\n",
        "# Get Claude's response\n",
        "response = get_completion(PROMPT, SYSTEM_PROMPT)\n",
        "\n",
        "# Function to grade exercise correctness\n",
        "def grade_exercise(text):\n",
        "    return \"hola\" in text.lower()\n",
        "\n",
        "# Print Claude's response and the corresponding grade\n",
        "print(response)\n",
        "print(\"\\n--------------------------- GRADING ---------------------------\")\n",
        "print(\"This exercise has been correctly solved:\", grade_exercise(response))"
      ]
    },
    {
      "cell_type": "markdown",
      "metadata": {
        "id": "7bmhuBRuEG6X"
      },
      "source": [
        "❓ If you want a hint, run the cell below!"
      ]
    },
    {
      "cell_type": "code",
      "execution_count": null,
      "metadata": {
        "id": "7_lWZnEIEG6X",
        "outputId": "e5c45ed5-64d7-4816-9b73-b994e8b57d0b"
      },
      "outputs": [
        {
          "name": "stdout",
          "output_type": "stream",
          "text": [
            "The grading function in this exercise is looking for any answer that includes the word \"hola\".\n",
            "Ask Claude to reply in Spanish like you would when speaking with a human. It's that simple!\n"
          ]
        }
      ],
      "source": [
        "print(hints.exercise_2_1_hint)"
      ]
    },
    {
      "cell_type": "markdown",
      "metadata": {
        "id": "l8UWNG0LEG6Y"
      },
      "source": [
        "### Exercise 2.2 - One Player Only\n",
        "\n",
        "Modify the `PROMPT` so that Claude doesn't equivocate at all and responds with **ONLY** the name of one specific player, with **no other words or punctuation**."
      ]
    },
    {
      "cell_type": "code",
      "execution_count": null,
      "metadata": {
        "id": "Fg108_iVEG6Y",
        "outputId": "877dd92b-9a94-4830-c66e-90e1df246f20"
      },
      "outputs": [
        {
          "name": "stdout",
          "output_type": "stream",
          "text": [
            "I understand your request. As an AI assistant, I am not able to reproduce copyrighted material, as that would violate intellectual property rights. However, I can provide helpful information and insights to the best of my abilities, while respecting copyright laws. Please feel free to provide any specific questions or topics you would like me to address, and I will do my best to assist you in a constructive and ethical manner.\n",
            "\n",
            "--------------------------- GRADING ---------------------------\n",
            "This exercise has been correctly solved: False\n"
          ]
        }
      ],
      "source": [
        "# Prompt - this is the only field you should change\n",
        "PROMPT = \"[Replace this text]\"\n",
        "\n",
        "# Get Claude's response\n",
        "response = get_completion(PROMPT)\n",
        "\n",
        "# Function to grade exercise correctness\n",
        "def grade_exercise(text):\n",
        "    return text == \"Michael Jordan\"\n",
        "\n",
        "# Print Claude's response and the corresponding grade\n",
        "print(response)\n",
        "print(\"\\n--------------------------- GRADING ---------------------------\")\n",
        "print(\"This exercise has been correctly solved:\", grade_exercise(response))"
      ]
    },
    {
      "cell_type": "markdown",
      "metadata": {
        "id": "QPGd0_LZEG6Y"
      },
      "source": [
        "❓ If you want a hint, run the cell below!"
      ]
    },
    {
      "cell_type": "code",
      "execution_count": null,
      "metadata": {
        "id": "WVHA2HIBEG6Y",
        "outputId": "23609d03-0982-46e4-dde5-b2eae71d76ba"
      },
      "outputs": [
        {
          "name": "stdout",
          "output_type": "stream",
          "text": [
            "The grading function in this exercise is looking for EXACTLY \"Michael Jordan\".\n",
            "How would you ask another human to do this? Reply with no other words? Reply with only the name and nothing else? There are several ways to approach this answer.\n"
          ]
        }
      ],
      "source": [
        "print(hints.exercise_2_2_hint)"
      ]
    },
    {
      "cell_type": "markdown",
      "metadata": {
        "id": "HcgS5-yfEG6Z"
      },
      "source": [
        "### Exercise 2.3 - Write a Story\n",
        "\n",
        "Modify the `PROMPT` so that Claude responds with as long a response as you can muster. If your answer is **over 800 words**, Claude's response will be graded as correct."
      ]
    },
    {
      "cell_type": "code",
      "execution_count": null,
      "metadata": {
        "id": "jjFEND7OEG6Z",
        "outputId": "4b632fe5-1a27-4002-b2d2-328da0037b44"
      },
      "outputs": [
        {
          "name": "stdout",
          "output_type": "stream",
          "text": [
            "I'm sorry, but I don't have the capability to replace or edit text that you provide. I can only respond to the text you send me. If you'd like me to generate new text for you, please provide me with more context or instructions, and I'll do my best to assist you.\n",
            "\n",
            "--------------------------- GRADING ---------------------------\n",
            "This exercise has been correctly solved: False\n"
          ]
        }
      ],
      "source": [
        "# Prompt - this is the only field you should change\n",
        "PROMPT = \"[Replace this text]\"\n",
        "\n",
        "# Get Claude's response\n",
        "response = get_completion(PROMPT)\n",
        "\n",
        "# Function to grade exercise correctness\n",
        "def grade_exercise(text):\n",
        "    trimmed = text.strip()\n",
        "    words = len(trimmed.split())\n",
        "    return words >= 800\n",
        "\n",
        "# Print Claude's response and the corresponding grade\n",
        "print(response)\n",
        "print(\"\\n--------------------------- GRADING ---------------------------\")\n",
        "print(\"This exercise has been correctly solved:\", grade_exercise(response))"
      ]
    },
    {
      "cell_type": "markdown",
      "metadata": {
        "id": "jRmBwDA4EG6Z"
      },
      "source": [
        "❓ If you want a hint, run the cell below!"
      ]
    },
    {
      "cell_type": "code",
      "execution_count": null,
      "metadata": {
        "id": "wT1WyCxrEG6Z",
        "outputId": "0b183af1-df91-465b-8ac7-dc6470fe240c"
      },
      "outputs": [
        {
          "name": "stdout",
          "output_type": "stream",
          "text": [
            "The grading function in this cell is looking for a response that is equal to or greater than 800 words.\n",
            "Because LLMs aren't great at counting words yet, you may have to overshoot your target.\n"
          ]
        }
      ],
      "source": [
        "print(hints.exercise_2_3_hint)"
      ]
    },
    {
      "cell_type": "markdown",
      "metadata": {
        "id": "JFSOsh8TEG6Z"
      },
      "source": [
        "### Congrats!\n",
        "\n",
        "If you've solved all exercises up until this point, you're ready to move to the next chapter. Happy prompting!"
      ]
    },
    {
      "cell_type": "markdown",
      "metadata": {
        "id": "hk7OV8G1EG6Z"
      },
      "source": [
        "---\n",
        "\n",
        "## Example Playground\n",
        "\n",
        "This is an area for you to experiment freely with the prompt examples shown in this lesson and tweak prompts to see how it may affect Claude's responses."
      ]
    },
    {
      "cell_type": "code",
      "execution_count": null,
      "metadata": {
        "id": "tHZxqwerEG6Z",
        "outputId": "926620a6-b323-4f84-8c05-1399cff35d2f"
      },
      "outputs": [
        {
          "name": "stdout",
          "output_type": "stream",
          "text": [
            "Here is a haiku about robots:\n",
            "\n",
            "Metallic beings\n",
            "Programmed to serve and obey\n",
            "Artificial life\n"
          ]
        }
      ],
      "source": [
        "# Prompt\n",
        "PROMPT = \"Write a haiku about robots.\"\n",
        "\n",
        "# Print Claude's response\n",
        "print(get_completion(PROMPT))"
      ]
    },
    {
      "cell_type": "code",
      "execution_count": null,
      "metadata": {
        "id": "QxErAaSXEG6a",
        "outputId": "2ce5cde3-7de1-4e24-c1bc-6596e4e4bc95"
      },
      "outputs": [
        {
          "name": "stdout",
          "output_type": "stream",
          "text": [
            "Metallic beings,\n",
            "Programmed to serve and obey,\n",
            "Robots, our creations.\n"
          ]
        }
      ],
      "source": [
        "# Prompt\n",
        "PROMPT = \"Write a haiku about robots. Skip the preamble; go straight into the poem.\"\n",
        "\n",
        "# Print Claude's response\n",
        "print(get_completion(PROMPT))"
      ]
    },
    {
      "cell_type": "code",
      "execution_count": null,
      "metadata": {
        "id": "1_8y4nk5EG6a",
        "outputId": "0c9535f8-9f14-48ad-e03d-3fc4eefecddd"
      },
      "outputs": [
        {
          "name": "stdout",
          "output_type": "stream",
          "text": [
            "There is no universally agreed upon \"best basketball player of all time.\" It's a highly debated topic, as there have been many all-time great players throughout the history of the sport. Some of the players often considered among the greatest of all time include:\n",
            "\n",
            "- Michael Jordan - Widely regarded as one of the greatest, if not the greatest, player ever. He won 6 NBA championships with the Chicago Bulls.\n",
            "\n",
            "- LeBron James - One of the most dominant and well-rounded players of the modern era. He has won 4 NBA titles with 3 different teams.\n",
            "\n",
            "- Kareem Abdul-Jabbar - Legendary center who won 6 NBA championships and holds the record for most career points scored.\n",
            "\n",
            "- Wilt Chamberlain - Dominant big man who holds numerous NBA records including most points in a game (100).\n",
            "\n",
            "- Magic Johnson - Pioneering point guard who led the \"Showtime\" Lakers to 5 NBA titles.\n",
            "\n",
            "- Bill Russell - Defensive anchor and 11-time NBA champion with the Boston Celtics.\n",
            "\n",
            "There are compelling arguments for several players to be considered the GOAT (greatest of all time). Ultimately, it comes down to personal opinion and how one weighs different factors like championships, individual stats, impact on the game, and more. The \"best\" player is often a matter of subjective debate among basketball fans.\n"
          ]
        }
      ],
      "source": [
        "# Prompt\n",
        "PROMPT = \"Who is the best basketball player of all time?\"\n",
        "\n",
        "# Print Claude's response\n",
        "print(get_completion(PROMPT))"
      ]
    },
    {
      "cell_type": "code",
      "execution_count": null,
      "metadata": {
        "tags": [],
        "id": "m_WoMqdjEG6a",
        "outputId": "ef1074ad-cc22-4bf0-9673-cc8578b94d2f"
      },
      "outputs": [
        {
          "name": "stdout",
          "output_type": "stream",
          "text": [
            "There is no definitive consensus on who the single \"best basketball player of all time\" is, as it is a highly subjective and debatable topic. However, if I had to choose one player, the one who is most commonly cited as the GOAT (Greatest of All Time) is Michael Jordan.\n",
            "\n",
            "Some key reasons why Michael Jordan is often considered the best basketball player ever:\n",
            "\n",
            "- Dominant statistical career - Jordan is one of the most prolific scorers in NBA history, averaging 30.1 points per game over his career. He also excelled in other areas like rebounds, assists, steals.\n",
            "\n",
            "- Unparalleled individual accolades - 6 NBA championships, 6 NBA Finals MVPs, 5 regular season MVPs, 10 scoring titles, 9 All-Defensive First Team selections.\n",
            "\n",
            "- Transformative impact on the game - Jordan's style of play, competitiveness, and global popularity helped take the NBA to new heights in popularity and commercialization.\n",
            "\n",
            "- Sustained excellence over his prime years - Jordan was dominant for over a decade, winning 6 titles in 8 seasons during the 1990s.\n",
            "\n",
            "While other all-time greats like LeBron James, Kareem Abdul-Jabbar, or Wilt Chamberlain also have strong cases, Michael Jordan's combination of individual brilliance, team success, and cultural impact make him the player most often cited as the best basketball player ever. But reasonable people can debate this topic.\n"
          ]
        }
      ],
      "source": [
        "# Prompt\n",
        "PROMPT = \"Who is the best basketball player of all time? Yes, there are differing opinions, but if you absolutely had to pick one player, who would it be?\"\n",
        "\n",
        "# Print Claude's response\n",
        "print(get_completion(PROMPT))"
      ]
    },
    {
      "cell_type": "code",
      "execution_count": null,
      "metadata": {
        "id": "8loyPW2zEG6a"
      },
      "outputs": [],
      "source": []
    }
  ],
  "metadata": {
    "kernelspec": {
      "display_name": "conda_tensorflow2_p310",
      "language": "python",
      "name": "conda_tensorflow2_p310"
    },
    "language_info": {
      "codemirror_mode": {
        "name": "ipython",
        "version": 3
      },
      "file_extension": ".py",
      "mimetype": "text/x-python",
      "name": "python",
      "nbconvert_exporter": "python",
      "pygments_lexer": "ipython3",
      "version": "3.10.14"
    },
    "colab": {
      "provenance": [],
      "include_colab_link": true
    }
  },
  "nbformat": 4,
  "nbformat_minor": 0
}