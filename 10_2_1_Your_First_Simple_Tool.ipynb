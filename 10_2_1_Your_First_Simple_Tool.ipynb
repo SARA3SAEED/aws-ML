{
  "cells": [
    {
      "cell_type": "markdown",
      "metadata": {
        "id": "view-in-github",
        "colab_type": "text"
      },
      "source": [
        "<a href=\"https://colab.research.google.com/github/SARA3SAEED/aws-ML/blob/main/10_2_1_Your_First_Simple_Tool.ipynb\" target=\"_parent\"><img src=\"https://colab.research.google.com/assets/colab-badge.svg\" alt=\"Open In Colab\"/></a>"
      ]
    },
    {
      "cell_type": "markdown",
      "metadata": {
        "id": "G3zWzo22z9Km"
      },
      "source": [
        "# Appendix 10.2.1: Your First Simple Tool\n",
        "\n",
        "In the previous lesson we walked through the tool use workflow.  It's time to actually get to work implementing a simple example of tool use.  As a recap, there are up to 4 steps in the tool use process:\n",
        "\n",
        "1. **Provide Claude with tools and a user prompt:** (API request)\n",
        "    * Define the set of tools you want Claude to have access to, including their names, descriptions, and input schemas.\n",
        "    * Provide a user prompt that may require the use of one or more of these tools to answer.\n",
        "\n",
        "2. **Claude uses a tool:** (API response)\n",
        "    * Claude assesses the user prompt and decides whether any of the available tools would help with the user's query or task. If so, it also decides which tool(s) to use and with what input(s).\n",
        "    * Claude outputs a properly formatted tool use request.\n",
        "    * The API response will have a `stop_reason` of `tool_use`, indicating that Claude wants to use an external tool.\n",
        "\n",
        "3. **Extract tool input(s), run code, and return results:** (API request)\n",
        "    * On the client side, you should extract the tool name and input from Claude's tool use request.\n",
        "    * Run the actual tool code on the client side.\n",
        "    * Return the results to Claude by continuing the conversation with a new user message containing a `tool_result` content block.\n",
        "\n",
        "4. **Claude uses the tool result to formulate a response:** (API response)\n",
        "    * After receiving the tool results, Claude will use that information to formulate its final response to the original user prompt."
      ]
    },
    {
      "cell_type": "markdown",
      "metadata": {
        "id": "poscN41Lz9Kp"
      },
      "source": [
        "We're going to start with a simple demonstration that only requires \"talking\" to Claude once (don't worry, we'll get to more exciting examples soon enough!). This means that we won't bother with step 4 yet.  We'll ask Claude to answer a question, Claude will request to use a tool to answer it, and then we'll extract the tool input, run code, and return the resulting value.  \n",
        "\n",
        "Today's large language models struggle with mathematical operations, as evidenced by the following code.\n",
        "\n",
        "We ask Claude to \"Multiply 1984135 by 9343116\":"
      ]
    },
    {
      "cell_type": "code",
      "execution_count": null,
      "metadata": {
        "tags": [],
        "id": "fm5X3uz8z9Kq",
        "outputId": "efaf68de-dd47-4dad-8f12-cc25b1acb28e"
      },
      "outputs": [
        {
          "name": "stdout",
          "output_type": "stream",
          "text": [
            "Note: you may need to restart the kernel to use updated packages.\n",
            "  \u001b[1;31merror\u001b[0m: \u001b[1msubprocess-exited-with-error\u001b[0m\n",
            "  \n",
            "  \u001b[31m×\u001b[0m \u001b[32mpython setup.py egg_info\u001b[0m did not run successfully.\n",
            "  \u001b[31m│\u001b[0m exit code: \u001b[1;36m1\u001b[0m\n",
            "  \u001b[31m╰─>\u001b[0m \u001b[31m[40 lines of output]\u001b[0m\n",
            "  \u001b[31m   \u001b[0m running egg_info\n",
            "  \u001b[31m   \u001b[0m creating /tmp/pip-pip-egg-info-t_tsp8ne/wikipedia.egg-info\n",
            "  \u001b[31m   \u001b[0m writing /tmp/pip-pip-egg-info-t_tsp8ne/wikipedia.egg-info/PKG-INFO\n",
            "  \u001b[31m   \u001b[0m writing dependency_links to /tmp/pip-pip-egg-info-t_tsp8ne/wikipedia.egg-info/dependency_links.txt\n",
            "  \u001b[31m   \u001b[0m writing requirements to /tmp/pip-pip-egg-info-t_tsp8ne/wikipedia.egg-info/requires.txt\n",
            "  \u001b[31m   \u001b[0m writing top-level names to /tmp/pip-pip-egg-info-t_tsp8ne/wikipedia.egg-info/top_level.txt\n",
            "  \u001b[31m   \u001b[0m writing manifest file '/tmp/pip-pip-egg-info-t_tsp8ne/wikipedia.egg-info/SOURCES.txt'\n",
            "  \u001b[31m   \u001b[0m reading manifest file '/tmp/pip-pip-egg-info-t_tsp8ne/wikipedia.egg-info/SOURCES.txt'\n",
            "  \u001b[31m   \u001b[0m reading manifest template 'MANIFEST.in'\n",
            "  \u001b[31m   \u001b[0m adding license file 'LICENSE'\n",
            "  \u001b[31m   \u001b[0m Traceback (most recent call last):\n",
            "  \u001b[31m   \u001b[0m   File \"<string>\", line 2, in <module>\n",
            "  \u001b[31m   \u001b[0m   File \"<pip-setuptools-caller>\", line 34, in <module>\n",
            "  \u001b[31m   \u001b[0m   File \"/tmp/pip-install-00r3hp4_/wikipedia_0a6433eab98f4f08843fb5f0c0ee334b/setup.py\", line 26, in <module>\n",
            "  \u001b[31m   \u001b[0m     setuptools.setup(\n",
            "  \u001b[31m   \u001b[0m   File \"/home/ec2-user/anaconda3/envs/tensorflow2_p310/lib/python3.10/site-packages/setuptools/__init__.py\", line 108, in setup\n",
            "  \u001b[31m   \u001b[0m     return distutils.core.setup(**attrs)\n",
            "  \u001b[31m   \u001b[0m   File \"/home/ec2-user/anaconda3/envs/tensorflow2_p310/lib/python3.10/site-packages/setuptools/_distutils/core.py\", line 184, in setup\n",
            "  \u001b[31m   \u001b[0m     return run_commands(dist)\n",
            "  \u001b[31m   \u001b[0m   File \"/home/ec2-user/anaconda3/envs/tensorflow2_p310/lib/python3.10/site-packages/setuptools/_distutils/core.py\", line 200, in run_commands\n",
            "  \u001b[31m   \u001b[0m     dist.run_commands()\n",
            "  \u001b[31m   \u001b[0m   File \"/home/ec2-user/anaconda3/envs/tensorflow2_p310/lib/python3.10/site-packages/setuptools/_distutils/dist.py\", line 970, in run_commands\n",
            "  \u001b[31m   \u001b[0m     self.run_command(cmd)\n",
            "  \u001b[31m   \u001b[0m   File \"/home/ec2-user/anaconda3/envs/tensorflow2_p310/lib/python3.10/site-packages/setuptools/dist.py\", line 956, in run_command\n",
            "  \u001b[31m   \u001b[0m     super().run_command(command)\n",
            "  \u001b[31m   \u001b[0m   File \"/home/ec2-user/anaconda3/envs/tensorflow2_p310/lib/python3.10/site-packages/setuptools/_distutils/dist.py\", line 989, in run_command\n",
            "  \u001b[31m   \u001b[0m     cmd_obj.run()\n",
            "  \u001b[31m   \u001b[0m   File \"/home/ec2-user/anaconda3/envs/tensorflow2_p310/lib/python3.10/site-packages/setuptools/command/egg_info.py\", line 310, in run\n",
            "  \u001b[31m   \u001b[0m     self.find_sources()\n",
            "  \u001b[31m   \u001b[0m   File \"/home/ec2-user/anaconda3/envs/tensorflow2_p310/lib/python3.10/site-packages/setuptools/command/egg_info.py\", line 318, in find_sources\n",
            "  \u001b[31m   \u001b[0m     mm.run()\n",
            "  \u001b[31m   \u001b[0m   File \"/home/ec2-user/anaconda3/envs/tensorflow2_p310/lib/python3.10/site-packages/setuptools/command/egg_info.py\", line 544, in run\n",
            "  \u001b[31m   \u001b[0m     self.prune_file_list()\n",
            "  \u001b[31m   \u001b[0m   File \"/home/ec2-user/anaconda3/envs/tensorflow2_p310/lib/python3.10/site-packages/setuptools/command/egg_info.py\", line 610, in prune_file_list\n",
            "  \u001b[31m   \u001b[0m     base_dir = self.distribution.get_fullname()\n",
            "  \u001b[31m   \u001b[0m   File \"/home/ec2-user/anaconda3/envs/tensorflow2_p310/lib/python3.10/site-packages/setuptools/_core_metadata.py\", line 266, in get_fullname\n",
            "  \u001b[31m   \u001b[0m     return _distribution_fullname(self.get_name(), self.get_version())\n",
            "  \u001b[31m   \u001b[0m   File \"/home/ec2-user/anaconda3/envs/tensorflow2_p310/lib/python3.10/site-packages/setuptools/_core_metadata.py\", line 284, in _distribution_fullname\n",
            "  \u001b[31m   \u001b[0m     canonicalize_version(version, strip_trailing_zero=False),\n",
            "  \u001b[31m   \u001b[0m TypeError: canonicalize_version() got an unexpected keyword argument 'strip_trailing_zero'\n",
            "  \u001b[31m   \u001b[0m \u001b[31m[end of output]\u001b[0m\n",
            "  \n",
            "  \u001b[1;35mnote\u001b[0m: This error originates from a subprocess, and is likely not a problem with pip.\n",
            "\u001b[1;31merror\u001b[0m: \u001b[1mmetadata-generation-failed\u001b[0m\n",
            "\n",
            "\u001b[31m×\u001b[0m Encountered error while generating package metadata.\n",
            "\u001b[31m╰─>\u001b[0m See above for output.\n",
            "\n",
            "\u001b[1;35mnote\u001b[0m: This is an issue with the package mentioned above, not pip.\n",
            "\u001b[1;36mhint\u001b[0m: See above for details.\n",
            "Note: you may need to restart the kernel to use updated packages.\n"
          ]
        }
      ],
      "source": [
        "%pip install -qU pip\n",
        "%pip install -qUr requirements.txt"
      ]
    },
    {
      "cell_type": "code",
      "execution_count": null,
      "metadata": {
        "tags": [],
        "id": "pUcvs7O9z9Ks",
        "outputId": "98ac941c-e1d3-4ed2-c469-42e7003cd240"
      },
      "outputs": [
        {
          "name": "stdout",
          "output_type": "stream",
          "text": [
            "Using modelId: anthropic.claude-3-haiku-20240307-v1:0\n",
            "Using region:  us-west-2\n"
          ]
        }
      ],
      "source": [
        "import boto3\n",
        "import json\n",
        "from botocore.exceptions import ClientError\n",
        "session = boto3.Session() # create a boto3 session to dynamically get and set the region name\n",
        "region = session.region_name\n",
        "\n",
        "# Import the hints module from the utils package\n",
        "from utils import hints\n",
        "\n",
        "#modelId = 'anthropic.claude-3-sonnet-20240229-v1:0'\n",
        "modelId = 'anthropic.claude-3-haiku-20240307-v1:0'\n",
        "\n",
        "print(f'Using modelId: {modelId}')\n",
        "print('Using region: ', region)\n",
        "\n",
        "bedrock_client = boto3.client(service_name = 'bedrock-runtime', region_name = region,)"
      ]
    },
    {
      "cell_type": "code",
      "execution_count": null,
      "metadata": {
        "tags": [],
        "id": "QsZ1SZepz9Ks",
        "outputId": "b064205b-8a68-4967-d69d-e9b2578df4ab"
      },
      "outputs": [
        {
          "name": "stdout",
          "output_type": "stream",
          "text": [
            "18,532,524,396,060\n"
          ]
        }
      ],
      "source": [
        "converse_api_params = {\n",
        "    \"modelId\": \"anthropic.claude-3-haiku-20240307-v1:0\",  # Specify the model ID to use\n",
        "    \"messages\": [{\"role\": \"user\", \"content\": [{\"text\": \"Multiply 1984135 by 9343116. Only respond with the result\"}]}],\n",
        "    \"inferenceConfig\": {\"temperature\": 0.0, \"maxTokens\": 400},\n",
        "}\n",
        "\n",
        "response = bedrock_client.converse(**converse_api_params)\n",
        "\n",
        "print(response['output']['message']['content'][0]['text'])"
      ]
    },
    {
      "cell_type": "markdown",
      "metadata": {
        "id": "fSUCMaShz9Kt"
      },
      "source": [
        "We'll likely get a different answer by running the above code multiple times, but this is one answer Claude responded with:\n",
        "\n",
        "```\n",
        "18593367726060\n",
        "```\n",
        "\n",
        "The actual correct answer is :\n",
        "\n",
        "```\n",
        "18538003464660\n",
        "```\n",
        "Claude was *slightly* off by `55364261400`!"
      ]
    },
    {
      "cell_type": "markdown",
      "metadata": {
        "id": "eBNxibYSz9Kt"
      },
      "source": [
        "## Tool use to the rescue!\n",
        "\n",
        "Claude isn't great at doing complex math, so let's enhance Claude's capabilities by providing access to a calculator tool.  \n",
        "\n",
        "Here's a simple diagram explaining the process:\n",
        "\n",
        "![chickens_calculator.png](./images/chickens_calculator.png)\n",
        "The first step is to define the actual calculator function and make sure it works, indepent of Claude.  We'll write a VERY simple function that expects three arguments:\n",
        "* An operation like \"add\" or \"multiply\"\n",
        "* Two operands\n",
        "\n",
        "Here's a basic implementation:"
      ]
    },
    {
      "cell_type": "code",
      "execution_count": null,
      "metadata": {
        "tags": [],
        "id": "65vy_T2Tz9Ku"
      },
      "outputs": [],
      "source": [
        "def calculator(operation, operand1, operand2):\n",
        "    if operation == \"add\":\n",
        "        return operand1 + operand2\n",
        "    elif operation == \"subtract\":\n",
        "        return operand1 - operand2\n",
        "    elif operation == \"multiply\":\n",
        "        return operand1 * operand2\n",
        "    elif operation == \"divide\":\n",
        "        if operand2 == 0:\n",
        "            raise ValueError(\"Cannot divide by zero.\")\n",
        "        return operand1 / operand2\n",
        "    else:\n",
        "        raise ValueError(f\"Unsupported operation: {operation}\")"
      ]
    },
    {
      "cell_type": "markdown",
      "metadata": {
        "id": "MUVesKVlz9Ku"
      },
      "source": [
        "Please note that this simple function is quite limited in its utility because it can only handle simple expressions like `234 + 213` or `3 * 9`.  The point here is to go through the process of working with tools via a very simple educational example.\n",
        "\n",
        "Let's test out our function and make sure it works."
      ]
    },
    {
      "cell_type": "code",
      "execution_count": null,
      "metadata": {
        "tags": [],
        "id": "u_8QoDcDz9Kv",
        "outputId": "7348ab72-eb3d-4fc9-f6e7-4004a45d3ace"
      },
      "outputs": [
        {
          "data": {
            "text/plain": [
              "13"
            ]
          },
          "execution_count": 5,
          "metadata": {},
          "output_type": "execute_result"
        }
      ],
      "source": [
        "calculator(\"add\", 10, 3)"
      ]
    },
    {
      "cell_type": "code",
      "execution_count": null,
      "metadata": {
        "tags": [],
        "id": "6pZCFCVDz9Kv",
        "outputId": "cbb2abb6-3d45-4569-a7be-415d853aa7e3"
      },
      "outputs": [
        {
          "data": {
            "text/plain": [
              "8.0"
            ]
          },
          "execution_count": 6,
          "metadata": {},
          "output_type": "execute_result"
        }
      ],
      "source": [
        "calculator(\"divide\", 200, 25)"
      ]
    },
    {
      "cell_type": "markdown",
      "metadata": {
        "id": "Riw7lV_Fz9Kv"
      },
      "source": [
        "The next step is to define our tool and tell Claude about it.  When defining a tool, we follow a very specific format. Each tool definition includes:\n",
        "\n",
        "* `name`: The name of the tool. Must match the regular expression ^[a-zA-Z0-9_-]{1,64}$.\n",
        "* `description`: A detailed plaintext description of what the tool does, when it should be used, and how it behaves.\n",
        "* `input_schema`: A JSON Schema object defining the expected parameters for the tool.\n",
        "\n",
        "Unfamiliar with JSON Schema? [Learn more here](https://json-schema.org/learn/getting-started-step-by-step).\n",
        "\n",
        "Here's a simple example for a hypothetical tool:\n",
        "\n",
        "```json\n",
        "{\n",
        "  \"tools\": [\n",
        "    {\n",
        "      \"toolSpec\": {\n",
        "        \"name\": \"send_email\",\n",
        "        \"description\": \"Sends an email to the specified recipient with the given subject and body.\",\n",
        "        \"inputSchema\": {\n",
        "          \"json\": {\n",
        "            \"type\": \"object\",\n",
        "            \"properties\": {\n",
        "              \"to\": {\n",
        "                \"type\": \"string\",\n",
        "                \"description\": \"The email address of the recipient\"},\n",
        "              \"subject\": {\n",
        "                \"type\": \"string\",\n",
        "                \"description\": \"The subject line of the email\"},\n",
        "              \"body\": {\n",
        "                \"type\": \"string\",\n",
        "                \"description\": \"The content of the email message\"}\n",
        "            },\n",
        "            \"required\": [\"to\", \"subject\", \"body\"]\n",
        "          }\n",
        "        }\n",
        "      }\n",
        "    }\n",
        "  ]\n",
        "}\n",
        "```\n",
        "\n",
        "This tool, named `send_email`, expects the following inputs:\n",
        "* `to` which is a string and is required\n",
        "* `subject` which is a string and is required\n",
        "* `body` which is a string and is required\n",
        "\n",
        "\n",
        "Here's another tool definition for a tool called `search_product`:\n",
        "\n",
        "```json\n",
        "{\n",
        "  \"tools\": [\n",
        "    {\n",
        "      \"toolSpec\": {\n",
        "        \"name\": \"search_product\",\n",
        "        \"description\": \"Search for a product by name or keyword and return its current price and availability.\",\n",
        "        \"inputSchema\": {\n",
        "          \"json\": {\n",
        "            \"type\": \"object\",\n",
        "            \"properties\": {\n",
        "              \"query\": {\n",
        "                \"type\": \"string\",\n",
        "                \"description\": \"The product name or search keyword, e.g. 'iPhone 13 Pro' or 'wireless headphones'\"},\n",
        "              \"category\": {\n",
        "                \"type\": \"string\",\n",
        "                \"enum\": [\"electronics\", \"clothing\", \"home\", \"toys\", \"sports\"],\n",
        "                \"description\": \"The product category to narrow down the search results\"},\n",
        "              \"max_price\": {\n",
        "                \"type\": \"number\",\n",
        "                \"description\": \"The maximum price of the product, used to filter the search results\"}\n",
        "            },\n",
        "            \"required\": [\"query\"]\n",
        "          }\n",
        "        }\n",
        "      }\n",
        "    }\n",
        "  ]\n",
        "}\n",
        "```\n",
        "This tool has 3 inputs:\n",
        "* A required `query` string representing the product name or search keyword\n",
        "* An optional `category` string that must be one of the predefined values to narrow down the search.  Notice the `\"enum\"` in the definition.\n",
        "* An optional `max_price` number to filter results below a certain price point"
      ]
    },
    {
      "cell_type": "markdown",
      "metadata": {
        "id": "nayJ422bz9Kw"
      },
      "source": [
        "### Our calculator tool definition\n",
        "Let's define the corresponding tool for our calculator function we wrote earlier.  We know that the calculator function has 3 required arguments:\n",
        "* `operation` - which can only be \"add\", \"subtract\", \"multiply\", or \"divide\"\n",
        "* `operand1` which should be a number\n",
        "* `operand2` which should also be a number\n",
        "\n",
        "Here's the tool definition:"
      ]
    },
    {
      "cell_type": "code",
      "execution_count": null,
      "metadata": {
        "tags": [],
        "id": "pIxe7NDQz9Kw"
      },
      "outputs": [],
      "source": [
        "toolConfig = {\n",
        "  \"tools\": [\n",
        "    {\n",
        "      \"toolSpec\": {\n",
        "        \"name\": \"calculator\",\n",
        "        \"description\": \"A simple calculator that performs basic arithmetic operations.\",\n",
        "        \"inputSchema\": {\n",
        "          \"json\": {\n",
        "            \"type\": \"object\",\n",
        "            \"properties\": {\n",
        "              \"operation\": {\n",
        "                \"type\": \"string\",\n",
        "                \"enum\": [\"add\", \"subtract\", \"multiply\", \"divide\"],\n",
        "                \"description\": \"The arithmetic operation to perform.\"\n",
        "              },\n",
        "              \"operand1\": {\n",
        "                \"type\": \"number\",\n",
        "                \"description\": \"The first operand.\"},\n",
        "              \"operand2\": {\n",
        "                \"type\": \"number\",\n",
        "                \"description\": \"The second operand.\"}\n",
        "            },\n",
        "            \"required\": [\"operation\", \"operand1\", \"operand2\"]\n",
        "          }\n",
        "        }\n",
        "      }\n",
        "    }\n",
        "  ]\n",
        "}"
      ]
    },
    {
      "cell_type": "markdown",
      "metadata": {
        "id": "6ol4T5c7z9Kx"
      },
      "source": [
        "***"
      ]
    },
    {
      "cell_type": "markdown",
      "metadata": {
        "id": "PsxI2Mmjz9Kx"
      },
      "source": [
        "## Exercise\n",
        "\n",
        "Let’s practice writing a properly formatted tool definition using the following function as an example:"
      ]
    },
    {
      "cell_type": "code",
      "execution_count": null,
      "metadata": {
        "id": "Nn5yupmDz9Kx"
      },
      "outputs": [],
      "source": [
        "def inventory_lookup(product_name, max_results):\n",
        "    return \"this function doesn't do anything\"\n",
        "    #You do not need to touch this or do anything with it!"
      ]
    },
    {
      "cell_type": "markdown",
      "metadata": {
        "id": "Iyct7uDzz9Kx"
      },
      "source": [
        "This hypothetical `inventory_lookup` function should be called like this:"
      ]
    },
    {
      "cell_type": "code",
      "execution_count": null,
      "metadata": {
        "id": "49OTed0Nz9Ky",
        "outputId": "98b16fa4-c81b-4052-a1b0-882590a76f85"
      },
      "outputs": [
        {
          "data": {
            "text/plain": [
              "\"this function doesn't do anything\""
            ]
          },
          "execution_count": 9,
          "metadata": {},
          "output_type": "execute_result"
        }
      ],
      "source": [
        "inventory_lookup(\"AA batteries\", 4)\n",
        "\n",
        "inventory_lookup(\"birthday candle\", 10)"
      ]
    },
    {
      "cell_type": "markdown",
      "metadata": {
        "id": "m9OYY7Nmz9Ky"
      },
      "source": [
        "Your task is to write a corresponding, properly-formatted tool definition.  Assume both arguments are required in your tool definition."
      ]
    },
    {
      "cell_type": "markdown",
      "metadata": {
        "tags": [],
        "id": "Rg_WxvEnz9Ky"
      },
      "source": [
        "### Starter tool definition template ###\n",
        "\n",
        "```json\n",
        "toolConfig = {\n",
        "  \"tools\": [\n",
        "    {\n",
        "      \"toolSpec\": {\n",
        "        \"name\": \"inventory_lookup\",\n",
        "        \"description\": \" \",\n",
        "        \"inputSchema\": {\n",
        "          \"json\": {\n",
        "            \"type\": \"object\",\n",
        "            \"properties\": {\n",
        "              \" \": {\n",
        "                \"type\": \"string\",\n",
        "                \"description\": \" \"\n",
        "              },\n",
        "              \" \": {\n",
        "                \"type\": \"number\",\n",
        "                \"description\": \" \"\n",
        "              },\n",
        "            },\n",
        "            \"required\": [\" \", \" \"]\n",
        "          }\n",
        "        }\n",
        "      }\n",
        "    }\n",
        "  ]\n",
        "}\n",
        "```"
      ]
    },
    {
      "cell_type": "markdown",
      "metadata": {
        "id": "d8tQHLqhz9Kz"
      },
      "source": [
        "***"
      ]
    },
    {
      "cell_type": "markdown",
      "metadata": {
        "id": "atnweAplz9Kz"
      },
      "source": [
        "### Providing Claude with our tool\n",
        "Now back to our calculator function from earlier. At this point, Claude knows nothing about the calculator tool! It's just a little Python dictionary.  When making our request to Claude, we can pass a list of tools to \"tell\" Claude about.  Let's try it now:"
      ]
    },
    {
      "cell_type": "code",
      "execution_count": null,
      "metadata": {
        "tags": [],
        "id": "b2QfS5sxz9Kz"
      },
      "outputs": [],
      "source": [
        "converse_api_params = {\n",
        "    \"modelId\": modelId,\n",
        "    \"messages\": [{\"role\": \"user\", \"content\": [{\"text\": \"Multiply 1984135 by 9343116. Only respond with the result.\"}]}],\n",
        "    \"toolConfig\": toolConfig, # provide Claude with details about our calculator tool\n",
        "}\n",
        "\n",
        "response = bedrock_client.converse(**converse_api_params)"
      ]
    },
    {
      "cell_type": "markdown",
      "metadata": {
        "id": "gRFdQmmhz9K0"
      },
      "source": [
        "Next, let's take a look at the response Claude gives us back:"
      ]
    },
    {
      "cell_type": "code",
      "execution_count": null,
      "metadata": {
        "tags": [],
        "id": "KbpqQ69Jz9K0",
        "outputId": "59f0edf5-9ceb-45c4-e888-ea0543a186ba"
      },
      "outputs": [
        {
          "data": {
            "text/plain": [
              "{'message': {'role': 'assistant',\n",
              "  'content': [{'toolUse': {'toolUseId': 'tooluse_aWk_qylbQs6Cdt-CxEQc6g',\n",
              "     'name': 'calculator',\n",
              "     'input': {'operand1': 1984135,\n",
              "      'operand2': 9343116,\n",
              "      'operation': 'multiply'}}}]}}"
            ]
          },
          "execution_count": 11,
          "metadata": {},
          "output_type": "execute_result"
        }
      ],
      "source": [
        "response['output']"
      ]
    },
    {
      "cell_type": "markdown",
      "metadata": {
        "id": "piqdexBAz9K0"
      },
      "source": [
        "```\n",
        "{'message': {'role': 'assistant',\n",
        "  'content': [{'toolUse': {'toolUseId': 'tooluse_YOMRWNbNQuCP-BR16tY6mw',\n",
        "     'name': 'calculator', <---------------------------------------------- Claude wants to use the calculator tool\n",
        "     'input': {'operand1': 1984135,\n",
        "      'operand2': 9343116,\n",
        "      'operation': 'multiply'}}}]}}\n",
        "```"
      ]
    },
    {
      "cell_type": "markdown",
      "metadata": {
        "id": "jSuvVMwUz9K0"
      },
      "source": [
        "You might notice that our response looks a bit different that it normally does! Specifically, instead of a plain `Message` we're now getting a `ToolsMessage`.\n",
        "\n",
        "Additionally, we can check `response['stopReason']` and see that Claude stopped because it decided it was time to use a tool:\n"
      ]
    },
    {
      "cell_type": "code",
      "execution_count": null,
      "metadata": {
        "tags": [],
        "id": "yBHnlHWWz9K0",
        "outputId": "0783ed69-8613-4f85-b735-ab31d785767b"
      },
      "outputs": [
        {
          "data": {
            "text/plain": [
              "'tool_use'"
            ]
          },
          "execution_count": 12,
          "metadata": {},
          "output_type": "execute_result"
        }
      ],
      "source": [
        "response['stopReason']"
      ]
    },
    {
      "cell_type": "markdown",
      "metadata": {
        "id": "t4LB4zlTz9K0"
      },
      "source": [
        "`response['output']['message']['content']` contains a list containing a `ToolUseBlock` which itself contains information on the name of the tool and inputs:"
      ]
    },
    {
      "cell_type": "code",
      "execution_count": null,
      "metadata": {
        "tags": [],
        "id": "YbdRyDOhz9K0",
        "outputId": "7fcf7b9f-948c-41d2-ab6d-4e78d4e93c47"
      },
      "outputs": [
        {
          "data": {
            "text/plain": [
              "{'toolUse': {'toolUseId': 'tooluse_aWk_qylbQs6Cdt-CxEQc6g',\n",
              "  'name': 'calculator',\n",
              "  'input': {'operand1': 1984135,\n",
              "   'operand2': 9343116,\n",
              "   'operation': 'multiply'}}}"
            ]
          },
          "execution_count": 13,
          "metadata": {},
          "output_type": "execute_result"
        }
      ],
      "source": [
        "response['output']['message']['content'][-1]"
      ]
    },
    {
      "cell_type": "code",
      "execution_count": null,
      "metadata": {
        "tags": [],
        "id": "UQREwgRCz9K1",
        "outputId": "75d53ff8-52e8-41c0-a71b-7e478856c429"
      },
      "outputs": [
        {
          "name": "stdout",
          "output_type": "stream",
          "text": [
            "The Tool Name Claude Wants To Call: calculator\n",
            "The Inputs Claude Wants To Call It With: {'operand1': 1984135, 'operand2': 9343116, 'operation': 'multiply'}\n"
          ]
        }
      ],
      "source": [
        "tool_use = response['output']['message']['content'][-1]\n",
        "tool_name = tool_use['toolUse']['name']\n",
        "tool_inputs = tool_use['toolUse']['input']\n",
        "\n",
        "print(\"The Tool Name Claude Wants To Call:\", tool_name)\n",
        "print(\"The Inputs Claude Wants To Call It With:\", tool_inputs)"
      ]
    },
    {
      "cell_type": "markdown",
      "metadata": {
        "id": "2xSp0Okmz9K1"
      },
      "source": [
        "The next step is to simply take the tool name and inputs that Claude provided us with and use them to actually call the calculator function we wrote earlier.  Then we'll have our final answer!"
      ]
    },
    {
      "cell_type": "code",
      "execution_count": null,
      "metadata": {
        "tags": [],
        "id": "4RaIb16zz9K1",
        "outputId": "343a9a81-5bc0-4b3e-9538-f38dd1c34573"
      },
      "outputs": [
        {
          "name": "stdout",
          "output_type": "stream",
          "text": [
            "RESULT IS 18538003464660\n"
          ]
        }
      ],
      "source": [
        "operation = tool_inputs[\"operation\"]\n",
        "operand1 = tool_inputs[\"operand1\"]\n",
        "operand2 = tool_inputs[\"operand2\"]\n",
        "\n",
        "result = calculator(operation, operand1, operand2)\n",
        "print(\"RESULT IS\", result)"
      ]
    },
    {
      "cell_type": "markdown",
      "metadata": {
        "id": "uZKjU4jMz9K1"
      },
      "source": [
        "We got the correct answer of `18538003464660`!!! Instead of relying on Claude to get the math correct, we simply ask Claude a question and give it access to a tool it can decide to use if necessary.  \n",
        "\n",
        "#### Important note\n",
        "If we ask Claude something that does not require tool use, in this case something that has nothing to do with math or calculations, we probably want it to respond as normal. Claude will usually do this, but sometimes Claude is very eager to use its tools!\n",
        "\n",
        "Here's an example where sometimes Claude tries to use the calculator even though it doesn't make sense to use it. Let's see what happens when we ask Claude, \"What color are emeralds?\""
      ]
    },
    {
      "cell_type": "code",
      "execution_count": null,
      "metadata": {
        "tags": [],
        "id": "3XdbLsTvz9K2"
      },
      "outputs": [],
      "source": [
        "converse_api_params = {\n",
        "    \"modelId\": modelId,\n",
        "    \"messages\": [{\"role\": \"user\", \"content\": [{\"text\":\"What color are emeralds?\"}]}],\n",
        "    \"inferenceConfig\": {\"temperature\": 0.0, \"maxTokens\": 400},\n",
        "    \"toolConfig\": toolConfig,\n",
        "}\n",
        "\n",
        "response = bedrock_client.converse(**converse_api_params)"
      ]
    },
    {
      "cell_type": "code",
      "execution_count": null,
      "metadata": {
        "tags": [],
        "id": "UK3CJdBKz9K2",
        "outputId": "526945c0-c75f-4254-ea7d-a50b48cdc5a8"
      },
      "outputs": [
        {
          "data": {
            "text/plain": [
              "[{'toolUse': {'toolUseId': 'tooluse_bNfktt12RJu5F4VVknYvhg',\n",
              "   'name': 'calculator',\n",
              "   'input': {'operand1': 0, 'operand2': 0, 'operation': 'add'}}}]"
            ]
          },
          "execution_count": 17,
          "metadata": {},
          "output_type": "execute_result"
        }
      ],
      "source": [
        "response['output']['message']['content']"
      ]
    },
    {
      "cell_type": "markdown",
      "metadata": {
        "id": "LwzTTJ4Dz9K2"
      },
      "source": [
        "Claude gives us this response:\n",
        "\n",
        "```\n",
        "[{'toolUse': {'toolUseId': 'tooluse_PM0i2kehQnOq9gcRFa8QEg',\n",
        "   'name': 'calculator',\n",
        "   'input': {'operand1': 0, 'operand2': 0, 'operation': 'add'}}}]\n",
        "\n",
        "```\n",
        "Claude wants us to call the calculator tool? A very easy fix is to adjust our prompt or add a system prompt that says something along the lines of: `You have access to tools, but only use them when necessary. If a tool is not required, respond as normal`:"
      ]
    },
    {
      "cell_type": "code",
      "execution_count": null,
      "metadata": {
        "tags": [],
        "id": "N43fWmOGz9K2"
      },
      "outputs": [],
      "source": [
        "converse_api_params = {\n",
        "    \"modelId\": modelId,\n",
        "    \"system\": [{\"text\": \"You have access to tools, but only use them when necessary. If a tool is not required, respond as normal\"}],\n",
        "    \"messages\": [{\"role\": \"user\", \"content\": [{\"text\":\"What color are emeralds?\"}]}],\n",
        "    \"inferenceConfig\": {\"temperature\": 0.0, \"maxTokens\": 400},\n",
        "    \"toolConfig\": toolConfig,\n",
        "}\n",
        "\n",
        "response = bedrock_client.converse(**converse_api_params)"
      ]
    },
    {
      "cell_type": "code",
      "execution_count": null,
      "metadata": {
        "tags": [],
        "id": "ua7wpzfIz9K7",
        "outputId": "d8486a6b-6d0a-43fc-c413-94b062d15373"
      },
      "outputs": [
        {
          "data": {
            "text/plain": [
              "'Emeralds are green in color. Emeralds are a variety of the mineral beryl, and their distinctive green color comes from trace amounts of chromium and/or vanadium within the crystal structure.\\n\\nThe green color of emeralds can range from light to deep, vivid green. High-quality emeralds are prized for their rich, saturated green hue. The most valuable emeralds have an even, pure green color without any yellowish or brownish tints.\\n\\nSo in summary, the natural color of emeralds is green, with the specific shade depending on the trace mineral content and quality of the gemstone.'"
            ]
          },
          "execution_count": 19,
          "metadata": {},
          "output_type": "execute_result"
        }
      ],
      "source": [
        "response['output']['message']['content'][0]['text']"
      ]
    },
    {
      "cell_type": "markdown",
      "metadata": {
        "id": "FLEA7b1jz9K8"
      },
      "source": [
        "Now Claude responds back with appropriate content and doesn't try to shoehorn tool usage when it doesn't make sense.  This is the new response we get:\n",
        "\n",
        "```\n",
        "'Emeralds are green in color.'\n",
        "```\n",
        "\n",
        "We can also see that `stopReason` is now `end_turn` instead of `tool_use`."
      ]
    },
    {
      "cell_type": "code",
      "execution_count": null,
      "metadata": {
        "tags": [],
        "id": "e31EBjhJz9K8",
        "outputId": "bc6dfe9e-5b30-49ad-fd24-aa20678217c7"
      },
      "outputs": [
        {
          "data": {
            "text/plain": [
              "'end_turn'"
            ]
          },
          "execution_count": 20,
          "metadata": {},
          "output_type": "execute_result"
        }
      ],
      "source": [
        "response['stopReason']"
      ]
    },
    {
      "cell_type": "markdown",
      "metadata": {
        "id": "f2rQOV8az9K8"
      },
      "source": [
        "***"
      ]
    },
    {
      "cell_type": "markdown",
      "metadata": {
        "id": "l5eReG3_z9K8"
      },
      "source": [
        "### Putting it all together"
      ]
    },
    {
      "cell_type": "code",
      "execution_count": null,
      "metadata": {
        "tags": [],
        "id": "laak6LNLz9K8"
      },
      "outputs": [],
      "source": [
        "import re\n",
        "import boto3\n",
        "import json\n",
        "from botocore.exceptions import ClientError\n",
        "\n",
        "\n",
        "def calculator(operation, operand1, operand2):\n",
        "    if operation == \"add\":\n",
        "        return operand1 + operand2\n",
        "    elif operation == \"subtract\":\n",
        "        return operand1 - operand2\n",
        "    elif operation == \"multiply\":\n",
        "        return operand1 * operand2\n",
        "    elif operation == \"divide\":\n",
        "        if operand2 == 0:\n",
        "            raise ValueError(\"Cannot divide by zero.\")\n",
        "        return operand1 / operand2\n",
        "    else:\n",
        "        raise ValueError(f\"Unsupported operation: {operation}\")\n",
        "\n",
        "\n",
        "toolConfig = {\n",
        "  \"tools\": [\n",
        "    {\n",
        "      \"toolSpec\": {\n",
        "        \"name\": \"calculator\",\n",
        "        \"description\": \"A simple calculator that performs basic arithmetic operations.\",\n",
        "        \"inputSchema\": {\n",
        "          \"json\": {\n",
        "            \"type\": \"object\",\n",
        "            \"properties\": {\n",
        "              \"operation\": {\n",
        "                \"type\": \"string\",\n",
        "                \"enum\": [\n",
        "                  \"add\", \"subtract\", \"multiply\", \"divide\"],\n",
        "                \"description\": \"The arithmetic operation to perform.\"\n",
        "              },\n",
        "              \"operand1\": {\n",
        "                \"type\": \"number\",\n",
        "                \"description\": \"The first operand.\"\n",
        "              },\n",
        "              \"operand2\": {\n",
        "                \"type\": \"number\",\n",
        "                \"description\": \"The second operand.\"\n",
        "              }\n",
        "            },\n",
        "            \"required\": [\n",
        "              \"operation\", \"operand1\", \"operand2\"]\n",
        "          }\n",
        "        }\n",
        "      }\n",
        "    }\n",
        "  ]\n",
        "}\n",
        "\n",
        "\n",
        "bedrock_client = boto3.client(service_name='bedrock-runtime', region_name=region)\n",
        "\n",
        "\n",
        "def prompt_claude(prompt):\n",
        "\n",
        "    messages = [{\"role\": \"user\", \"content\": [{\"text\": prompt}]}]\n",
        "\n",
        "    converse_api_params = {\n",
        "        \"modelId\": modelId,\n",
        "        \"system\": [{\"text\": \"You have access to tools, but only use them when necessary. If a tool is not required, respond as normal\"}],\n",
        "        \"messages\": messages,\n",
        "        \"inferenceConfig\": {\"temperature\": 0.0, \"maxTokens\": 400},\n",
        "        \"toolConfig\": toolConfig,\n",
        "    }\n",
        "\n",
        "    response = bedrock_client.converse(**converse_api_params)\n",
        "\n",
        "    if response['stopReason'] == \"tool_use\":\n",
        "        tool_use = response['output']['message']['content'][-1]\n",
        "        tool_name = tool_use['toolUse']['name']\n",
        "        tool_inputs = tool_use['toolUse']['input']\n",
        "\n",
        "        if tool_name == \"calculator\":\n",
        "            print(\"Claude wants to use the calculator tool\")\n",
        "            operation = tool_inputs[\"operation\"]\n",
        "            operand1 = tool_inputs[\"operand1\"]\n",
        "            operand2 = tool_inputs[\"operand2\"]\n",
        "\n",
        "            try:\n",
        "                result = calculator(operation, operand1, operand2)\n",
        "                print(\"Calculation result is:\", result)\n",
        "            except ValueError as e:\n",
        "                print(f\"Error: {str(e)}\")\n",
        "\n",
        "    elif response['stopReason'] == \"end_turn\":\n",
        "        print(\"Claude didn't want to use a tool\")\n",
        "        print(\"Claude responded with:\")\n",
        "        print(response['output']['message']['content'][0]['text'])\n"
      ]
    },
    {
      "cell_type": "code",
      "execution_count": null,
      "metadata": {
        "tags": [],
        "id": "ku4xWZtCz9K8",
        "outputId": "44746db5-7911-4195-fcbb-931aa78d483e"
      },
      "outputs": [
        {
          "name": "stdout",
          "output_type": "stream",
          "text": [
            "Claude wants to use the calculator tool\n",
            "Calculation result is: 21\n"
          ]
        }
      ],
      "source": [
        "prompt_claude(\"I had 23 chickens but 2 flew away.  How many are left?\")"
      ]
    },
    {
      "cell_type": "code",
      "execution_count": null,
      "metadata": {
        "tags": [],
        "id": "_UhI8hSuz9K9",
        "outputId": "76b110b7-9333-4e66-81dd-fa8885c1b0d2"
      },
      "outputs": [
        {
          "name": "stdout",
          "output_type": "stream",
          "text": [
            "Claude wants to use the calculator tool\n",
            "Calculation result is: 402\n"
          ]
        }
      ],
      "source": [
        "prompt_claude(\"What is 201 times 2\")"
      ]
    },
    {
      "cell_type": "code",
      "execution_count": null,
      "metadata": {
        "tags": [],
        "id": "vUXumX3qz9K9",
        "outputId": "c6611224-1bc3-48d9-e07d-6a8eb7ea0711"
      },
      "outputs": [
        {
          "name": "stdout",
          "output_type": "stream",
          "text": [
            "Claude didn't want to use a tool\n",
            "Claude responded with:\n",
            "Here is a haiku about the ocean:\n",
            "\n",
            "Vast blue expanse shines,\n",
            "Waves crash upon the shoreline,\n",
            "Ocean's eternal.\n"
          ]
        }
      ],
      "source": [
        "prompt_claude(\"Write me a haiku about the ocean\")"
      ]
    },
    {
      "cell_type": "code",
      "execution_count": null,
      "metadata": {
        "id": "98txUhsVz9K9",
        "outputId": "b5548321-9859-4a23-9c13-928f8f288f13"
      },
      "outputs": [
        {
          "name": "stdout",
          "output_type": "stream",
          "text": [
            "Requirement already satisfied: pip in /home/ec2-user/anaconda3/envs/tensorflow2_p310/lib/python3.10/site-packages (24.2)\n",
            "Collecting setuptools==49.6.0\n",
            "  Downloading setuptools-49.6.0-py3-none-any.whl.metadata (4.9 kB)\n",
            "Downloading setuptools-49.6.0-py3-none-any.whl (803 kB)\n",
            "\u001b[2K   \u001b[90m━━━━━━━━━━━━━━━━━━━━━━━━━━━━━━━━━━━━━━━━\u001b[0m \u001b[32m803.3/803.3 kB\u001b[0m \u001b[31m39.5 MB/s\u001b[0m eta \u001b[36m0:00:00\u001b[0m\n",
            "\u001b[?25hInstalling collected packages: setuptools\n",
            "  Attempting uninstall: setuptools\n",
            "    Found existing installation: setuptools 71.0.4\n",
            "    Uninstalling setuptools-71.0.4:\n",
            "      Successfully uninstalled setuptools-71.0.4\n",
            "Successfully installed setuptools-49.6.0\n",
            "Note: you may need to restart the kernel to use updated packages.\n",
            "Collecting python-dotenv==1.0.1 (from -r requirements.txt (line 1))\n",
            "  Downloading python_dotenv-1.0.1-py3-none-any.whl.metadata (23 kB)\n",
            "Collecting wikipedia==1.4.0 (from -r requirements.txt (line 2))\n",
            "  Downloading wikipedia-1.4.0.tar.gz (27 kB)\n",
            "  Preparing metadata (setup.py) ... \u001b[?25ldone\n",
            "\u001b[?25hCollecting awscli==1.33.13 (from -r requirements.txt (line 3))\n",
            "  Downloading awscli-1.33.13-py3-none-any.whl.metadata (11 kB)\n",
            "Collecting boto3==1.34.131 (from -r requirements.txt (line 4))\n",
            "  Downloading boto3-1.34.131-py3-none-any.whl.metadata (6.6 kB)\n",
            "Collecting botocore==1.34.131 (from -r requirements.txt (line 5))\n",
            "  Downloading botocore-1.34.131-py3-none-any.whl.metadata (5.7 kB)\n",
            "Collecting panel==1.4.3 (from -r requirements.txt (line 6))\n",
            "  Downloading panel-1.4.3-py3-none-any.whl.metadata (25 kB)\n",
            "Requirement already satisfied: pickleshare==0.7.5 in /home/ec2-user/anaconda3/envs/tensorflow2_p310/lib/python3.10/site-packages (from -r requirements.txt (line 7)) (0.7.5)\n",
            "Collecting ipython==8.25.0 (from -r requirements.txt (line 8))\n",
            "  Downloading ipython-8.25.0-py3-none-any.whl.metadata (4.9 kB)\n",
            "Requirement already satisfied: pandas==1.5.3 in /home/ec2-user/anaconda3/envs/tensorflow2_p310/lib/python3.10/site-packages (from -r requirements.txt (line 9)) (1.5.3)\n",
            "Collecting jedi===0.17.2 (from -r requirements.txt (line 10))\n",
            "  Downloading jedi-0.17.2-py2.py3-none-any.whl.metadata (19 kB)\n",
            "Collecting mkl==2024.1.0 (from -r requirements.txt (line 11))\n",
            "  Downloading mkl-2024.1.0-py2.py3-none-manylinux1_x86_64.whl.metadata (1.4 kB)\n",
            "Collecting pdf2image==1.17.0 (from -r requirements.txt (line 12))\n",
            "  Downloading pdf2image-1.17.0-py3-none-any.whl.metadata (6.2 kB)\n",
            "Collecting PyMuPDF==1.24.5 (from -r requirements.txt (line 13))\n",
            "  Downloading PyMuPDF-1.24.5-cp310-none-manylinux2014_x86_64.whl.metadata (3.4 kB)\n",
            "Collecting matplotlib==3.9.0 (from -r requirements.txt (line 14))\n",
            "  Downloading matplotlib-3.9.0-cp310-cp310-manylinux_2_17_x86_64.manylinux2014_x86_64.whl.metadata (11 kB)\n",
            "Requirement already satisfied: numpy==1.26.4 in /home/ec2-user/anaconda3/envs/tensorflow2_p310/lib/python3.10/site-packages (from -r requirements.txt (line 15)) (1.26.4)\n",
            "Requirement already satisfied: docutils<0.17 in /home/ec2-user/anaconda3/envs/tensorflow2_p310/lib/python3.10/site-packages (from -r requirements.txt (line 16)) (0.16)\n",
            "Requirement already satisfied: beautifulsoup4 in /home/ec2-user/anaconda3/envs/tensorflow2_p310/lib/python3.10/site-packages (from wikipedia==1.4.0->-r requirements.txt (line 2)) (4.12.3)\n",
            "Requirement already satisfied: requests<3.0.0,>=2.0.0 in /home/ec2-user/anaconda3/envs/tensorflow2_p310/lib/python3.10/site-packages (from wikipedia==1.4.0->-r requirements.txt (line 2)) (2.32.3)\n",
            "Requirement already satisfied: s3transfer<0.11.0,>=0.10.0 in /home/ec2-user/anaconda3/envs/tensorflow2_p310/lib/python3.10/site-packages (from awscli==1.33.13->-r requirements.txt (line 3)) (0.10.2)\n",
            "Requirement already satisfied: PyYAML<6.1,>=3.10 in /home/ec2-user/anaconda3/envs/tensorflow2_p310/lib/python3.10/site-packages (from awscli==1.33.13->-r requirements.txt (line 3)) (6.0.1)\n",
            "Requirement already satisfied: colorama<0.4.7,>=0.2.5 in /home/ec2-user/anaconda3/envs/tensorflow2_p310/lib/python3.10/site-packages (from awscli==1.33.13->-r requirements.txt (line 3)) (0.4.6)\n",
            "Requirement already satisfied: rsa<4.8,>=3.1.2 in /home/ec2-user/anaconda3/envs/tensorflow2_p310/lib/python3.10/site-packages (from awscli==1.33.13->-r requirements.txt (line 3)) (4.7.2)\n",
            "Requirement already satisfied: jmespath<2.0.0,>=0.7.1 in /home/ec2-user/anaconda3/envs/tensorflow2_p310/lib/python3.10/site-packages (from boto3==1.34.131->-r requirements.txt (line 4)) (1.0.1)\n",
            "Requirement already satisfied: python-dateutil<3.0.0,>=2.1 in /home/ec2-user/anaconda3/envs/tensorflow2_p310/lib/python3.10/site-packages (from botocore==1.34.131->-r requirements.txt (line 5)) (2.9.0)\n",
            "Requirement already satisfied: urllib3!=2.2.0,<3,>=1.25.4 in /home/ec2-user/anaconda3/envs/tensorflow2_p310/lib/python3.10/site-packages (from botocore==1.34.131->-r requirements.txt (line 5)) (2.2.2)\n",
            "Collecting bokeh<3.5.0,>=3.4.0 (from panel==1.4.3->-r requirements.txt (line 6))\n",
            "  Downloading bokeh-3.4.3-py3-none-any.whl.metadata (12 kB)\n",
            "Collecting param<3.0,>=2.1.0 (from panel==1.4.3->-r requirements.txt (line 6))\n",
            "  Downloading param-2.1.1-py3-none-any.whl.metadata (7.2 kB)\n",
            "Collecting pyviz-comms>=2.0.0 (from panel==1.4.3->-r requirements.txt (line 6))\n",
            "  Downloading pyviz_comms-3.0.3-py3-none-any.whl.metadata (7.7 kB)\n",
            "Requirement already satisfied: xyzservices>=2021.09.1 in /home/ec2-user/anaconda3/envs/tensorflow2_p310/lib/python3.10/site-packages (from panel==1.4.3->-r requirements.txt (line 6)) (2024.6.0)\n",
            "Requirement already satisfied: markdown in /home/ec2-user/anaconda3/envs/tensorflow2_p310/lib/python3.10/site-packages (from panel==1.4.3->-r requirements.txt (line 6)) (3.6)\n",
            "Requirement already satisfied: markdown-it-py in /home/ec2-user/anaconda3/envs/tensorflow2_p310/lib/python3.10/site-packages (from panel==1.4.3->-r requirements.txt (line 6)) (3.0.0)\n",
            "Collecting linkify-it-py (from panel==1.4.3->-r requirements.txt (line 6))\n",
            "  Downloading linkify_it_py-2.0.3-py3-none-any.whl.metadata (8.5 kB)\n",
            "Collecting mdit-py-plugins (from panel==1.4.3->-r requirements.txt (line 6))\n",
            "  Downloading mdit_py_plugins-0.4.1-py3-none-any.whl.metadata (2.8 kB)\n",
            "Requirement already satisfied: tqdm>=4.48.0 in /home/ec2-user/anaconda3/envs/tensorflow2_p310/lib/python3.10/site-packages (from panel==1.4.3->-r requirements.txt (line 6)) (4.66.4)\n",
            "Requirement already satisfied: bleach in /home/ec2-user/anaconda3/envs/tensorflow2_p310/lib/python3.10/site-packages (from panel==1.4.3->-r requirements.txt (line 6)) (6.1.0)\n",
            "Requirement already satisfied: typing-extensions in /home/ec2-user/anaconda3/envs/tensorflow2_p310/lib/python3.10/site-packages (from panel==1.4.3->-r requirements.txt (line 6)) (4.12.2)\n",
            "Requirement already satisfied: decorator in /home/ec2-user/anaconda3/envs/tensorflow2_p310/lib/python3.10/site-packages (from ipython==8.25.0->-r requirements.txt (line 8)) (5.1.1)\n",
            "Requirement already satisfied: matplotlib-inline in /home/ec2-user/anaconda3/envs/tensorflow2_p310/lib/python3.10/site-packages (from ipython==8.25.0->-r requirements.txt (line 8)) (0.1.7)\n",
            "Requirement already satisfied: prompt-toolkit<3.1.0,>=3.0.41 in /home/ec2-user/anaconda3/envs/tensorflow2_p310/lib/python3.10/site-packages (from ipython==8.25.0->-r requirements.txt (line 8)) (3.0.47)\n",
            "Requirement already satisfied: pygments>=2.4.0 in /home/ec2-user/anaconda3/envs/tensorflow2_p310/lib/python3.10/site-packages (from ipython==8.25.0->-r requirements.txt (line 8)) (2.18.0)\n",
            "Requirement already satisfied: stack-data in /home/ec2-user/anaconda3/envs/tensorflow2_p310/lib/python3.10/site-packages (from ipython==8.25.0->-r requirements.txt (line 8)) (0.6.2)\n",
            "Requirement already satisfied: traitlets>=5.13.0 in /home/ec2-user/anaconda3/envs/tensorflow2_p310/lib/python3.10/site-packages (from ipython==8.25.0->-r requirements.txt (line 8)) (5.14.3)\n",
            "Requirement already satisfied: exceptiongroup in /home/ec2-user/anaconda3/envs/tensorflow2_p310/lib/python3.10/site-packages (from ipython==8.25.0->-r requirements.txt (line 8)) (1.2.2)\n",
            "Requirement already satisfied: pexpect>4.3 in /home/ec2-user/anaconda3/envs/tensorflow2_p310/lib/python3.10/site-packages (from ipython==8.25.0->-r requirements.txt (line 8)) (4.9.0)\n",
            "Requirement already satisfied: pytz>=2020.1 in /home/ec2-user/anaconda3/envs/tensorflow2_p310/lib/python3.10/site-packages (from pandas==1.5.3->-r requirements.txt (line 9)) (2024.1)\n",
            "Collecting parso<0.8.0,>=0.7.0 (from jedi===0.17.2->-r requirements.txt (line 10))\n",
            "  Downloading parso-0.7.1-py2.py3-none-any.whl.metadata (7.0 kB)\n",
            "Collecting intel-openmp==2024.* (from mkl==2024.1.0->-r requirements.txt (line 11))\n",
            "  Downloading intel_openmp-2024.2.1-py2.py3-none-manylinux1_x86_64.whl.metadata (1.2 kB)\n",
            "Collecting tbb==2021.* (from mkl==2024.1.0->-r requirements.txt (line 11))\n",
            "  Downloading tbb-2021.13.1-py2.py3-none-manylinux1_x86_64.whl.metadata (1.0 kB)\n",
            "Requirement already satisfied: pillow in /home/ec2-user/anaconda3/envs/tensorflow2_p310/lib/python3.10/site-packages (from pdf2image==1.17.0->-r requirements.txt (line 12)) (10.4.0)\n",
            "Collecting PyMuPDFb==1.24.3 (from PyMuPDF==1.24.5->-r requirements.txt (line 13))\n",
            "  Downloading PyMuPDFb-1.24.3-py3-none-manylinux2014_x86_64.manylinux_2_17_x86_64.whl.metadata (1.4 kB)\n",
            "Requirement already satisfied: contourpy>=1.0.1 in /home/ec2-user/anaconda3/envs/tensorflow2_p310/lib/python3.10/site-packages (from matplotlib==3.9.0->-r requirements.txt (line 14)) (1.2.1)\n",
            "Requirement already satisfied: cycler>=0.10 in /home/ec2-user/anaconda3/envs/tensorflow2_p310/lib/python3.10/site-packages (from matplotlib==3.9.0->-r requirements.txt (line 14)) (0.12.1)\n",
            "Requirement already satisfied: fonttools>=4.22.0 in /home/ec2-user/anaconda3/envs/tensorflow2_p310/lib/python3.10/site-packages (from matplotlib==3.9.0->-r requirements.txt (line 14)) (4.53.1)\n",
            "Requirement already satisfied: kiwisolver>=1.3.1 in /home/ec2-user/anaconda3/envs/tensorflow2_p310/lib/python3.10/site-packages (from matplotlib==3.9.0->-r requirements.txt (line 14)) (1.4.5)\n",
            "Requirement already satisfied: packaging>=20.0 in /home/ec2-user/anaconda3/envs/tensorflow2_p310/lib/python3.10/site-packages (from matplotlib==3.9.0->-r requirements.txt (line 14)) (21.3)\n",
            "Requirement already satisfied: pyparsing>=2.3.1 in /home/ec2-user/anaconda3/envs/tensorflow2_p310/lib/python3.10/site-packages (from matplotlib==3.9.0->-r requirements.txt (line 14)) (3.1.2)\n",
            "Collecting intel-cmplr-lib-ur==2024.2.1 (from intel-openmp==2024.*->mkl==2024.1.0->-r requirements.txt (line 11))\n",
            "  Downloading intel_cmplr_lib_ur-2024.2.1-py2.py3-none-manylinux1_x86_64.whl.metadata (1.2 kB)\n",
            "Requirement already satisfied: Jinja2>=2.9 in /home/ec2-user/anaconda3/envs/tensorflow2_p310/lib/python3.10/site-packages (from bokeh<3.5.0,>=3.4.0->panel==1.4.3->-r requirements.txt (line 6)) (3.1.4)\n",
            "Requirement already satisfied: tornado>=6.2 in /home/ec2-user/anaconda3/envs/tensorflow2_p310/lib/python3.10/site-packages (from bokeh<3.5.0,>=3.4.0->panel==1.4.3->-r requirements.txt (line 6)) (6.4.1)\n",
            "Requirement already satisfied: ptyprocess>=0.5 in /home/ec2-user/anaconda3/envs/tensorflow2_p310/lib/python3.10/site-packages (from pexpect>4.3->ipython==8.25.0->-r requirements.txt (line 8)) (0.7.0)\n",
            "Requirement already satisfied: wcwidth in /home/ec2-user/anaconda3/envs/tensorflow2_p310/lib/python3.10/site-packages (from prompt-toolkit<3.1.0,>=3.0.41->ipython==8.25.0->-r requirements.txt (line 8)) (0.2.13)\n",
            "Requirement already satisfied: six>=1.5 in /home/ec2-user/anaconda3/envs/tensorflow2_p310/lib/python3.10/site-packages (from python-dateutil<3.0.0,>=2.1->botocore==1.34.131->-r requirements.txt (line 5)) (1.16.0)\n",
            "Requirement already satisfied: charset-normalizer<4,>=2 in /home/ec2-user/anaconda3/envs/tensorflow2_p310/lib/python3.10/site-packages (from requests<3.0.0,>=2.0.0->wikipedia==1.4.0->-r requirements.txt (line 2)) (3.3.2)\n",
            "Requirement already satisfied: idna<4,>=2.5 in /home/ec2-user/anaconda3/envs/tensorflow2_p310/lib/python3.10/site-packages (from requests<3.0.0,>=2.0.0->wikipedia==1.4.0->-r requirements.txt (line 2)) (3.7)\n",
            "Requirement already satisfied: certifi>=2017.4.17 in /home/ec2-user/anaconda3/envs/tensorflow2_p310/lib/python3.10/site-packages (from requests<3.0.0,>=2.0.0->wikipedia==1.4.0->-r requirements.txt (line 2)) (2024.7.4)\n",
            "Requirement already satisfied: pyasn1>=0.1.3 in /home/ec2-user/anaconda3/envs/tensorflow2_p310/lib/python3.10/site-packages (from rsa<4.8,>=3.1.2->awscli==1.33.13->-r requirements.txt (line 3)) (0.6.0)\n",
            "Requirement already satisfied: soupsieve>1.2 in /home/ec2-user/anaconda3/envs/tensorflow2_p310/lib/python3.10/site-packages (from beautifulsoup4->wikipedia==1.4.0->-r requirements.txt (line 2)) (2.5)\n",
            "Requirement already satisfied: webencodings in /home/ec2-user/anaconda3/envs/tensorflow2_p310/lib/python3.10/site-packages (from bleach->panel==1.4.3->-r requirements.txt (line 6)) (0.5.1)\n",
            "Collecting uc-micro-py (from linkify-it-py->panel==1.4.3->-r requirements.txt (line 6))\n",
            "  Downloading uc_micro_py-1.0.3-py3-none-any.whl.metadata (2.0 kB)\n",
            "Requirement already satisfied: mdurl~=0.1 in /home/ec2-user/anaconda3/envs/tensorflow2_p310/lib/python3.10/site-packages (from markdown-it-py->panel==1.4.3->-r requirements.txt (line 6)) (0.1.2)\n",
            "Requirement already satisfied: executing>=1.2.0 in /home/ec2-user/anaconda3/envs/tensorflow2_p310/lib/python3.10/site-packages (from stack-data->ipython==8.25.0->-r requirements.txt (line 8)) (2.0.1)\n",
            "Requirement already satisfied: asttokens>=2.1.0 in /home/ec2-user/anaconda3/envs/tensorflow2_p310/lib/python3.10/site-packages (from stack-data->ipython==8.25.0->-r requirements.txt (line 8)) (2.4.1)\n",
            "Requirement already satisfied: pure-eval in /home/ec2-user/anaconda3/envs/tensorflow2_p310/lib/python3.10/site-packages (from stack-data->ipython==8.25.0->-r requirements.txt (line 8)) (0.2.3)\n",
            "Requirement already satisfied: MarkupSafe>=2.0 in /home/ec2-user/anaconda3/envs/tensorflow2_p310/lib/python3.10/site-packages (from Jinja2>=2.9->bokeh<3.5.0,>=3.4.0->panel==1.4.3->-r requirements.txt (line 6)) (2.1.5)\n",
            "Downloading python_dotenv-1.0.1-py3-none-any.whl (19 kB)\n",
            "Downloading awscli-1.33.13-py3-none-any.whl (4.5 MB)\n",
            "\u001b[2K   \u001b[90m━━━━━━━━━━━━━━━━━━━━━━━━━━━━━━━━━━━━━━━━\u001b[0m \u001b[32m4.5/4.5 MB\u001b[0m \u001b[31m166.5 MB/s\u001b[0m eta \u001b[36m0:00:00\u001b[0m\n",
            "\u001b[?25hDownloading boto3-1.34.131-py3-none-any.whl (139 kB)\n",
            "Downloading botocore-1.34.131-py3-none-any.whl (12.3 MB)\n",
            "\u001b[2K   \u001b[90m━━━━━━━━━━━━━━━━━━━━━━━━━━━━━━━━━━━━━━━━\u001b[0m \u001b[32m12.3/12.3 MB\u001b[0m \u001b[31m392.3 MB/s\u001b[0m eta \u001b[36m0:00:00\u001b[0m\n",
            "\u001b[?25hDownloading panel-1.4.3-py3-none-any.whl (24.7 MB)\n",
            "\u001b[2K   \u001b[90m━━━━━━━━━━━━━━━━━━━━━━━━━━━━━━━━━━━━━━━━\u001b[0m \u001b[32m24.7/24.7 MB\u001b[0m \u001b[31m102.7 MB/s\u001b[0m eta \u001b[36m0:00:00\u001b[0m \u001b[36m0:00:01\u001b[0m\n",
            "\u001b[?25hDownloading ipython-8.25.0-py3-none-any.whl (817 kB)\n",
            "\u001b[2K   \u001b[90m━━━━━━━━━━━━━━━━━━━━━━━━━━━━━━━━━━━━━━━\u001b[0m \u001b[32m817.3/817.3 kB\u001b[0m \u001b[31m163.7 MB/s\u001b[0m eta \u001b[36m0:00:00\u001b[0m\n",
            "\u001b[?25hDownloading jedi-0.17.2-py2.py3-none-any.whl (1.4 MB)\n",
            "\u001b[2K   \u001b[90m━━━━━━━━━━━━━━━━━━━━━━━━━━━━━━━━━━━━━━━━\u001b[0m \u001b[32m1.4/1.4 MB\u001b[0m \u001b[31m260.4 MB/s\u001b[0m eta \u001b[36m0:00:00\u001b[0m\n",
            "\u001b[?25hDownloading mkl-2024.1.0-py2.py3-none-manylinux1_x86_64.whl (202.0 MB)\n",
            "\u001b[2K   \u001b[90m━━━━━━━━━━━━━━━━━━━━━━━━━━━━━━━━━━━━━━━━\u001b[0m \u001b[32m202.0/202.0 MB\u001b[0m \u001b[31m65.8 MB/s\u001b[0m eta \u001b[36m0:00:00\u001b[0m00:01\u001b[0m00:01\u001b[0m\n",
            "\u001b[?25hDownloading pdf2image-1.17.0-py3-none-any.whl (11 kB)\n",
            "Downloading PyMuPDF-1.24.5-cp310-none-manylinux2014_x86_64.whl (3.5 MB)\n",
            "\u001b[2K   \u001b[90m━━━━━━━━━━━━━━━━━━━━━━━━━━━━━━━━━━━━━━━━\u001b[0m \u001b[32m3.5/3.5 MB\u001b[0m \u001b[31m222.9 MB/s\u001b[0m eta \u001b[36m0:00:00\u001b[0m\n",
            "\u001b[?25hDownloading matplotlib-3.9.0-cp310-cp310-manylinux_2_17_x86_64.manylinux2014_x86_64.whl (8.3 MB)\n",
            "\u001b[2K   \u001b[90m━━━━━━━━━━━━━━━━━━━━━━━━━━━━━━━━━━━━━━━━\u001b[0m \u001b[32m8.3/8.3 MB\u001b[0m \u001b[31m93.1 MB/s\u001b[0m eta \u001b[36m0:00:00\u001b[0m\n",
            "\u001b[?25hDownloading intel_openmp-2024.2.1-py2.py3-none-manylinux1_x86_64.whl (29.6 MB)\n",
            "\u001b[2K   \u001b[90m━━━━━━━━━━━━━━━━━━━━━━━━━━━━━━━━━━━━━━━━\u001b[0m \u001b[32m29.6/29.6 MB\u001b[0m \u001b[31m191.1 MB/s\u001b[0m eta \u001b[36m0:00:00\u001b[0m\n",
            "\u001b[?25hDownloading PyMuPDFb-1.24.3-py3-none-manylinux2014_x86_64.manylinux_2_17_x86_64.whl (15.8 MB)\n",
            "\u001b[2K   \u001b[90m━━━━━━━━━━━━━━━━━━━━━━━━━━━━━━━━━━━━━━━━\u001b[0m \u001b[32m15.8/15.8 MB\u001b[0m \u001b[31m276.4 MB/s\u001b[0m eta \u001b[36m0:00:00\u001b[0m\n",
            "\u001b[?25hDownloading tbb-2021.13.1-py2.py3-none-manylinux1_x86_64.whl (5.4 MB)\n",
            "\u001b[2K   \u001b[90m━━━━━━━━━━━━━━━━━━━━━━━━━━━━━━━━━━━━━━━━\u001b[0m \u001b[32m5.4/5.4 MB\u001b[0m \u001b[31m311.9 MB/s\u001b[0m eta \u001b[36m0:00:00\u001b[0m\n",
            "\u001b[?25hDownloading intel_cmplr_lib_ur-2024.2.1-py2.py3-none-manylinux1_x86_64.whl (5.9 MB)\n",
            "\u001b[2K   \u001b[90m━━━━━━━━━━━━━━━━━━━━━━━━━━━━━━━━━━━━━━━━\u001b[0m \u001b[32m5.9/5.9 MB\u001b[0m \u001b[31m236.8 MB/s\u001b[0m eta \u001b[36m0:00:00\u001b[0m\n",
            "\u001b[?25hDownloading bokeh-3.4.3-py3-none-any.whl (7.0 MB)\n",
            "\u001b[2K   \u001b[90m━━━━━━━━━━━━━━━━━━━━━━━━━━━━━━━━━━━━━━━━\u001b[0m \u001b[32m7.0/7.0 MB\u001b[0m \u001b[31m294.1 MB/s\u001b[0m eta \u001b[36m0:00:00\u001b[0m\n",
            "\u001b[?25hDownloading param-2.1.1-py3-none-any.whl (116 kB)\n",
            "Downloading parso-0.7.1-py2.py3-none-any.whl (109 kB)\n",
            "Downloading pyviz_comms-3.0.3-py3-none-any.whl (83 kB)\n",
            "Downloading linkify_it_py-2.0.3-py3-none-any.whl (19 kB)\n",
            "Downloading mdit_py_plugins-0.4.1-py3-none-any.whl (54 kB)\n",
            "Downloading uc_micro_py-1.0.3-py3-none-any.whl (6.2 kB)\n",
            "Building wheels for collected packages: wikipedia\n",
            "  Building wheel for wikipedia (setup.py) ... \u001b[?25ldone\n",
            "\u001b[?25h  Created wheel for wikipedia: filename=wikipedia-1.4.0-py3-none-any.whl size=11684 sha256=84375342888d3824c1b67d64e6a686cc01081e322cf4ebe709d7680a56174dc6\n",
            "  Stored in directory: /tmp/pip-ephem-wheel-cache-3s7kt41f/wheels/5e/b6/c5/93f3dec388ae76edc830cb42901bb0232504dfc0df02fc50de\n",
            "Successfully built wikipedia\n",
            "Installing collected packages: tbb, intel-cmplr-lib-ur, uc-micro-py, python-dotenv, PyMuPDFb, pdf2image, parso, param, intel-openmp, wikipedia, pyviz-comms, PyMuPDF, mkl, mdit-py-plugins, matplotlib, linkify-it-py, jedi, botocore, ipython, bokeh, panel, boto3, awscli\n",
            "  Attempting uninstall: parso\n",
            "    Found existing installation: parso 0.8.4\n",
            "    Uninstalling parso-0.8.4:\n",
            "      Successfully uninstalled parso-0.8.4\n",
            "  Attempting uninstall: matplotlib\n",
            "    Found existing installation: matplotlib 3.9.1\n",
            "    Uninstalling matplotlib-3.9.1:\n",
            "      Successfully uninstalled matplotlib-3.9.1\n",
            "  Attempting uninstall: jedi\n",
            "    Found existing installation: jedi 0.18.2\n",
            "    Uninstalling jedi-0.18.2:\n",
            "      Successfully uninstalled jedi-0.18.2\n",
            "  Attempting uninstall: botocore\n",
            "    Found existing installation: botocore 1.35.4\n",
            "    Uninstalling botocore-1.35.4:\n",
            "      Successfully uninstalled botocore-1.35.4\n",
            "  Attempting uninstall: ipython\n",
            "    Found existing installation: ipython 8.26.0\n",
            "    Uninstalling ipython-8.26.0:\n",
            "      Successfully uninstalled ipython-8.26.0\n",
            "  Attempting uninstall: bokeh\n",
            "    Found existing installation: bokeh 3.5.1\n",
            "    Uninstalling bokeh-3.5.1:\n",
            "      Successfully uninstalled bokeh-3.5.1\n",
            "  Attempting uninstall: boto3\n",
            "    Found existing installation: boto3 1.35.4\n",
            "    Uninstalling boto3-1.35.4:\n",
            "      Successfully uninstalled boto3-1.35.4\n",
            "  Attempting uninstall: awscli\n",
            "    Found existing installation: awscli 1.34.4\n",
            "    Uninstalling awscli-1.34.4:\n",
            "      Successfully uninstalled awscli-1.34.4\n",
            "\u001b[31mERROR: pip's dependency resolver does not currently take into account all the packages that are installed. This behaviour is the source of the following dependency conflicts.\n",
            "sagemaker 2.229.0 requires boto3<2.0,>=1.34.142, but you have boto3 1.34.131 which is incompatible.\u001b[0m\u001b[31m\n",
            "\u001b[0mSuccessfully installed PyMuPDF-1.24.5 PyMuPDFb-1.24.3 awscli-1.33.13 bokeh-3.4.3 boto3-1.34.131 botocore-1.34.131 intel-cmplr-lib-ur-2024.2.1 intel-openmp-2024.2.1 ipython-8.25.0 jedi-0.17.2 linkify-it-py-2.0.3 matplotlib-3.9.0 mdit-py-plugins-0.4.1 mkl-2024.1.0 panel-1.4.3 param-2.1.1 parso-0.7.1 pdf2image-1.17.0 python-dotenv-1.0.1 pyviz-comms-3.0.3 tbb-2021.13.1 uc-micro-py-1.0.3 wikipedia-1.4.0\n",
            "Note: you may need to restart the kernel to use updated packages.\n"
          ]
        }
      ],
      "source": [
        "%pip install --upgrade --no-cache-dir pip setuptools==49.6.0\n",
        "%pip install --no-cache-dir -r requirements.txt"
      ]
    },
    {
      "cell_type": "markdown",
      "metadata": {
        "id": "HL8k2Eu0z9K9"
      },
      "source": [
        "***"
      ]
    },
    {
      "cell_type": "markdown",
      "metadata": {
        "id": "VDE-2y27z9K-"
      },
      "source": [
        "## Exercise\n",
        "\n",
        "Your task is to help build out a research assistant using Claude.  A user can enter a topic that they want to research and get a list of Wikipedia article links saved to a markdown file for later reading. We could try asking Claude directly to generate a list of article URLs, but Claude is unreliable with URLs and may hallucinate article URLs. Also, legitimate articles might have moved to a new URL after Claude's training cutoff date.  Instead, we're going to use a tool that connects to the real Wikipedia API to make this work!\n",
        "\n",
        "We'll provide Claude with access to a tool that accepts a list of possible Wikipedia article titles that Claude has generated but could have hallucinated. We can use this tool to search Wikipedia to find the actual Wikipedia article titles and URLs to ensure that the final list consists of articles that all actually exist. We’ll then save these article URLs to a markdown file for later reading.\n",
        "\n",
        "We've provided you with two functions to help:\n"
      ]
    },
    {
      "cell_type": "code",
      "execution_count": null,
      "metadata": {
        "tags": [],
        "id": "MNxo0EhVz9K-"
      },
      "outputs": [],
      "source": [
        "import wikipedia\n",
        "def generate_wikipedia_reading_list(research_topic, article_titles):\n",
        "    wikipedia_articles = []\n",
        "    for t in article_titles:\n",
        "        results = wikipedia.search(t)\n",
        "        try:\n",
        "            page = wikipedia.page(results[0])\n",
        "            title = page.title\n",
        "            url = page.url\n",
        "            wikipedia_articles.append({\"title\": title, \"url\": url})\n",
        "        except:\n",
        "            continue\n",
        "    add_to_research_reading_file(wikipedia_articles, research_topic)\n",
        "\n",
        "def add_to_research_reading_file(articles, topic):\n",
        "    with open(\"output/research_reading.md\", \"a\", encoding=\"utf-8\") as file:\n",
        "        file.write(f\"## {topic} \\n\")\n",
        "        for article in articles:\n",
        "            title = article[\"title\"]\n",
        "            url = article[\"url\"]\n",
        "            file.write(f\"* [{title}]({url}) \\n\")\n",
        "        file.write(f\"\\n\\n\")"
      ]
    },
    {
      "cell_type": "code",
      "execution_count": null,
      "metadata": {
        "id": "RI4cevr0z9K-"
      },
      "outputs": [],
      "source": []
    },
    {
      "cell_type": "markdown",
      "metadata": {
        "id": "H9eddt87z9K_"
      },
      "source": [
        "The first function, `generate_wikipedia_reading_list` expects to be passed a research topic like \"The history of Hawaii\" or \"Pirates across the world\" and a list of potential Wikipedia article names that we will have Claude generate.  The function uses the `wikipedia` package to search for corresponding REAL wikipedia pages and builds a list of dictionaries that contain an article's title and URL.\n",
        "\n",
        "Then it calls `add_to_research_reading_file`, passing in the list of Wikipedia article data and the overall research topic.  This function simply adds markdown links to each of the Wikipedia articles to a file called `output/research_reading.md`.  The filename is hardcoded for now, and the function assumes it exists. It exists in this repo, but you'll need to create it yourself if working somewhere else.\n",
        "\n",
        "The idea is that we'll have Claude \"call\" `generate_wikipedia_reading_list` with a list of potential article titles that may or may not be real.  Claude might pass the following input list of article titles, some of which are real Wikipedia articles and some of which are not:\n",
        "\n",
        "```py\n",
        "[\"Piracy\", \"Famous Pirate Ships\", \"Golden Age Of Piracy\", \"List of Pirates\", \"Pirates and Parrots\", \"Piracy in the 21st Century\"]\n",
        "```\n",
        "\n",
        "The `generate_wikipedia_reading_list` function goes through each of those article titles and collects the real article titles and corresponding URLs for any Wikipedia articles that actually exist.  It then calls `add_to_research_reading_file` to write that content to a markdown file for later reference."
      ]
    },
    {
      "cell_type": "markdown",
      "metadata": {
        "id": "EEK3Dld7z9K_"
      },
      "source": [
        "### The end goal\n",
        "\n",
        "Your job is to implement a function called `get_research_help` that accepts a research topic and a desired number of articles. This function should use Claude to actually generate the list of possible Wikipedia articles and call the `generate_wikipedia_reading_list` function from above.  Here are a few example function calls:\n",
        "\n",
        "```py\n",
        "get_research_help(\"Pirates Across The World\", 7)\n",
        "\n",
        "get_research_help(\"History of Hawaii\", 3)\n",
        "\n",
        "get_research_help(\"are animals conscious?\", 3)\n",
        "```\n",
        "\n",
        "After these 3 function calls, this is what our output `research_reading.md` file looks like (check it out for yourself in output/research_reading.md):\n",
        "\n",
        "![research_reading.png](./images/research_reading.png)\n",
        "\n"
      ]
    },
    {
      "cell_type": "markdown",
      "metadata": {
        "id": "bPvgXjAzz9K_"
      },
      "source": [
        "To accomplish this, you'll need to do the following:\n",
        "\n",
        "* Write a tool definition for the `generate_wikipedia_reading_list` function\n",
        "* Implement the `get_research_help` function\n",
        "    * Write a prompt to Claude telling it that you need help gathering research on the specific topic and how many article titles you want it to generate\n",
        "    * Tell Claude about the tool it has access to\n",
        "    * Send off your request to Claude\n",
        "    * Check to see if Claude called the tool.  If it did, you'll need to pass the article titles and topic it generated to the `generate_wikipedia_reading_list` function we gave you. That function will gather actual Wikipedia article links and then call `add_to_research_reading_file` to write the links to `output/research_reading.md`\n",
        "    * Open `output/research_reading.md` to see if it worked!\n"
      ]
    },
    {
      "cell_type": "markdown",
      "metadata": {
        "id": "Opk2S5_iz9K_"
      },
      "source": [
        "#### Starter Code"
      ]
    },
    {
      "cell_type": "code",
      "execution_count": null,
      "metadata": {
        "tags": [],
        "id": "1jyJosWyz9LA"
      },
      "outputs": [],
      "source": [
        "# Here's your starter code!\n",
        "import wikipedia\n",
        "def generate_wikipedia_reading_list(research_topic, article_titles):\n",
        "    wikipedia_articles = []\n",
        "    for t in article_titles:\n",
        "        results = wikipedia.search(t)\n",
        "        try:\n",
        "            page = wikipedia.page(results[0])\n",
        "            title = page.title\n",
        "            url = page.url\n",
        "            wikipedia_articles.append({\"title\": title, \"url\": url})\n",
        "        except:\n",
        "            continue\n",
        "    add_to_research_reading_file(wikipedia_articles, research_topic)\n",
        "\n",
        "def add_to_research_reading_file(articles, topic):\n",
        "    with open(\"output/research_reading.md\", \"a\", encoding=\"utf-8\") as file:\n",
        "        file.write(f\"## {topic} \\n\")\n",
        "        for article in articles:\n",
        "            title = article[\"title\"]\n",
        "            url = article[\"url\"]\n",
        "            file.write(f\"* [{title}]({url}) \\n\")\n",
        "        file.write(f\"\\n\\n\")"
      ]
    },
    {
      "cell_type": "code",
      "execution_count": null,
      "metadata": {
        "tags": [],
        "id": "yn_CYR-6z9LA"
      },
      "outputs": [],
      "source": [
        "# ToolSpec starter code\n",
        "toolConfig = {\n",
        "  \"tools\": [\n",
        "    {\n",
        "      \"toolSpec\": {\n",
        "        \"name\": \"generate_wikipedia_reading_list\",\n",
        "        \"description\": \" \",\n",
        "        \"inputSchema\": {\n",
        "          \"json\": {\n",
        "            \"type\": \"object\",\n",
        "            \"properties\": {\n",
        "              \"\": {\n",
        "                \"type\": \"string\",\n",
        "                \"description\": \"\"\n",
        "              },\n",
        "              \" \": {\n",
        "                \"type\": \"string\",\n",
        "                \"description\": \" \"\n",
        "              }\n",
        "            },\n",
        "            \"required\": [\" \", \" \"]\n",
        "          }\n",
        "        }\n",
        "      }\n",
        "    }\n",
        "  ]\n",
        "}"
      ]
    },
    {
      "cell_type": "markdown",
      "metadata": {
        "id": "htEqnchYz9LA"
      },
      "source": [
        "❓ If you want a hint related to your toolSpec, run the cell below!"
      ]
    },
    {
      "cell_type": "code",
      "execution_count": null,
      "metadata": {
        "tags": [],
        "id": "CE4-aU_Qz9LA",
        "outputId": "c8cd3a79-4926-4c12-d29a-2fbde91da4aa"
      },
      "outputs": [
        {
          "name": "stdout",
          "output_type": "stream",
          "text": [
            "\n",
            "toolConfig = {\n",
            "  \"tools\": [\n",
            "    {\n",
            "      \"toolSpec\": {\n",
            "        \"name\": \"generate_wikipedia_reading_list\",\n",
            "        \"description\": \"A tool is used to search Wikipedia for details related to the topic provided by the user.\",\n",
            "        \"inputSchema\": {\n",
            "          \"json\": {\n",
            "            \"type\": \"object\",\n",
            "            \"properties\": {\n",
            "              \"research_topic\": {\n",
            "                \"type\": \"string\",\n",
            "                \"description\": \"The topic to search for on wikipedia.\"\n",
            "              },\n",
            "              \"article_titles\": {\n",
            "                \"type\": \"string\",\n",
            "                \"description\": \"a list of strings, where each string represents a potential wikipedia article title to research\"\n",
            "              }\n",
            "            },\n",
            "            \"required\": [\"research_topic\", \"article_titles\"]\n",
            "          }\n",
            "        }\n",
            "      }\n",
            "    }\n",
            "  ]\n",
            "}\n",
            "\n"
          ]
        }
      ],
      "source": [
        "print(hints.exercise_10_2_1_toolspec)"
      ]
    },
    {
      "cell_type": "code",
      "execution_count": null,
      "metadata": {
        "tags": [],
        "id": "z3QDp7c_z9LA"
      },
      "outputs": [],
      "source": [
        "def get_research_help(research_topic, num_articles=3):\n",
        "# create your function here\n",
        "    pass"
      ]
    },
    {
      "cell_type": "markdown",
      "metadata": {
        "id": "DBWAG5oez9LB"
      },
      "source": [
        "❓ If you want a hint related to your get_research_help function, run the cell below!"
      ]
    },
    {
      "cell_type": "code",
      "execution_count": null,
      "metadata": {
        "tags": [],
        "id": "rBdQsyg1z9LC",
        "outputId": "5e95f2e4-f17a-43a1-dc3b-1e87e0f48073"
      },
      "outputs": [
        {
          "name": "stdout",
          "output_type": "stream",
          "text": [
            "\n",
            "def get_research_help(research_topic, num_articles=3):\n",
            "    system_prompt = \"You are a helpful AI research assistant. You have access to the get_research_help tool that will be used to search Wikipedia for deatils related to the topic provided by the user.\"\n",
            "\n",
            "    prompt = f\"I need help gathering research on the {research_topic}, to assist me I need you to creat {num_articles} article(s) related Wikipedia article titles on the topic.\"\n",
            "\n",
            "    messages = [{\"role\": \"user\", \"content\": [{\"text\": prompt}]}]\n",
            "\n",
            "    converse_api_params = {\n",
            "        \"modelId\": modelId,\n",
            "        \"system\": [{\"text\": system_prompt}],\n",
            "        \"messages\": messages,\n",
            "        \"inferenceConfig\": {\"temperature\": 0.0, \"maxTokens\": 2000},\n",
            "        \"toolConfig\": toolConfig,\n",
            "    }\n",
            "\n",
            "    response = bedrock_client.converse(**converse_api_params)\n",
            "\n",
            "    if response['stopReason'] == \"tool_use\":\n",
            "        tool_use = response['output']['message']['content'][-1]\n",
            "        tool_name = tool_use['toolUse']['name']\n",
            "        tool_inputs = tool_use['toolUse']['input']\n",
            "\n",
            "    if tool_name == \"generate_wikipedia_reading_list\":\n",
            "        print(f\"Claude wants to use the {tool_name} tool\")\n",
            "        research_topic = tool_inputs[\"research_topic\"]\n",
            "        articles = tool_inputs[\"article_titles\"]\n",
            "        article_titles = json.loads(articles)\n",
            "        try:\n",
            "            print(article_titles)\n",
            "            print(f\"Claude is now calling the {tool_name} to research {research_topic}\")\n",
            "            generate_wikipedia_reading_list(research_topic, article_titles)\n",
            "        except ValueError as e:\n",
            "            print(f\"Error: {str(e)}\")\n",
            "\n",
            "\n"
          ]
        }
      ],
      "source": [
        "print(hints.exercise_10_2_1_code)"
      ]
    },
    {
      "cell_type": "code",
      "execution_count": null,
      "metadata": {
        "tags": [],
        "id": "yZ-dgJcfz9LF"
      },
      "outputs": [],
      "source": [
        "# Test your function\n",
        "get_research_help(\"Claude Shannon\", 3)"
      ]
    },
    {
      "cell_type": "code",
      "execution_count": null,
      "metadata": {
        "id": "mnXUEtKQz9LF"
      },
      "outputs": [],
      "source": []
    }
  ],
  "metadata": {
    "kernelspec": {
      "display_name": "conda_tensorflow2_p310",
      "language": "python",
      "name": "conda_tensorflow2_p310"
    },
    "language_info": {
      "codemirror_mode": {
        "name": "ipython",
        "version": 3
      },
      "file_extension": ".py",
      "mimetype": "text/x-python",
      "name": "python",
      "nbconvert_exporter": "python",
      "pygments_lexer": "ipython3",
      "version": "3.10.14"
    },
    "colab": {
      "provenance": [],
      "include_colab_link": true
    }
  },
  "nbformat": 4,
  "nbformat_minor": 0
}