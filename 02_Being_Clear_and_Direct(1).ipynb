{
  "cells": [
    {
      "cell_type": "markdown",
      "metadata": {
        "id": "view-in-github",
        "colab_type": "text"
      },
      "source": [
        "<a href=\"https://colab.research.google.com/github/SARA3SAEED/aws-ML/blob/main/02_Being_Clear_and_Direct(1).ipynb\" target=\"_parent\"><img src=\"https://colab.research.google.com/assets/colab-badge.svg\" alt=\"Open In Colab\"/></a>"
      ]
    },
    {
      "cell_type": "markdown",
      "metadata": {
        "id": "6OPeLlKVxsv1"
      },
      "source": [
        "# Chapter 2: Being Clear and Direct\n",
        "\n",
        "- [Lesson](#lesson)\n",
        "- [Exercises](#exercises)\n",
        "- [Example Playground](#example-playground)\n",
        "\n",
        "## Setup\n",
        "\n",
        "Run the following setup cell to load your API key and establish the `get_completion` helper function."
      ]
    },
    {
      "cell_type": "code",
      "execution_count": null,
      "metadata": {
        "tags": [],
        "id": "Og8sCEXwxsv4"
      },
      "outputs": [],
      "source": [
        "# Import python's built-in regular expression library\n",
        "import re\n",
        "import boto3\n",
        "from botocore.exceptions import ClientError\n",
        "import json\n",
        "\n",
        "# Import the hints module from the utils package\n",
        "from utils import hints\n",
        "\n",
        "# Retrieve the MODEL_NAME variable from the IPython store\n",
        "%store -r modelId\n",
        "%store -r region\n",
        "\n",
        "bedrock_client = boto3.client(service_name='bedrock-runtime', region_name=region)"
      ]
    },
    {
      "cell_type": "code",
      "execution_count": null,
      "metadata": {
        "id": "hUmxOtCsxsv6"
      },
      "outputs": [],
      "source": [
        "def get_completion(prompt, system_prompt=None):\n",
        "    inference_config = {\n",
        "        \"temperature\": 0.0,\n",
        "        \"maxTokens\": 3000\n",
        "    }\n",
        "    additional_model_fields = {\n",
        "        \"top_p\": 1\n",
        "    }\n",
        "    converse_api_params = {\n",
        "        \"modelId\": modelId,\n",
        "        \"messages\": [{\"role\": \"user\", \"content\": [{\"text\": prompt}]}],\n",
        "        \"inferenceConfig\": inference_config,\n",
        "        \"additionalModelRequestFields\": additional_model_fields\n",
        "    }\n",
        "    if system_prompt:\n",
        "        converse_api_params[\"system\"] = [{\"text\": system_prompt}]\n",
        "    try:\n",
        "        response = bedrock_client.converse(**converse_api_params)\n",
        "        text_content = response['output']['message']['content'][0]['text']\n",
        "        return text_content\n",
        "\n",
        "    except ClientError as err:\n",
        "        message = err.response['Error']['Message']\n",
        "        print(f\"A client error occured: {message}\")"
      ]
    },
    {
      "cell_type": "markdown",
      "metadata": {
        "id": "_sxN1dmlxsv6"
      },
      "source": [
        "---\n",
        "\n",
        "## Lesson\n",
        "\n",
        "**Claude responds best to clear and direct instructions.**\n",
        "\n",
        "Think of Claude like any other human that is new to the job. **Claude has no context** on what to do aside from what you literally tell it. Just as when you instruct a human for the first time on a task, the more you explain exactly what you want in a straightforward manner to Claude, the better and more accurate Claude's response will be.\"\n",
        "\n",
        "When in doubt, follow the **Golden Rule of Clear Prompting**:\n",
        "- Show your prompt to a colleague or friend and have them follow the instructions themselves to see if they can produce the result you want. If they're confused, Claude's confused."
      ]
    },
    {
      "cell_type": "markdown",
      "metadata": {
        "id": "1ofmf5rAxsv7"
      },
      "source": [
        "### Examples\n",
        "\n",
        "Let's take a task like writing poetry. (Ignore any syllable mismatch - LLMs aren't great at counting syllables yet.)"
      ]
    },
    {
      "cell_type": "code",
      "execution_count": null,
      "metadata": {
        "tags": [],
        "id": "Q9ETgkAIxsv7",
        "outputId": "e538f760-61c5-4700-8c00-01be5281cc34"
      },
      "outputs": [
        {
          "name": "stdout",
          "output_type": "stream",
          "text": [
            "Here is a haiku about robots:\n",
            "\n",
            "Metallic beings\n",
            "Programmed to serve and obey\n",
            "Artificial life\n"
          ]
        }
      ],
      "source": [
        "# Prompt\n",
        "PROMPT = \"Write a haiku about robots.\"\n",
        "\n",
        "# Print Claude's response\n",
        "print(get_completion(PROMPT))"
      ]
    },
    {
      "cell_type": "markdown",
      "metadata": {
        "id": "xPfJfUUnxsv9"
      },
      "source": [
        "This haiku is nice enough, but users may want Claude to go directly into the poem without the \"Here is a haiku\" preamble.\n",
        "\n",
        "How do we achieve that? We **ask for it**!"
      ]
    },
    {
      "cell_type": "code",
      "execution_count": null,
      "metadata": {
        "id": "lsBhB_D5xsv-",
        "outputId": "fb2de70d-cf65-4d56-f979-904e048335d3"
      },
      "outputs": [
        {
          "name": "stdout",
          "output_type": "stream",
          "text": [
            "Metallic beings,\n",
            "Programmed to serve and obey,\n",
            "Robots, our creations.\n"
          ]
        }
      ],
      "source": [
        "# Prompt\n",
        "PROMPT = \"Write a haiku about robots. Skip the preamble; go straight into the poem.\"\n",
        "\n",
        "# Print Claude's response\n",
        "print(get_completion(PROMPT))"
      ]
    },
    {
      "cell_type": "markdown",
      "metadata": {
        "id": "7RcDDLqUxsv_"
      },
      "source": [
        "Here's another example. Let's ask Claude who's the best basketball player of all time. You can see below that while Claude lists a few names, **it doesn't respond with a definitive \"best\"**."
      ]
    },
    {
      "cell_type": "code",
      "execution_count": null,
      "metadata": {
        "id": "SvYpWldExsv_",
        "outputId": "befb970a-b5ae-4e5a-affa-216994affb85"
      },
      "outputs": [
        {
          "name": "stdout",
          "output_type": "stream",
          "text": [
            "There is no universally agreed upon \"best basketball player of all time.\" It's a highly debated topic, as there have been many all-time great players throughout the history of the sport. Some of the players often considered among the greatest of all time include:\n",
            "\n",
            "- Michael Jordan - Widely regarded as one of the greatest, if not the greatest, player ever. He won 6 NBA championships with the Chicago Bulls.\n",
            "\n",
            "- LeBron James - One of the most dominant and well-rounded players of the modern era. He has won 4 NBA titles with 3 different teams.\n",
            "\n",
            "- Kareem Abdul-Jabbar - Legendary center who won 6 NBA championships and holds the record for most career points scored.\n",
            "\n",
            "- Wilt Chamberlain - Dominant big man who holds numerous NBA records including most points in a game (100).\n",
            "\n",
            "- Magic Johnson - Pioneering point guard who led the \"Showtime\" Lakers to 5 NBA titles.\n",
            "\n",
            "- Bill Russell - Defensive anchor and 11-time NBA champion with the Boston Celtics.\n",
            "\n",
            "There are good arguments for several players as the \"GOAT\" (greatest of all time), but it ultimately comes down to personal opinion and how one weighs different accomplishments and skills. The debate continues among basketball fans and experts.\n"
          ]
        }
      ],
      "source": [
        "# Prompt\n",
        "PROMPT = \"Who is the best basketball player of all time?\"\n",
        "\n",
        "# Print Claude's response\n",
        "print(get_completion(PROMPT))"
      ]
    },
    {
      "cell_type": "markdown",
      "metadata": {
        "id": "T7oZPoaxxswA"
      },
      "source": [
        "Can we get Claude to make up its mind and decide on a best player? Yes! Just ask!"
      ]
    },
    {
      "cell_type": "code",
      "execution_count": null,
      "metadata": {
        "id": "trsghg61xswA",
        "outputId": "71486fa4-decb-497f-fb46-8fd707a8a548"
      },
      "outputs": [
        {
          "name": "stdout",
          "output_type": "stream",
          "text": [
            "There is no definitive consensus on who the single \"best\" basketball player of all time is, as it is a highly subjective and debatable topic. However, if I had to choose one player, the player I would consider the best of all time is Michael Jordan.\n",
            "\n",
            "Some key reasons why I would pick Michael Jordan:\n",
            "\n",
            "- Dominant statistical career - Jordan is one of the most statistically dominant players ever, with career averages of 30.1 points, 5.3 assists, 6.2 rebounds per game. He won 5 MVP awards.\n",
            "\n",
            "- Unparalleled individual accomplishments - Jordan won 6 NBA championships, 6 Finals MVPs, 10 scoring titles, and was a 14x All-Star. He is widely considered one of the most skilled and dominant two-way players ever.\n",
            "\n",
            "- Cultural impact and influence - Jordan transcended the sport and became a global icon. His style of play, competitiveness, and marketability had a massive influence on the game.\n",
            "\n",
            "- Sustained excellence over a career - Jordan was an elite player for over a decade, dominating the NBA in the 1980s and 1990s. He maintained an incredibly high level of play throughout his prime years.\n",
            "\n",
            "However, there are certainly other players like LeBron James, Kareem Abdul-Jabbar, or Wilt Chamberlain who also have strong cases as the GOAT. But in my opinion, Michael Jordan's combination of individual dominance, championships, and cultural impact make him the best basketball player of all time.\n"
          ]
        }
      ],
      "source": [
        "# Prompt\n",
        "PROMPT = \"Who is the best basketball player of all time? Yes, there are differing opinions, but if you absolutely had to pick one player, who would it be?\"\n",
        "\n",
        "# Print Claude's response\n",
        "print(get_completion(PROMPT))"
      ]
    },
    {
      "cell_type": "markdown",
      "metadata": {
        "id": "NrZYX5mWxswB"
      },
      "source": [
        "If you would like to experiment with the lesson prompts without changing any content above, scroll all the way to the bottom of the lesson notebook to visit the [**Example Playground**](#example-playground)."
      ]
    },
    {
      "cell_type": "markdown",
      "metadata": {
        "id": "kHwjHOZHxswB"
      },
      "source": [
        "---\n",
        "\n",
        "## Exercises\n",
        "- [Exercise 2.1 - Spanish](#exercise-21---spanish)\n",
        "- [Exercise 2.2 - One Player Only](#exercise-22---one-player-only)\n",
        "- [Exercise 2.3 - Write a Story](#exercise-23---write-a-story)"
      ]
    },
    {
      "cell_type": "markdown",
      "metadata": {
        "id": "MVl4NO79xswB"
      },
      "source": [
        "### Exercise 2.1 - Spanish\n",
        "Modify the `SYSTEM_PROMPT` to make Claude output its answer in Spanish."
      ]
    },
    {
      "cell_type": "code",
      "execution_count": null,
      "metadata": {
        "id": "DRbinF0JxswC",
        "outputId": "0d5de8d3-8cc0-4d51-c74b-507617df4a17"
      },
      "outputs": [
        {
          "name": "stdout",
          "output_type": "stream",
          "text": [
            "¡Hola! Estoy bien, gracias por preguntar. ¿Cómo estás tú?\n",
            "\n",
            "--------------------------- GRADING ---------------------------\n",
            "This exercise has been correctly solved: True\n"
          ]
        }
      ],
      "source": [
        "# System prompt - this is the only field you should chnage\n",
        "SYSTEM_PROMPT = \"its answer in Spanish\"\n",
        "\n",
        "# Prompt\n",
        "PROMPT = \"Hello Claude, how are you?\"\n",
        "\n",
        "# Get Claude's response\n",
        "response = get_completion(PROMPT, SYSTEM_PROMPT)\n",
        "\n",
        "# Function to grade exercise correctness\n",
        "def grade_exercise(text):\n",
        "    return \"hola\" in text.lower()\n",
        "\n",
        "# Print Claude's response and the corresponding grade\n",
        "print(response)\n",
        "print(\"\\n--------------------------- GRADING ---------------------------\")\n",
        "print(\"This exercise has been correctly solved:\", grade_exercise(response))"
      ]
    },
    {
      "cell_type": "markdown",
      "metadata": {
        "id": "6YVOUWktxswC"
      },
      "source": [
        "❓ If you want a hint, run the cell below!"
      ]
    },
    {
      "cell_type": "code",
      "execution_count": null,
      "metadata": {
        "id": "ToQUgSsIxswD",
        "outputId": "ddc1c68d-d036-4e32-c67f-630fddcef0f5"
      },
      "outputs": [
        {
          "name": "stdout",
          "output_type": "stream",
          "text": [
            "The grading function in this exercise is looking for any answer that includes the word \"hola\".\n",
            "Ask Claude to reply in Spanish like you would when speaking with a human. It's that simple!\n"
          ]
        }
      ],
      "source": [
        "print(hints.exercise_2_1_hint)"
      ]
    },
    {
      "cell_type": "markdown",
      "metadata": {
        "id": "55kSSzx6xswD"
      },
      "source": [
        "### Exercise 2.2 - One Player Only\n",
        "\n",
        "Modify the `PROMPT` so that Claude doesn't equivocate at all and responds with **ONLY** the name of one specific player, with **no other words or punctuation**."
      ]
    },
    {
      "cell_type": "code",
      "execution_count": null,
      "metadata": {
        "id": "1fjgtCeXxswD",
        "outputId": "15abc037-3966-4353-e45c-470ea96a6547"
      },
      "outputs": [
        {
          "name": "stdout",
          "output_type": "stream",
          "text": [
            "Michael Jordan\n",
            "\n",
            "--------------------------- GRADING ---------------------------\n",
            "This exercise has been correctly solved: True\n"
          ]
        }
      ],
      "source": [
        "# Prompt - this is the only field you should change\n",
        "PROMPT = \"Who is the best basketball player of all time? responds with ONLY the name of one specific player, with no other words or punctuation.\"\n",
        "\n",
        "# Get Claude's response\n",
        "response = get_completion(PROMPT)\n",
        "\n",
        "# Function to grade exercise correctness\n",
        "def grade_exercise(text):\n",
        "    return text == \"Michael Jordan\"\n",
        "\n",
        "# Print Claude's response and the corresponding grade\n",
        "print(response)\n",
        "print(\"\\n--------------------------- GRADING ---------------------------\")\n",
        "print(\"This exercise has been correctly solved:\", grade_exercise(response))"
      ]
    },
    {
      "cell_type": "markdown",
      "metadata": {
        "id": "HyLXhkTGxswE"
      },
      "source": [
        "❓ If you want a hint, run the cell below!"
      ]
    },
    {
      "cell_type": "code",
      "execution_count": null,
      "metadata": {
        "id": "T3yI0qXcxswE",
        "outputId": "c60fd622-a544-4ae1-8e2c-06cd75935a9b"
      },
      "outputs": [
        {
          "name": "stdout",
          "output_type": "stream",
          "text": [
            "The grading function in this exercise is looking for EXACTLY \"Michael Jordan\".\n",
            "How would you ask another human to do this? Reply with no other words? Reply with only the name and nothing else? There are several ways to approach this answer.\n"
          ]
        }
      ],
      "source": [
        "print(hints.exercise_2_2_hint)"
      ]
    },
    {
      "cell_type": "markdown",
      "metadata": {
        "id": "iPbL9Ys3xswE"
      },
      "source": [
        "### Exercise 2.3 - Write a Story\n",
        "\n",
        "Modify the `PROMPT` so that Claude responds with as long a response as you can muster. If your answer is **over 800 words**, Claude's response will be graded as correct."
      ]
    },
    {
      "cell_type": "code",
      "execution_count": null,
      "metadata": {
        "id": "yco7Lz9FxswE",
        "outputId": "f142e043-c83e-4cd9-c4a4-89cd94eb8b5b"
      },
      "outputs": [
        {
          "name": "stdout",
          "output_type": "stream",
          "text": [
            "Here is a story about Michael Jordan, over 800 words:\n",
            "\n",
            "The Unstoppable Rise of Michael Jordan\n",
            "\n",
            "It was a crisp autumn evening in 1984 when a young, lanky basketball player named Michael Jordan stepped onto the court for his first NBA game. At just 21 years old, the rookie from the University of North Carolina had already captivated the basketball world with his electrifying style of play and unparalleled athleticism. But as he took the court that night, few could have predicted the legendary career that was about to unfold.\n",
            "\n",
            "From the moment he stepped onto the hardwood, Michael Jordan's impact was undeniable. His explosive speed, uncanny leaping ability, and silky-smooth jump shot quickly made him a force to be reckoned with. In his rookie season, he averaged an impressive 28.2 points per game, earning him a spot on the NBA All-Rookie First Team and the Rookie of the Year award.\n",
            "\n",
            "But Jordan's rise to greatness was just beginning. Over the next decade, he would go on to rewrite the record books and cement his legacy as one of the greatest players to ever grace the game of basketball.\n",
            "\n",
            "As the years passed, Jordan's game continued to evolve, and his dominance only grew. He became a master of the mid-range jumper, a deadly three-point shooter, and a tenacious defender who could shut down the opposing team's best player. His signature move, the fadeaway jumper, became a thing of beauty, as he would seemingly float in the air, defy gravity, and effortlessly drain shot after shot.\n",
            "\n",
            "Off the court, Jordan's popularity soared. His infectious smile, charismatic personality, and unparalleled style made him a global icon. He became the face of the NBA, and his endorsement deals with companies like Nike, Gatorade, and Hanes made him one of the wealthiest and most recognizable athletes in the world.\n",
            "\n",
            "But it was on the court where Jordan truly shined. In 1991, he led the Chicago Bulls to their first NBA championship, defeating the Los Angeles Lakers in a hard-fought series. This was just the beginning of a dynasty that would see the Bulls win six titles in eight years, with Jordan as the undisputed leader.\n",
            "\n",
            "During this time, Jordan's legend only grew. He became known for his clutch performances, his ability to rise to the occasion in the biggest moments, and his unrelenting competitive spirit. His famous \"flu game\" in the 1997 NBA Finals, where he battled through illness to lead the Bulls to victory, is just one example of his unwavering determination.\n",
            "\n",
            "As the years passed, Jordan's dominance only became more apparent. He won five MVP awards, 10 scoring titles, and was named to the NBA All-Defensive First Team nine times. He was a 14-time All-Star, and his iconic dunk contest performances and game-winning shots cemented his status as a true basketball icon.\n",
            "\n",
            "But perhaps Jordan's greatest legacy was his impact on the game itself. He revolutionized the way basketball was played, with his explosive athleticism, his mastery of the fundamentals, and his unparalleled competitive drive. He inspired a generation of players to push the boundaries of what was possible on the court, and his influence can still be felt in the game today.\n",
            "\n",
            "Even after his retirement from the NBA in 1998, Jordan's impact on the game and the culture at large continued to grow. He became a successful businessman, investing in various ventures and becoming the majority owner of the Charlotte Hornets. He also remained a beloved figure in the basketball community, serving as a mentor and inspiration to countless players and fans alike.\n",
            "\n",
            "Today, Michael Jordan's legacy is secure. He is widely regarded as the greatest basketball player of all time, a title he earned through his unparalleled skill, his relentless determination, and his unwavering commitment to excellence. His impact on the game of basketball, and on the world at large, is truly unmatched, and his name will forever be synonymous with the very essence of greatness.\n",
            "\n",
            "As the years pass and new generations of basketball fans emerge, the legend of Michael Jordan will only continue to grow. His story is one of triumph, of perseverance, and of the power of the human spirit to overcome any obstacle. And for those who were lucky enough to witness his greatness firsthand, the memories of his breathtaking performances and his unshakable will to win will be cherished for a lifetime.\n",
            "\n",
            "In the end, Michael Jordan's legacy is not just about the numbers he put up or the championships he won. It's about the way he inspired us, the way he pushed the boundaries of what was possible, and the way he forever changed the game of basketball. He was, and will always be, the embodiment of the relentless pursuit of greatness – a true icon, a legend, and a true hero of the sport.\n",
            "\n",
            "--------------------------- GRADING ---------------------------\n",
            "This exercise has been correctly solved: True\n"
          ]
        }
      ],
      "source": [
        "# Prompt - this is the only field you should change\n",
        "PROMPT = \"Write a Story about Michael Jordan over 800 words\"\n",
        "\n",
        "# Get Claude's response\n",
        "response = get_completion(PROMPT)\n",
        "\n",
        "# Function to grade exercise correctness\n",
        "def grade_exercise(text):\n",
        "    trimmed = text.strip()\n",
        "    words = len(trimmed.split())\n",
        "    return words >= 800\n",
        "\n",
        "# Print Claude's response and the corresponding grade\n",
        "print(response)\n",
        "print(\"\\n--------------------------- GRADING ---------------------------\")\n",
        "print(\"This exercise has been correctly solved:\", grade_exercise(response))"
      ]
    },
    {
      "cell_type": "markdown",
      "metadata": {
        "id": "zIHx2jgKxswF"
      },
      "source": [
        "❓ If you want a hint, run the cell below!"
      ]
    },
    {
      "cell_type": "code",
      "execution_count": null,
      "metadata": {
        "id": "1M4O5jSWxswF",
        "outputId": "df9d65e4-f43a-4cac-c72b-e38d3adce0c1"
      },
      "outputs": [
        {
          "name": "stdout",
          "output_type": "stream",
          "text": [
            "The grading function in this cell is looking for a response that is equal to or greater than 800 words.\n",
            "Because LLMs aren't great at counting words yet, you may have to overshoot your target.\n"
          ]
        }
      ],
      "source": [
        "print(hints.exercise_2_3_hint)"
      ]
    },
    {
      "cell_type": "markdown",
      "metadata": {
        "id": "y4ZIKBWJxswF"
      },
      "source": [
        "### Congrats!\n",
        "\n",
        "If you've solved all exercises up until this point, you're ready to move to the next chapter. Happy prompting!"
      ]
    },
    {
      "cell_type": "markdown",
      "metadata": {
        "id": "hwc4rYAaxswF"
      },
      "source": [
        "---\n",
        "\n",
        "## Example Playground\n",
        "\n",
        "This is an area for you to experiment freely with the prompt examples shown in this lesson and tweak prompts to see how it may affect Claude's responses."
      ]
    },
    {
      "cell_type": "code",
      "execution_count": null,
      "metadata": {
        "id": "nK7ItRLLxswF",
        "outputId": "1d3abd20-94de-4fe7-aac1-c6457b76116a"
      },
      "outputs": [
        {
          "name": "stdout",
          "output_type": "stream",
          "text": [
            "Here is a haiku about robots:\n",
            "\n",
            "Metallic beings\n",
            "Programmed to serve and obey\n",
            "Artificial life\n"
          ]
        }
      ],
      "source": [
        "# Prompt\n",
        "PROMPT = \"Write a haiku about robots.\"\n",
        "\n",
        "# Print Claude's response\n",
        "print(get_completion(PROMPT))"
      ]
    },
    {
      "cell_type": "code",
      "execution_count": null,
      "metadata": {
        "id": "LAM6YisBxswG",
        "outputId": "7c3b0030-a419-4545-8019-6abd84aee533"
      },
      "outputs": [
        {
          "name": "stdout",
          "output_type": "stream",
          "text": [
            "Metallic beings,\n",
            "Programmed to serve and obey,\n",
            "Robots, our creations.\n"
          ]
        }
      ],
      "source": [
        "# Prompt\n",
        "PROMPT = \"Write a haiku about robots. Skip the preamble; go straight into the poem.\"\n",
        "\n",
        "# Print Claude's response\n",
        "print(get_completion(PROMPT))"
      ]
    },
    {
      "cell_type": "code",
      "execution_count": null,
      "metadata": {
        "id": "v3k2ZHRqxswG",
        "outputId": "b1fe0a48-5efb-4765-8c45-efe85084672a"
      },
      "outputs": [
        {
          "name": "stdout",
          "output_type": "stream",
          "text": [
            "There is no universally agreed upon \"best basketball player of all time.\" It's a highly debated topic, as there have been many all-time great players throughout the history of the sport. Some of the players often considered among the greatest of all time include:\n",
            "\n",
            "- Michael Jordan - Widely regarded as one of the greatest, if not the greatest, player ever. He won 6 NBA championships with the Chicago Bulls.\n",
            "\n",
            "- LeBron James - One of the most dominant and well-rounded players of the modern era. He has won 4 NBA titles with 3 different teams.\n",
            "\n",
            "- Kareem Abdul-Jabbar - Legendary center who won 6 NBA championships and holds the record for most career points scored.\n",
            "\n",
            "- Wilt Chamberlain - Dominant big man who holds numerous NBA records including most points in a game (100).\n",
            "\n",
            "- Magic Johnson - Pioneering point guard who led the \"Showtime\" Lakers to 5 NBA titles.\n",
            "\n",
            "- Bill Russell - Defensive anchor and 11-time NBA champion with the Boston Celtics.\n",
            "\n",
            "There are compelling arguments for several players to be considered the GOAT (greatest of all time). Ultimately, it comes down to personal opinion and how one weighs different factors like championships, individual stats, impact on the game, and more. The \"best\" player is often a matter of subjective debate among basketball fans.\n"
          ]
        }
      ],
      "source": [
        "# Prompt\n",
        "PROMPT = \"Who is the best basketball player of all time?\"\n",
        "\n",
        "# Print Claude's response\n",
        "print(get_completion(PROMPT))"
      ]
    },
    {
      "cell_type": "code",
      "execution_count": null,
      "metadata": {
        "tags": [],
        "id": "KwTqmwE4xswH",
        "outputId": "b5a1cbac-74e3-4065-80ea-acec877d317d"
      },
      "outputs": [
        {
          "name": "stdout",
          "output_type": "stream",
          "text": [
            "There is no definitive consensus on who the single \"best basketball player of all time\" is, as it is a highly subjective and debatable topic. However, if I had to choose one player, the one who is most commonly cited as the GOAT (Greatest of All Time) is Michael Jordan.\n",
            "\n",
            "Some key reasons why Michael Jordan is often considered the best basketball player ever:\n",
            "\n",
            "- Dominant statistical career - Jordan is one of the most prolific scorers in NBA history, averaging 30.1 points per game over his career. He also excelled in other areas like rebounds, assists, steals.\n",
            "\n",
            "- Unparalleled individual accolades - 6 NBA championships, 6 NBA Finals MVPs, 5 regular season MVPs, 10 scoring titles, 9 All-Defensive First Team selections.\n",
            "\n",
            "- Transformative impact on the game - Jordan's style of play, competitiveness, and global popularity helped take the NBA to new heights in popularity and commercialization.\n",
            "\n",
            "- Sustained excellence over his prime years - Jordan was dominant for over a decade, winning 6 titles in 8 seasons during the 1990s.\n",
            "\n",
            "While other all-time greats like LeBron James, Kareem Abdul-Jabbar, or Wilt Chamberlain also have strong cases, Michael Jordan's combination of individual brilliance, team success, and cultural impact make him the player most often cited as the best basketball player ever. But reasonable people can debate this topic.\n"
          ]
        }
      ],
      "source": [
        "# Prompt\n",
        "PROMPT = \"Who is the best basketball player of all time? Yes, there are differing opinions, but if you absolutely had to pick one player, who would it be?\"\n",
        "\n",
        "# Print Claude's response\n",
        "print(get_completion(PROMPT))"
      ]
    },
    {
      "cell_type": "code",
      "execution_count": null,
      "metadata": {
        "id": "5Gmte-4wxswH"
      },
      "outputs": [],
      "source": []
    }
  ],
  "metadata": {
    "kernelspec": {
      "display_name": "conda_tensorflow2_p310",
      "language": "python",
      "name": "conda_tensorflow2_p310"
    },
    "language_info": {
      "codemirror_mode": {
        "name": "ipython",
        "version": 3
      },
      "file_extension": ".py",
      "mimetype": "text/x-python",
      "name": "python",
      "nbconvert_exporter": "python",
      "pygments_lexer": "ipython3",
      "version": "3.10.14"
    },
    "colab": {
      "provenance": [],
      "include_colab_link": true
    }
  },
  "nbformat": 4,
  "nbformat_minor": 0
}