{
  "cells": [
    {
      "cell_type": "markdown",
      "metadata": {
        "id": "view-in-github",
        "colab_type": "text"
      },
      "source": [
        "<a href=\"https://colab.research.google.com/github/SARA3SAEED/aws-ML/blob/main/10_2_3_Complete_Tool_Use_Workflow.ipynb\" target=\"_parent\"><img src=\"https://colab.research.google.com/assets/colab-badge.svg\" alt=\"Open In Colab\"/></a>"
      ]
    },
    {
      "cell_type": "markdown",
      "metadata": {
        "id": "B348DnoH02mI"
      },
      "source": [
        "# Appendix 10.2.3: The complete tool use workflow\n",
        "\n",
        "## Learning goals\n",
        "\n",
        "* Understand the entire tool use workflow\n",
        "* Write properly structured `tool_result` messages\n",
        "* Implement a chatbot that utilizes tool use\n",
        "\n",
        "In this lesson, we're going to implement the \"full\" 4-step tool use workflow we covered earlier.  So far, we've seen that Claude has used tools, but we haven't sent follow up requests to Claude that contain the result of our tool functionality.  Here's a recap of the full 4-step process:\n",
        "\n",
        "1. **Provide Claude with tools and a user prompt:** (API request)\n",
        "    * Define the set of tools you want Claude to have access to, including their names, descriptions, and input schemas.\n",
        "    * Provide a user prompt that may require the use of one or more of these tools to answer, such as \"How many shares of General Motors can I buy with $500?\"\n",
        "\n",
        "2. **Claude uses a tool:** (API response)\n",
        "    * Claude assesses the user prompt and decides whether any of the available tools would help with the user's query or task. If so, it also decides which tool(s) to use and with what input(s).\n",
        "    * Claude outputs a properly formatted tool use request.\n",
        "    * The API response will have a `stop_reason` of `tool_use`, indicating that Claude wants to use an external tool.\n",
        "\n",
        "3. **Extract tool input(s), run code, and return results:** (API request)\n",
        "    * On the client side, you should extract the tool name and input from Claude's tool use request.\n",
        "    * Run the actual tool code on the client side.\n",
        "    * Return the results to Claude by continuing the conversation with a new user message containing a `tool_result` content block.\n",
        "\n",
        "4. **Claude uses the tool result to formulate a response:** (API response)\n",
        "    * After receiving the tool results, Claude will use that information to formulate its final response to the original user prompt.\n",
        "\n",
        "In this lesson, we'll go through the entire process.\n",
        "\n",
        "Here's a diagram with a general overview of the process:\n",
        "\n",
        "![tool_use_flow.png](./images/tool_use_flow.png)"
      ]
    },
    {
      "cell_type": "markdown",
      "metadata": {
        "id": "PpbfHht_02mL"
      },
      "source": [
        "Here's a diagram explaining how our script will work:\n",
        "\n",
        "![wikipedia_diagram.png](attachment:wikipedia_diagram.png)"
      ]
    },
    {
      "cell_type": "markdown",
      "metadata": {
        "id": "LvnC2pOi02mM"
      },
      "source": [
        "\n",
        "Here are some real exchanges that illustrate the end result we're hoping to achieve:\n",
        "\n",
        "> **User**: As of 2024 who has more oscars, Christopher Nolan or Ben Stiller?\n",
        "\n",
        "> *Claude wants to get an article for Christopher Nolan* (tool use)\n",
        "\n",
        "> *Claude wants to get an article for Ben Stiller* (tool use)\n",
        "\n",
        "> **Claude**: As of 2024, filmmaker Christopher Nolan has won 2 Academy Awards for Best Director and Best Picture for his 2023 film Oppenheimer. On the other hand, actor and comedian Ben Stiller has not won any Oscars in his career so far, although he has won other awards like Emmys and MTV Movie Awards. So to directly answer the question, as of 2024, Christopher Nolan has won more Oscars (2) than Ben Stiller, who has not won any.\n",
        "\n",
        "Here's another example:\n",
        "\n",
        "> **User:** Who won the 2024 Masters Tournament?\n",
        "\n",
        "> *Claude wants to get an article for 2024 Masters Tournament*  (tool use)\n",
        "\n",
        "> **Claude:** Scottie Scheffler won the 2024 Masters Tournament, his second Masters victory. He finished four strokes ahead of runner-up Ludvig Åberg, who was making his debut at the Masters.\n",
        "\n",
        "If we ask Claude a question that it can answer without needing to use our tool, it should just answer immediately without using our Wikipedia search tool:\n",
        "\n",
        "> **User:** Who won the 2021 Masters?\n",
        "\n",
        "> **Claude:** Hideki Matsuyama won the 2021 Masters Tournament, becoming the first Japanese man to win a major golf championship. He finished with a score of 278 (-10) to claim the green jacket at Augusta National Golf Club.\n",
        "\n"
      ]
    },
    {
      "cell_type": "markdown",
      "metadata": {
        "id": "NYJ_vLpx02mN"
      },
      "source": [
        "Here's a look at what the `messages` list looks like by the end of this process:\n",
        "\n",
        "![messages_diagram.png](./images/br_messages_diagram.png)\n",
        "\n",
        "The main new topic in this lesson is how to properly format our `tool_result` user message when responding to Claude's `tool_use` message."
      ]
    },
    {
      "cell_type": "markdown",
      "metadata": {
        "id": "cpCabJwu02mN"
      },
      "source": [
        "## Building the complete workflow\n",
        "\n",
        "### 1. Defining our Wikipedia search function\n",
        "\n",
        "Before we do anything with Claude, let's write a simple function to search Wikipedia.  The following function uses the `wikipedia` package to search for matching wikipedia pages based on a search term.  To keep things simple, we take the first returned page title and then use that to access the corresponding page content.\n",
        "\n",
        "Note: this simple function assumes we find a Wikipedia article. To keep things brief, the function has no error handling which is not a great idea in the real world!"
      ]
    },
    {
      "cell_type": "code",
      "execution_count": null,
      "metadata": {
        "id": "BqUYWQWd02mN"
      },
      "outputs": [],
      "source": [
        "import boto3\n",
        "import json\n",
        "from datetime import datetime\n",
        "from botocore.exceptions import ClientError\n",
        "\n",
        "# Import the hints module from the utils package\n",
        "from utils import hints\n",
        "\n",
        "session = boto3.Session()\n",
        "region = session.region_name\n",
        "\n",
        "bedrock_client = boto3.client(service_name = 'bedrock-runtime', region_name = region,)"
      ]
    },
    {
      "cell_type": "code",
      "execution_count": null,
      "metadata": {
        "tags": [],
        "id": "OyNE0N9s02mP"
      },
      "outputs": [],
      "source": [
        "import wikipedia\n",
        "\n",
        "def get_article(search_term):\n",
        "    results = wikipedia.search(search_term)\n",
        "    first_result = results[0]\n",
        "    page = wikipedia.page(first_result, auto_suggest=False)\n",
        "    return page.content"
      ]
    },
    {
      "cell_type": "code",
      "execution_count": null,
      "metadata": {
        "tags": [],
        "id": "HaiYTEvy02mP",
        "outputId": "484b1cd1-f48d-4794-a565-e9a1e9af136f"
      },
      "outputs": [
        {
          "name": "stdout",
          "output_type": "stream",
          "text": [
            "Superman is a superhero who appears in American comic books published by DC Comics. The character was created by writer Jerry Siegel and artist Joe Shuster, and debuted in the comic book Action Comics #1 (cover-dated June 1938 and published April 18, 1938). Superman has been adapted to a number of other media, which includes radio serials, novels, films, television shows, theater, and video games.\n",
            "Superman was born on the fictional planet Krypton with the birth name of Kal-El. As a baby, his par\n"
          ]
        }
      ],
      "source": [
        "article = get_article(\"Superman\")\n",
        "print(article[:500]) # article is very long, so let's just print a preview"
      ]
    },
    {
      "cell_type": "code",
      "execution_count": null,
      "metadata": {
        "tags": [],
        "id": "8lT0uCyV02mR",
        "outputId": "04d9219c-c90e-4e1e-f91f-4ae98661301c"
      },
      "outputs": [
        {
          "name": "stdout",
          "output_type": "stream",
          "text": [
            "Zendaya Maree Stoermer Coleman (  zən-DAY-ə; born September 1, 1996) is an American actress and singer. Her accolades include two Primetime Emmy Awards and a Golden Globe Award. Time named her one of the 100 most influential people in the world in 2022.\n",
            "Born and raised in Oakland, California, Zendaya began her career as a child model and backup dancer. She made her television debut as Rocky Blue in the Disney Channel sitcom Shake It Up (2010–2013) and starred as the titular character in the chan\n"
          ]
        }
      ],
      "source": [
        "article = get_article(\"Zendaya\")\n",
        "print(article[:500]) # article is very long, so let's just print a preview"
      ]
    },
    {
      "cell_type": "markdown",
      "metadata": {
        "id": "q8Gc7vg802mR"
      },
      "source": [
        "### 2. Writing the tool definition\n",
        "Next up, we need to define our tool using the proper JSON Schema format.  This is a very simple tool definition because the function expects a single argument: the search term string.  "
      ]
    },
    {
      "cell_type": "code",
      "execution_count": null,
      "metadata": {
        "tags": [],
        "id": "qtwd44XV02mR"
      },
      "outputs": [],
      "source": [
        "toolConfig = {\n",
        "  \"tools\": [\n",
        "    {\n",
        "      \"toolSpec\": {\n",
        "        \"name\": \"get_article\",\n",
        "        \"description\": \"A tool to retrieve an up to date Wikipedia article.\",\n",
        "        \"inputSchema\": {\n",
        "          \"json\": {\n",
        "            \"type\": \"object\",\n",
        "            \"properties\": {\n",
        "              \"search_term\": {\n",
        "                \"type\": \"string\",\n",
        "                \"description\": \"The search term to find a wikipedia article by title\"\n",
        "              }\n",
        "            },\n",
        "            \"required\": [\"search_term\"]\n",
        "          }\n",
        "        }\n",
        "      }\n",
        "    }\n",
        "  ]\n",
        "}"
      ]
    },
    {
      "cell_type": "markdown",
      "metadata": {
        "id": "jE1xdvil02mS"
      },
      "source": [
        "### 3. Provide Claude with the tool and user prompt\n",
        "\n",
        "Next, we'll tell Claude it has access to the Wikipedia search tool and ask it to answer a question we know it cannot answer without the tool, like \"Who won the 2024 Masters Tournament?\""
      ]
    },
    {
      "cell_type": "code",
      "execution_count": null,
      "metadata": {
        "tags": [],
        "id": "2Mk6H2lM02mS"
      },
      "outputs": [],
      "source": [
        "modelId = \"anthropic.claude-3-sonnet-20240229-v1:0\"\n",
        "messages = [{\"role\": \"user\", \"content\": [{\"text\": \"who won the 2024 Masters Tournament?\"}]}]\n",
        "\n",
        "converse_api_params = {\n",
        "    \"modelId\": modelId,\n",
        "    \"messages\": messages,\n",
        "    \"inferenceConfig\": {\"temperature\": 0.0, \"maxTokens\": 4096},\n",
        "    \"toolConfig\": toolConfig\n",
        "}\n",
        "\n",
        "response = bedrock_client.converse(**converse_api_params)"
      ]
    },
    {
      "cell_type": "markdown",
      "metadata": {
        "id": "KZrQL6LK02mS"
      },
      "source": [
        "### 4. Claude uses the tool (API response)\n",
        "\n",
        "Let's look at the response we got back.  Claude wants to use our tool!"
      ]
    },
    {
      "cell_type": "code",
      "execution_count": null,
      "metadata": {
        "tags": [],
        "id": "jss5p4a-02mS",
        "outputId": "2c761c35-0c09-4e0a-ccbf-e1d7c31c1555"
      },
      "outputs": [
        {
          "data": {
            "text/plain": [
              "[{'text': 'Okay, let me search Wikipedia for information on the 2024 Masters Tournament winner:'},\n",
              " {'toolUse': {'toolUseId': 'tooluse_kcHQLgAKQpSsuiEFf2RZ4A',\n",
              "   'name': 'get_article',\n",
              "   'input': {'search_term': '2024 Masters Tournament'}}}]"
            ]
          },
          "execution_count": 7,
          "metadata": {},
          "output_type": "execute_result"
        }
      ],
      "source": [
        "response['output']['message']['content']"
      ]
    },
    {
      "cell_type": "markdown",
      "metadata": {
        "id": "G4GIIzl402mT"
      },
      "source": [
        "Claude's response contains 2 blocks:\n",
        "\n",
        "* A `text` value with the text \"Okay, let me use the available tool to try and find information on who won the 2024 Masters Tournament on Wikipedia:\"\n",
        "\n",
        "```\n",
        "[{'text': 'Okay, let me search Wikipedia for information on the 2024 Masters Tournament winner:'},\n",
        " {'toolUse': {'toolUseId': 'tooluse_8kC2QECHRYePqW0BS96_9Q',\n",
        "   'name': 'get_article',\n",
        "   'input': {'search_term': '2024 Masters Tournament'}}}]\n",
        "```\n",
        "\n",
        "* A `toolUse` value calling our `get_article` tool with the `search_term` \"2024 Masters Tournament\"\n",
        "\n",
        "```\n",
        "{'toolUse': {'toolUseId': 'tooluse_8kC2QECHRYePqW0BS96_9Q',\n",
        "   'name': 'get_article',\n",
        "   'input': {'search_term': '2024 Masters Tournament'}}}\n",
        "```\n"
      ]
    },
    {
      "cell_type": "markdown",
      "metadata": {
        "id": "_79I0Aly02mT"
      },
      "source": [
        "### 5. Extract tool input(s), run code, and return results (API request)\n",
        "\n",
        "Now that Claude has responded telling us it wants to use a tool, it's time for us to actually run the underlying functionality AND respond back to Claude with the corresponding Wikipedia page content.\n",
        "\n",
        "**We need to pay special attention to make sure we update our `messages` list**"
      ]
    },
    {
      "cell_type": "markdown",
      "metadata": {
        "id": "I65HEga702mT"
      },
      "source": [
        "We'll begin by updating our `messages` list to include Claude's most recent response:"
      ]
    },
    {
      "cell_type": "code",
      "execution_count": null,
      "metadata": {
        "tags": [],
        "id": "t8bDWeaD02mT"
      },
      "outputs": [],
      "source": [
        "messages.append({\"role\": \"assistant\", \"content\": response['output']['message']['content']})"
      ]
    },
    {
      "cell_type": "code",
      "execution_count": null,
      "metadata": {
        "tags": [],
        "id": "KhRqeJGS02mU",
        "outputId": "7728a5d6-ce78-4935-a317-0e1719d8da05"
      },
      "outputs": [
        {
          "data": {
            "text/plain": [
              "[{'role': 'user',\n",
              "  'content': [{'text': 'who won the 2024 Masters Tournament?'}]},\n",
              " {'role': 'assistant',\n",
              "  'content': [{'text': 'Okay, let me search Wikipedia for information on the 2024 Masters Tournament winner:'},\n",
              "   {'toolUse': {'toolUseId': 'tooluse_kcHQLgAKQpSsuiEFf2RZ4A',\n",
              "     'name': 'get_article',\n",
              "     'input': {'search_term': '2024 Masters Tournament'}}}]}]"
            ]
          },
          "execution_count": 9,
          "metadata": {},
          "output_type": "execute_result"
        }
      ],
      "source": [
        "messages"
      ]
    },
    {
      "cell_type": "markdown",
      "metadata": {
        "id": "x-H2aWVS02mU"
      },
      "source": [
        "Next, we'll extract the specific tool and arguments that Claude wants to use:"
      ]
    },
    {
      "cell_type": "code",
      "execution_count": null,
      "metadata": {
        "tags": [],
        "id": "wGDnP8W402mU",
        "outputId": "efd55697-1ed3-4422-9b20-509ac7d484b2"
      },
      "outputs": [
        {
          "name": "stdout",
          "output_type": "stream",
          "text": [
            "Tool Id:  tooluse_kcHQLgAKQpSsuiEFf2RZ4A\n",
            "Tool name:  get_article\n",
            "Tool input {'search_term': '2024 Masters Tournament'}\n"
          ]
        }
      ],
      "source": [
        "# This is a simple, but brittle way of getting the tool use information\n",
        "# We're simply taking the last block from Claude's response.\n",
        "tool_use = response['output']['message']['content'][-1]\n",
        "tool_id = tool_use['toolUse']['toolUseId']\n",
        "tool_name = tool_use['toolUse']['name']\n",
        "tool_inputs = tool_use['toolUse']['input']\n",
        "\n",
        "print(\"Tool Id: \", tool_id)\n",
        "print(\"Tool name: \", tool_name)\n",
        "print(\"Tool input\", tool_inputs)"
      ]
    },
    {
      "cell_type": "markdown",
      "metadata": {
        "id": "mpV14BaY02mU"
      },
      "source": [
        "Next, we'll make sure Claude is calling the `get_article` tool we're expecting.  We'll take the `search_term` Claude came up with and pass that to the `get_article` function we wrote earlier."
      ]
    },
    {
      "cell_type": "code",
      "execution_count": null,
      "metadata": {
        "tags": [],
        "id": "F6B7m_9v02mV",
        "outputId": "855af4e9-cb59-40ac-e6b4-116de210d70c"
      },
      "outputs": [
        {
          "name": "stdout",
          "output_type": "stream",
          "text": [
            "Searching Wikipedia for: 2024 Masters Tournament\n",
            "WIKIPEDIA PAGE CONTENT:\n",
            "The 2024 Masters Tournament was the 88th edition of the Masters Tournament and the first of the men's four major golf championships held in 2024. The tournament was played from April 11–14 at Augusta National Golf Club in Augusta, Georgia, United States. Scottie Scheffler won his second Masters and major, four strokes ahead of runner-up Ludvig Åberg, who was playing in his first major. Scheffler became the fourth-youngest two-time winner of the tournament and the second player, after Tiger Woods\n"
          ]
        }
      ],
      "source": [
        "if tool_name == \"get_article\":\n",
        "    search_term = tool_inputs[\"search_term\"]\n",
        "    wiki_result = get_article(search_term)\n",
        "    print(f\"Searching Wikipedia for: {search_term}\")\n",
        "    print(\"WIKIPEDIA PAGE CONTENT:\")\n",
        "    print(wiki_result[:500]) #just printing a small bit of the article because it's so long"
      ]
    },
    {
      "cell_type": "markdown",
      "metadata": {
        "id": "sx1iGZWb02mV"
      },
      "source": [
        "Now that we've executed the function Claude wanted us to call, it's time to respond back to Claude with the Wikipedia page data.\n",
        "\n",
        "As we know, when Claude wants to use a tool, it responds to us with a `stop_reason` of `tool_use` and one or more `tool_use` content blocks in the API response that include:\n",
        "* `id`: A unique identifier for this particular tool use block. This will be used to match up the tool results later.\n",
        "* `name`: The name of the tool being used.\n",
        "* `input`: An object containing the input being passed to the tool, conforming to the tool's `input_schema`.\n",
        "\n",
        "Once we have executed our underlying tool function, we need to respond back to Claude with a particular format as well. Specifically, to continue the conversation, we need to send a new message with the **role of `user`** and a content block **containing the `tool_result` type**, along with the following information:\n",
        "* `toolUseId`: The id of the tool use request this is a result for.\n",
        "* `content`: The result of the tool, as a string (e.g. \"content\": \"15 degrees\") or list of nested content blocks (e.g. \"content\": [{\"type\": \"text\", \"text\": \"15 degrees\"}]\\).\n",
        "* `status` (optional): Set to **success** or **error** based on the tool execution results.\n",
        "\n",
        "Here's an example of what a properly formatted `toolResult` message looks like:"
      ]
    },
    {
      "cell_type": "markdown",
      "metadata": {
        "id": "dSiVuOOu02mV"
      },
      "source": [
        "```json\n",
        "{\n",
        "    \"role\": \"user\",\n",
        "    \"content\": [\n",
        "        {\n",
        "            \"toolResult\": {\n",
        "                \"toolUseId\": \"tooluse_kZJMlvQmRJ6eAyJE5GIl7Q\",\n",
        "                \"content\": [\n",
        "                    {\n",
        "                        \"json\": {\n",
        "                            \"song\": \"Elemental Hotel\",\n",
        "                            \"artist\": \"8 Storey Hike\"\n",
        "                        }\n",
        "                    }\n",
        "                ]\n",
        "            }\n",
        "        }\n",
        "    ]\n",
        "}\n",
        "```"
      ]
    },
    {
      "cell_type": "markdown",
      "metadata": {
        "id": "HwLhZeKm02mV"
      },
      "source": [
        "Let's do this now for our Wikipedia search example. We need to form a properly constructed tool response message to send our Wikipedia search result back to Claude:"
      ]
    },
    {
      "cell_type": "code",
      "execution_count": null,
      "metadata": {
        "tags": [],
        "id": "QMPibpSW02mV"
      },
      "outputs": [],
      "source": [
        "tool_response = {\n",
        "    \"role\": \"user\",\n",
        "    \"content\": [\n",
        "        {\n",
        "            \"toolResult\": {\n",
        "                \"toolUseId\": tool_id,\n",
        "                \"content\": [\n",
        "                    {\n",
        "                        \"text\": wiki_result\n",
        "                        }\n",
        "                ]\n",
        "            }\n",
        "        }\n",
        "    ]\n",
        "}"
      ]
    },
    {
      "cell_type": "code",
      "execution_count": null,
      "metadata": {
        "tags": [],
        "id": "hjKvziJL02mV",
        "outputId": "9ee7e0f8-421d-461c-e53c-9ebc2de61551"
      },
      "outputs": [
        {
          "data": {
            "text/plain": [
              "{'role': 'user',\n",
              " 'content': [{'toolResult': {'toolUseId': 'tooluse_kcHQLgAKQpSsuiEFf2RZ4A',\n",
              "    'content': [{'text': \"The 2024 Masters Tournament was the 88th edition of the Masters Tournament and the first of the men's four major golf championships held in 2024. The tournament was played from April 11–14 at Augusta National Golf Club in Augusta, Georgia, United States. Scottie Scheffler won his second Masters and major, four strokes ahead of runner-up Ludvig Åberg, who was playing in his first major. Scheffler became the fourth-youngest two-time winner of the tournament and the second player, after Tiger Woods in 2001, to win both the Masters and The Players Championship in the same calendar year. \\n\\n\\n== Course ==\\n\\nThe only change to the course for the 2024 tournament was the lengthening of the second hole by ten yards.\\n\\n\\n== Field ==\\nParticipation in the Masters Tournament is by invitation only, and the tournament has the smallest field of the major championships. There are a number of criteria by which invitations are awarded, including all past winners, recent major champions, leading finishers in the previous year's majors, leading players on the PGA Tour in the previous season, winners of full-point tournaments on the PGA Tour during the previous 12 months, leading players in the Official World Golf Ranking, and some leading amateurs.\\n\\n\\n=== Criteria ===\\nThere were three changes to invitee criteria between the 2023 and 2024 tournaments. The first was to add the current NCAA Division I Men's Individual Champion a spot in the field, provided that he remains an amateur at the time of the tournament. In addition, Augusta National clarified that players who qualify for the Tour Championship must remain eligible to play in that event in order to qualify for the Masters. Also, with the PGA Tour returning to a calendar-year season schedule, Augusta National noted that winners of fall PGA Tour events would continue to qualify for the Masters.\\nThe below list details the qualification criteria for the 2024 Masters Tournament and the players who have qualified under them; any additional criteria under which players qualified are indicated in parentheses.\\n1. All past winners of the Masters Tournament\\n\\nPast winners who did not play: Tommy Aaron, Ángel Cabrera, Charles Coody, Ben Crenshaw, Nick Faldo, Raymond Floyd, Trevor Immelman, Bernhard Langer, Sandy Lyle, Larry Mize, Jack Nicklaus, Mark O'Meara, Gary Player, Craig Stadler, Tom Watson, Ian Woosnam, Fuzzy Zoeller\\n2. Recent winners of the U.S. Open (2019–2023)\\n\\n3. Recent winners of The Open Championship (2019–2023)\\n\\n4. Recent winners of the PGA Championship (2019–2023)\\n\\n5. Recent winners of The Players Championship (2022–2024)\\n6. The winner of the gold medal at the Olympic Games\\n7. The winner and runner-up in the 2023 U.S. Amateur\\n\\nNeal Shipley (a)\\n8. The winner of the 2023 Amateur Championship\\n\\nChristo Lamprecht (a)\\n9. The winner of the 2023 Asia-Pacific Amateur Championship\\n\\nJasper Stubbs (a)\\n10. The winner of the 2024 Latin America Amateur Championship\\n\\nSantiago de la Fuente (a)\\n11. The winner of the 2023 U.S. Mid-Amateur Golf Championship\\n\\nStewart Hagestad (a)\\n12. The winner of the 2023 NCAA Division I men's golf individual championship\\n\\nFred Biondi forfeited his invitation by turning professional.\\n13. The leading 12 players, and those tying for 12th place, from the 2023 Masters Tournament\\n\\n14. The leading four players, and those tying for fourth place, in the 2023 U.S. Open\\n\\nRory McIlroy (17,18,19,20)\\n15. The leading four players, and those tying for fourth place, in the 2023 Open Championship\\n\\n16. The leading four players, and those tying for fourth place, in the 2023 PGA Championship\\n\\n17. Winners of tournaments on the PGA Tour between the 2023 Masters Tournament and the 2024 Masters Tournament\\n\\n18. All players who qualified for and are eligible for the 2023 Tour Championship\\n\\n19. The leading 50 players on the Official World Golf Ranking as of December 31, 2023\\n\\n20. The leading 50 players on the Official World Golf Ranking as of April 1, 2024\\n\\nAn Byeong-hun\\n21. Special invitations\\n\\n\\n== Par-3 contest ==\\nWednesday, April 10\\nRickie Fowler won the par-3 contest with a score of 22 (−5). There were five holes-in-one recorded, by Sepp Straka, Luke List, Gary Woodland, Viktor Hovland, and Lucas Glover.\\n\\n\\n== Round summaries ==\\n\\n\\n=== First round ===\\nThursday, April 11, 2024Friday, April 12, 2024\\nInclement weather delayed the start of the tournament until 10:30 am Eastern time. As a result, 27 players did not complete the first round on Thursday.\\nThe 8th hole, a par 5, saw a record-breaking total of 53 par-breaking scores, including 50 birdies and 3 eagles, the highest ever recorded on this hole in Masters history. \\n\\n\\n=== Second round ===\\nFriday, April 12, 2024\\nBy making the cut, Tiger Woods set the record for most consecutive cuts made at the Masters, at 24. Phil Mickelson made the cut for the 28th time, surpassing Raymond Floyd and Bernhard Langer to move into solo fourth place for most cuts made at the Masters, trailing only Jack Nicklaus (37), Fred Couples (31) and Gary Player (30).\\nRookie Ludvig Åberg posted the lowest score of the round, a 69, and advanced to a solo 7th place.\\nBryson DeChambeau, before making a birdie on the 13th hole, moved a large directional sign that was in his line of play.\\nPatrick Cantlay achieved two eagles on par 4s, marking only the fourth instance in history that a player has recorded two par-4 eagles in a single Masters Tournament, the last being Brandt Jobe in 2006.\\nThe cut came at 150 (+6), with 60 players advancing to the weekend. Notables to miss the cut included 2015 champion Jordan Spieth, 2020 champion Dustin Johnson, reigning U.S. Open champion Wyndham Clark, Open champion Brian Harman, and World No. 6 Viktor Hovland. Two-time major champion Justin Thomas played his last four holes in seven-over to miss the cut by one shot.\\n\\n\\n=== Third round ===\\nSaturday, April 13, 2024\\nScottie Scheffler, beginning the round in a three-way tie for the lead, chipped in for birdie on the first hole. After a double bogey on the 10th, Scheffler holed a 31-foot eagle putt on the par-five 13th, the only eagle recorded on that hole during the round. He also birdied the 15th and 18th to finish at seven under following a 71 (−1) to take a one-shot lead into the final round.\\nCollin Morikawa birdied his first three holes in a three-under round of 69 and finished at six under, one shot back of Scheffler. Max Homa, tied for the lead at the start of the round, didn't make a birdie in a one-over 73 and fell two back at 5 under. Bryson DeChambeau was also atop the leaderboard to begin the round but hit his third shot in the water on the 15th and made double bogey. He holed out for birdie on the 18th to finish at three under and four shots back of Scheffler. Ludvig Åberg, making his Masters and major championship debut, was four under on his round until a bogey at the 14th. He then left his third shot on the 15th short and three-putted from just off the green for another bogey. He shot 70 (–2) and ended up at four under.\\nNicolai Højgaard moved into sole possession of the lead following a run of three straight birdies from holes 8 to 10, but he then made five straight bogeys including hitting into the water on both the 13th and 15th and finished at two under.\\nTiger Woods carded a 10-over-par 82 for the third round, his highest score ever in a major championship.\\nNo eagles were recorded on the par-5 15th hole through the first three rounds, marking only the second time in the past 50 years that No. 15 has failed to produce an eagle by this point in the tournament. Shane Lowry scored an eagle on the par-4 14th hole, marking the first eagle on this hole since Martin Kaymer in 2016.\\n\\n\\n=== Final round ===\\nSunday, April 14, 2024\\n\\nWorld No. 1 Scottie Scheffler shot a four-under 68 to win his second Masters title in the last three years by four shots over runner-up Ludvig Åberg.\\nScheffler began the round with a one-shot lead and birdied the third hole to go two shots ahead. He then bogeyed the fourth after hitting his tee shot over the green. Max Homa birdied the second, his first birdie in 34 holes, to get within one of the lead, while Åberg hit his approach on the seventh to four feet and made birdie to also get within one of the lead.\\nScheffler bogeyed the seventh to create a three-way tie with Åberg and Collin Morikawa at six under, while Homa joined the lead with a two-putt birdie at the par-five eighth. Both Scheffler and Morikawa birdied the eighth to get to seven under, while Åberg holed a 36-foot birdie putt on the ninth to again tie. Scheffler then hit his approach on the ninth to within a foot for another birdie to get to 8 under and again in sole possession of the lead going to the second nine.\\nAll three challengers then fell from contention. Morikawa hit his second shot on the ninth into a greenside bunker and couldn't advance on his third, ending up with a double bogey to fall three shots behind. He found the water on his approach at the 11th and made another double bogey. Åberg also hit into the water on the 11th for a double bogey. Homa got back within one with a close approach to the 10th, but his tee shot on the 12th flew over the green into the bushes and he was forced to take a drop. He made a double bogey on the hole to fall three shots behind.\\nScheffler birdied the 10th, his third birdie in a row, to get to nine under and open a two-shot lead. Despite a bogey on the 11th, Scheffler two-putted for birdie at the par-five 13th and hit his second shot on the 14th to within four feet for another birdie to reach 10 under. He then made a nine-foot birdie putt on the par-three 16th to get to 11 under. Pars on his final two holes allowed him to close out the tournament with a four-shot victory.\\nÅberg birdied the 13th and 14th to get back to seven under and finish four back of Scheffler in his Masters and major championship debut. Morikawa and Homa both finished at four under for the tournament, in a tie for third place along with Tommy Fleetwood.\\n\\n\\n==== Scorecard ====\\n\\nCumulative tournament scores, relative to par\\n\\nSource:\\n\\n\\n== Notes ==\\n\\n\\n== References ==\\n\\n\\n== External links ==\\nOfficial website\"}]}}]}"
            ]
          },
          "execution_count": 13,
          "metadata": {},
          "output_type": "execute_result"
        }
      ],
      "source": [
        "# Notice the long wikipedia article content!\n",
        "tool_response"
      ]
    },
    {
      "cell_type": "markdown",
      "metadata": {
        "id": "dCcWP5AI02mW"
      },
      "source": [
        "Next, we need to add our `tool_response` message to our messages list:"
      ]
    },
    {
      "cell_type": "code",
      "execution_count": null,
      "metadata": {
        "tags": [],
        "id": "v7dp3XJy02mW"
      },
      "outputs": [],
      "source": [
        "messages.append(tool_response)"
      ]
    },
    {
      "cell_type": "code",
      "execution_count": null,
      "metadata": {
        "tags": [],
        "id": "NdwsL27q02mW",
        "outputId": "5c89f4de-8e99-4039-bb94-cb33f64d1f1a"
      },
      "outputs": [
        {
          "data": {
            "text/plain": [
              "[{'role': 'user',\n",
              "  'content': [{'text': 'who won the 2024 Masters Tournament?'}]},\n",
              " {'role': 'assistant',\n",
              "  'content': [{'text': 'Okay, let me search Wikipedia for information on the 2024 Masters Tournament winner:'},\n",
              "   {'toolUse': {'toolUseId': 'tooluse_kcHQLgAKQpSsuiEFf2RZ4A',\n",
              "     'name': 'get_article',\n",
              "     'input': {'search_term': '2024 Masters Tournament'}}}]},\n",
              " {'role': 'user',\n",
              "  'content': [{'toolResult': {'toolUseId': 'tooluse_kcHQLgAKQpSsuiEFf2RZ4A',\n",
              "     'content': [{'text': \"The 2024 Masters Tournament was the 88th edition of the Masters Tournament and the first of the men's four major golf championships held in 2024. The tournament was played from April 11–14 at Augusta National Golf Club in Augusta, Georgia, United States. Scottie Scheffler won his second Masters and major, four strokes ahead of runner-up Ludvig Åberg, who was playing in his first major. Scheffler became the fourth-youngest two-time winner of the tournament and the second player, after Tiger Woods in 2001, to win both the Masters and The Players Championship in the same calendar year. \\n\\n\\n== Course ==\\n\\nThe only change to the course for the 2024 tournament was the lengthening of the second hole by ten yards.\\n\\n\\n== Field ==\\nParticipation in the Masters Tournament is by invitation only, and the tournament has the smallest field of the major championships. There are a number of criteria by which invitations are awarded, including all past winners, recent major champions, leading finishers in the previous year's majors, leading players on the PGA Tour in the previous season, winners of full-point tournaments on the PGA Tour during the previous 12 months, leading players in the Official World Golf Ranking, and some leading amateurs.\\n\\n\\n=== Criteria ===\\nThere were three changes to invitee criteria between the 2023 and 2024 tournaments. The first was to add the current NCAA Division I Men's Individual Champion a spot in the field, provided that he remains an amateur at the time of the tournament. In addition, Augusta National clarified that players who qualify for the Tour Championship must remain eligible to play in that event in order to qualify for the Masters. Also, with the PGA Tour returning to a calendar-year season schedule, Augusta National noted that winners of fall PGA Tour events would continue to qualify for the Masters.\\nThe below list details the qualification criteria for the 2024 Masters Tournament and the players who have qualified under them; any additional criteria under which players qualified are indicated in parentheses.\\n1. All past winners of the Masters Tournament\\n\\nPast winners who did not play: Tommy Aaron, Ángel Cabrera, Charles Coody, Ben Crenshaw, Nick Faldo, Raymond Floyd, Trevor Immelman, Bernhard Langer, Sandy Lyle, Larry Mize, Jack Nicklaus, Mark O'Meara, Gary Player, Craig Stadler, Tom Watson, Ian Woosnam, Fuzzy Zoeller\\n2. Recent winners of the U.S. Open (2019–2023)\\n\\n3. Recent winners of The Open Championship (2019–2023)\\n\\n4. Recent winners of the PGA Championship (2019–2023)\\n\\n5. Recent winners of The Players Championship (2022–2024)\\n6. The winner of the gold medal at the Olympic Games\\n7. The winner and runner-up in the 2023 U.S. Amateur\\n\\nNeal Shipley (a)\\n8. The winner of the 2023 Amateur Championship\\n\\nChristo Lamprecht (a)\\n9. The winner of the 2023 Asia-Pacific Amateur Championship\\n\\nJasper Stubbs (a)\\n10. The winner of the 2024 Latin America Amateur Championship\\n\\nSantiago de la Fuente (a)\\n11. The winner of the 2023 U.S. Mid-Amateur Golf Championship\\n\\nStewart Hagestad (a)\\n12. The winner of the 2023 NCAA Division I men's golf individual championship\\n\\nFred Biondi forfeited his invitation by turning professional.\\n13. The leading 12 players, and those tying for 12th place, from the 2023 Masters Tournament\\n\\n14. The leading four players, and those tying for fourth place, in the 2023 U.S. Open\\n\\nRory McIlroy (17,18,19,20)\\n15. The leading four players, and those tying for fourth place, in the 2023 Open Championship\\n\\n16. The leading four players, and those tying for fourth place, in the 2023 PGA Championship\\n\\n17. Winners of tournaments on the PGA Tour between the 2023 Masters Tournament and the 2024 Masters Tournament\\n\\n18. All players who qualified for and are eligible for the 2023 Tour Championship\\n\\n19. The leading 50 players on the Official World Golf Ranking as of December 31, 2023\\n\\n20. The leading 50 players on the Official World Golf Ranking as of April 1, 2024\\n\\nAn Byeong-hun\\n21. Special invitations\\n\\n\\n== Par-3 contest ==\\nWednesday, April 10\\nRickie Fowler won the par-3 contest with a score of 22 (−5). There were five holes-in-one recorded, by Sepp Straka, Luke List, Gary Woodland, Viktor Hovland, and Lucas Glover.\\n\\n\\n== Round summaries ==\\n\\n\\n=== First round ===\\nThursday, April 11, 2024Friday, April 12, 2024\\nInclement weather delayed the start of the tournament until 10:30 am Eastern time. As a result, 27 players did not complete the first round on Thursday.\\nThe 8th hole, a par 5, saw a record-breaking total of 53 par-breaking scores, including 50 birdies and 3 eagles, the highest ever recorded on this hole in Masters history. \\n\\n\\n=== Second round ===\\nFriday, April 12, 2024\\nBy making the cut, Tiger Woods set the record for most consecutive cuts made at the Masters, at 24. Phil Mickelson made the cut for the 28th time, surpassing Raymond Floyd and Bernhard Langer to move into solo fourth place for most cuts made at the Masters, trailing only Jack Nicklaus (37), Fred Couples (31) and Gary Player (30).\\nRookie Ludvig Åberg posted the lowest score of the round, a 69, and advanced to a solo 7th place.\\nBryson DeChambeau, before making a birdie on the 13th hole, moved a large directional sign that was in his line of play.\\nPatrick Cantlay achieved two eagles on par 4s, marking only the fourth instance in history that a player has recorded two par-4 eagles in a single Masters Tournament, the last being Brandt Jobe in 2006.\\nThe cut came at 150 (+6), with 60 players advancing to the weekend. Notables to miss the cut included 2015 champion Jordan Spieth, 2020 champion Dustin Johnson, reigning U.S. Open champion Wyndham Clark, Open champion Brian Harman, and World No. 6 Viktor Hovland. Two-time major champion Justin Thomas played his last four holes in seven-over to miss the cut by one shot.\\n\\n\\n=== Third round ===\\nSaturday, April 13, 2024\\nScottie Scheffler, beginning the round in a three-way tie for the lead, chipped in for birdie on the first hole. After a double bogey on the 10th, Scheffler holed a 31-foot eagle putt on the par-five 13th, the only eagle recorded on that hole during the round. He also birdied the 15th and 18th to finish at seven under following a 71 (−1) to take a one-shot lead into the final round.\\nCollin Morikawa birdied his first three holes in a three-under round of 69 and finished at six under, one shot back of Scheffler. Max Homa, tied for the lead at the start of the round, didn't make a birdie in a one-over 73 and fell two back at 5 under. Bryson DeChambeau was also atop the leaderboard to begin the round but hit his third shot in the water on the 15th and made double bogey. He holed out for birdie on the 18th to finish at three under and four shots back of Scheffler. Ludvig Åberg, making his Masters and major championship debut, was four under on his round until a bogey at the 14th. He then left his third shot on the 15th short and three-putted from just off the green for another bogey. He shot 70 (–2) and ended up at four under.\\nNicolai Højgaard moved into sole possession of the lead following a run of three straight birdies from holes 8 to 10, but he then made five straight bogeys including hitting into the water on both the 13th and 15th and finished at two under.\\nTiger Woods carded a 10-over-par 82 for the third round, his highest score ever in a major championship.\\nNo eagles were recorded on the par-5 15th hole through the first three rounds, marking only the second time in the past 50 years that No. 15 has failed to produce an eagle by this point in the tournament. Shane Lowry scored an eagle on the par-4 14th hole, marking the first eagle on this hole since Martin Kaymer in 2016.\\n\\n\\n=== Final round ===\\nSunday, April 14, 2024\\n\\nWorld No. 1 Scottie Scheffler shot a four-under 68 to win his second Masters title in the last three years by four shots over runner-up Ludvig Åberg.\\nScheffler began the round with a one-shot lead and birdied the third hole to go two shots ahead. He then bogeyed the fourth after hitting his tee shot over the green. Max Homa birdied the second, his first birdie in 34 holes, to get within one of the lead, while Åberg hit his approach on the seventh to four feet and made birdie to also get within one of the lead.\\nScheffler bogeyed the seventh to create a three-way tie with Åberg and Collin Morikawa at six under, while Homa joined the lead with a two-putt birdie at the par-five eighth. Both Scheffler and Morikawa birdied the eighth to get to seven under, while Åberg holed a 36-foot birdie putt on the ninth to again tie. Scheffler then hit his approach on the ninth to within a foot for another birdie to get to 8 under and again in sole possession of the lead going to the second nine.\\nAll three challengers then fell from contention. Morikawa hit his second shot on the ninth into a greenside bunker and couldn't advance on his third, ending up with a double bogey to fall three shots behind. He found the water on his approach at the 11th and made another double bogey. Åberg also hit into the water on the 11th for a double bogey. Homa got back within one with a close approach to the 10th, but his tee shot on the 12th flew over the green into the bushes and he was forced to take a drop. He made a double bogey on the hole to fall three shots behind.\\nScheffler birdied the 10th, his third birdie in a row, to get to nine under and open a two-shot lead. Despite a bogey on the 11th, Scheffler two-putted for birdie at the par-five 13th and hit his second shot on the 14th to within four feet for another birdie to reach 10 under. He then made a nine-foot birdie putt on the par-three 16th to get to 11 under. Pars on his final two holes allowed him to close out the tournament with a four-shot victory.\\nÅberg birdied the 13th and 14th to get back to seven under and finish four back of Scheffler in his Masters and major championship debut. Morikawa and Homa both finished at four under for the tournament, in a tie for third place along with Tommy Fleetwood.\\n\\n\\n==== Scorecard ====\\n\\nCumulative tournament scores, relative to par\\n\\nSource:\\n\\n\\n== Notes ==\\n\\n\\n== References ==\\n\\n\\n== External links ==\\nOfficial website\"}]}}]}]"
            ]
          },
          "execution_count": 15,
          "metadata": {},
          "output_type": "execute_result"
        }
      ],
      "source": [
        "messages"
      ]
    },
    {
      "cell_type": "markdown",
      "metadata": {
        "id": "CHnm_DAc02mW"
      },
      "source": [
        "Our `messages` list now looks like this:\n",
        "\n",
        "* User: Who won the 2024 Masters Tournament?\n",
        "* Assistant: I want to use the `get_article` tool with `search_term` \"2024 Masters Tournament\"\n",
        "* User: Here's the tool result that contains the Wikipedia article you asked for\n",
        "\n",
        "Here's a diagram that illustrates this.\n",
        "\n",
        "![wiki_messages.png](./images/br_wiki_messages.png)\n",
        "\n",
        "Note that the initial `id` matches the `tool_use_id` in our follow up user message\n"
      ]
    },
    {
      "cell_type": "markdown",
      "metadata": {
        "id": "FyU1Tvp702mW"
      },
      "source": [
        "### 6. Claude uses the tool result to formulate a response: (API response)\n",
        "\n",
        "Finally, we can use our updated `messages` list and send a new request to Claude:"
      ]
    },
    {
      "cell_type": "code",
      "execution_count": null,
      "metadata": {
        "tags": [],
        "id": "sBbVlHo202mX"
      },
      "outputs": [],
      "source": [
        "converse_api_params = {\n",
        "    \"modelId\": modelId,\n",
        "    \"messages\": messages,\n",
        "    \"inferenceConfig\": {\"temperature\": 0.0, \"maxTokens\": 1000},\n",
        "    \"toolConfig\": toolConfig #The toolConfig which contains our article_search_tool details\n",
        "}\n",
        "\n",
        "follow_up_response = bedrock_client.converse(**converse_api_params)"
      ]
    },
    {
      "cell_type": "code",
      "execution_count": null,
      "metadata": {
        "tags": [],
        "id": "kcj71u5h02mX",
        "outputId": "e6bfb5d0-8444-4f01-b7db-fb7756e3ba6c"
      },
      "outputs": [
        {
          "data": {
            "text/plain": [
              "'Based on the Wikipedia article, Scottie Scheffler won the 2024 Masters Tournament, his second Masters title. He shot a final round 68 to win by 4 strokes over runner-up Ludvig Åberg, who was making his Masters debut. Scheffler became the fourth-youngest two-time Masters winner and also won The Players Championship earlier in 2024, making him just the second player after Tiger Woods in 2001 to win both events in the same year.'"
            ]
          },
          "execution_count": 17,
          "metadata": {},
          "output_type": "execute_result"
        }
      ],
      "source": [
        "follow_up_response['output']['message']['content'][0]['text']"
      ]
    },
    {
      "cell_type": "markdown",
      "metadata": {
        "id": "tIbYhJCL02mX"
      },
      "source": [
        "Claude now has the information needed to answer the initial question and responds back with:\n",
        "\n",
        "> 'According to the information provided, Scottie Scheffler won the 2024 Masters Tournament.According to the information provided, Scottie Scheffler won the 2024 Masters Tournament...'\n",
        "\n",
        "We have now completed all 4 steps of the process!"
      ]
    },
    {
      "cell_type": "markdown",
      "metadata": {
        "id": "h0Lup82n02mX"
      },
      "source": [
        "***"
      ]
    },
    {
      "cell_type": "markdown",
      "metadata": {
        "id": "xGZQJEWf02mX"
      },
      "source": [
        "## Improving the code\n",
        "\n",
        "At a bare minimum, we probably want to put all the above code into a reusable function so we can try it out a few times:"
      ]
    },
    {
      "cell_type": "code",
      "execution_count": null,
      "metadata": {
        "tags": [],
        "id": "iEJa17Au02mY"
      },
      "outputs": [],
      "source": [
        "def answer_question(question):\n",
        "    messages = [{\"role\": \"user\", \"content\": [{\"text\": question}]}]\n",
        "\n",
        "    converse_api_params = {\n",
        "        \"modelId\": modelId,\n",
        "        \"messages\": messages,\n",
        "        \"inferenceConfig\": {\"temperature\": 0.0, \"maxTokens\": 4096},\n",
        "        \"toolConfig\": toolConfig #The toolConfig which contains our article_search_tool details\n",
        "    }\n",
        "\n",
        "    response = bedrock_client.converse(**converse_api_params)\n",
        "\n",
        "    if(response['stopReason'] == \"tool_use\"):\n",
        "        tool_use = response['output']['message']['content'][-1]\n",
        "        tool_id = tool_use['toolUse']['toolUseId']\n",
        "        tool_name = tool_use['toolUse']['name']\n",
        "        tool_inputs = tool_use['toolUse']['input']\n",
        "        #Add Claude's tool use call to messages:\n",
        "        messages.append({\"role\": \"assistant\", \"content\": response['output']['message']['content']})\n",
        "\n",
        "        if tool_name == \"get_article\":\n",
        "            search_term = tool_inputs[\"search_term\"]\n",
        "            print(f\"Claude wants to get an article for: {search_term}\")\n",
        "            wiki_result = get_article(search_term) #get wikipedia article content\n",
        "            #construct our tool_result message\n",
        "            tool_response = {\n",
        "                \"role\": \"user\",\n",
        "                \"content\": [\n",
        "                    {\n",
        "                        \"toolResult\": {\n",
        "                            \"toolUseId\": tool_id,\n",
        "                            \"content\": [\n",
        "                                {\"text\": wiki_result}\n",
        "                            ]\n",
        "                        }\n",
        "                    }\n",
        "                ]\n",
        "            }\n",
        "            messages.append(tool_response)\n",
        "            #respond back to Claude\n",
        "            converse_api_params = {\n",
        "                \"modelId\": modelId,\n",
        "                \"messages\": messages,\n",
        "                \"inferenceConfig\": {\"temperature\": 0.0, \"maxTokens\": 4096},\n",
        "                \"toolConfig\": toolConfig  #The toolConfig which contains our article_search_tool details\n",
        "            }\n",
        "\n",
        "            response = bedrock_client.converse(**converse_api_params)\n",
        "\n",
        "            print(\"Claude's final answer:\")\n",
        "            print(response['output']['message']['content'][0]['text'])\n",
        "\n",
        "    else:\n",
        "        print(\"Claude did not call our tool\")\n",
        "        print(response['output']['message']['content'][0]['text'])"
      ]
    },
    {
      "cell_type": "code",
      "execution_count": null,
      "metadata": {
        "tags": [],
        "id": "Oxh-4waw02mY",
        "outputId": "9434d08c-245e-4251-cac2-f9634e9495a1"
      },
      "outputs": [
        {
          "name": "stdout",
          "output_type": "stream",
          "text": [
            "Claude wants to get an article for: 2024 F1 Australian Grand Prix\n",
            "Claude's final answer:\n",
            "Based on the Wikipedia article, Carlos Sainz Jr. of Ferrari won the 2024 F1 Australian Grand Prix, with his teammate Charles Leclerc finishing second. Lando Norris of McLaren finished third, setting a new record for most podium finishes without a race win at the time.\n",
            "\n",
            "The key points from the race report:\n",
            "\n",
            "- Polesitter Max Verstappen retired early due to a brake failure, ending his streak of 9 consecutive wins\n",
            "- Carlos Sainz Jr. led most of the race and took his first win since the 2023 Singapore GP\n",
            "- Charles Leclerc finished 2nd after undercutting Lando Norris\n",
            "- Norris' 3rd place was his 14th podium without a win, surpassing Nick Heidfeld's record (until Norris won 3 races later)\n",
            "- The race sold out for the first time and set a new attendance record in Melbourne\n",
            "\n",
            "So in summary, the 2024 Australian Grand Prix was won by Carlos Sainz Jr. of Ferrari.\n"
          ]
        }
      ],
      "source": [
        "answer_question(\"Who won the 2024 F1 Australian Grand Prix\")"
      ]
    },
    {
      "cell_type": "code",
      "execution_count": null,
      "metadata": {
        "tags": [],
        "id": "GUp8RJJf02mY",
        "outputId": "1ed97045-d5cb-413b-fbdd-e392582deb52"
      },
      "outputs": [
        {
          "name": "stdout",
          "output_type": "stream",
          "text": [
            "Claude wants to get an article for: Challengers (film)\n",
            "Claude's final answer:\n",
            "Based on the Wikipedia article, the main stars of the film Challengers are:\n",
            "\n",
            "- Zendaya as Tashi Duncan, an injured tennis star turned coach\n",
            "- Josh O'Connor as Patrick Zweig, Tashi's low-circuit tennis player ex-boyfriend  \n",
            "- Mike Faist as Art Donaldson, Tashi's tennis champion husband\n",
            "\n",
            "The film centers around the love triangle between these three characters over a 13 year period, culminating in a match between Patrick and Art at the ATP Challenger Tour event.\n"
          ]
        }
      ],
      "source": [
        "answer_question(\"Who stars in the movie Challengers?\")"
      ]
    },
    {
      "cell_type": "code",
      "execution_count": null,
      "metadata": {
        "tags": [],
        "id": "bGEDZV9r02mZ",
        "outputId": "908bc213-4f5a-400f-90ce-f7b5a47ef191"
      },
      "outputs": [
        {
          "name": "stdout",
          "output_type": "stream",
          "text": [
            "Claude wants to get an article for: Life of Pi\n",
            "Claude's final answer:\n",
            "Based on the Wikipedia article, the book 'Life of Pi' was written by the Canadian author Yann Martel and published in 2001. The key details are:\n",
            "\n",
            "- Author: Yann Martel (Canadian)\n",
            "- Published: 2001\n",
            "- Genre: Philosophical novel\n",
            "- Plot: The protagonist Pi Patel is an Indian boy who survives 227 days stranded on a lifeboat in the Pacific Ocean with a Bengal tiger named Richard Parker after the ship he was on sinks. The story explores themes of spirituality, truth, and storytelling.\n",
            "- Awards: Won the Man Booker Prize in 2002, among other awards.\n",
            "- Adaptations: A critically acclaimed film adaptation directed by Ang Lee was released in 2012, winning 4 Academy Awards. It has also been adapted into plays.\n",
            "\n",
            "So in summary, the novel 'Life of Pi' and its imaginative story of survival and spirituality was written by the Canadian author Yann Martel and published in 2001 to widespread acclaim, winning major literary awards.\n"
          ]
        }
      ],
      "source": [
        "#Let's try an example that Claude should NOT need our tool to answer:\n",
        "answer_question(\"Who wrote the book 'The Life of Pi'\")"
      ]
    },
    {
      "cell_type": "markdown",
      "metadata": {
        "id": "oltwCICz02mZ"
      },
      "source": [
        "Notice that Claude called our Wikipedia tool to help answer this last question, even though Claude already knows the answer.  \"Life of Pi\" was published in 2001, long before Claude's training cutoff!"
      ]
    },
    {
      "cell_type": "markdown",
      "metadata": {
        "id": "OugLTING02mZ"
      },
      "source": [
        "***"
      ]
    },
    {
      "cell_type": "markdown",
      "metadata": {
        "id": "txn7F-zn02mZ"
      },
      "source": [
        "## Improving our prompt\n",
        "\n",
        "As we saw in a previous lesson, sometimes Claude is overly eager to use tools.  An easy wasy to fix this is through the system prompt.\n",
        "\n",
        "\n",
        "We could add a system prompt that looks something like this:"
      ]
    },
    {
      "cell_type": "code",
      "execution_count": null,
      "metadata": {
        "id": "IRPKzo1f02mZ"
      },
      "outputs": [],
      "source": [
        "system_prompt = \"\"\"\n",
        "    You will be asked a question by the user.\n",
        "    If answering the question requires data you were not trained on, you can use the get_article tool to get the contents of a recent wikipedia article about the topic.\n",
        "    If you can answer the question without needing to get more information, please do so.\n",
        "    Only call the tool when needed.\n",
        "    \"\"\""
      ]
    },
    {
      "cell_type": "markdown",
      "metadata": {
        "id": "kQPZQlEU02ma"
      },
      "source": [
        "Let's update our function to use this new system prompt:"
      ]
    },
    {
      "cell_type": "code",
      "execution_count": null,
      "metadata": {
        "tags": [],
        "id": "-566dotM02ma"
      },
      "outputs": [],
      "source": [
        "def answer_question(question):\n",
        "    system_prompt = \"\"\"\n",
        "    You will be asked a question by the user.\n",
        "    If answering the question requires data you were not trained on, you must use the get_article tool to get the contents of a recent wikipedia article about the topic.\n",
        "    If you can answer the question without needing to get more information, please do so.\n",
        "    Only call the tool when needed.\n",
        "    \"\"\"\n",
        "    messages = [{\"role\": \"user\", \"content\": [{\"text\": question}]}]\n",
        "\n",
        "    converse_api_params = {\n",
        "        \"modelId\": modelId,\n",
        "        \"system\": [{\"text\": system_prompt}],\n",
        "        \"messages\": messages,\n",
        "        \"inferenceConfig\": {\"temperature\": 0.0, \"maxTokens\": 4096},\n",
        "        \"toolConfig\": toolConfig  #The toolConfig which contains our article_search_tool details\n",
        "    }\n",
        "\n",
        "    response = bedrock_client.converse(**converse_api_params)\n",
        "\n",
        "    if(response['stopReason'] == \"tool_use\"):\n",
        "        tool_use = response['output']['message']['content'][-1]\n",
        "        tool_id = tool_use['toolUse']['toolUseId']\n",
        "        tool_name = tool_use['toolUse']['name']\n",
        "        tool_inputs = tool_use['toolUse']['input']\n",
        "        #Add Claude's tool use call to messages:\n",
        "        messages.append({\"role\": \"assistant\", \"content\": response['output']['message']['content']})\n",
        "\n",
        "        if tool_name == \"get_article\":\n",
        "            search_term = tool_inputs[\"search_term\"]\n",
        "            print(f\"Claude wants to get an article for: {search_term}\")\n",
        "            wiki_result = get_article(search_term) #get wikipedia article content\n",
        "            #construct our tool_result message\n",
        "            tool_response = {\n",
        "                \"role\": \"user\",\n",
        "                \"content\": [\n",
        "                    {\n",
        "                        \"toolResult\": {\n",
        "                            \"toolUseId\": tool_id,\n",
        "                            \"content\": [\n",
        "                                {\"text\": wiki_result}\n",
        "                            ]\n",
        "                        }\n",
        "                    }\n",
        "                ]\n",
        "            }\n",
        "            messages.append(tool_response)\n",
        "            #respond back to Claude\n",
        "            converse_api_params = {\n",
        "                \"modelId\": modelId,\n",
        "                \"system\": [{\"text\": system_prompt}],\n",
        "                \"messages\": messages,\n",
        "                \"inferenceConfig\": {\"temperature\": 0.0, \"maxTokens\": 4096},\n",
        "                \"toolConfig\": toolConfig  #The toolConfig which contains our article_search_tool details\n",
        "            }\n",
        "\n",
        "            response = bedrock_client.converse(**converse_api_params)\n",
        "\n",
        "            print(\"Claude's final answer:\")\n",
        "            print(response['output']['message']['content'][0]['text'])\n",
        "\n",
        "    else:\n",
        "        print(\"Claude did not call our tool\")\n",
        "        print(response['output']['message']['content'][0]['text'])"
      ]
    },
    {
      "cell_type": "markdown",
      "metadata": {
        "id": "RTk5_6BV02ma"
      },
      "source": [
        "Let's try asking the same question:"
      ]
    },
    {
      "cell_type": "code",
      "execution_count": null,
      "metadata": {
        "id": "tXq2MO0O02ma",
        "outputId": "897b664c-f045-4afa-e30e-040c0ac90e2b"
      },
      "outputs": [
        {
          "name": "stdout",
          "output_type": "stream",
          "text": [
            "Claude wants to get an article for: The Life of Pi\n",
            "Claude's final answer:\n",
            "Based on the Wikipedia article, the book The Life of Pi was written by the Canadian author Yann Martel. It was published in 2001 and went on to win the Man Booker Prize in 2002. The novel tells the story of an Indian boy named Pi Patel who survives for 227 days stranded on a lifeboat in the Pacific Ocean after a shipwreck, with a Bengal tiger named Richard Parker as his companion. The book explores themes of spirituality, storytelling, and the nature of truth and reality. Martel drew inspiration from various sources, including Edgar Allan Poe's novel The Narrative of Arthur Gordon Pym and a novella by Brazilian author Moacyr Scliar. The Life of Pi was very well-received critically and has sold over 10 million copies worldwide. It was later adapted into an acclaimed film directed by Ang Lee in 2012.\n"
          ]
        }
      ],
      "source": [
        "answer_question(\"Who wrote the book The Life of Pi\")"
      ]
    },
    {
      "cell_type": "markdown",
      "metadata": {
        "id": "3VKAOyML02ma"
      },
      "source": [
        "It worked! Claude did not use our tool when it wasn't needed.  Let's make sure it still works when answering questions that do require recent knowledge:"
      ]
    },
    {
      "cell_type": "code",
      "execution_count": null,
      "metadata": {
        "id": "YZCZ5qrR02ma",
        "outputId": "72ef0f70-29e5-4092-e1b4-08e2e0209bab"
      },
      "outputs": [
        {
          "name": "stdout",
          "output_type": "stream",
          "text": [
            "Claude wants to get an article for: Challengers (2023 film)\n",
            "Claude's final answer:\n",
            "Based on the Wikipedia article, the score for the film Challengers was composed by Trent Reznor and Atticus Ross. The article states:\n",
            "\n",
            "\"Trent Reznor and Atticus Ross composed the film's score, having previously worked with Guadagnino on 2022's Bones and All. Post-production was completed by April 2023.\"\n",
            "\n",
            "So to answer the original question - Trent Reznor and Atticus Ross wrote the score for the 2024 film Challengers.\n"
          ]
        }
      ],
      "source": [
        "answer_question(\"Who wrote the score for the movie Challengers?\")"
      ]
    },
    {
      "cell_type": "markdown",
      "metadata": {
        "id": "dgBDYiGm02mb"
      },
      "source": [
        "It's working as intended in both situations! Now let's work on getting Claude's response to be a little more succinct.  It's great that Claude is explaining HOW it came up with the correct answer, but it's a little verbose. Let's do a little basic prompt engineering to fix that.  \n",
        "\n",
        "Let's try this:"
      ]
    },
    {
      "cell_type": "code",
      "execution_count": null,
      "metadata": {
        "id": "DX49ikov02mb"
      },
      "outputs": [],
      "source": [
        "prompt = f\"\"\"\n",
        "    Answer the following question <question>Who wrote the movie Poor Things?</question>\n",
        "    When you can answer the question, keep your answer as short as possible and enclose it in <answer> tags\n",
        "    \"\"\""
      ]
    },
    {
      "cell_type": "markdown",
      "metadata": {
        "id": "n1j5IRyM02mb"
      },
      "source": [
        "Here's our function updated with the new prompt:"
      ]
    },
    {
      "cell_type": "code",
      "execution_count": null,
      "metadata": {
        "tags": [],
        "id": "cMx-rKsB02mb"
      },
      "outputs": [],
      "source": [
        "def answer_question(question):\n",
        "    system_prompt = \"\"\"\n",
        "    You will be asked a question by the user.\n",
        "    If answering the question requires data you were not trained on, you must use the get_article tool to get the contents of a recent wikipedia article about the topic.\n",
        "    If you can answer the question without needing to get more information, please do so.\n",
        "    Only call the tool when needed.\n",
        "    \"\"\"\n",
        "    prompt = f\"\"\"\n",
        "    Answer the following question <question>{question}</question>\n",
        "    When you can answer the question, keep your answer as short as possible and enclose it in <answer> tags\n",
        "    \"\"\"\n",
        "    messages = [{\"role\": \"user\", \"content\": [{\"text\": prompt}]}]\n",
        "\n",
        "    converse_api_params = {\n",
        "        \"modelId\": modelId,\n",
        "        \"system\": [{\"text\": system_prompt}],\n",
        "        \"messages\": messages,\n",
        "        \"additionalModelRequestFields\": {\"max_tokens\": 4096},\n",
        "        \"toolConfig\": toolConfig  #The toolConfig which contains our article_search_tool details\n",
        "    }\n",
        "\n",
        "    response = bedrock_client.converse(**converse_api_params)\n",
        "\n",
        "    if(response['stopReason'] == \"tool_use\"):\n",
        "        tool_use = response['output']['message']['content'][-1]\n",
        "        tool_id = tool_use['toolUse']['toolUseId']\n",
        "        tool_name = tool_use['toolUse']['name']\n",
        "        tool_inputs = tool_use['toolUse']['input']\n",
        "        #Add Claude's tool use call to messages:\n",
        "        messages.append({\"role\": \"assistant\", \"content\": response['output']['message']['content']})\n",
        "\n",
        "        if tool_name == \"get_article\":\n",
        "            search_term = tool_inputs[\"search_term\"]\n",
        "            print(f\"Claude wants to get an article for: {search_term}\")\n",
        "            wiki_result = get_article(search_term) #get wikipedia article content\n",
        "            #construct our tool_result message\n",
        "            tool_response = {\n",
        "                \"role\": \"user\",\n",
        "                \"content\": [\n",
        "                    {\n",
        "                        \"toolResult\": {\n",
        "                            \"toolUseId\": tool_id,\n",
        "                            \"content\": [\n",
        "                                {\"text\": wiki_result}\n",
        "                            ]\n",
        "                        }\n",
        "                    }\n",
        "                ]\n",
        "            }\n",
        "            messages.append(tool_response)\n",
        "            #respond back to Claude\n",
        "            converse_api_params = {\n",
        "                \"modelId\": \"anthropic.claude-3-sonnet-20240229-v1:0\",\n",
        "                \"system\": [{\"text\": system_prompt}],\n",
        "                \"messages\": messages,\n",
        "                \"additionalModelRequestFields\": {\"max_tokens\": 4096},\n",
        "                \"toolConfig\": toolConfig  #The toolConfig which contains our article_search_tool details\n",
        "            }\n",
        "\n",
        "            response = bedrock_client.converse(**converse_api_params)\n",
        "\n",
        "            print(\"Claude's final answer:\")\n",
        "            print(response['output']['message']['content'][0]['text'])\n",
        "\n",
        "    else:\n",
        "        print(\"Claude did not call our tool\")\n",
        "        print(response['output']['message']['content'][0]['text'])"
      ]
    },
    {
      "cell_type": "code",
      "execution_count": null,
      "metadata": {
        "id": "Xiihj85j02mc",
        "outputId": "457bb572-f43f-478b-98ac-64c250601716"
      },
      "outputs": [
        {
          "name": "stdout",
          "output_type": "stream",
          "text": [
            "Claude wants to get an article for: challengers film\n",
            "Claude's final answer:\n",
            "After reviewing the Wikipedia article, I now have enough information to answer the question:\n",
            "\n",
            "<answer>Trent Reznor and Atticus Ross composed the score for the film Challengers.</answer>\n"
          ]
        }
      ],
      "source": [
        "answer_question(\"Who wrote the score for the film Challengers?\")"
      ]
    },
    {
      "cell_type": "code",
      "execution_count": null,
      "metadata": {
        "tags": [],
        "id": "LmGyFGUU02mc",
        "outputId": "be9c9edb-8a1e-4581-df91-d81026e73b1a"
      },
      "outputs": [
        {
          "name": "stdout",
          "output_type": "stream",
          "text": [
            "Claude wants to get an article for: 2024 F1 Australian Grand Prix\n",
            "Claude's final answer:\n",
            "Based on the Wikipedia information retrieved, the answer to the question is:\n",
            "\n",
            "<answer>Carlos Sainz Jr. of Ferrari won the 2024 F1 Australian Grand Prix.</answer>\n"
          ]
        }
      ],
      "source": [
        "answer_question(\"Who won the 2024 F1 Australian Grand Prix?\")"
      ]
    },
    {
      "cell_type": "code",
      "execution_count": null,
      "metadata": {
        "id": "p1PYhxLG02mc",
        "outputId": "909943fa-8223-4f8e-fe32-e43dab74c13b"
      },
      "outputs": [
        {
          "name": "stdout",
          "output_type": "stream",
          "text": [
            "Claude did not call our tool\n",
            "<answer>8 legs</answer>\n"
          ]
        }
      ],
      "source": [
        "answer_question(\"How many legs does an octopus have?\")"
      ]
    },
    {
      "cell_type": "markdown",
      "metadata": {
        "id": "yoS7SWgp02mc"
      },
      "source": [
        "Much better! Claude is now responding with answers without a bunch of additional \"thinking\" and explanation about how it arrived at the answer."
      ]
    },
    {
      "cell_type": "markdown",
      "metadata": {
        "id": "w13bdS0y02md"
      },
      "source": [
        "***"
      ]
    },
    {
      "cell_type": "markdown",
      "metadata": {
        "id": "_Nox94gS02md"
      },
      "source": [
        "## Exercise\n",
        "\n",
        "Can you update this code so that it fulfills the following requirements:\n",
        "* Claude might not get enough information from the first Wikipedia page we respond with.  We haven't handled that situation yet.  Imagine we ask Claude \"How many Oscars does Christopher Nolan have?  Does he have more than the number of Emmy's that Ben Stiller has?\"  Claude would need to search Christopher Nolan's Wikipedia page AND Ben Stiller's page, likely one after another.  Our code currently does not allow this, so let's build in that functionality! **Hint: use a loop!**  \n",
        "* Extract the answer from the `<answer></answer>` tags Claude currently responds with so that you only print out the actual answer content.\n",
        "* Can you turn this into a full command-line chatbot that continuously asks a user to enter a query and then responds with the answer over and over until a user quits the program? The output could look something like this:\n",
        "\n"
      ]
    },
    {
      "cell_type": "markdown",
      "metadata": {
        "id": "TyfsIwZv02md"
      },
      "source": [
        "Here's a screenshot of an example conversation session:\n",
        "\n",
        "![exercise_conversation.png](./images/exercise_conversation.png)"
      ]
    },
    {
      "cell_type": "code",
      "execution_count": null,
      "metadata": {
        "id": "8li5aOYx02md"
      },
      "outputs": [],
      "source": []
    }
  ],
  "metadata": {
    "kernelspec": {
      "display_name": "conda_tensorflow2_p310",
      "language": "python",
      "name": "conda_tensorflow2_p310"
    },
    "language_info": {
      "codemirror_mode": {
        "name": "ipython",
        "version": 3
      },
      "file_extension": ".py",
      "mimetype": "text/x-python",
      "name": "python",
      "nbconvert_exporter": "python",
      "pygments_lexer": "ipython3",
      "version": "3.10.14"
    },
    "colab": {
      "provenance": [],
      "include_colab_link": true
    }
  },
  "nbformat": 4,
  "nbformat_minor": 0
}