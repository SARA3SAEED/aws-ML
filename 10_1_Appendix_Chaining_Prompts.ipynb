{
  "cells": [
    {
      "cell_type": "markdown",
      "metadata": {
        "id": "view-in-github",
        "colab_type": "text"
      },
      "source": [
        "<a href=\"https://colab.research.google.com/github/SARA3SAEED/aws-ML/blob/main/10_1_Appendix_Chaining_Prompts.ipynb\" target=\"_parent\"><img src=\"https://colab.research.google.com/assets/colab-badge.svg\" alt=\"Open In Colab\"/></a>"
      ]
    },
    {
      "cell_type": "markdown",
      "metadata": {
        "id": "YrOnvX33zoJB"
      },
      "source": [
        "# Appendix 10.1: Chaining Prompts\n",
        "\n",
        "- [Lesson](#lesson)\n",
        "- [Example Playground](#example-playground)\n",
        "\n",
        "## Setup\n",
        "\n",
        "Run the following setup cell to load your API key and establish the `get_completion` helper function."
      ]
    },
    {
      "cell_type": "code",
      "execution_count": null,
      "metadata": {
        "id": "aIbi9uofzoJD"
      },
      "outputs": [],
      "source": [
        "# Import python's built-in regular expression library\n",
        "import re\n",
        "import boto3\n",
        "from botocore.exceptions import ClientError\n",
        "import json\n",
        "\n",
        "# Import the hints module from the utils package\n",
        "from utils import hints\n",
        "\n",
        "# Retrieve the MODEL_NAME variable from the IPython store\n",
        "%store -r modelId\n",
        "%store -r region\n",
        "\n",
        "bedrock_client = boto3.client(service_name='bedrock-runtime', region_name=region)"
      ]
    },
    {
      "cell_type": "code",
      "execution_count": null,
      "metadata": {
        "id": "gtJXJa9szoJF"
      },
      "outputs": [],
      "source": [
        "def get_completion(messages, system_prompt=None):\n",
        "    inference_config = {\n",
        "        \"temperature\": 0.5,\n",
        "        \"maxTokens\": 200\n",
        "    }\n",
        "    converse_api_params = {\n",
        "        \"modelId\": modelId,\n",
        "        \"messages\": messages,\n",
        "        \"inferenceConfig\": inference_config\n",
        "    }\n",
        "    if system_prompt:\n",
        "        converse_api_params[\"system\"] = [{\"text\": system_prompt}]\n",
        "    try:\n",
        "        response = bedrock_client.converse(**converse_api_params)\n",
        "        text_content = response['output']['message']['content'][0]['text']\n",
        "        return text_content\n",
        "\n",
        "    except ClientError as err:\n",
        "        message = err.response['Error']['Message']\n",
        "        print(f\"A client error occured: {message}\")"
      ]
    },
    {
      "cell_type": "markdown",
      "metadata": {
        "id": "KGFFecB_zoJG"
      },
      "source": [
        "---\n",
        "\n",
        "## Lesson\n",
        "\n",
        "The saying goes, \"Writing is rewriting.\" It turns out, **Claude can often improve the accuracy of its response when asked to do so**!\n",
        "\n",
        "There are many ways to prompt Claude to \"think again\". The ways that feel natural to ask a human to double check their work will also generally work for Claude. (Check out our [prompt chaining documentation](https://docs.anthropic.com/claude/docs/chain-prompts) for further examples of when and how to use prompt chaining.)"
      ]
    },
    {
      "cell_type": "markdown",
      "metadata": {
        "id": "2iiGfOYzzoJH"
      },
      "source": [
        "### Examples\n",
        "\n",
        "In this example, we ask Claude to come up with ten words... but one or more of them isn't a real word."
      ]
    },
    {
      "cell_type": "code",
      "execution_count": null,
      "metadata": {
        "id": "0xymKntqzoJH",
        "outputId": "f02337d1-1b82-48c4-d577-01ef5eb22233"
      },
      "outputs": [
        {
          "name": "stdout",
          "output_type": "stream",
          "text": [
            "Here are ten words that all end with the letters 'ab':\n",
            "\n",
            "1. Cab\n",
            "2. Dab\n",
            "3. Fab\n",
            "4. Gab\n",
            "5. Jab\n",
            "6. Lab\n",
            "7. Nab\n",
            "8. Rab\n",
            "9. Slab\n",
            "10. Swab\n"
          ]
        }
      ],
      "source": [
        "# Initial prompt\n",
        "first_user = \"Name ten words that all end with the exact letters 'ab'.\"\n",
        "\n",
        "# API messages array\n",
        "messages = [\n",
        "    {\"role\": \"user\",\n",
        "     \"content\": [{\"text\": first_user}]}\n",
        "]\n",
        "\n",
        "# Store and print Claude's response\n",
        "first_response = get_completion(messages)\n",
        "print(first_response)"
      ]
    },
    {
      "cell_type": "markdown",
      "metadata": {
        "id": "5SyV80D9zoJJ"
      },
      "source": [
        "**Asking Claude to make its answer more accurate** fixes the error!\n",
        "\n",
        "Below, we've pulled down Claude's incorrect response from above and added another turn to the conversation asking Claude to fix its previous answer."
      ]
    },
    {
      "cell_type": "code",
      "execution_count": null,
      "metadata": {
        "id": "XOjZ_5gKzoJK",
        "outputId": "8d4252a0-dc46-4920-b281-12ec21f4d7a9"
      },
      "outputs": [
        {
          "name": "stdout",
          "output_type": "stream",
          "text": [
            "------------------------ Full messsages array with variable substutions ------------------------\n",
            "[{'role': 'user', 'content': [{'text': \"Name ten words that all end with the exact letters 'ab'.\"}]}, {'role': 'assistant', 'content': [{'text': \"Here are ten words that all end with the letters 'ab':\\n\\n1. Cab\\n2. Dab\\n3. Fab\\n4. Gab\\n5. Jab\\n6. Lab\\n7. Nab\\n8. Rab\\n9. Slab\\n10. Swab\"}]}, {'role': 'user', 'content': [{'text': \"Please find replacements for all 'words' that are not real words.\"}]}]\n",
            "\n",
            "------------------------------------- Claude's response -------------------------------------\n",
            "Here are ten real words that all end with the letters 'ab':\n",
            "\n",
            "1. Cab\n",
            "2. Dab\n",
            "3. Fab\n",
            "4. Grab\n",
            "5. Jab\n",
            "6. Lab\n",
            "7. Nab\n",
            "8. Rab\n",
            "9. Slab\n",
            "10. Swab\n"
          ]
        }
      ],
      "source": [
        "second_user = \"Please find replacements for all 'words' that are not real words.\"\n",
        "\n",
        "# API messages array\n",
        "messages = [\n",
        "    {\n",
        "        \"role\": \"user\",\n",
        "        \"content\": [{\"text\": first_user}]\n",
        "    },\n",
        "    {\n",
        "        \"role\": \"assistant\",\n",
        "         \"content\": [{\"text\": first_response}]\n",
        "    },\n",
        "    {\n",
        "        \"role\": \"user\",\n",
        "         \"content\": [{\"text\": second_user}]\n",
        "    },\n",
        "\n",
        "]\n",
        "\n",
        "# Print Claude's response\n",
        "print(\"------------------------ Full messsages array with variable substutions ------------------------\")\n",
        "print(messages)\n",
        "print(\"\\n------------------------------------- Claude's response -------------------------------------\")\n",
        "print(get_completion(messages))"
      ]
    },
    {
      "cell_type": "markdown",
      "metadata": {
        "id": "WBZS9kZQzoJL"
      },
      "source": [
        "But is Claude revising its answer just because we told it to? What if we start off with a correct answer already? Will Claude lose its confidence? Here, we've placed a correct response in the place of `first_response` and asked it to double check again."
      ]
    },
    {
      "cell_type": "code",
      "execution_count": null,
      "metadata": {
        "id": "RsD1zKfDzoJL",
        "outputId": "51972d07-c068-4215-a53d-bd7a3bb34f4b"
      },
      "outputs": [
        {
          "name": "stdout",
          "output_type": "stream",
          "text": [
            "------------------------ Full messsages array with variable substutions ------------------------\n",
            "[{'role': 'user', 'content': [{'text': \"Name ten words that all end with the exact letters 'ab'.\"}]}, {'role': 'assistant', 'content': [{'text': \"Here are 10 words that end with the letters 'ab':\\n\\n1. Cab\\n2. Dab\\n3. Grab\\n4. Gab\\n5. Jab\\n6. Lab\\n7. Nab\\n8. Slab\\n9. Tab\\n10. Blab\"}]}, {'role': 'user', 'content': [{'text': \"Please find replacements for all 'words' that are not real words.\"}]}]\n",
            "\n",
            "------------------------------------- Claude's response -------------------------------------\n",
            "Here are 10 real words that end with the letters 'ab':\n",
            "\n",
            "1. Cab\n",
            "2. Dab\n",
            "3. Grab\n",
            "4. Gab\n",
            "5. Jab\n",
            "6. Lab\n",
            "7. Nab\n",
            "8. Slab\n",
            "9. Tab\n",
            "10. Blab\n"
          ]
        }
      ],
      "source": [
        "first_user = \"Name ten words that all end with the exact letters 'ab'.\"\n",
        "\n",
        "first_response = \"\"\"Here are 10 words that end with the letters 'ab':\n",
        "\n",
        "1. Cab\n",
        "2. Dab\n",
        "3. Grab\n",
        "4. Gab\n",
        "5. Jab\n",
        "6. Lab\n",
        "7. Nab\n",
        "8. Slab\n",
        "9. Tab\n",
        "10. Blab\"\"\"\n",
        "\n",
        "second_user = \"Please find replacements for all 'words' that are not real words.\"\n",
        "\n",
        "# API messages array\n",
        "messages = [\n",
        "    {\n",
        "        \"role\": \"user\",\n",
        "        \"content\": [{\"text\": first_user}]\n",
        "    },\n",
        "    {\n",
        "        \"role\": \"assistant\",\n",
        "         \"content\": [{\"text\": first_response}]\n",
        "    },\n",
        "    {\n",
        "        \"role\": \"user\",\n",
        "         \"content\": [{\"text\": second_user}]\n",
        "    },\n",
        "\n",
        "]\n",
        "\n",
        "# Print Claude's response\n",
        "print(\"------------------------ Full messsages array with variable substutions ------------------------\")\n",
        "print(messages)\n",
        "print(\"\\n------------------------------------- Claude's response -------------------------------------\")\n",
        "print(get_completion(messages))"
      ]
    },
    {
      "cell_type": "markdown",
      "metadata": {
        "id": "O2vja7rJzoJM"
      },
      "source": [
        "You may notice that if you generate a respnse from the above block a few times, Claude leaves the words as is most of the time, but still occasionally changes the words even though they're all already correct. What can we do to mitigate this? Per Chapter 8, we can give Claude an out! Let's try this one more time."
      ]
    },
    {
      "cell_type": "code",
      "execution_count": null,
      "metadata": {
        "id": "wShyQailzoJM",
        "outputId": "0c17d7cc-17e7-4336-dfff-d87d35da2933"
      },
      "outputs": [
        {
          "name": "stdout",
          "output_type": "stream",
          "text": [
            "------------------------ Full messsages array with variable substutions ------------------------\n",
            "[{'role': 'user', 'content': [{'text': \"Name ten words that all end with the exact letters 'ab'.\"}]}, {'role': 'assistant', 'content': [{'text': \"Here are 10 words that end with the letters 'ab':\\n\\n1. Cab\\n2. Dab\\n3. Grab\\n4. Gab\\n5. Jab\\n6. Lab\\n7. Nab\\n8. Slab\\n9. Tab\\n10. Blab\"}]}, {'role': 'user', 'content': [{'text': \"Please find replacements for all 'words' that are not real words. If all the words are real words, return the original list.\"}]}]\n",
            "\n",
            "------------------------------------- Claude's response -------------------------------------\n",
            "Okay, here is the list with replacements for any words that are not real:\n",
            "\n",
            "1. Cab\n",
            "2. Dab\n",
            "3. Grab\n",
            "4. Gab\n",
            "5. Jab\n",
            "6. Lab\n",
            "7. Nab\n",
            "8. Slab\n",
            "9. Tab\n",
            "10. Blab\n",
            "\n",
            "All of these are real words, so the original list is returned.\n"
          ]
        }
      ],
      "source": [
        "first_user = \"Name ten words that all end with the exact letters 'ab'.\"\n",
        "\n",
        "first_response = \"\"\"Here are 10 words that end with the letters 'ab':\n",
        "\n",
        "1. Cab\n",
        "2. Dab\n",
        "3. Grab\n",
        "4. Gab\n",
        "5. Jab\n",
        "6. Lab\n",
        "7. Nab\n",
        "8. Slab\n",
        "9. Tab\n",
        "10. Blab\"\"\"\n",
        "\n",
        "second_user = \"Please find replacements for all 'words' that are not real words. If all the words are real words, return the original list.\"\n",
        "\n",
        "# API messages array\n",
        "messages = [\n",
        "    {\n",
        "        \"role\": \"user\",\n",
        "        \"content\": [{\"text\": first_user}]\n",
        "    },\n",
        "    {\n",
        "        \"role\": \"assistant\",\n",
        "         \"content\": [{\"text\": first_response}]\n",
        "    },\n",
        "    {\n",
        "        \"role\": \"user\",\n",
        "         \"content\": [{\"text\": second_user}]\n",
        "    },\n",
        "\n",
        "]\n",
        "\n",
        "# Print Claude's response\n",
        "print(\"------------------------ Full messsages array with variable substutions ------------------------\")\n",
        "print(messages)\n",
        "print(\"\\n------------------------------------- Claude's response -------------------------------------\")\n",
        "print(get_completion(messages))"
      ]
    },
    {
      "cell_type": "markdown",
      "metadata": {
        "id": "yJH-4jzUzoJN"
      },
      "source": [
        "Try generating responses from the above code a few times to see that Claude is much better at sticking to its guns now.\n",
        "\n",
        "You can also use prompt chaining to **ask Claude to make its responses better**. Below, we asked Claude to first write a story, and then improve the story it wrote. Your personal tastes may vary, but many might agree that Claude's second version is better.\n",
        "\n",
        "First, let's generate Claude's first version of the story."
      ]
    },
    {
      "cell_type": "code",
      "execution_count": null,
      "metadata": {
        "id": "ewTNMBVrzoJN",
        "outputId": "71de4e2a-45b7-40d7-819f-c91da065be61"
      },
      "outputs": [
        {
          "name": "stdout",
          "output_type": "stream",
          "text": [
            "Here is a three-sentence short story about a girl who likes to run:\n",
            "\n",
            "Eliza loved to run. The wind in her hair, the rhythm of her feet, the sense of freedom - it all made her feel alive. As she raced through the park, leaving her worries behind, Eliza knew that running was her true passion.\n"
          ]
        }
      ],
      "source": [
        "# Initial prompt\n",
        "first_user = \"Write a three-sentence short story about a girl who likes to run.\"\n",
        "\n",
        "# API messages array\n",
        "messages = [\n",
        "    {\n",
        "        \"role\": \"user\",\n",
        "         \"content\": [{\"text\": first_user}]\n",
        "    }\n",
        "]\n",
        "\n",
        "# Store and print Claude's response\n",
        "first_response = get_completion(messages)\n",
        "print(first_response)"
      ]
    },
    {
      "cell_type": "markdown",
      "metadata": {
        "id": "Kr17oznvzoJN"
      },
      "source": [
        "Now let's have Claude improve on its first draft."
      ]
    },
    {
      "cell_type": "code",
      "execution_count": null,
      "metadata": {
        "id": "JCz5qz7ZzoJN",
        "outputId": "e5b2b8af-18d4-46b5-fbc0-42a55169a6ea"
      },
      "outputs": [
        {
          "name": "stdout",
          "output_type": "stream",
          "text": [
            "------------------------ Full messsages array with variable substutions ------------------------\n",
            "[{'role': 'user', 'content': [{'text': 'Write a three-sentence short story about a girl who likes to run.'}]}, {'role': 'assistant', 'content': [{'text': 'Here is a three-sentence short story about a girl who likes to run:\\n\\nEliza loved to run. The wind in her hair, the rhythm of her feet, the sense of freedom - it all made her feel alive. As she raced through the park, leaving her worries behind, Eliza knew that running was her true passion.'}]}, {'role': 'user', 'content': [{'text': 'Make the story better.'}]}]\n",
            "\n",
            "------------------------------------- Claude's response -------------------------------------\n",
            "Here is the three-sentence short story with some improvements:\n",
            "\n",
            "Eliza's heart raced as her feet pounded the pavement, the wind whipping through her hair. The world around her faded away, replaced by the steady rhythm of her breathing and the pure exhilaration of movement. With each stride, Eliza felt her troubles melt away, replaced by a profound sense of joy and liberation that could only be found in the simple act of running.\n"
          ]
        }
      ],
      "source": [
        "second_user = \"Make the story better.\"\n",
        "\n",
        "# API messages array\n",
        "messages = [\n",
        "    {\n",
        "        \"role\": \"user\",\n",
        "        \"content\": [{\"text\": first_user}]\n",
        "    },\n",
        "    {\n",
        "        \"role\": \"assistant\",\n",
        "         \"content\": [{\"text\": first_response}]\n",
        "    },\n",
        "    {\n",
        "        \"role\": \"user\",\n",
        "         \"content\": [{\"text\": second_user}]\n",
        "    },\n",
        "\n",
        "]\n",
        "\n",
        "# Print Claude's response\n",
        "print(\"------------------------ Full messsages array with variable substutions ------------------------\")\n",
        "print(messages)\n",
        "print(\"\\n------------------------------------- Claude's response -------------------------------------\")\n",
        "print(get_completion(messages))"
      ]
    },
    {
      "cell_type": "markdown",
      "metadata": {
        "id": "aaDYTfFCzoJO"
      },
      "source": [
        "This form of substitution is very powerful. We've been using substitution placeholders to pass in lists, words, Claude's former responses, and so on. You can also **use substitution to do what we call \"function calling,\" which is asking Claude to perform some function, and then taking the results of that function and asking Claude to do even more afterward with the results**. It works like any other substitution. More on this in the next appendix.\n",
        "\n",
        "Below is one more example of taking the results of one call to Claude and plugging it into another, longer call. Let's start with the first prompt (which includes prefilling Claude's response this time)."
      ]
    },
    {
      "cell_type": "code",
      "execution_count": null,
      "metadata": {
        "id": "QxdEmbzFzoJO",
        "outputId": "67a10fed-febb-438f-e47b-483650082147"
      },
      "outputs": [
        {
          "name": "stdout",
          "output_type": "stream",
          "text": [
            "------------------------ Full messsages array with variable substutions ------------------------\n",
            "[{'role': 'user', 'content': [{'text': 'Find all names from the below text:\\n\\n\"Hey, Jesse. It\\'s me, Erin. I\\'m calling about the party that Joey is throwing tomorrow. Keisha said she would come and I think Mel will be there too.'}]}, {'role': 'assistant', 'content': [{'text': '<names>'}]}]\n",
            "\n",
            "------------------------------------- Claude's response -------------------------------------\n",
            "\n",
            "- Jesse\n",
            "- Erin\n",
            "- Joey\n",
            "- Keisha\n",
            "- Mel\n",
            "</names>\n"
          ]
        }
      ],
      "source": [
        "first_user = \"\"\"Find all names from the below text:\n",
        "\n",
        "\"Hey, Jesse. It's me, Erin. I'm calling about the party that Joey is throwing tomorrow. Keisha said she would come and I think Mel will be there too.\"\"\"\n",
        "\n",
        "prefill = \"<names>\"\n",
        "\n",
        "# API messages array\n",
        "messages = [\n",
        "    {\n",
        "        \"role\": \"user\",\n",
        "        \"content\": [{\"text\": first_user}]\n",
        "    },\n",
        "    {\n",
        "        \"role\": \"assistant\",\n",
        "         \"content\": [{\"text\": prefill}]\n",
        "    }\n",
        "]\n",
        "\n",
        "# Store and print Claude's response\n",
        "first_response = get_completion(messages)\n",
        "print(\"------------------------ Full messsages array with variable substutions ------------------------\")\n",
        "print(messages)\n",
        "print(\"\\n------------------------------------- Claude's response -------------------------------------\")\n",
        "print(first_response)"
      ]
    },
    {
      "cell_type": "markdown",
      "metadata": {
        "id": "qmws9Uy1zoJO"
      },
      "source": [
        "Let's pass this list of names into another prompt."
      ]
    },
    {
      "cell_type": "code",
      "execution_count": null,
      "metadata": {
        "id": "ijHx_7TmzoJO",
        "outputId": "4a7c940d-da2a-4d88-ac9f-73941d9292d7"
      },
      "outputs": [
        {
          "name": "stdout",
          "output_type": "stream",
          "text": [
            "------------------------ Full messsages array with variable substutions ------------------------\n",
            "[{'role': 'user', 'content': [{'text': 'Find all names from the below text:\\n\\n\"Hey, Jesse. It\\'s me, Erin. I\\'m calling about the party that Joey is throwing tomorrow. Keisha said she would come and I think Mel will be there too.'}]}, {'role': 'assistant', 'content': [{'text': '<names>\\n\\n- Jesse\\n- Erin\\n- Joey\\n- Keisha\\n- Mel\\n</names>'}]}, {'role': 'user', 'content': [{'text': 'Alphabetize the list.'}]}]\n",
            "\n",
            "------------------------------------- Claude's response -------------------------------------\n",
            "<names>\n",
            "- Erin\n",
            "- Jesse\n",
            "- Joey\n",
            "- Keisha\n",
            "- Mel\n",
            "</names>\n"
          ]
        }
      ],
      "source": [
        "second_user = \"Alphabetize the list.\"\n",
        "\n",
        "# API messages array\n",
        "messages = [\n",
        "    {\n",
        "        \"role\": \"user\",\n",
        "        \"content\": [{\"text\": first_user}]\n",
        "    },\n",
        "    {\n",
        "        \"role\": \"assistant\",\n",
        "         \"content\": [{\"text\": prefill + \"\\n\" + first_response}]\n",
        "    },\n",
        "    {\n",
        "        \"role\": \"user\",\n",
        "         \"content\": [{\"text\": second_user}]\n",
        "    },\n",
        "\n",
        "]\n",
        "\n",
        "# Print Claude's response\n",
        "print(\"------------------------ Full messsages array with variable substutions ------------------------\")\n",
        "print(messages)\n",
        "print(\"\\n------------------------------------- Claude's response -------------------------------------\")\n",
        "print(get_completion(messages))"
      ]
    },
    {
      "cell_type": "markdown",
      "metadata": {
        "id": "TmfOz0NczoJP"
      },
      "source": [
        "Now that you've learned about prompt chaining, head over to Appendix 10.2 to learn how to implement function calling using prompt chaining."
      ]
    },
    {
      "cell_type": "markdown",
      "metadata": {
        "id": "oqmsa-NpzoJP"
      },
      "source": [
        "---\n",
        "\n",
        "## Example Playground\n",
        "\n",
        "This is an area for you to experiment freely with the prompt examples shown in this lesson and tweak prompts to see how it may affect Claude's responses."
      ]
    },
    {
      "cell_type": "code",
      "execution_count": null,
      "metadata": {
        "id": "Z6dJlrVVzoJP",
        "outputId": "eabbba5a-c70b-465c-c7a4-86fb5973bedb"
      },
      "outputs": [
        {
          "name": "stdout",
          "output_type": "stream",
          "text": [
            "Here are ten words that all end with the letters 'ab':\n",
            "\n",
            "1. Cab\n",
            "2. Dab\n",
            "3. Gab\n",
            "4. Jab\n",
            "5. Lab\n",
            "6. Nab\n",
            "7. Slab\n",
            "8. Tab\n",
            "9. Wab\n",
            "10. Zab\n"
          ]
        }
      ],
      "source": [
        "# Initial prompt\n",
        "first_user = \"Name ten words that all end with the exact letters 'ab'.\"\n",
        "\n",
        "# API messages array\n",
        "messages = [\n",
        "    {\"role\": \"user\",\n",
        "     \"content\": [{\"text\": first_user}]}\n",
        "]\n",
        "\n",
        "# Store and print Claude's response\n",
        "first_response = get_completion(messages)\n",
        "print(first_response)"
      ]
    },
    {
      "cell_type": "code",
      "execution_count": null,
      "metadata": {
        "id": "f_Yxm7rCzoJQ",
        "outputId": "0427fd7f-8746-4e5b-843c-4d75bbe7dcd3"
      },
      "outputs": [
        {
          "name": "stdout",
          "output_type": "stream",
          "text": [
            "------------------------ Full messsages array with variable substutions ------------------------\n",
            "[{'role': 'user', 'content': [{'text': \"Name ten words that all end with the exact letters 'ab'.\"}]}, {'role': 'assistant', 'content': [{'text': \"Here are ten words that all end with the letters 'ab':\\n\\n1. Cab\\n2. Dab\\n3. Gab\\n4. Jab\\n5. Lab\\n6. Nab\\n7. Slab\\n8. Tab\\n9. Wab\\n10. Zab\"}]}, {'role': 'user', 'content': [{'text': \"Please find replacements for all 'words' that are not real words.\"}]}]\n",
            "\n",
            "------------------------------------- Claude's response -------------------------------------\n",
            "Here are ten real words that all end with the letters 'ab':\n",
            "\n",
            "1. Cab\n",
            "2. Dab\n",
            "3. Grab\n",
            "4. Jab\n",
            "5. Lab\n",
            "6. Nab\n",
            "7. Slab\n",
            "8. Tab\n",
            "9. Crab\n",
            "10. Blab\n"
          ]
        }
      ],
      "source": [
        "second_user = \"Please find replacements for all 'words' that are not real words.\"\n",
        "\n",
        "# API messages array\n",
        "messages = [\n",
        "    {\n",
        "        \"role\": \"user\",\n",
        "        \"content\": [{\"text\": first_user}]\n",
        "    },\n",
        "    {\n",
        "        \"role\": \"assistant\",\n",
        "         \"content\": [{\"text\": first_response}]\n",
        "    },\n",
        "    {\n",
        "        \"role\": \"user\",\n",
        "         \"content\": [{\"text\": second_user}]\n",
        "    },\n",
        "\n",
        "]\n",
        "\n",
        "# Print Claude's response\n",
        "print(\"------------------------ Full messsages array with variable substutions ------------------------\")\n",
        "print(messages)\n",
        "print(\"\\n------------------------------------- Claude's response -------------------------------------\")\n",
        "print(get_completion(messages))"
      ]
    },
    {
      "cell_type": "code",
      "execution_count": null,
      "metadata": {
        "id": "4BEg0X1FzoJQ",
        "outputId": "fb49b660-bb89-471e-f148-2d6a30d2db86"
      },
      "outputs": [
        {
          "name": "stdout",
          "output_type": "stream",
          "text": [
            "------------------------ Full messsages array with variable substutions ------------------------\n",
            "[{'role': 'user', 'content': [{'text': \"Name ten words that all end with the exact letters 'ab'.\"}]}, {'role': 'assistant', 'content': [{'text': \"Here are 10 words that end with the letters 'ab':\\n\\n1. Cab\\n2. Dab\\n3. Grab\\n4. Gab\\n5. Jab\\n6. Lab\\n7. Nab\\n8. Slab\\n9. Tab\\n10. Blab\"}]}, {'role': 'user', 'content': [{'text': \"Please find replacements for all 'words' that are not real words.\"}]}]\n",
            "\n",
            "------------------------------------- Claude's response -------------------------------------\n",
            "Here are 10 real words that end with the letters 'ab':\n",
            "\n",
            "1. Cab\n",
            "2. Dab\n",
            "3. Grab\n",
            "4. Gab\n",
            "5. Jab\n",
            "6. Lab\n",
            "7. Nab\n",
            "8. Slab\n",
            "9. Tab\n",
            "10. Blab\n"
          ]
        }
      ],
      "source": [
        "first_user = \"Name ten words that all end with the exact letters 'ab'.\"\n",
        "\n",
        "first_response = \"\"\"Here are 10 words that end with the letters 'ab':\n",
        "\n",
        "1. Cab\n",
        "2. Dab\n",
        "3. Grab\n",
        "4. Gab\n",
        "5. Jab\n",
        "6. Lab\n",
        "7. Nab\n",
        "8. Slab\n",
        "9. Tab\n",
        "10. Blab\"\"\"\n",
        "\n",
        "second_user = \"Please find replacements for all 'words' that are not real words.\"\n",
        "\n",
        "# API messages array\n",
        "messages = [\n",
        "    {\n",
        "        \"role\": \"user\",\n",
        "        \"content\": [{\"text\": first_user}]\n",
        "    },\n",
        "    {\n",
        "        \"role\": \"assistant\",\n",
        "         \"content\": [{\"text\": first_response}]\n",
        "    },\n",
        "    {\n",
        "        \"role\": \"user\",\n",
        "         \"content\": [{\"text\": second_user}]\n",
        "    },\n",
        "\n",
        "]\n",
        "\n",
        "# Print Claude's response\n",
        "print(\"------------------------ Full messsages array with variable substutions ------------------------\")\n",
        "print(messages)\n",
        "print(\"\\n------------------------------------- Claude's response -------------------------------------\")\n",
        "print(get_completion(messages))"
      ]
    },
    {
      "cell_type": "code",
      "execution_count": null,
      "metadata": {
        "id": "VY3j9Ev5zoJQ",
        "outputId": "87e91a4a-a6a9-4721-81d8-8ed2ccbb85ac"
      },
      "outputs": [
        {
          "name": "stdout",
          "output_type": "stream",
          "text": [
            "------------------------ Full messsages array with variable substutions ------------------------\n",
            "[{'role': 'user', 'content': [{'text': \"Name ten words that all end with the exact letters 'ab'.\"}]}, {'role': 'assistant', 'content': [{'text': \"Here are 10 words that end with the letters 'ab':\\n\\n1. Cab\\n2. Dab\\n3. Grab\\n4. Gab\\n5. Jab\\n6. Lab\\n7. Nab\\n8. Slab\\n9. Tab\\n10. Blab\"}]}, {'role': 'user', 'content': [{'text': \"Please find replacements for all 'words' that are not real words. If all the words are real words, return the original list.\"}]}]\n",
            "\n",
            "------------------------------------- Claude's response -------------------------------------\n",
            "Okay, here is the list with replacements for any words that are not real:\n",
            "\n",
            "1. Cab\n",
            "2. Dab\n",
            "3. Grab\n",
            "4. Gab\n",
            "5. Jab\n",
            "6. Lab\n",
            "7. Nab\n",
            "8. Slab\n",
            "9. Tab\n",
            "10. Blab\n",
            "\n",
            "All of these are real words, so the original list is returned.\n"
          ]
        }
      ],
      "source": [
        "first_user = \"Name ten words that all end with the exact letters 'ab'.\"\n",
        "\n",
        "first_response = \"\"\"Here are 10 words that end with the letters 'ab':\n",
        "\n",
        "1. Cab\n",
        "2. Dab\n",
        "3. Grab\n",
        "4. Gab\n",
        "5. Jab\n",
        "6. Lab\n",
        "7. Nab\n",
        "8. Slab\n",
        "9. Tab\n",
        "10. Blab\"\"\"\n",
        "\n",
        "second_user = \"Please find replacements for all 'words' that are not real words. If all the words are real words, return the original list.\"\n",
        "\n",
        "# API messages array\n",
        "messages = [\n",
        "    {\n",
        "        \"role\": \"user\",\n",
        "        \"content\": [{\"text\": first_user}]\n",
        "    },\n",
        "    {\n",
        "        \"role\": \"assistant\",\n",
        "         \"content\": [{\"text\": first_response}]\n",
        "    },\n",
        "    {\n",
        "        \"role\": \"user\",\n",
        "         \"content\": [{\"text\": second_user}]\n",
        "    },\n",
        "\n",
        "]\n",
        "\n",
        "# Print Claude's response\n",
        "print(\"------------------------ Full messsages array with variable substutions ------------------------\")\n",
        "print(messages)\n",
        "print(\"\\n------------------------------------- Claude's response -------------------------------------\")\n",
        "print(get_completion(messages))"
      ]
    },
    {
      "cell_type": "code",
      "execution_count": null,
      "metadata": {
        "id": "rtjE-k0zzoJQ",
        "outputId": "a0dc6a6e-6800-4758-bc14-2aa7482aefe0"
      },
      "outputs": [
        {
          "name": "stdout",
          "output_type": "stream",
          "text": [
            "Here is a three-sentence short story about a girl who likes to run:\n",
            "\n",
            "Amelia loved the feeling of the wind rushing through her hair as she raced down the trail, her feet pounding against the soft earth. With each stride, she felt a sense of freedom and exhilaration that she couldn't find anywhere else. As she crossed the finish line, Amelia knew that running was more than just a hobby - it was a way of life.\n"
          ]
        }
      ],
      "source": [
        "# Initial prompt\n",
        "first_user = \"Write a three-sentence short story about a girl who likes to run.\"\n",
        "\n",
        "# API messages array\n",
        "messages = [\n",
        "    {\n",
        "        \"role\": \"user\",\n",
        "         \"content\": [{\"text\": first_user}]\n",
        "    }\n",
        "]\n",
        "\n",
        "# Store and print Claude's response\n",
        "first_response = get_completion(messages)\n",
        "print(first_response)"
      ]
    },
    {
      "cell_type": "code",
      "execution_count": null,
      "metadata": {
        "id": "O_2YgazgzoJR",
        "outputId": "74e95940-93ec-4626-ead6-5eee0569d284"
      },
      "outputs": [
        {
          "name": "stdout",
          "output_type": "stream",
          "text": [
            "------------------------ Full messsages array with variable substutions ------------------------\n",
            "[{'role': 'user', 'content': [{'text': 'Write a three-sentence short story about a girl who likes to run.'}]}, {'role': 'assistant', 'content': [{'text': \"Here is a three-sentence short story about a girl who likes to run:\\n\\nAmelia loved the feeling of the wind rushing through her hair as she raced down the trail, her feet pounding against the soft earth. With each stride, she felt a sense of freedom and exhilaration that she couldn't find anywhere else. As she crossed the finish line, Amelia knew that running was more than just a hobby - it was a way of life.\"}]}, {'role': 'user', 'content': [{'text': 'Make the story better.'}]}]\n",
            "\n",
            "------------------------------------- Claude's response -------------------------------------\n",
            "Here is the three-sentence short story with some improvements:\n",
            "\n",
            "Amelia's heart raced as she darted down the winding trail, her legs pumping with each stride. The rhythmic thud of her sneakers against the packed dirt filled her ears, drowning out the world around her as she lost herself in the pure joy of running. With a triumphant grin, Amelia crossed the finish line, her body humming with the rush of accomplishment - this was her true passion, the one thing that made her feel truly alive.\n"
          ]
        }
      ],
      "source": [
        "second_user = \"Make the story better.\"\n",
        "\n",
        "# API messages array\n",
        "messages = [\n",
        "    {\n",
        "        \"role\": \"user\",\n",
        "        \"content\": [{\"text\": first_user}]\n",
        "    },\n",
        "    {\n",
        "        \"role\": \"assistant\",\n",
        "         \"content\": [{\"text\": first_response}]\n",
        "    },\n",
        "    {\n",
        "        \"role\": \"user\",\n",
        "         \"content\": [{\"text\": second_user}]\n",
        "    },\n",
        "\n",
        "]\n",
        "\n",
        "# Print Claude's response\n",
        "print(\"------------------------ Full messsages array with variable substutions ------------------------\")\n",
        "print(messages)\n",
        "print(\"\\n------------------------------------- Claude's response -------------------------------------\")\n",
        "print(get_completion(messages))"
      ]
    },
    {
      "cell_type": "code",
      "execution_count": null,
      "metadata": {
        "id": "Fe2jr6SKzoJR",
        "outputId": "92326958-e82b-4e72-bb51-9581a0e67134"
      },
      "outputs": [
        {
          "name": "stdout",
          "output_type": "stream",
          "text": [
            "------------------------ Full messsages array with variable substutions ------------------------\n",
            "[{'role': 'user', 'content': [{'text': 'Find all names from the below text:\\n\\n\"Hey, Jesse. It\\'s me, Erin. I\\'m calling about the party that Joey is throwing tomorrow. Keisha said she would come and I think Mel will be there too.'}]}, {'role': 'assistant', 'content': [{'text': '<names>'}]}]\n",
            "\n",
            "------------------------------------- Claude's response -------------------------------------\n",
            "\n",
            "- Jesse\n",
            "- Erin\n",
            "- Joey\n",
            "- Keisha\n",
            "- Mel\n",
            "</names>\n"
          ]
        }
      ],
      "source": [
        "first_user = \"\"\"Find all names from the below text:\n",
        "\n",
        "\"Hey, Jesse. It's me, Erin. I'm calling about the party that Joey is throwing tomorrow. Keisha said she would come and I think Mel will be there too.\"\"\"\n",
        "\n",
        "prefill = \"<names>\"\n",
        "\n",
        "# API messages array\n",
        "messages = [\n",
        "    {\n",
        "        \"role\": \"user\",\n",
        "        \"content\": [{\"text\": first_user}]\n",
        "    },\n",
        "    {\n",
        "        \"role\": \"assistant\",\n",
        "         \"content\": [{\"text\": prefill}]\n",
        "    }\n",
        "]\n",
        "\n",
        "# Store and print Claude's response\n",
        "first_response = get_completion(messages)\n",
        "print(\"------------------------ Full messsages array with variable substutions ------------------------\")\n",
        "print(messages)\n",
        "print(\"\\n------------------------------------- Claude's response -------------------------------------\")\n",
        "print(first_response)"
      ]
    },
    {
      "cell_type": "code",
      "execution_count": null,
      "metadata": {
        "tags": [],
        "id": "DdLk1oidzoJR",
        "outputId": "e40783d7-6b98-4a0c-9dc8-f521237baa5a"
      },
      "outputs": [
        {
          "name": "stdout",
          "output_type": "stream",
          "text": [
            "------------------------ Full messsages array with variable substutions ------------------------\n",
            "[{'role': 'user', 'content': [{'text': 'Find all names from the below text:\\n\\n\"Hey, Jesse. It\\'s me, Erin. I\\'m calling about the party that Joey is throwing tomorrow. Keisha said she would come and I think Mel will be there too.'}]}, {'role': 'assistant', 'content': [{'text': '<names>\\n\\n- Jesse\\n- Erin\\n- Joey\\n- Keisha\\n- Mel\\n</names>'}]}, {'role': 'user', 'content': [{'text': 'Alphabetize the list.'}]}]\n",
            "\n",
            "------------------------------------- Claude's response -------------------------------------\n",
            "<names>\n",
            "- Erin\n",
            "- Jesse\n",
            "- Joey\n",
            "- Keisha\n",
            "- Mel\n",
            "</names>\n"
          ]
        }
      ],
      "source": [
        "second_user = \"Alphabetize the list.\"\n",
        "\n",
        "# API messages array\n",
        "messages = [\n",
        "    {\n",
        "        \"role\": \"user\",\n",
        "        \"content\": [{\"text\": first_user}]\n",
        "    },\n",
        "    {\n",
        "        \"role\": \"assistant\",\n",
        "         \"content\": [{\"text\": prefill + \"\\n\" + first_response}]\n",
        "    },\n",
        "    {\n",
        "        \"role\": \"user\",\n",
        "         \"content\": [{\"text\": second_user}]\n",
        "    },\n",
        "\n",
        "]\n",
        "\n",
        "# Print Claude's response\n",
        "print(\"------------------------ Full messsages array with variable substutions ------------------------\")\n",
        "print(messages)\n",
        "print(\"\\n------------------------------------- Claude's response -------------------------------------\")\n",
        "print(get_completion(messages))"
      ]
    },
    {
      "cell_type": "code",
      "execution_count": null,
      "metadata": {
        "id": "EfcoLEN5zoJS"
      },
      "outputs": [],
      "source": []
    }
  ],
  "metadata": {
    "kernelspec": {
      "display_name": "conda_tensorflow2_p310",
      "language": "python",
      "name": "conda_tensorflow2_p310"
    },
    "language_info": {
      "codemirror_mode": {
        "name": "ipython",
        "version": 3
      },
      "file_extension": ".py",
      "mimetype": "text/x-python",
      "name": "python",
      "nbconvert_exporter": "python",
      "pygments_lexer": "ipython3",
      "version": "3.10.14"
    },
    "colab": {
      "provenance": [],
      "include_colab_link": true
    }
  },
  "nbformat": 4,
  "nbformat_minor": 0
}